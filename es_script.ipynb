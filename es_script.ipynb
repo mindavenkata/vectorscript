{
  "cells": [
    {
      "cell_type": "markdown",
      "source": [
        "Elastic Search Script\n"
      ],
      "metadata": {
        "id": "I3xVwk-jErqg"
      },
      "id": "I3xVwk-jErqg"
    },
    {
      "cell_type": "code",
      "source": [
        "!pip install torch torchvision --index-url https://download.pytorch.org/whl/cpu\n",
        "!pip install pillow numpy elasticsearch tqdm\n",
        "!pip install git+https://github.com/openai/CLIP.git\n",
        "!pip install elasticsearch\n",
        "!pip install requests beautifulsoup4 tqdm pillow\n",
        "!pip install requests lxml tqdm\n",
        "\n"
      ],
      "metadata": {
        "id": "nRNN0sp4ILgs",
        "outputId": "ac32beab-9b05-4b2c-f351-f291117853f3",
        "colab": {
          "base_uri": "https://localhost:8080/"
        },
        "collapsed": true
      },
      "id": "nRNN0sp4ILgs",
      "execution_count": null,
      "outputs": [
        {
          "output_type": "stream",
          "name": "stdout",
          "text": [
            "Looking in indexes: https://download.pytorch.org/whl/cpu\n",
            "Requirement already satisfied: torch in /usr/local/lib/python3.12/dist-packages (2.8.0+cu126)\n",
            "Requirement already satisfied: torchvision in /usr/local/lib/python3.12/dist-packages (0.23.0+cu126)\n",
            "Requirement already satisfied: filelock in /usr/local/lib/python3.12/dist-packages (from torch) (3.20.0)\n",
            "Requirement already satisfied: typing-extensions>=4.10.0 in /usr/local/lib/python3.12/dist-packages (from torch) (4.15.0)\n",
            "Requirement already satisfied: setuptools in /usr/local/lib/python3.12/dist-packages (from torch) (75.2.0)\n",
            "Requirement already satisfied: sympy>=1.13.3 in /usr/local/lib/python3.12/dist-packages (from torch) (1.13.3)\n",
            "Requirement already satisfied: networkx in /usr/local/lib/python3.12/dist-packages (from torch) (3.5)\n",
            "Requirement already satisfied: jinja2 in /usr/local/lib/python3.12/dist-packages (from torch) (3.1.6)\n",
            "Requirement already satisfied: fsspec in /usr/local/lib/python3.12/dist-packages (from torch) (2025.3.0)\n",
            "Requirement already satisfied: nvidia-cuda-nvrtc-cu12==12.6.77 in /usr/local/lib/python3.12/dist-packages (from torch) (12.6.77)\n",
            "Requirement already satisfied: nvidia-cuda-runtime-cu12==12.6.77 in /usr/local/lib/python3.12/dist-packages (from torch) (12.6.77)\n",
            "Requirement already satisfied: nvidia-cuda-cupti-cu12==12.6.80 in /usr/local/lib/python3.12/dist-packages (from torch) (12.6.80)\n",
            "Requirement already satisfied: nvidia-cudnn-cu12==9.10.2.21 in /usr/local/lib/python3.12/dist-packages (from torch) (9.10.2.21)\n",
            "Requirement already satisfied: nvidia-cublas-cu12==12.6.4.1 in /usr/local/lib/python3.12/dist-packages (from torch) (12.6.4.1)\n",
            "Requirement already satisfied: nvidia-cufft-cu12==11.3.0.4 in /usr/local/lib/python3.12/dist-packages (from torch) (11.3.0.4)\n",
            "Requirement already satisfied: nvidia-curand-cu12==10.3.7.77 in /usr/local/lib/python3.12/dist-packages (from torch) (10.3.7.77)\n",
            "Requirement already satisfied: nvidia-cusolver-cu12==11.7.1.2 in /usr/local/lib/python3.12/dist-packages (from torch) (11.7.1.2)\n",
            "Requirement already satisfied: nvidia-cusparse-cu12==12.5.4.2 in /usr/local/lib/python3.12/dist-packages (from torch) (12.5.4.2)\n",
            "Requirement already satisfied: nvidia-cusparselt-cu12==0.7.1 in /usr/local/lib/python3.12/dist-packages (from torch) (0.7.1)\n",
            "Requirement already satisfied: nvidia-nccl-cu12==2.27.3 in /usr/local/lib/python3.12/dist-packages (from torch) (2.27.3)\n",
            "Requirement already satisfied: nvidia-nvtx-cu12==12.6.77 in /usr/local/lib/python3.12/dist-packages (from torch) (12.6.77)\n",
            "Requirement already satisfied: nvidia-nvjitlink-cu12==12.6.85 in /usr/local/lib/python3.12/dist-packages (from torch) (12.6.85)\n",
            "Requirement already satisfied: nvidia-cufile-cu12==1.11.1.6 in /usr/local/lib/python3.12/dist-packages (from torch) (1.11.1.6)\n",
            "Requirement already satisfied: triton==3.4.0 in /usr/local/lib/python3.12/dist-packages (from torch) (3.4.0)\n",
            "Requirement already satisfied: numpy in /usr/local/lib/python3.12/dist-packages (from torchvision) (2.0.2)\n",
            "Requirement already satisfied: pillow!=8.3.*,>=5.3.0 in /usr/local/lib/python3.12/dist-packages (from torchvision) (11.3.0)\n",
            "Requirement already satisfied: mpmath<1.4,>=1.1.0 in /usr/local/lib/python3.12/dist-packages (from sympy>=1.13.3->torch) (1.3.0)\n",
            "Requirement already satisfied: MarkupSafe>=2.0 in /usr/local/lib/python3.12/dist-packages (from jinja2->torch) (3.0.3)\n",
            "Requirement already satisfied: pillow in /usr/local/lib/python3.12/dist-packages (11.3.0)\n",
            "Requirement already satisfied: numpy in /usr/local/lib/python3.12/dist-packages (2.0.2)\n",
            "Requirement already satisfied: elasticsearch in /usr/local/lib/python3.12/dist-packages (9.2.0)\n",
            "Requirement already satisfied: tqdm in /usr/local/lib/python3.12/dist-packages (4.67.1)\n",
            "Requirement already satisfied: anyio in /usr/local/lib/python3.12/dist-packages (from elasticsearch) (4.11.0)\n",
            "Requirement already satisfied: elastic-transport<10,>=9.2.0 in /usr/local/lib/python3.12/dist-packages (from elasticsearch) (9.2.0)\n",
            "Requirement already satisfied: python-dateutil in /usr/local/lib/python3.12/dist-packages (from elasticsearch) (2.9.0.post0)\n",
            "Requirement already satisfied: sniffio in /usr/local/lib/python3.12/dist-packages (from elasticsearch) (1.3.1)\n",
            "Requirement already satisfied: typing-extensions in /usr/local/lib/python3.12/dist-packages (from elasticsearch) (4.15.0)\n",
            "Requirement already satisfied: urllib3<3,>=1.26.2 in /usr/local/lib/python3.12/dist-packages (from elastic-transport<10,>=9.2.0->elasticsearch) (2.5.0)\n",
            "Requirement already satisfied: certifi in /usr/local/lib/python3.12/dist-packages (from elastic-transport<10,>=9.2.0->elasticsearch) (2025.10.5)\n",
            "Requirement already satisfied: idna>=2.8 in /usr/local/lib/python3.12/dist-packages (from anyio->elasticsearch) (3.11)\n",
            "Requirement already satisfied: six>=1.5 in /usr/local/lib/python3.12/dist-packages (from python-dateutil->elasticsearch) (1.17.0)\n",
            "Collecting git+https://github.com/openai/CLIP.git\n",
            "  Cloning https://github.com/openai/CLIP.git to /tmp/pip-req-build-r64nxgg7\n",
            "  Running command git clone --filter=blob:none --quiet https://github.com/openai/CLIP.git /tmp/pip-req-build-r64nxgg7\n",
            "  Resolved https://github.com/openai/CLIP.git to commit dcba3cb2e2827b402d2701e7e1c7d9fed8a20ef1\n",
            "  Preparing metadata (setup.py) ... \u001b[?25l\u001b[?25hdone\n",
            "Requirement already satisfied: ftfy in /usr/local/lib/python3.12/dist-packages (from clip==1.0) (6.3.1)\n",
            "Requirement already satisfied: packaging in /usr/local/lib/python3.12/dist-packages (from clip==1.0) (25.0)\n",
            "Requirement already satisfied: regex in /usr/local/lib/python3.12/dist-packages (from clip==1.0) (2024.11.6)\n",
            "Requirement already satisfied: tqdm in /usr/local/lib/python3.12/dist-packages (from clip==1.0) (4.67.1)\n",
            "Requirement already satisfied: torch in /usr/local/lib/python3.12/dist-packages (from clip==1.0) (2.8.0+cu126)\n",
            "Requirement already satisfied: torchvision in /usr/local/lib/python3.12/dist-packages (from clip==1.0) (0.23.0+cu126)\n",
            "Requirement already satisfied: wcwidth in /usr/local/lib/python3.12/dist-packages (from ftfy->clip==1.0) (0.2.14)\n",
            "Requirement already satisfied: filelock in /usr/local/lib/python3.12/dist-packages (from torch->clip==1.0) (3.20.0)\n",
            "Requirement already satisfied: typing-extensions>=4.10.0 in /usr/local/lib/python3.12/dist-packages (from torch->clip==1.0) (4.15.0)\n",
            "Requirement already satisfied: setuptools in /usr/local/lib/python3.12/dist-packages (from torch->clip==1.0) (75.2.0)\n",
            "Requirement already satisfied: sympy>=1.13.3 in /usr/local/lib/python3.12/dist-packages (from torch->clip==1.0) (1.13.3)\n",
            "Requirement already satisfied: networkx in /usr/local/lib/python3.12/dist-packages (from torch->clip==1.0) (3.5)\n",
            "Requirement already satisfied: jinja2 in /usr/local/lib/python3.12/dist-packages (from torch->clip==1.0) (3.1.6)\n",
            "Requirement already satisfied: fsspec in /usr/local/lib/python3.12/dist-packages (from torch->clip==1.0) (2025.3.0)\n",
            "Requirement already satisfied: nvidia-cuda-nvrtc-cu12==12.6.77 in /usr/local/lib/python3.12/dist-packages (from torch->clip==1.0) (12.6.77)\n",
            "Requirement already satisfied: nvidia-cuda-runtime-cu12==12.6.77 in /usr/local/lib/python3.12/dist-packages (from torch->clip==1.0) (12.6.77)\n",
            "Requirement already satisfied: nvidia-cuda-cupti-cu12==12.6.80 in /usr/local/lib/python3.12/dist-packages (from torch->clip==1.0) (12.6.80)\n",
            "Requirement already satisfied: nvidia-cudnn-cu12==9.10.2.21 in /usr/local/lib/python3.12/dist-packages (from torch->clip==1.0) (9.10.2.21)\n",
            "Requirement already satisfied: nvidia-cublas-cu12==12.6.4.1 in /usr/local/lib/python3.12/dist-packages (from torch->clip==1.0) (12.6.4.1)\n",
            "Requirement already satisfied: nvidia-cufft-cu12==11.3.0.4 in /usr/local/lib/python3.12/dist-packages (from torch->clip==1.0) (11.3.0.4)\n",
            "Requirement already satisfied: nvidia-curand-cu12==10.3.7.77 in /usr/local/lib/python3.12/dist-packages (from torch->clip==1.0) (10.3.7.77)\n",
            "Requirement already satisfied: nvidia-cusolver-cu12==11.7.1.2 in /usr/local/lib/python3.12/dist-packages (from torch->clip==1.0) (11.7.1.2)\n",
            "Requirement already satisfied: nvidia-cusparse-cu12==12.5.4.2 in /usr/local/lib/python3.12/dist-packages (from torch->clip==1.0) (12.5.4.2)\n",
            "Requirement already satisfied: nvidia-cusparselt-cu12==0.7.1 in /usr/local/lib/python3.12/dist-packages (from torch->clip==1.0) (0.7.1)\n",
            "Requirement already satisfied: nvidia-nccl-cu12==2.27.3 in /usr/local/lib/python3.12/dist-packages (from torch->clip==1.0) (2.27.3)\n",
            "Requirement already satisfied: nvidia-nvtx-cu12==12.6.77 in /usr/local/lib/python3.12/dist-packages (from torch->clip==1.0) (12.6.77)\n",
            "Requirement already satisfied: nvidia-nvjitlink-cu12==12.6.85 in /usr/local/lib/python3.12/dist-packages (from torch->clip==1.0) (12.6.85)\n",
            "Requirement already satisfied: nvidia-cufile-cu12==1.11.1.6 in /usr/local/lib/python3.12/dist-packages (from torch->clip==1.0) (1.11.1.6)\n",
            "Requirement already satisfied: triton==3.4.0 in /usr/local/lib/python3.12/dist-packages (from torch->clip==1.0) (3.4.0)\n",
            "Requirement already satisfied: numpy in /usr/local/lib/python3.12/dist-packages (from torchvision->clip==1.0) (2.0.2)\n",
            "Requirement already satisfied: pillow!=8.3.*,>=5.3.0 in /usr/local/lib/python3.12/dist-packages (from torchvision->clip==1.0) (11.3.0)\n",
            "Requirement already satisfied: mpmath<1.4,>=1.1.0 in /usr/local/lib/python3.12/dist-packages (from sympy>=1.13.3->torch->clip==1.0) (1.3.0)\n",
            "Requirement already satisfied: MarkupSafe>=2.0 in /usr/local/lib/python3.12/dist-packages (from jinja2->torch->clip==1.0) (3.0.3)\n",
            "Requirement already satisfied: elasticsearch in /usr/local/lib/python3.12/dist-packages (9.2.0)\n",
            "Requirement already satisfied: anyio in /usr/local/lib/python3.12/dist-packages (from elasticsearch) (4.11.0)\n",
            "Requirement already satisfied: elastic-transport<10,>=9.2.0 in /usr/local/lib/python3.12/dist-packages (from elasticsearch) (9.2.0)\n",
            "Requirement already satisfied: python-dateutil in /usr/local/lib/python3.12/dist-packages (from elasticsearch) (2.9.0.post0)\n",
            "Requirement already satisfied: sniffio in /usr/local/lib/python3.12/dist-packages (from elasticsearch) (1.3.1)\n",
            "Requirement already satisfied: typing-extensions in /usr/local/lib/python3.12/dist-packages (from elasticsearch) (4.15.0)\n",
            "Requirement already satisfied: urllib3<3,>=1.26.2 in /usr/local/lib/python3.12/dist-packages (from elastic-transport<10,>=9.2.0->elasticsearch) (2.5.0)\n",
            "Requirement already satisfied: certifi in /usr/local/lib/python3.12/dist-packages (from elastic-transport<10,>=9.2.0->elasticsearch) (2025.10.5)\n",
            "Requirement already satisfied: idna>=2.8 in /usr/local/lib/python3.12/dist-packages (from anyio->elasticsearch) (3.11)\n",
            "Requirement already satisfied: six>=1.5 in /usr/local/lib/python3.12/dist-packages (from python-dateutil->elasticsearch) (1.17.0)\n",
            "Requirement already satisfied: requests in /usr/local/lib/python3.12/dist-packages (2.32.4)\n",
            "Requirement already satisfied: beautifulsoup4 in /usr/local/lib/python3.12/dist-packages (4.13.5)\n",
            "Requirement already satisfied: tqdm in /usr/local/lib/python3.12/dist-packages (4.67.1)\n",
            "Requirement already satisfied: pillow in /usr/local/lib/python3.12/dist-packages (11.3.0)\n",
            "Requirement already satisfied: charset_normalizer<4,>=2 in /usr/local/lib/python3.12/dist-packages (from requests) (3.4.4)\n",
            "Requirement already satisfied: idna<4,>=2.5 in /usr/local/lib/python3.12/dist-packages (from requests) (3.11)\n",
            "Requirement already satisfied: urllib3<3,>=1.21.1 in /usr/local/lib/python3.12/dist-packages (from requests) (2.5.0)\n",
            "Requirement already satisfied: certifi>=2017.4.17 in /usr/local/lib/python3.12/dist-packages (from requests) (2025.10.5)\n",
            "Requirement already satisfied: soupsieve>1.2 in /usr/local/lib/python3.12/dist-packages (from beautifulsoup4) (2.8)\n",
            "Requirement already satisfied: typing-extensions>=4.0.0 in /usr/local/lib/python3.12/dist-packages (from beautifulsoup4) (4.15.0)\n",
            "Requirement already satisfied: requests in /usr/local/lib/python3.12/dist-packages (2.32.4)\n",
            "Requirement already satisfied: lxml in /usr/local/lib/python3.12/dist-packages (5.4.0)\n",
            "Requirement already satisfied: tqdm in /usr/local/lib/python3.12/dist-packages (4.67.1)\n",
            "Requirement already satisfied: charset_normalizer<4,>=2 in /usr/local/lib/python3.12/dist-packages (from requests) (3.4.4)\n",
            "Requirement already satisfied: idna<4,>=2.5 in /usr/local/lib/python3.12/dist-packages (from requests) (3.11)\n",
            "Requirement already satisfied: urllib3<3,>=1.21.1 in /usr/local/lib/python3.12/dist-packages (from requests) (2.5.0)\n",
            "Requirement already satisfied: certifi>=2017.4.17 in /usr/local/lib/python3.12/dist-packages (from requests) (2025.10.5)\n"
          ]
        }
      ]
    },
    {
      "cell_type": "code",
      "source": [
        "!pip install sentence-transformers\n"
      ],
      "metadata": {
        "colab": {
          "base_uri": "https://localhost:8080/"
        },
        "id": "jy5wBaWYxRzz",
        "outputId": "2cfb35a5-01c3-4bb0-aec5-c6e33971658f"
      },
      "id": "jy5wBaWYxRzz",
      "execution_count": null,
      "outputs": [
        {
          "output_type": "stream",
          "name": "stdout",
          "text": [
            "Requirement already satisfied: sentence-transformers in /usr/local/lib/python3.12/dist-packages (5.1.2)\n",
            "Requirement already satisfied: transformers<5.0.0,>=4.41.0 in /usr/local/lib/python3.12/dist-packages (from sentence-transformers) (4.57.1)\n",
            "Requirement already satisfied: tqdm in /usr/local/lib/python3.12/dist-packages (from sentence-transformers) (4.67.1)\n",
            "Requirement already satisfied: torch>=1.11.0 in /usr/local/lib/python3.12/dist-packages (from sentence-transformers) (2.8.0+cu126)\n",
            "Requirement already satisfied: scikit-learn in /usr/local/lib/python3.12/dist-packages (from sentence-transformers) (1.6.1)\n",
            "Requirement already satisfied: scipy in /usr/local/lib/python3.12/dist-packages (from sentence-transformers) (1.16.2)\n",
            "Requirement already satisfied: huggingface-hub>=0.20.0 in /usr/local/lib/python3.12/dist-packages (from sentence-transformers) (0.36.0)\n",
            "Requirement already satisfied: Pillow in /usr/local/lib/python3.12/dist-packages (from sentence-transformers) (11.3.0)\n",
            "Requirement already satisfied: typing_extensions>=4.5.0 in /usr/local/lib/python3.12/dist-packages (from sentence-transformers) (4.15.0)\n",
            "Requirement already satisfied: filelock in /usr/local/lib/python3.12/dist-packages (from huggingface-hub>=0.20.0->sentence-transformers) (3.20.0)\n",
            "Requirement already satisfied: fsspec>=2023.5.0 in /usr/local/lib/python3.12/dist-packages (from huggingface-hub>=0.20.0->sentence-transformers) (2025.3.0)\n",
            "Requirement already satisfied: packaging>=20.9 in /usr/local/lib/python3.12/dist-packages (from huggingface-hub>=0.20.0->sentence-transformers) (25.0)\n",
            "Requirement already satisfied: pyyaml>=5.1 in /usr/local/lib/python3.12/dist-packages (from huggingface-hub>=0.20.0->sentence-transformers) (6.0.3)\n",
            "Requirement already satisfied: requests in /usr/local/lib/python3.12/dist-packages (from huggingface-hub>=0.20.0->sentence-transformers) (2.32.4)\n",
            "Requirement already satisfied: hf-xet<2.0.0,>=1.1.3 in /usr/local/lib/python3.12/dist-packages (from huggingface-hub>=0.20.0->sentence-transformers) (1.2.0)\n",
            "Requirement already satisfied: setuptools in /usr/local/lib/python3.12/dist-packages (from torch>=1.11.0->sentence-transformers) (75.2.0)\n",
            "Requirement already satisfied: sympy>=1.13.3 in /usr/local/lib/python3.12/dist-packages (from torch>=1.11.0->sentence-transformers) (1.13.3)\n",
            "Requirement already satisfied: networkx in /usr/local/lib/python3.12/dist-packages (from torch>=1.11.0->sentence-transformers) (3.5)\n",
            "Requirement already satisfied: jinja2 in /usr/local/lib/python3.12/dist-packages (from torch>=1.11.0->sentence-transformers) (3.1.6)\n",
            "Requirement already satisfied: nvidia-cuda-nvrtc-cu12==12.6.77 in /usr/local/lib/python3.12/dist-packages (from torch>=1.11.0->sentence-transformers) (12.6.77)\n",
            "Requirement already satisfied: nvidia-cuda-runtime-cu12==12.6.77 in /usr/local/lib/python3.12/dist-packages (from torch>=1.11.0->sentence-transformers) (12.6.77)\n",
            "Requirement already satisfied: nvidia-cuda-cupti-cu12==12.6.80 in /usr/local/lib/python3.12/dist-packages (from torch>=1.11.0->sentence-transformers) (12.6.80)\n",
            "Requirement already satisfied: nvidia-cudnn-cu12==9.10.2.21 in /usr/local/lib/python3.12/dist-packages (from torch>=1.11.0->sentence-transformers) (9.10.2.21)\n",
            "Requirement already satisfied: nvidia-cublas-cu12==12.6.4.1 in /usr/local/lib/python3.12/dist-packages (from torch>=1.11.0->sentence-transformers) (12.6.4.1)\n",
            "Requirement already satisfied: nvidia-cufft-cu12==11.3.0.4 in /usr/local/lib/python3.12/dist-packages (from torch>=1.11.0->sentence-transformers) (11.3.0.4)\n",
            "Requirement already satisfied: nvidia-curand-cu12==10.3.7.77 in /usr/local/lib/python3.12/dist-packages (from torch>=1.11.0->sentence-transformers) (10.3.7.77)\n",
            "Requirement already satisfied: nvidia-cusolver-cu12==11.7.1.2 in /usr/local/lib/python3.12/dist-packages (from torch>=1.11.0->sentence-transformers) (11.7.1.2)\n",
            "Requirement already satisfied: nvidia-cusparse-cu12==12.5.4.2 in /usr/local/lib/python3.12/dist-packages (from torch>=1.11.0->sentence-transformers) (12.5.4.2)\n",
            "Requirement already satisfied: nvidia-cusparselt-cu12==0.7.1 in /usr/local/lib/python3.12/dist-packages (from torch>=1.11.0->sentence-transformers) (0.7.1)\n",
            "Requirement already satisfied: nvidia-nccl-cu12==2.27.3 in /usr/local/lib/python3.12/dist-packages (from torch>=1.11.0->sentence-transformers) (2.27.3)\n",
            "Requirement already satisfied: nvidia-nvtx-cu12==12.6.77 in /usr/local/lib/python3.12/dist-packages (from torch>=1.11.0->sentence-transformers) (12.6.77)\n",
            "Requirement already satisfied: nvidia-nvjitlink-cu12==12.6.85 in /usr/local/lib/python3.12/dist-packages (from torch>=1.11.0->sentence-transformers) (12.6.85)\n",
            "Requirement already satisfied: nvidia-cufile-cu12==1.11.1.6 in /usr/local/lib/python3.12/dist-packages (from torch>=1.11.0->sentence-transformers) (1.11.1.6)\n",
            "Requirement already satisfied: triton==3.4.0 in /usr/local/lib/python3.12/dist-packages (from torch>=1.11.0->sentence-transformers) (3.4.0)\n",
            "Requirement already satisfied: numpy>=1.17 in /usr/local/lib/python3.12/dist-packages (from transformers<5.0.0,>=4.41.0->sentence-transformers) (2.0.2)\n",
            "Requirement already satisfied: regex!=2019.12.17 in /usr/local/lib/python3.12/dist-packages (from transformers<5.0.0,>=4.41.0->sentence-transformers) (2024.11.6)\n",
            "Requirement already satisfied: tokenizers<=0.23.0,>=0.22.0 in /usr/local/lib/python3.12/dist-packages (from transformers<5.0.0,>=4.41.0->sentence-transformers) (0.22.1)\n",
            "Requirement already satisfied: safetensors>=0.4.3 in /usr/local/lib/python3.12/dist-packages (from transformers<5.0.0,>=4.41.0->sentence-transformers) (0.6.2)\n",
            "Requirement already satisfied: joblib>=1.2.0 in /usr/local/lib/python3.12/dist-packages (from scikit-learn->sentence-transformers) (1.5.2)\n",
            "Requirement already satisfied: threadpoolctl>=3.1.0 in /usr/local/lib/python3.12/dist-packages (from scikit-learn->sentence-transformers) (3.6.0)\n",
            "Requirement already satisfied: mpmath<1.4,>=1.1.0 in /usr/local/lib/python3.12/dist-packages (from sympy>=1.13.3->torch>=1.11.0->sentence-transformers) (1.3.0)\n",
            "Requirement already satisfied: MarkupSafe>=2.0 in /usr/local/lib/python3.12/dist-packages (from jinja2->torch>=1.11.0->sentence-transformers) (3.0.3)\n",
            "Requirement already satisfied: charset_normalizer<4,>=2 in /usr/local/lib/python3.12/dist-packages (from requests->huggingface-hub>=0.20.0->sentence-transformers) (3.4.4)\n",
            "Requirement already satisfied: idna<4,>=2.5 in /usr/local/lib/python3.12/dist-packages (from requests->huggingface-hub>=0.20.0->sentence-transformers) (3.11)\n",
            "Requirement already satisfied: urllib3<3,>=1.21.1 in /usr/local/lib/python3.12/dist-packages (from requests->huggingface-hub>=0.20.0->sentence-transformers) (2.5.0)\n",
            "Requirement already satisfied: certifi>=2017.4.17 in /usr/local/lib/python3.12/dist-packages (from requests->huggingface-hub>=0.20.0->sentence-transformers) (2025.10.5)\n"
          ]
        }
      ]
    },
    {
      "cell_type": "code",
      "source": [
        "import clip\n",
        "import torch\n",
        "from PIL import Image\n",
        "import numpy as np\n",
        "from elasticsearch import Elasticsearch, helpers\n",
        "from sentence_transformers import SentenceTransformer\n",
        "import numpy as np\n",
        "\n",
        "\n",
        "client = Elasticsearch(\n",
        "    \"https://33cb0c87675645148676794cbec9680d.us-east-1.aws.found.io:443\",\n",
        "    api_key=\"a3FSbU5Kb0JJWUFJRE8wZWRYRmg6VDRSYjhROXVPU1JBSVhoemxsNHpZQQ==\"\n",
        ")\n",
        "\n",
        "index_name = \"multimodal_media_v2\"\n",
        "print(client.info().body)\n",
        "\n",
        "DEVICE = \"cuda\" if torch.cuda.is_available() else \"cpu\"\n",
        "MODEL, PREPROCESS = clip.load(\"ViT-L/14\", device=DEVICE)  # 768-dim\n",
        "\n",
        "\n",
        "\n",
        "# Load E5 model for long text\n",
        "text_model = SentenceTransformer(\"intfloat/e5-base-v2\")\n",
        "\n",
        "def embed_text(text: str) -> np.ndarray:\n",
        "    \"\"\"\n",
        "    Generate an embedding for long webpage text using E5 model.\n",
        "    \"\"\"\n",
        "    # Clean + prefix (E5 expects a prompt style)\n",
        "    text = text.strip()\n",
        "    text = \"passage: \" + text\n",
        "    emb = text_model.encode(text, normalize_embeddings=True)\n",
        "    return np.array(emb)\n",
        "\n",
        "# def embed_text(text: str) -> np.ndarray:\n",
        "#     with torch.no_grad():\n",
        "#         tokens = clip.tokenize([text]).to(DEVICE)\n",
        "#         feats = MODEL.encode_text(tokens)\n",
        "#         feats = feats / feats.norm(dim=-1, keepdim=True)\n",
        "#     return feats[0].cpu().numpy().astype(np.float32)\n",
        "\n",
        "def embed_image(path_or_pil) -> np.ndarray:\n",
        "    img = path_or_pil if isinstance(path_or_pil, Image.Image) else Image.open(path_or_pil).convert(\"RGB\")\n",
        "    img = PREPROCESS(img).unsqueeze(0).to(DEVICE)\n",
        "    with torch.no_grad():\n",
        "        feats = MODEL.encode_image(img)\n",
        "        feats = feats / feats.norm(dim=-1, keepdim=True)\n",
        "    return feats[0].cpu().numpy().astype(np.float32)\n",
        "\n",
        "def index_image(doc_id: str, title: str, url: str, vector):\n",
        "    body = {\n",
        "        \"id\": doc_id,\n",
        "        \"media_type\": \"image\",\n",
        "        \"title\": title,\n",
        "        \"url\": url,\n",
        "        \"vector_clip\": vector.tolist(),\n",
        "        \"metadata\": {}\n",
        "    }\n",
        "    client.index(index=index_name, id=doc_id, document=body)\n",
        "    print(f\"Indexed image with id = {doc_id}\")\n",
        "\n",
        "\n",
        "# TEMPORARY TEST\n",
        "if __name__ == \"__main__\":\n",
        "    print(len(embed_text(\"hello world\")))  # should print 768\n"
      ],
      "metadata": {
        "id": "AM0SJ7UfKAMI",
        "outputId": "16fc8c62-eb4e-4d99-a49c-32a666dedf68",
        "colab": {
          "base_uri": "https://localhost:8080/"
        }
      },
      "id": "AM0SJ7UfKAMI",
      "execution_count": 45,
      "outputs": [
        {
          "output_type": "stream",
          "name": "stdout",
          "text": [
            "{'name': 'instance-0000000004', 'cluster_name': '33cb0c87675645148676794cbec9680d', 'cluster_uuid': 'Eq0DnWFDQxmO_d_YkDYgLQ', 'version': {'number': '9.0.0', 'build_flavor': 'default', 'build_type': 'docker', 'build_hash': '112859b85d50de2a7e63f73c8fc70b99eea24291', 'build_date': '2025-04-08T15:13:46.049795831Z', 'build_snapshot': False, 'lucene_version': '10.1.0', 'minimum_wire_compatibility_version': '8.18.0', 'minimum_index_compatibility_version': '8.0.0'}, 'tagline': 'You Know, for Search'}\n",
            "768\n"
          ]
        }
      ]
    },
    {
      "cell_type": "code",
      "source": [
        "from PIL import Image\n",
        "import requests\n",
        "from io import BytesIO\n",
        "\n",
        "# Example image URL\n",
        "image_url = \"https://member.acg.aaa.com/content/dam/acg/images/home/pr-home/hero-splash-3.jpg\"  #  replace with your image URL\n",
        "\n",
        "# Download and open image from URL\n",
        "response = requests.get(image_url)\n",
        "img = Image.open(BytesIO(response.content)).convert(\"RGB\")\n",
        "\n",
        "# Generate vector\n",
        "vec = embed_image(img)\n",
        "print(\"Image embedding length:\", len(vec))\n",
        "\n",
        "# Index into Elasticsearch\n",
        "index_image(\n",
        "    doc_id=\"img_001\",\n",
        "    title=\"Test Image\",\n",
        "    url=image_url,\n",
        "    vector=vec\n",
        ")\n"
      ],
      "metadata": {
        "id": "GJ7DiWhcKwmD",
        "outputId": "d9af42d7-9eee-4d1b-e486-0375e290b5a2",
        "colab": {
          "base_uri": "https://localhost:8080/"
        }
      },
      "id": "GJ7DiWhcKwmD",
      "execution_count": 44,
      "outputs": [
        {
          "output_type": "stream",
          "name": "stdout",
          "text": [
            "Image embedding length: 768\n",
            "Indexed image with id = img_001\n"
          ]
        }
      ]
    },
    {
      "cell_type": "code",
      "source": [
        "def search_by_text(query_text: str, size: int = 5):\n",
        "    # Convert text → vector\n",
        "    qvec = embed_text(query_text).tolist()\n",
        "\n",
        "    # Build kNN search query\n",
        "    body = {\n",
        "        \"size\": size,\n",
        "        \"knn\": {\n",
        "            \"field\": \"vector_clip\",\n",
        "            \"query_vector\": qvec,\n",
        "            \"k\": max(50, size),\n",
        "            \"num_candidates\": 500\n",
        "        },\n",
        "        \"_source\": [\"id\", \"media_type\", \"title\", \"url\", \"metadata\"]\n",
        "    }\n",
        "\n",
        "    # Execute search\n",
        "    res = client.search(index=index_name, body=body)\n",
        "\n",
        "    # Simplify the hits\n",
        "    results = [\n",
        "        {\n",
        "            \"id\": hit[\"_source\"].get(\"id\"),\n",
        "            \"score\": hit[\"_score\"],\n",
        "            \"title\": hit[\"_source\"].get(\"title\"),\n",
        "            \"url\": hit[\"_source\"].get(\"url\")\n",
        "        }\n",
        "        for hit in res[\"hits\"][\"hits\"]\n",
        "    ]\n",
        "    return results\n"
      ],
      "metadata": {
        "id": "ZHmeeVVDdy_w"
      },
      "id": "ZHmeeVVDdy_w",
      "execution_count": null,
      "outputs": []
    },
    {
      "cell_type": "code",
      "source": [
        "\n",
        "if __name__ == \"__main__\":\n",
        "    # Example: text search instead of manual upload\n",
        "    query = input(\"Enter your search text: \")\n",
        "    results = search_by_text(query)\n",
        "\n",
        "    print(\"\\n Search Results:\")\n",
        "    for i, r in enumerate(results, 1):\n",
        "        print(f\"{i}. [{r['score']:.4f}] {r['title']} → {r['url']}\")\n"
      ],
      "metadata": {
        "colab": {
          "base_uri": "https://localhost:8080/"
        },
        "id": "_EKPYuBLEYd6",
        "outputId": "1e2cb1cc-7109-469d-e901-684c0a3273de"
      },
      "id": "_EKPYuBLEYd6",
      "execution_count": 58,
      "outputs": [
        {
          "output_type": "stream",
          "name": "stdout",
          "text": [
            "Enter your search text: videos\n",
            "\n",
            " Search Results:\n",
            "1. [0.8817] Go Hi-Tech to Protect Your Family and Home → https://dev1.meemic.com/why-meemic/blog/claims-safety/go-hi-tech-to-protect-your-family-and-home\n",
            "2. [0.8802] Kids Talk Teachers → https://dev1.meemic.com/why-meemic/kids-talk-teachers\n",
            "3. [0.8778] Fall Updates from The Meemic Foundation-archive → https://dev1.meemic.com/why-meemic/blog/foundation/fall-updates-from-the-meemic-foundation-archive\n",
            "4. [0.8751] The Vacation Road Trip – Prepare to Have Fun! → https://dev1.meemic.com/why-meemic/blog/claims-safety/the-summer-road-trip-prepare-to-have-fun\n",
            "5. [0.8732] Spring Foundation Updates → https://dev1.meemic.com/why-meemic/blog/foundation/spring-2025-updates-meemic-foundation\n"
          ]
        }
      ]
    },
    {
      "cell_type": "code",
      "source": [
        "\n",
        "\n",
        "from xml.etree import ElementTree\n",
        "\n",
        "def crawl_from_sitemap(sitemap_url: str, limit: int = 500):\n",
        "    \"\"\"\n",
        "    Reads the sitemap XML, extracts all <loc> URLs,\n",
        "    fetches each page, extracts text/images/videos,\n",
        "    and indexes them into Elasticsearch.\n",
        "    \"\"\"\n",
        "    print(f\" Reading sitemap: {sitemap_url}\")\n",
        "    resp = requests.get(sitemap_url, timeout=10)\n",
        "    xml_root = ElementTree.fromstring(resp.content)\n",
        "\n",
        "    urls = [elem.text for elem in xml_root.iter(\"{http://www.sitemaps.org/schemas/sitemap/0.9}loc\")]\n",
        "    print(f\" Found {len(urls)} URLs in sitemap\")\n",
        "\n",
        "    count = 0\n",
        "    for url in tqdm(urls[:limit], desc=\"Indexing pages\"):\n",
        "        try:\n",
        "            r = requests.get(url, timeout=8)\n",
        "            if \"text/html\" not in r.headers.get(\"Content-Type\", \"\"):\n",
        "                continue\n",
        "\n",
        "            soup = BeautifulSoup(r.text, \"html.parser\")\n",
        "            page_title = soup.title.string if soup.title else url\n",
        "            page_text = \" \".join(t.get_text(strip=True) for t in soup.find_all([\"p\", \"h1\", \"h2\", \"h3\"]))\n",
        "\n",
        "            if len(page_text) > 100:\n",
        "                vec = embed_text(page_text)\n",
        "                client.index(index=index_name, id=f\"page_{count}\", document={\n",
        "                    \"id\": f\"page_{count}\",\n",
        "                    \"media_type\": \"page\",\n",
        "                    \"title\": page_title,\n",
        "                    \"url\": url,\n",
        "                    \"vector_clip\": vec.tolist(),\n",
        "                    \"metadata\": {\"length\": len(page_text)}\n",
        "                })\n",
        "                count += 1\n",
        "\n",
        "            # Optional: also grab images\n",
        "            for img_tag in soup.find_all(\"img\", src=True):\n",
        "                img_url = urljoin(url, img_tag[\"src\"])\n",
        "                try:\n",
        "                    img_resp = requests.get(img_url, timeout=5)\n",
        "                    img = Image.open(BytesIO(img_resp.content)).convert(\"RGB\")\n",
        "                    vec = embed_image(img)\n",
        "                    index_image(\n",
        "                        doc_id=f\"img_{count}\",\n",
        "                        title=img_tag.get(\"alt\", f\"Image {count}\"),\n",
        "                        url=img_url,\n",
        "                        vector=vec\n",
        "                    )\n",
        "                    count += 1\n",
        "                except Exception:\n",
        "                    pass\n",
        "\n",
        "        except Exception as e:\n",
        "            print(f\" Skipping {url}: {e}\")\n",
        "\n",
        "    print(f\"\\n Finished indexing {count} items from sitemap.\")\n"
      ],
      "metadata": {
        "id": "3WcZLQQ1fk3U"
      },
      "id": "3WcZLQQ1fk3U",
      "execution_count": 46,
      "outputs": []
    },
    {
      "cell_type": "code",
      "source": [
        "if __name__ == \"__main__\":\n",
        "    sitemap_url = input(\"Enter the sitemap url \")\n",
        "    crawl_from_sitemap(sitemap_url, limit=500)\n"
      ],
      "metadata": {
        "colab": {
          "base_uri": "https://localhost:8080/"
        },
        "id": "akBSRg1SbM6H",
        "outputId": "9a055971-cf3d-4530-8226-9660511654a1"
      },
      "id": "akBSRg1SbM6H",
      "execution_count": 47,
      "outputs": [
        {
          "output_type": "stream",
          "name": "stdout",
          "text": [
            "Enter the sitemap url https://dev1.meemic.com/sitemap.xml\n",
            " Reading sitemap: https://dev1.meemic.com/sitemap.xml\n",
            " Found 208 URLs in sitemap\n"
          ]
        },
        {
          "output_type": "stream",
          "name": "stderr",
          "text": [
            "\rIndexing pages:   0%|          | 0/208 [00:00<?, ?it/s]"
          ]
        },
        {
          "output_type": "stream",
          "name": "stdout",
          "text": [
            "Indexed image with id = img_1\n",
            "Indexed image with id = img_2\n",
            "Indexed image with id = img_3\n",
            "Indexed image with id = img_4\n",
            "Indexed image with id = img_5\n",
            "Indexed image with id = img_6\n",
            "Indexed image with id = img_7\n",
            "Indexed image with id = img_8\n",
            "Indexed image with id = img_9\n",
            "Indexed image with id = img_10\n",
            "Indexed image with id = img_11\n",
            "Indexed image with id = img_12\n"
          ]
        },
        {
          "output_type": "stream",
          "name": "stderr",
          "text": [
            "\rIndexing pages:   0%|          | 1/208 [00:51<2:58:38, 51.78s/it]"
          ]
        },
        {
          "output_type": "stream",
          "name": "stdout",
          "text": [
            "Indexed image with id = img_13\n",
            "Indexed image with id = img_15\n",
            "Indexed image with id = img_16\n",
            "Indexed image with id = img_17\n",
            "Indexed image with id = img_18\n",
            "Indexed image with id = img_19\n",
            "Indexed image with id = img_20\n",
            "Indexed image with id = img_21\n",
            "Indexed image with id = img_22\n",
            "Indexed image with id = img_23\n",
            "Indexed image with id = img_24\n",
            "Indexed image with id = img_25\n",
            "Indexed image with id = img_26\n",
            "Indexed image with id = img_27\n",
            "Indexed image with id = img_28\n"
          ]
        },
        {
          "output_type": "stream",
          "name": "stderr",
          "text": [
            "\rIndexing pages:   1%|          | 2/208 [01:52<3:15:55, 57.07s/it]"
          ]
        },
        {
          "output_type": "stream",
          "name": "stdout",
          "text": [
            "Indexed image with id = img_29\n",
            "Indexed image with id = img_31\n",
            "Indexed image with id = img_32\n",
            "Indexed image with id = img_33\n",
            "Indexed image with id = img_34\n",
            "Indexed image with id = img_35\n",
            "Indexed image with id = img_36\n",
            "Indexed image with id = img_37\n",
            "Indexed image with id = img_38\n",
            "Indexed image with id = img_39\n",
            "Indexed image with id = img_40\n",
            "Indexed image with id = img_41\n",
            "Indexed image with id = img_42\n",
            "Indexed image with id = img_43\n"
          ]
        },
        {
          "output_type": "stream",
          "name": "stderr",
          "text": [
            "\rIndexing pages:   1%|▏         | 3/208 [02:49<3:14:55, 57.05s/it]"
          ]
        },
        {
          "output_type": "stream",
          "name": "stdout",
          "text": [
            "Indexed image with id = img_44\n",
            "Indexed image with id = img_46\n",
            "Indexed image with id = img_47\n",
            "Indexed image with id = img_48\n",
            "Indexed image with id = img_49\n",
            "Indexed image with id = img_50\n",
            "Indexed image with id = img_51\n",
            "Indexed image with id = img_52\n",
            "Indexed image with id = img_53\n",
            "Indexed image with id = img_54\n"
          ]
        },
        {
          "output_type": "stream",
          "name": "stderr",
          "text": [
            "\rIndexing pages:   2%|▏         | 4/208 [03:30<2:52:01, 50.60s/it]"
          ]
        },
        {
          "output_type": "stream",
          "name": "stdout",
          "text": [
            "Indexed image with id = img_55\n",
            "Indexed image with id = img_57\n",
            "Indexed image with id = img_58\n",
            "Indexed image with id = img_59\n",
            "Indexed image with id = img_60\n",
            "Indexed image with id = img_61\n"
          ]
        },
        {
          "output_type": "stream",
          "name": "stderr",
          "text": [
            "\rIndexing pages:   2%|▏         | 5/208 [03:55<2:20:15, 41.46s/it]"
          ]
        },
        {
          "output_type": "stream",
          "name": "stdout",
          "text": [
            "Indexed image with id = img_62\n",
            "Indexed image with id = img_64\n",
            "Indexed image with id = img_65\n",
            "Indexed image with id = img_66\n",
            "Indexed image with id = img_67\n"
          ]
        },
        {
          "output_type": "stream",
          "name": "stderr",
          "text": [
            "\rIndexing pages:   3%|▎         | 6/208 [04:15<1:55:31, 34.32s/it]"
          ]
        },
        {
          "output_type": "stream",
          "name": "stdout",
          "text": [
            "Indexed image with id = img_68\n",
            "Indexed image with id = img_70\n",
            "Indexed image with id = img_71\n",
            "Indexed image with id = img_72\n",
            "Indexed image with id = img_73\n",
            "Indexed image with id = img_74\n",
            "Indexed image with id = img_75\n",
            "Indexed image with id = img_76\n"
          ]
        },
        {
          "output_type": "stream",
          "name": "stderr",
          "text": [
            "\rIndexing pages:   3%|▎         | 7/208 [04:52<1:57:12, 34.99s/it]"
          ]
        },
        {
          "output_type": "stream",
          "name": "stdout",
          "text": [
            "Indexed image with id = img_77\n",
            "Indexed image with id = img_79\n",
            "Indexed image with id = img_80\n",
            "Indexed image with id = img_81\n"
          ]
        },
        {
          "output_type": "stream",
          "name": "stderr",
          "text": [
            "\rIndexing pages:   4%|▍         | 8/208 [05:08<1:36:57, 29.09s/it]"
          ]
        },
        {
          "output_type": "stream",
          "name": "stdout",
          "text": [
            "Indexed image with id = img_82\n",
            "Indexed image with id = img_84\n",
            "Indexed image with id = img_85\n",
            "Indexed image with id = img_86\n"
          ]
        },
        {
          "output_type": "stream",
          "name": "stderr",
          "text": [
            "\rIndexing pages:   4%|▍         | 9/208 [05:25<1:23:23, 25.14s/it]"
          ]
        },
        {
          "output_type": "stream",
          "name": "stdout",
          "text": [
            "Indexed image with id = img_87\n",
            "Indexed image with id = img_89\n",
            "Indexed image with id = img_90\n",
            "Indexed image with id = img_91\n"
          ]
        },
        {
          "output_type": "stream",
          "name": "stderr",
          "text": [
            "\rIndexing pages:   5%|▍         | 10/208 [05:41<1:14:04, 22.45s/it]"
          ]
        },
        {
          "output_type": "stream",
          "name": "stdout",
          "text": [
            "Indexed image with id = img_92\n",
            "Indexed image with id = img_94\n",
            "Indexed image with id = img_95\n",
            "Indexed image with id = img_96\n"
          ]
        },
        {
          "output_type": "stream",
          "name": "stderr",
          "text": [
            "\rIndexing pages:   5%|▌         | 11/208 [05:57<1:07:23, 20.53s/it]"
          ]
        },
        {
          "output_type": "stream",
          "name": "stdout",
          "text": [
            "Indexed image with id = img_97\n",
            "Indexed image with id = img_99\n",
            "Indexed image with id = img_100\n",
            "Indexed image with id = img_101\n",
            "Indexed image with id = img_102\n",
            "Indexed image with id = img_103\n",
            "Indexed image with id = img_104\n",
            "Indexed image with id = img_105\n",
            "Indexed image with id = img_106\n",
            "Indexed image with id = img_107\n",
            "Indexed image with id = img_108\n",
            "Indexed image with id = img_109\n",
            "Indexed image with id = img_110\n",
            "Indexed image with id = img_111\n",
            "Indexed image with id = img_112\n",
            "Indexed image with id = img_113\n",
            "Indexed image with id = img_114\n"
          ]
        },
        {
          "output_type": "stream",
          "name": "stderr",
          "text": [
            "\rIndexing pages:   6%|▌         | 12/208 [07:01<1:49:33, 33.54s/it]"
          ]
        },
        {
          "output_type": "stream",
          "name": "stdout",
          "text": [
            "Indexed image with id = img_115\n",
            "Indexed image with id = img_117\n",
            "Indexed image with id = img_118\n",
            "Indexed image with id = img_119\n",
            "Indexed image with id = img_120\n",
            "Indexed image with id = img_121\n",
            "Indexed image with id = img_122\n",
            "Indexed image with id = img_123\n",
            "Indexed image with id = img_124\n"
          ]
        },
        {
          "output_type": "stream",
          "name": "stderr",
          "text": [
            "\rIndexing pages:   6%|▋         | 13/208 [07:36<1:50:32, 34.01s/it]"
          ]
        },
        {
          "output_type": "stream",
          "name": "stdout",
          "text": [
            "Indexed image with id = img_125\n",
            "Indexed image with id = img_127\n",
            "Indexed image with id = img_128\n",
            "Indexed image with id = img_129\n",
            "Indexed image with id = img_130\n",
            "Indexed image with id = img_131\n",
            "Indexed image with id = img_132\n"
          ]
        },
        {
          "output_type": "stream",
          "name": "stderr",
          "text": [
            "\rIndexing pages:   7%|▋         | 14/208 [08:02<1:42:49, 31.80s/it]"
          ]
        },
        {
          "output_type": "stream",
          "name": "stdout",
          "text": [
            "Indexed image with id = img_133\n",
            "Indexed image with id = img_135\n",
            "Indexed image with id = img_136\n",
            "Indexed image with id = img_137\n",
            "Indexed image with id = img_138\n",
            "Indexed image with id = img_139\n",
            "Indexed image with id = img_140\n"
          ]
        },
        {
          "output_type": "stream",
          "name": "stderr",
          "text": [
            "\rIndexing pages:   7%|▋         | 15/208 [08:29<1:37:38, 30.35s/it]"
          ]
        },
        {
          "output_type": "stream",
          "name": "stdout",
          "text": [
            "Indexed image with id = img_141\n",
            "Indexed image with id = img_143\n",
            "Indexed image with id = img_144\n",
            "Indexed image with id = img_145\n",
            "Indexed image with id = img_146\n",
            "Indexed image with id = img_147\n",
            "Indexed image with id = img_148\n",
            "Indexed image with id = img_149\n"
          ]
        },
        {
          "output_type": "stream",
          "name": "stderr",
          "text": [
            "\rIndexing pages:   8%|▊         | 16/208 [08:59<1:36:29, 30.15s/it]"
          ]
        },
        {
          "output_type": "stream",
          "name": "stdout",
          "text": [
            "Indexed image with id = img_150\n",
            "Indexed image with id = img_152\n",
            "Indexed image with id = img_153\n",
            "Indexed image with id = img_154\n",
            "Indexed image with id = img_155\n",
            "Indexed image with id = img_156\n"
          ]
        },
        {
          "output_type": "stream",
          "name": "stderr",
          "text": [
            "\rIndexing pages:   8%|▊         | 17/208 [09:22<1:28:33, 27.82s/it]"
          ]
        },
        {
          "output_type": "stream",
          "name": "stdout",
          "text": [
            "Indexed image with id = img_157\n",
            "Indexed image with id = img_159\n",
            "Indexed image with id = img_160\n",
            "Indexed image with id = img_161\n"
          ]
        },
        {
          "output_type": "stream",
          "name": "stderr",
          "text": [
            "\rIndexing pages:   9%|▊         | 18/208 [09:39<1:17:58, 24.62s/it]"
          ]
        },
        {
          "output_type": "stream",
          "name": "stdout",
          "text": [
            "Indexed image with id = img_162\n",
            "Indexed image with id = img_164\n",
            "Indexed image with id = img_165\n",
            "Indexed image with id = img_166\n",
            "Indexed image with id = img_167\n",
            "Indexed image with id = img_168\n",
            "Indexed image with id = img_169\n",
            "Indexed image with id = img_170\n",
            "Indexed image with id = img_171\n",
            "Indexed image with id = img_172\n",
            "Indexed image with id = img_173\n"
          ]
        },
        {
          "output_type": "stream",
          "name": "stderr",
          "text": [
            "\rIndexing pages:   9%|▉         | 19/208 [10:20<1:33:25, 29.66s/it]"
          ]
        },
        {
          "output_type": "stream",
          "name": "stdout",
          "text": [
            "Indexed image with id = img_174\n",
            "Indexed image with id = img_176\n",
            "Indexed image with id = img_177\n",
            "Indexed image with id = img_178\n",
            "Indexed image with id = img_179\n"
          ]
        },
        {
          "output_type": "stream",
          "name": "stderr",
          "text": [
            "\rIndexing pages:  10%|▉         | 20/208 [10:41<1:24:17, 26.90s/it]"
          ]
        },
        {
          "output_type": "stream",
          "name": "stdout",
          "text": [
            "Indexed image with id = img_180\n",
            "Indexed image with id = img_182\n",
            "Indexed image with id = img_183\n",
            "Indexed image with id = img_184\n",
            "Indexed image with id = img_185\n",
            "Indexed image with id = img_186\n",
            "Indexed image with id = img_187\n"
          ]
        },
        {
          "output_type": "stream",
          "name": "stderr",
          "text": [
            "\rIndexing pages:  10%|█         | 21/208 [11:08<1:24:17, 27.05s/it]"
          ]
        },
        {
          "output_type": "stream",
          "name": "stdout",
          "text": [
            "Indexed image with id = img_188\n",
            "Indexed image with id = img_190\n",
            "Indexed image with id = img_191\n",
            "Indexed image with id = img_192\n",
            "Indexed image with id = img_193\n",
            "Indexed image with id = img_194\n",
            "Indexed image with id = img_195\n",
            "Indexed image with id = img_196\n",
            "Indexed image with id = img_197\n",
            "Indexed image with id = img_198\n",
            "Indexed image with id = img_199\n",
            "Indexed image with id = img_200\n",
            "Indexed image with id = img_201\n",
            "Indexed image with id = img_202\n",
            "Indexed image with id = img_203\n"
          ]
        },
        {
          "output_type": "stream",
          "name": "stderr",
          "text": [
            "\rIndexing pages:  11%|█         | 22/208 [12:11<1:56:59, 37.74s/it]"
          ]
        },
        {
          "output_type": "stream",
          "name": "stdout",
          "text": [
            "Indexed image with id = img_204\n",
            "Indexed image with id = img_206\n",
            "Indexed image with id = img_207\n",
            "Indexed image with id = img_208\n",
            "Indexed image with id = img_209\n",
            "Indexed image with id = img_210\n",
            "Indexed image with id = img_211\n",
            "Indexed image with id = img_212\n",
            "Indexed image with id = img_213\n",
            "Indexed image with id = img_214\n",
            "Indexed image with id = img_215\n",
            "Indexed image with id = img_216\n",
            "Indexed image with id = img_217\n",
            "Indexed image with id = img_218\n",
            "Indexed image with id = img_219\n"
          ]
        },
        {
          "output_type": "stream",
          "name": "stderr",
          "text": [
            "\rIndexing pages:  11%|█         | 23/208 [13:07<2:13:57, 43.44s/it]"
          ]
        },
        {
          "output_type": "stream",
          "name": "stdout",
          "text": [
            "Indexed image with id = img_220\n",
            "Indexed image with id = img_222\n",
            "Indexed image with id = img_223\n",
            "Indexed image with id = img_224\n",
            "Indexed image with id = img_225\n",
            "Indexed image with id = img_226\n"
          ]
        },
        {
          "output_type": "stream",
          "name": "stderr",
          "text": [
            "\rIndexing pages:  12%|█▏        | 24/208 [13:32<1:55:29, 37.66s/it]"
          ]
        },
        {
          "output_type": "stream",
          "name": "stdout",
          "text": [
            "Indexed image with id = img_227\n",
            "Indexed image with id = img_229\n",
            "Indexed image with id = img_230\n",
            "Indexed image with id = img_231\n",
            "Indexed image with id = img_232\n",
            "Indexed image with id = img_233\n"
          ]
        },
        {
          "output_type": "stream",
          "name": "stderr",
          "text": [
            "\rIndexing pages:  12%|█▏        | 25/208 [13:56<1:43:02, 33.78s/it]"
          ]
        },
        {
          "output_type": "stream",
          "name": "stdout",
          "text": [
            "Indexed image with id = img_234\n",
            "Indexed image with id = img_236\n",
            "Indexed image with id = img_237\n",
            "Indexed image with id = img_238\n",
            "Indexed image with id = img_239\n",
            "Indexed image with id = img_240\n"
          ]
        },
        {
          "output_type": "stream",
          "name": "stderr",
          "text": [
            "\rIndexing pages:  12%|█▎        | 26/208 [14:20<1:33:08, 30.70s/it]"
          ]
        },
        {
          "output_type": "stream",
          "name": "stdout",
          "text": [
            "Indexed image with id = img_241\n",
            "Indexed image with id = img_243\n",
            "Indexed image with id = img_244\n",
            "Indexed image with id = img_245\n",
            "Indexed image with id = img_246\n",
            "Indexed image with id = img_247\n",
            "Indexed image with id = img_248\n",
            "Indexed image with id = img_249\n",
            "Indexed image with id = img_250\n",
            "Indexed image with id = img_251\n",
            "Indexed image with id = img_252\n",
            "Indexed image with id = img_253\n",
            "Indexed image with id = img_254\n"
          ]
        },
        {
          "output_type": "stream",
          "name": "stderr",
          "text": [
            "\rIndexing pages:  13%|█▎        | 27/208 [15:08<1:48:38, 36.01s/it]"
          ]
        },
        {
          "output_type": "stream",
          "name": "stdout",
          "text": [
            "Indexed image with id = img_255\n",
            "Indexed image with id = img_257\n",
            "Indexed image with id = img_258\n",
            "Indexed image with id = img_259\n",
            "Indexed image with id = img_260\n",
            "Indexed image with id = img_261\n",
            "Indexed image with id = img_262\n",
            "Indexed image with id = img_263\n",
            "Indexed image with id = img_264\n",
            "Indexed image with id = img_265\n",
            "Indexed image with id = img_266\n"
          ]
        },
        {
          "output_type": "stream",
          "name": "stderr",
          "text": [
            "\rIndexing pages:  13%|█▎        | 28/208 [15:51<1:54:08, 38.05s/it]"
          ]
        },
        {
          "output_type": "stream",
          "name": "stdout",
          "text": [
            "Indexed image with id = img_267\n",
            "Indexed image with id = img_269\n",
            "Indexed image with id = img_270\n",
            "Indexed image with id = img_271\n",
            "Indexed image with id = img_272\n",
            "Indexed image with id = img_273\n",
            "Indexed image with id = img_274\n",
            "Indexed image with id = img_275\n",
            "Indexed image with id = img_276\n",
            "Indexed image with id = img_277\n",
            "Indexed image with id = img_278\n",
            "Indexed image with id = img_279\n",
            "Indexed image with id = img_280\n",
            "Indexed image with id = img_281\n",
            "Indexed image with id = img_282\n",
            "Indexed image with id = img_283\n",
            "Indexed image with id = img_284\n",
            "Indexed image with id = img_285\n",
            "Indexed image with id = img_286\n",
            "Indexed image with id = img_287\n",
            "Indexed image with id = img_288\n",
            "Indexed image with id = img_289\n",
            "Indexed image with id = img_290\n",
            "Indexed image with id = img_291\n",
            "Indexed image with id = img_292\n",
            "Indexed image with id = img_293\n",
            "Indexed image with id = img_294\n",
            "Indexed image with id = img_295\n",
            "Indexed image with id = img_296\n",
            "Indexed image with id = img_297\n",
            "Indexed image with id = img_298\n",
            "Indexed image with id = img_299\n",
            "Indexed image with id = img_300\n",
            "Indexed image with id = img_301\n",
            "Indexed image with id = img_302\n",
            "Indexed image with id = img_303\n",
            "Indexed image with id = img_304\n",
            "Indexed image with id = img_305\n",
            "Indexed image with id = img_306\n",
            "Indexed image with id = img_307\n",
            "Indexed image with id = img_308\n",
            "Indexed image with id = img_309\n",
            "Indexed image with id = img_310\n",
            "Indexed image with id = img_311\n",
            "Indexed image with id = img_312\n",
            "Indexed image with id = img_313\n",
            "Indexed image with id = img_314\n",
            "Indexed image with id = img_315\n",
            "Indexed image with id = img_316\n",
            "Indexed image with id = img_317\n",
            "Indexed image with id = img_318\n",
            "Indexed image with id = img_319\n",
            "Indexed image with id = img_320\n",
            "Indexed image with id = img_321\n",
            "Indexed image with id = img_322\n",
            "Indexed image with id = img_323\n",
            "Indexed image with id = img_324\n",
            "Indexed image with id = img_325\n",
            "Indexed image with id = img_326\n",
            "Indexed image with id = img_327\n",
            "Indexed image with id = img_328\n",
            "Indexed image with id = img_329\n",
            "Indexed image with id = img_330\n",
            "Indexed image with id = img_331\n",
            "Indexed image with id = img_332\n",
            "Indexed image with id = img_333\n",
            "Indexed image with id = img_334\n",
            "Indexed image with id = img_335\n",
            "Indexed image with id = img_336\n",
            "Indexed image with id = img_337\n",
            "Indexed image with id = img_338\n",
            "Indexed image with id = img_339\n",
            "Indexed image with id = img_340\n",
            "Indexed image with id = img_341\n",
            "Indexed image with id = img_342\n",
            "Indexed image with id = img_343\n",
            "Indexed image with id = img_344\n",
            "Indexed image with id = img_345\n",
            "Indexed image with id = img_346\n"
          ]
        },
        {
          "output_type": "stream",
          "name": "stderr",
          "text": [
            "\rIndexing pages:  14%|█▍        | 29/208 [20:55<5:51:51, 117.94s/it]"
          ]
        },
        {
          "output_type": "stream",
          "name": "stdout",
          "text": [
            "Indexed image with id = img_347\n",
            "Indexed image with id = img_349\n",
            "Indexed image with id = img_350\n",
            "Indexed image with id = img_351\n",
            "Indexed image with id = img_352\n"
          ]
        },
        {
          "output_type": "stream",
          "name": "stderr",
          "text": [
            "\rIndexing pages:  14%|█▍        | 30/208 [21:15<4:22:35, 88.51s/it] "
          ]
        },
        {
          "output_type": "stream",
          "name": "stdout",
          "text": [
            "Indexed image with id = img_353\n",
            "Indexed image with id = img_355\n",
            "Indexed image with id = img_356\n",
            "Indexed image with id = img_357\n",
            "Indexed image with id = img_358\n"
          ]
        },
        {
          "output_type": "stream",
          "name": "stderr",
          "text": [
            "\rIndexing pages:  15%|█▍        | 31/208 [21:35<3:20:09, 67.85s/it]"
          ]
        },
        {
          "output_type": "stream",
          "name": "stdout",
          "text": [
            "Indexed image with id = img_359\n",
            "Indexed image with id = img_361\n",
            "Indexed image with id = img_362\n",
            "Indexed image with id = img_363\n",
            "Indexed image with id = img_364\n",
            "Indexed image with id = img_365\n",
            "Indexed image with id = img_366\n",
            "Indexed image with id = img_367\n",
            "Indexed image with id = img_368\n",
            "Indexed image with id = img_369\n",
            "Indexed image with id = img_370\n",
            "Indexed image with id = img_371\n",
            "Indexed image with id = img_372\n",
            "Indexed image with id = img_373\n",
            "Indexed image with id = img_374\n",
            "Indexed image with id = img_375\n",
            "Indexed image with id = img_376\n",
            "Indexed image with id = img_377\n",
            "Indexed image with id = img_378\n",
            "Indexed image with id = img_379\n"
          ]
        },
        {
          "output_type": "stream",
          "name": "stderr",
          "text": [
            "\rIndexing pages:  15%|█▌        | 32/208 [22:51<3:26:11, 70.30s/it]"
          ]
        },
        {
          "output_type": "stream",
          "name": "stdout",
          "text": [
            "Indexed image with id = img_380\n",
            "Indexed image with id = img_382\n",
            "Indexed image with id = img_383\n",
            "Indexed image with id = img_384\n",
            "Indexed image with id = img_385\n",
            "Indexed image with id = img_386\n",
            "Indexed image with id = img_387\n",
            "Indexed image with id = img_388\n",
            "Indexed image with id = img_389\n",
            "Indexed image with id = img_390\n",
            "Indexed image with id = img_391\n",
            "Indexed image with id = img_392\n",
            "Indexed image with id = img_393\n",
            "Indexed image with id = img_394\n",
            "Indexed image with id = img_395\n",
            "Indexed image with id = img_396\n"
          ]
        },
        {
          "output_type": "stream",
          "name": "stderr",
          "text": [
            "\rIndexing pages:  16%|█▌        | 33/208 [23:54<3:19:05, 68.26s/it]"
          ]
        },
        {
          "output_type": "stream",
          "name": "stdout",
          "text": [
            "Indexed image with id = img_397\n",
            "Indexed image with id = img_399\n",
            "Indexed image with id = img_400\n",
            "Indexed image with id = img_401\n",
            "Indexed image with id = img_402\n"
          ]
        },
        {
          "output_type": "stream",
          "name": "stderr",
          "text": [
            "\rIndexing pages:  16%|█▋        | 34/208 [24:15<2:36:37, 54.01s/it]"
          ]
        },
        {
          "output_type": "stream",
          "name": "stdout",
          "text": [
            "Indexed image with id = img_403\n",
            "Indexed image with id = img_405\n",
            "Indexed image with id = img_406\n",
            "Indexed image with id = img_407\n",
            "Indexed image with id = img_408\n"
          ]
        },
        {
          "output_type": "stream",
          "name": "stderr",
          "text": [
            "\rIndexing pages:  17%|█▋        | 35/208 [24:35<2:06:17, 43.80s/it]"
          ]
        },
        {
          "output_type": "stream",
          "name": "stdout",
          "text": [
            "Indexed image with id = img_409\n",
            "Indexed image with id = img_411\n",
            "Indexed image with id = img_412\n",
            "Indexed image with id = img_413\n",
            "Indexed image with id = img_414\n"
          ]
        },
        {
          "output_type": "stream",
          "name": "stderr",
          "text": [
            "\rIndexing pages:  17%|█▋        | 36/208 [24:55<1:45:24, 36.77s/it]"
          ]
        },
        {
          "output_type": "stream",
          "name": "stdout",
          "text": [
            "Indexed image with id = img_415\n",
            "Indexed image with id = img_417\n",
            "Indexed image with id = img_418\n",
            "Indexed image with id = img_419\n",
            "Indexed image with id = img_420\n"
          ]
        },
        {
          "output_type": "stream",
          "name": "stderr",
          "text": [
            "\rIndexing pages:  18%|█▊        | 37/208 [25:15<1:30:17, 31.68s/it]"
          ]
        },
        {
          "output_type": "stream",
          "name": "stdout",
          "text": [
            "Indexed image with id = img_421\n",
            "Indexed image with id = img_423\n",
            "Indexed image with id = img_424\n",
            "Indexed image with id = img_425\n",
            "Indexed image with id = img_426\n"
          ]
        },
        {
          "output_type": "stream",
          "name": "stderr",
          "text": [
            "\rIndexing pages:  18%|█▊        | 38/208 [25:37<1:20:57, 28.57s/it]"
          ]
        },
        {
          "output_type": "stream",
          "name": "stdout",
          "text": [
            "Indexed image with id = img_427\n",
            "Indexed image with id = img_429\n",
            "Indexed image with id = img_430\n",
            "Indexed image with id = img_431\n",
            "Indexed image with id = img_432\n"
          ]
        },
        {
          "output_type": "stream",
          "name": "stderr",
          "text": [
            "\rIndexing pages:  19%|█▉        | 39/208 [25:57<1:13:50, 26.22s/it]"
          ]
        },
        {
          "output_type": "stream",
          "name": "stdout",
          "text": [
            "Indexed image with id = img_433\n",
            "Indexed image with id = img_435\n",
            "Indexed image with id = img_436\n",
            "Indexed image with id = img_437\n",
            "Indexed image with id = img_438\n"
          ]
        },
        {
          "output_type": "stream",
          "name": "stderr",
          "text": [
            "\rIndexing pages:  19%|█▉        | 40/208 [26:17<1:07:48, 24.22s/it]"
          ]
        },
        {
          "output_type": "stream",
          "name": "stdout",
          "text": [
            "Indexed image with id = img_439\n",
            "Indexed image with id = img_441\n",
            "Indexed image with id = img_442\n",
            "Indexed image with id = img_443\n",
            "Indexed image with id = img_444\n"
          ]
        },
        {
          "output_type": "stream",
          "name": "stderr",
          "text": [
            "\rIndexing pages:  20%|█▉        | 41/208 [26:37<1:04:22, 23.13s/it]"
          ]
        },
        {
          "output_type": "stream",
          "name": "stdout",
          "text": [
            "Indexed image with id = img_445\n",
            "Indexed image with id = img_447\n",
            "Indexed image with id = img_448\n",
            "Indexed image with id = img_449\n",
            "Indexed image with id = img_450\n"
          ]
        },
        {
          "output_type": "stream",
          "name": "stderr",
          "text": [
            "\rIndexing pages:  20%|██        | 42/208 [26:58<1:01:49, 22.35s/it]"
          ]
        },
        {
          "output_type": "stream",
          "name": "stdout",
          "text": [
            "Indexed image with id = img_451\n",
            "Indexed image with id = img_453\n",
            "Indexed image with id = img_454\n",
            "Indexed image with id = img_455\n",
            "Indexed image with id = img_456\n"
          ]
        },
        {
          "output_type": "stream",
          "name": "stderr",
          "text": [
            "\rIndexing pages:  21%|██        | 43/208 [27:18<59:25, 21.61s/it]  "
          ]
        },
        {
          "output_type": "stream",
          "name": "stdout",
          "text": [
            "Indexed image with id = img_457\n",
            "Indexed image with id = img_459\n",
            "Indexed image with id = img_460\n",
            "Indexed image with id = img_461\n",
            "Indexed image with id = img_462\n"
          ]
        },
        {
          "output_type": "stream",
          "name": "stderr",
          "text": [
            "\rIndexing pages:  21%|██        | 44/208 [27:40<59:53, 21.91s/it]"
          ]
        },
        {
          "output_type": "stream",
          "name": "stdout",
          "text": [
            "Indexed image with id = img_463\n",
            "Indexed image with id = img_465\n",
            "Indexed image with id = img_466\n",
            "Indexed image with id = img_467\n",
            "Indexed image with id = img_468\n"
          ]
        },
        {
          "output_type": "stream",
          "name": "stderr",
          "text": [
            "\rIndexing pages:  22%|██▏       | 45/208 [28:01<58:29, 21.53s/it]"
          ]
        },
        {
          "output_type": "stream",
          "name": "stdout",
          "text": [
            "Indexed image with id = img_469\n",
            "Indexed image with id = img_471\n",
            "Indexed image with id = img_472\n",
            "Indexed image with id = img_473\n",
            "Indexed image with id = img_474\n"
          ]
        },
        {
          "output_type": "stream",
          "name": "stderr",
          "text": [
            "\rIndexing pages:  22%|██▏       | 46/208 [28:22<57:51, 21.43s/it]"
          ]
        },
        {
          "output_type": "stream",
          "name": "stdout",
          "text": [
            "Indexed image with id = img_475\n",
            "Indexed image with id = img_477\n",
            "Indexed image with id = img_478\n",
            "Indexed image with id = img_479\n",
            "Indexed image with id = img_480\n",
            "Indexed image with id = img_481\n",
            "Indexed image with id = img_482\n",
            "Indexed image with id = img_483\n",
            "Indexed image with id = img_484\n",
            "Indexed image with id = img_485\n",
            "Indexed image with id = img_486\n",
            "Indexed image with id = img_487\n",
            "Indexed image with id = img_488\n"
          ]
        },
        {
          "output_type": "stream",
          "name": "stderr",
          "text": [
            "\rIndexing pages:  23%|██▎       | 47/208 [29:17<1:24:04, 31.33s/it]"
          ]
        },
        {
          "output_type": "stream",
          "name": "stdout",
          "text": [
            "Indexed image with id = img_489\n",
            "Indexed image with id = img_491\n",
            "Indexed image with id = img_492\n",
            "Indexed image with id = img_493\n",
            "Indexed image with id = img_494\n"
          ]
        },
        {
          "output_type": "stream",
          "name": "stderr",
          "text": [
            "\rIndexing pages:  23%|██▎       | 48/208 [29:38<1:15:47, 28.42s/it]"
          ]
        },
        {
          "output_type": "stream",
          "name": "stdout",
          "text": [
            "Indexed image with id = img_495\n",
            "Indexed image with id = img_497\n",
            "Indexed image with id = img_498\n",
            "Indexed image with id = img_499\n",
            "Indexed image with id = img_500\n"
          ]
        },
        {
          "output_type": "stream",
          "name": "stderr",
          "text": [
            "\rIndexing pages:  24%|██▎       | 49/208 [29:59<1:09:21, 26.17s/it]"
          ]
        },
        {
          "output_type": "stream",
          "name": "stdout",
          "text": [
            "Indexed image with id = img_501\n",
            "Indexed image with id = img_503\n",
            "Indexed image with id = img_504\n",
            "Indexed image with id = img_505\n",
            "Indexed image with id = img_506\n"
          ]
        },
        {
          "output_type": "stream",
          "name": "stderr",
          "text": [
            "\rIndexing pages:  24%|██▍       | 50/208 [30:19<1:03:54, 24.27s/it]"
          ]
        },
        {
          "output_type": "stream",
          "name": "stdout",
          "text": [
            "Indexed image with id = img_507\n",
            "Indexed image with id = img_509\n",
            "Indexed image with id = img_510\n",
            "Indexed image with id = img_511\n",
            "Indexed image with id = img_512\n"
          ]
        },
        {
          "output_type": "stream",
          "name": "stderr",
          "text": [
            "\rIndexing pages:  25%|██▍       | 51/208 [30:40<1:00:25, 23.09s/it]"
          ]
        },
        {
          "output_type": "stream",
          "name": "stdout",
          "text": [
            "Indexed image with id = img_513\n",
            "Indexed image with id = img_515\n",
            "Indexed image with id = img_516\n",
            "Indexed image with id = img_517\n",
            "Indexed image with id = img_518\n"
          ]
        },
        {
          "output_type": "stream",
          "name": "stderr",
          "text": [
            "\rIndexing pages:  25%|██▌       | 52/208 [31:00<57:55, 22.28s/it]  "
          ]
        },
        {
          "output_type": "stream",
          "name": "stdout",
          "text": [
            "Indexed image with id = img_519\n",
            "Indexed image with id = img_521\n",
            "Indexed image with id = img_522\n",
            "Indexed image with id = img_523\n",
            "Indexed image with id = img_524\n"
          ]
        },
        {
          "output_type": "stream",
          "name": "stderr",
          "text": [
            "\rIndexing pages:  25%|██▌       | 53/208 [31:20<55:49, 21.61s/it]"
          ]
        },
        {
          "output_type": "stream",
          "name": "stdout",
          "text": [
            "Indexed image with id = img_525\n",
            "Indexed image with id = img_527\n",
            "Indexed image with id = img_528\n",
            "Indexed image with id = img_529\n",
            "Indexed image with id = img_530\n"
          ]
        },
        {
          "output_type": "stream",
          "name": "stderr",
          "text": [
            "\rIndexing pages:  26%|██▌       | 54/208 [31:42<56:02, 21.84s/it]"
          ]
        },
        {
          "output_type": "stream",
          "name": "stdout",
          "text": [
            "Indexed image with id = img_531\n",
            "Indexed image with id = img_533\n",
            "Indexed image with id = img_534\n",
            "Indexed image with id = img_535\n",
            "Indexed image with id = img_536\n"
          ]
        },
        {
          "output_type": "stream",
          "name": "stderr",
          "text": [
            "\rIndexing pages:  26%|██▋       | 55/208 [32:03<54:34, 21.40s/it]"
          ]
        },
        {
          "output_type": "stream",
          "name": "stdout",
          "text": [
            "Indexed image with id = img_537\n",
            "Indexed image with id = img_539\n",
            "Indexed image with id = img_540\n",
            "Indexed image with id = img_541\n",
            "Indexed image with id = img_542\n"
          ]
        },
        {
          "output_type": "stream",
          "name": "stderr",
          "text": [
            "\rIndexing pages:  27%|██▋       | 56/208 [32:23<53:09, 20.98s/it]"
          ]
        },
        {
          "output_type": "stream",
          "name": "stdout",
          "text": [
            "Indexed image with id = img_543\n",
            "Indexed image with id = img_545\n",
            "Indexed image with id = img_546\n",
            "Indexed image with id = img_547\n",
            "Indexed image with id = img_548\n",
            "Indexed image with id = img_549\n"
          ]
        },
        {
          "output_type": "stream",
          "name": "stderr",
          "text": [
            "\rIndexing pages:  27%|██▋       | 57/208 [32:47<55:26, 22.03s/it]"
          ]
        },
        {
          "output_type": "stream",
          "name": "stdout",
          "text": [
            "Indexed image with id = img_550\n",
            "Indexed image with id = img_552\n",
            "Indexed image with id = img_553\n",
            "Indexed image with id = img_554\n",
            "Indexed image with id = img_555\n",
            "Indexed image with id = img_556\n",
            "Indexed image with id = img_557\n",
            "Indexed image with id = img_558\n",
            "Indexed image with id = img_559\n",
            "Indexed image with id = img_560\n",
            "Indexed image with id = img_561\n",
            "Indexed image with id = img_562\n",
            "Indexed image with id = img_563\n"
          ]
        },
        {
          "output_type": "stream",
          "name": "stderr",
          "text": [
            "\rIndexing pages:  28%|██▊       | 58/208 [33:38<1:16:39, 30.67s/it]"
          ]
        },
        {
          "output_type": "stream",
          "name": "stdout",
          "text": [
            "Indexed image with id = img_564\n",
            "Indexed image with id = img_566\n",
            "Indexed image with id = img_567\n",
            "Indexed image with id = img_568\n"
          ]
        },
        {
          "output_type": "stream",
          "name": "stderr",
          "text": [
            "\rIndexing pages:  28%|██▊       | 59/208 [33:54<1:05:24, 26.34s/it]"
          ]
        },
        {
          "output_type": "stream",
          "name": "stdout",
          "text": [
            "Indexed image with id = img_569\n",
            "Indexed image with id = img_571\n",
            "Indexed image with id = img_572\n",
            "Indexed image with id = img_573\n",
            "Indexed image with id = img_574\n"
          ]
        },
        {
          "output_type": "stream",
          "name": "stderr",
          "text": [
            "\rIndexing pages:  29%|██▉       | 60/208 [34:14<1:00:29, 24.52s/it]"
          ]
        },
        {
          "output_type": "stream",
          "name": "stdout",
          "text": [
            "Indexed image with id = img_575\n",
            "Indexed image with id = img_577\n",
            "Indexed image with id = img_578\n",
            "Indexed image with id = img_579\n",
            "Indexed image with id = img_580\n"
          ]
        },
        {
          "output_type": "stream",
          "name": "stderr",
          "text": [
            "\rIndexing pages:  29%|██▉       | 61/208 [34:35<57:11, 23.35s/it]  "
          ]
        },
        {
          "output_type": "stream",
          "name": "stdout",
          "text": [
            "Indexed image with id = img_581\n",
            "Indexed image with id = img_583\n",
            "Indexed image with id = img_584\n",
            "Indexed image with id = img_585\n"
          ]
        },
        {
          "output_type": "stream",
          "name": "stderr",
          "text": [
            "\rIndexing pages:  30%|██▉       | 62/208 [34:51<51:42, 21.25s/it]"
          ]
        },
        {
          "output_type": "stream",
          "name": "stdout",
          "text": [
            "Indexed image with id = img_586\n",
            "Indexed image with id = img_588\n",
            "Indexed image with id = img_589\n",
            "Indexed image with id = img_590\n",
            "Indexed image with id = img_591\n",
            "Indexed image with id = img_592\n",
            "Indexed image with id = img_593\n",
            "Indexed image with id = img_594\n",
            "Indexed image with id = img_595\n"
          ]
        },
        {
          "output_type": "stream",
          "name": "stderr",
          "text": [
            "\rIndexing pages:  30%|███       | 63/208 [35:28<1:02:12, 25.74s/it]"
          ]
        },
        {
          "output_type": "stream",
          "name": "stdout",
          "text": [
            "Indexed image with id = img_596\n",
            "Indexed image with id = img_598\n",
            "Indexed image with id = img_599\n",
            "Indexed image with id = img_600\n",
            "Indexed image with id = img_601\n"
          ]
        },
        {
          "output_type": "stream",
          "name": "stderr",
          "text": [
            "\rIndexing pages:  31%|███       | 64/208 [35:48<57:47, 24.08s/it]  "
          ]
        },
        {
          "output_type": "stream",
          "name": "stdout",
          "text": [
            "Indexed image with id = img_602\n",
            "Indexed image with id = img_604\n",
            "Indexed image with id = img_605\n",
            "Indexed image with id = img_606\n",
            "Indexed image with id = img_607\n",
            "Indexed image with id = img_608\n",
            "Indexed image with id = img_609\n",
            "Indexed image with id = img_610\n",
            "Indexed image with id = img_611\n",
            "Indexed image with id = img_612\n",
            "Indexed image with id = img_613\n",
            "Indexed image with id = img_614\n",
            "Indexed image with id = img_615\n",
            "Indexed image with id = img_616\n",
            "Indexed image with id = img_617\n",
            "Indexed image with id = img_618\n",
            "Indexed image with id = img_619\n",
            "Indexed image with id = img_620\n",
            "Indexed image with id = img_621\n"
          ]
        },
        {
          "output_type": "stream",
          "name": "stderr",
          "text": [
            "\rIndexing pages:  31%|███▏      | 65/208 [37:01<1:32:40, 38.89s/it]"
          ]
        },
        {
          "output_type": "stream",
          "name": "stdout",
          "text": [
            "Indexed image with id = img_622\n",
            "Indexed image with id = img_624\n",
            "Indexed image with id = img_625\n",
            "Indexed image with id = img_626\n",
            "Indexed image with id = img_627\n"
          ]
        },
        {
          "output_type": "stream",
          "name": "stderr",
          "text": [
            "\rIndexing pages:  32%|███▏      | 66/208 [37:21<1:18:11, 33.04s/it]"
          ]
        },
        {
          "output_type": "stream",
          "name": "stdout",
          "text": [
            "Indexed image with id = img_628\n",
            "Indexed image with id = img_630\n",
            "Indexed image with id = img_631\n",
            "Indexed image with id = img_632\n",
            "Indexed image with id = img_633\n",
            "Indexed image with id = img_634\n",
            "Indexed image with id = img_635\n"
          ]
        },
        {
          "output_type": "stream",
          "name": "stderr",
          "text": [
            "\rIndexing pages:  32%|███▏      | 67/208 [37:49<1:14:32, 31.72s/it]"
          ]
        },
        {
          "output_type": "stream",
          "name": "stdout",
          "text": [
            "Indexed image with id = img_636\n",
            "Indexed image with id = img_638\n",
            "Indexed image with id = img_639\n",
            "Indexed image with id = img_640\n",
            "Indexed image with id = img_641\n"
          ]
        },
        {
          "output_type": "stream",
          "name": "stderr",
          "text": [
            "\rIndexing pages:  33%|███▎      | 68/208 [38:10<1:06:12, 28.37s/it]"
          ]
        },
        {
          "output_type": "stream",
          "name": "stdout",
          "text": [
            "Indexed image with id = img_642\n",
            "Indexed image with id = img_644\n",
            "Indexed image with id = img_645\n",
            "Indexed image with id = img_646\n",
            "Indexed image with id = img_647\n",
            "Indexed image with id = img_648\n",
            "Indexed image with id = img_649\n",
            "Indexed image with id = img_650\n",
            "Indexed image with id = img_651\n",
            "Indexed image with id = img_652\n",
            "Indexed image with id = img_653\n",
            "Indexed image with id = img_654\n",
            "Indexed image with id = img_655\n"
          ]
        },
        {
          "output_type": "stream",
          "name": "stderr",
          "text": [
            "\rIndexing pages:  33%|███▎      | 69/208 [39:00<1:20:43, 34.85s/it]"
          ]
        },
        {
          "output_type": "stream",
          "name": "stdout",
          "text": [
            "Indexed image with id = img_656\n",
            "Indexed image with id = img_658\n",
            "Indexed image with id = img_659\n",
            "Indexed image with id = img_660\n",
            "Indexed image with id = img_661\n",
            "Indexed image with id = img_662\n",
            "Indexed image with id = img_663\n"
          ]
        },
        {
          "output_type": "stream",
          "name": "stderr",
          "text": [
            "\rIndexing pages:  34%|███▎      | 70/208 [39:28<1:15:18, 32.74s/it]"
          ]
        },
        {
          "output_type": "stream",
          "name": "stdout",
          "text": [
            "Indexed image with id = img_664\n",
            "Indexed image with id = img_666\n",
            "Indexed image with id = img_667\n",
            "Indexed image with id = img_668\n",
            "Indexed image with id = img_669\n",
            "Indexed image with id = img_670\n"
          ]
        },
        {
          "output_type": "stream",
          "name": "stderr",
          "text": [
            "\rIndexing pages:  34%|███▍      | 71/208 [39:52<1:08:40, 30.08s/it]"
          ]
        },
        {
          "output_type": "stream",
          "name": "stdout",
          "text": [
            "Indexed image with id = img_671\n",
            "Indexed image with id = img_673\n",
            "Indexed image with id = img_674\n",
            "Indexed image with id = img_675\n",
            "Indexed image with id = img_676\n",
            "Indexed image with id = img_677\n",
            "Indexed image with id = img_678\n",
            "Indexed image with id = img_679\n"
          ]
        },
        {
          "output_type": "stream",
          "name": "stderr",
          "text": [
            "\rIndexing pages:  35%|███▍      | 72/208 [40:22<1:08:34, 30.25s/it]"
          ]
        },
        {
          "output_type": "stream",
          "name": "stdout",
          "text": [
            "Indexed image with id = img_680\n",
            "Indexed image with id = img_682\n",
            "Indexed image with id = img_683\n",
            "Indexed image with id = img_684\n",
            "Indexed image with id = img_685\n"
          ]
        },
        {
          "output_type": "stream",
          "name": "stderr",
          "text": [
            "\rIndexing pages:  35%|███▌      | 73/208 [40:42<1:01:15, 27.23s/it]"
          ]
        },
        {
          "output_type": "stream",
          "name": "stdout",
          "text": [
            "Indexed image with id = img_686\n",
            "Indexed image with id = img_688\n",
            "Indexed image with id = img_689\n",
            "Indexed image with id = img_690\n",
            "Indexed image with id = img_691\n",
            "Indexed image with id = img_692\n",
            "Indexed image with id = img_693\n",
            "Indexed image with id = img_694\n",
            "Indexed image with id = img_695\n",
            "Indexed image with id = img_696\n",
            "Indexed image with id = img_697\n",
            "Indexed image with id = img_698\n",
            "Indexed image with id = img_699\n",
            "Indexed image with id = img_700\n",
            "Indexed image with id = img_701\n",
            "Indexed image with id = img_702\n"
          ]
        },
        {
          "output_type": "stream",
          "name": "stderr",
          "text": [
            "\rIndexing pages:  36%|███▌      | 74/208 [41:46<1:24:55, 38.03s/it]"
          ]
        },
        {
          "output_type": "stream",
          "name": "stdout",
          "text": [
            "Indexed image with id = img_703\n",
            "Indexed image with id = img_705\n",
            "Indexed image with id = img_706\n",
            "Indexed image with id = img_707\n",
            "Indexed image with id = img_708\n"
          ]
        },
        {
          "output_type": "stream",
          "name": "stderr",
          "text": [
            "\rIndexing pages:  36%|███▌      | 75/208 [42:07<1:12:55, 32.90s/it]"
          ]
        },
        {
          "output_type": "stream",
          "name": "stdout",
          "text": [
            "Indexed image with id = img_709\n",
            "Indexed image with id = img_711\n",
            "Indexed image with id = img_712\n",
            "Indexed image with id = img_713\n",
            "Indexed image with id = img_714\n"
          ]
        },
        {
          "output_type": "stream",
          "name": "stderr",
          "text": [
            "\rIndexing pages:  37%|███▋      | 76/208 [42:26<1:03:34, 28.90s/it]"
          ]
        },
        {
          "output_type": "stream",
          "name": "stdout",
          "text": [
            "Indexed image with id = img_715\n",
            "Indexed image with id = img_717\n",
            "Indexed image with id = img_718\n",
            "Indexed image with id = img_719\n",
            "Indexed image with id = img_720\n"
          ]
        },
        {
          "output_type": "stream",
          "name": "stderr",
          "text": [
            "\rIndexing pages:  37%|███▋      | 77/208 [42:48<58:23, 26.74s/it]  "
          ]
        },
        {
          "output_type": "stream",
          "name": "stdout",
          "text": [
            "Indexed image with id = img_721\n",
            "Indexed image with id = img_723\n",
            "Indexed image with id = img_724\n",
            "Indexed image with id = img_725\n",
            "Indexed image with id = img_726\n"
          ]
        },
        {
          "output_type": "stream",
          "name": "stderr",
          "text": [
            "\rIndexing pages:  38%|███▊      | 78/208 [43:09<54:02, 24.95s/it]"
          ]
        },
        {
          "output_type": "stream",
          "name": "stdout",
          "text": [
            "Indexed image with id = img_727\n",
            "Indexed image with id = img_729\n",
            "Indexed image with id = img_730\n",
            "Indexed image with id = img_731\n",
            "Indexed image with id = img_732\n"
          ]
        },
        {
          "output_type": "stream",
          "name": "stderr",
          "text": [
            "\rIndexing pages:  38%|███▊      | 79/208 [43:29<50:39, 23.56s/it]"
          ]
        },
        {
          "output_type": "stream",
          "name": "stdout",
          "text": [
            "Indexed image with id = img_733\n",
            "Indexed image with id = img_735\n",
            "Indexed image with id = img_736\n",
            "Indexed image with id = img_737\n",
            "Indexed image with id = img_738\n"
          ]
        },
        {
          "output_type": "stream",
          "name": "stderr",
          "text": [
            "\rIndexing pages:  38%|███▊      | 80/208 [43:49<48:06, 22.55s/it]"
          ]
        },
        {
          "output_type": "stream",
          "name": "stdout",
          "text": [
            "Indexed image with id = img_739\n",
            "Indexed image with id = img_741\n",
            "Indexed image with id = img_742\n",
            "Indexed image with id = img_743\n",
            "Indexed image with id = img_744\n"
          ]
        },
        {
          "output_type": "stream",
          "name": "stderr",
          "text": [
            "\rIndexing pages:  39%|███▉      | 81/208 [44:09<45:51, 21.66s/it]"
          ]
        },
        {
          "output_type": "stream",
          "name": "stdout",
          "text": [
            "Indexed image with id = img_745\n",
            "Indexed image with id = img_747\n",
            "Indexed image with id = img_748\n",
            "Indexed image with id = img_749\n",
            "Indexed image with id = img_750\n"
          ]
        },
        {
          "output_type": "stream",
          "name": "stderr",
          "text": [
            "\rIndexing pages:  39%|███▉      | 82/208 [44:29<44:47, 21.33s/it]"
          ]
        },
        {
          "output_type": "stream",
          "name": "stdout",
          "text": [
            "Indexed image with id = img_751\n",
            "Indexed image with id = img_753\n",
            "Indexed image with id = img_754\n",
            "Indexed image with id = img_755\n",
            "Indexed image with id = img_756\n"
          ]
        },
        {
          "output_type": "stream",
          "name": "stderr",
          "text": [
            "\rIndexing pages:  40%|███▉      | 83/208 [44:50<44:03, 21.15s/it]"
          ]
        },
        {
          "output_type": "stream",
          "name": "stdout",
          "text": [
            "Indexed image with id = img_757\n",
            "Indexed image with id = img_759\n",
            "Indexed image with id = img_760\n",
            "Indexed image with id = img_761\n",
            "Indexed image with id = img_762\n",
            "Indexed image with id = img_763\n"
          ]
        },
        {
          "output_type": "stream",
          "name": "stderr",
          "text": [
            "\rIndexing pages:  40%|████      | 84/208 [45:14<45:22, 21.96s/it]"
          ]
        },
        {
          "output_type": "stream",
          "name": "stdout",
          "text": [
            "Indexed image with id = img_764\n",
            "Indexed image with id = img_766\n",
            "Indexed image with id = img_767\n",
            "Indexed image with id = img_768\n",
            "Indexed image with id = img_769\n"
          ]
        },
        {
          "output_type": "stream",
          "name": "stderr",
          "text": [
            "\rIndexing pages:  41%|████      | 85/208 [45:35<44:16, 21.60s/it]"
          ]
        },
        {
          "output_type": "stream",
          "name": "stdout",
          "text": [
            "Indexed image with id = img_770\n",
            "Indexed image with id = img_772\n",
            "Indexed image with id = img_773\n",
            "Indexed image with id = img_774\n",
            "Indexed image with id = img_775\n"
          ]
        },
        {
          "output_type": "stream",
          "name": "stderr",
          "text": [
            "\rIndexing pages:  41%|████▏     | 86/208 [45:55<43:06, 21.20s/it]"
          ]
        },
        {
          "output_type": "stream",
          "name": "stdout",
          "text": [
            "Indexed image with id = img_776\n",
            "Indexed image with id = img_778\n",
            "Indexed image with id = img_779\n",
            "Indexed image with id = img_780\n",
            "Indexed image with id = img_781\n"
          ]
        },
        {
          "output_type": "stream",
          "name": "stderr",
          "text": [
            "\rIndexing pages:  42%|████▏     | 87/208 [46:15<42:02, 20.85s/it]"
          ]
        },
        {
          "output_type": "stream",
          "name": "stdout",
          "text": [
            "Indexed image with id = img_782\n",
            "Indexed image with id = img_784\n",
            "Indexed image with id = img_785\n",
            "Indexed image with id = img_786\n",
            "Indexed image with id = img_787\n"
          ]
        },
        {
          "output_type": "stream",
          "name": "stderr",
          "text": [
            "\rIndexing pages:  42%|████▏     | 88/208 [46:34<40:43, 20.36s/it]"
          ]
        },
        {
          "output_type": "stream",
          "name": "stdout",
          "text": [
            "Indexed image with id = img_788\n",
            "Indexed image with id = img_790\n",
            "Indexed image with id = img_791\n",
            "Indexed image with id = img_792\n",
            "Indexed image with id = img_793\n"
          ]
        },
        {
          "output_type": "stream",
          "name": "stderr",
          "text": [
            "\rIndexing pages:  43%|████▎     | 89/208 [46:55<40:38, 20.49s/it]"
          ]
        },
        {
          "output_type": "stream",
          "name": "stdout",
          "text": [
            "Indexed image with id = img_794\n",
            "Indexed image with id = img_796\n",
            "Indexed image with id = img_797\n",
            "Indexed image with id = img_798\n",
            "Indexed image with id = img_799\n"
          ]
        },
        {
          "output_type": "stream",
          "name": "stderr",
          "text": [
            "\rIndexing pages:  43%|████▎     | 90/208 [47:15<39:58, 20.33s/it]"
          ]
        },
        {
          "output_type": "stream",
          "name": "stdout",
          "text": [
            "Indexed image with id = img_800\n",
            "Indexed image with id = img_802\n",
            "Indexed image with id = img_803\n",
            "Indexed image with id = img_804\n",
            "Indexed image with id = img_805\n"
          ]
        },
        {
          "output_type": "stream",
          "name": "stderr",
          "text": [
            "\rIndexing pages:  44%|████▍     | 91/208 [47:36<40:06, 20.57s/it]"
          ]
        },
        {
          "output_type": "stream",
          "name": "stdout",
          "text": [
            "Indexed image with id = img_806\n",
            "Indexed image with id = img_808\n",
            "Indexed image with id = img_809\n",
            "Indexed image with id = img_810\n",
            "Indexed image with id = img_811\n"
          ]
        },
        {
          "output_type": "stream",
          "name": "stderr",
          "text": [
            "\rIndexing pages:  44%|████▍     | 92/208 [47:56<39:21, 20.36s/it]"
          ]
        },
        {
          "output_type": "stream",
          "name": "stdout",
          "text": [
            "Indexed image with id = img_812\n",
            "Indexed image with id = img_814\n",
            "Indexed image with id = img_815\n",
            "Indexed image with id = img_816\n",
            "Indexed image with id = img_817\n"
          ]
        },
        {
          "output_type": "stream",
          "name": "stderr",
          "text": [
            "\rIndexing pages:  45%|████▍     | 93/208 [48:16<38:47, 20.24s/it]"
          ]
        },
        {
          "output_type": "stream",
          "name": "stdout",
          "text": [
            "Indexed image with id = img_818\n",
            "Indexed image with id = img_820\n",
            "Indexed image with id = img_821\n",
            "Indexed image with id = img_822\n",
            "Indexed image with id = img_823\n"
          ]
        },
        {
          "output_type": "stream",
          "name": "stderr",
          "text": [
            "\rIndexing pages:  45%|████▌     | 94/208 [48:37<38:44, 20.39s/it]"
          ]
        },
        {
          "output_type": "stream",
          "name": "stdout",
          "text": [
            "Indexed image with id = img_824\n",
            "Indexed image with id = img_826\n",
            "Indexed image with id = img_827\n",
            "Indexed image with id = img_828\n",
            "Indexed image with id = img_829\n"
          ]
        },
        {
          "output_type": "stream",
          "name": "stderr",
          "text": [
            "\rIndexing pages:  46%|████▌     | 95/208 [48:56<37:53, 20.12s/it]"
          ]
        },
        {
          "output_type": "stream",
          "name": "stdout",
          "text": [
            "Indexed image with id = img_830\n",
            "Indexed image with id = img_832\n",
            "Indexed image with id = img_833\n",
            "Indexed image with id = img_834\n",
            "Indexed image with id = img_835\n"
          ]
        },
        {
          "output_type": "stream",
          "name": "stderr",
          "text": [
            "\rIndexing pages:  46%|████▌     | 96/208 [49:16<37:30, 20.09s/it]"
          ]
        },
        {
          "output_type": "stream",
          "name": "stdout",
          "text": [
            "Indexed image with id = img_836\n",
            "Indexed image with id = img_838\n",
            "Indexed image with id = img_839\n",
            "Indexed image with id = img_840\n",
            "Indexed image with id = img_841\n"
          ]
        },
        {
          "output_type": "stream",
          "name": "stderr",
          "text": [
            "\rIndexing pages:  47%|████▋     | 97/208 [49:37<37:51, 20.46s/it]"
          ]
        },
        {
          "output_type": "stream",
          "name": "stdout",
          "text": [
            "Indexed image with id = img_842\n",
            "Indexed image with id = img_844\n",
            "Indexed image with id = img_845\n",
            "Indexed image with id = img_846\n",
            "Indexed image with id = img_847\n"
          ]
        },
        {
          "output_type": "stream",
          "name": "stderr",
          "text": [
            "\rIndexing pages:  47%|████▋     | 98/208 [49:57<36:58, 20.17s/it]"
          ]
        },
        {
          "output_type": "stream",
          "name": "stdout",
          "text": [
            "Indexed image with id = img_848\n",
            "Indexed image with id = img_850\n",
            "Indexed image with id = img_851\n",
            "Indexed image with id = img_852\n",
            "Indexed image with id = img_853\n"
          ]
        },
        {
          "output_type": "stream",
          "name": "stderr",
          "text": [
            "\rIndexing pages:  48%|████▊     | 99/208 [50:17<36:44, 20.22s/it]"
          ]
        },
        {
          "output_type": "stream",
          "name": "stdout",
          "text": [
            "Indexed image with id = img_854\n",
            "Indexed image with id = img_856\n",
            "Indexed image with id = img_857\n",
            "Indexed image with id = img_858\n",
            "Indexed image with id = img_859\n"
          ]
        },
        {
          "output_type": "stream",
          "name": "stderr",
          "text": [
            "\rIndexing pages:  48%|████▊     | 100/208 [50:39<37:09, 20.64s/it]"
          ]
        },
        {
          "output_type": "stream",
          "name": "stdout",
          "text": [
            "Indexed image with id = img_860\n",
            "Indexed image with id = img_862\n",
            "Indexed image with id = img_863\n",
            "Indexed image with id = img_864\n",
            "Indexed image with id = img_865\n"
          ]
        },
        {
          "output_type": "stream",
          "name": "stderr",
          "text": [
            "\rIndexing pages:  49%|████▊     | 101/208 [50:59<36:37, 20.54s/it]"
          ]
        },
        {
          "output_type": "stream",
          "name": "stdout",
          "text": [
            "Indexed image with id = img_866\n",
            "Indexed image with id = img_868\n",
            "Indexed image with id = img_869\n",
            "Indexed image with id = img_870\n",
            "Indexed image with id = img_871\n"
          ]
        },
        {
          "output_type": "stream",
          "name": "stderr",
          "text": [
            "\rIndexing pages:  49%|████▉     | 102/208 [51:20<36:20, 20.57s/it]"
          ]
        },
        {
          "output_type": "stream",
          "name": "stdout",
          "text": [
            "Indexed image with id = img_872\n",
            "Indexed image with id = img_874\n",
            "Indexed image with id = img_875\n",
            "Indexed image with id = img_876\n",
            "Indexed image with id = img_877\n"
          ]
        },
        {
          "output_type": "stream",
          "name": "stderr",
          "text": [
            "\rIndexing pages:  50%|████▉     | 103/208 [51:41<36:08, 20.65s/it]"
          ]
        },
        {
          "output_type": "stream",
          "name": "stdout",
          "text": [
            "Indexed image with id = img_878\n",
            "Indexed image with id = img_880\n",
            "Indexed image with id = img_881\n",
            "Indexed image with id = img_882\n",
            "Indexed image with id = img_883\n"
          ]
        },
        {
          "output_type": "stream",
          "name": "stderr",
          "text": [
            "\rIndexing pages:  50%|█████     | 104/208 [52:01<35:47, 20.65s/it]"
          ]
        },
        {
          "output_type": "stream",
          "name": "stdout",
          "text": [
            "Indexed image with id = img_884\n",
            "Indexed image with id = img_886\n",
            "Indexed image with id = img_887\n",
            "Indexed image with id = img_888\n",
            "Indexed image with id = img_889\n"
          ]
        },
        {
          "output_type": "stream",
          "name": "stderr",
          "text": [
            "\rIndexing pages:  50%|█████     | 105/208 [52:23<35:48, 20.86s/it]"
          ]
        },
        {
          "output_type": "stream",
          "name": "stdout",
          "text": [
            "Indexed image with id = img_890\n",
            "Indexed image with id = img_892\n",
            "Indexed image with id = img_893\n",
            "Indexed image with id = img_894\n",
            "Indexed image with id = img_895\n"
          ]
        },
        {
          "output_type": "stream",
          "name": "stderr",
          "text": [
            "\rIndexing pages:  51%|█████     | 106/208 [52:42<34:47, 20.46s/it]"
          ]
        },
        {
          "output_type": "stream",
          "name": "stdout",
          "text": [
            "Indexed image with id = img_896\n",
            "Indexed image with id = img_898\n",
            "Indexed image with id = img_899\n",
            "Indexed image with id = img_900\n",
            "Indexed image with id = img_901\n"
          ]
        },
        {
          "output_type": "stream",
          "name": "stderr",
          "text": [
            "\rIndexing pages:  51%|█████▏    | 107/208 [53:03<34:45, 20.65s/it]"
          ]
        },
        {
          "output_type": "stream",
          "name": "stdout",
          "text": [
            "Indexed image with id = img_902\n",
            "Indexed image with id = img_904\n",
            "Indexed image with id = img_905\n",
            "Indexed image with id = img_906\n",
            "Indexed image with id = img_907\n"
          ]
        },
        {
          "output_type": "stream",
          "name": "stderr",
          "text": [
            "\rIndexing pages:  52%|█████▏    | 108/208 [53:24<34:19, 20.60s/it]"
          ]
        },
        {
          "output_type": "stream",
          "name": "stdout",
          "text": [
            "Indexed image with id = img_908\n",
            "Indexed image with id = img_910\n",
            "Indexed image with id = img_911\n",
            "Indexed image with id = img_912\n",
            "Indexed image with id = img_913\n"
          ]
        },
        {
          "output_type": "stream",
          "name": "stderr",
          "text": [
            "\rIndexing pages:  52%|█████▏    | 109/208 [53:44<33:49, 20.50s/it]"
          ]
        },
        {
          "output_type": "stream",
          "name": "stdout",
          "text": [
            "Indexed image with id = img_914\n",
            "Indexed image with id = img_916\n",
            "Indexed image with id = img_917\n",
            "Indexed image with id = img_918\n",
            "Indexed image with id = img_919\n"
          ]
        },
        {
          "output_type": "stream",
          "name": "stderr",
          "text": [
            "\rIndexing pages:  53%|█████▎    | 110/208 [54:04<33:20, 20.41s/it]"
          ]
        },
        {
          "output_type": "stream",
          "name": "stdout",
          "text": [
            "Indexed image with id = img_920\n",
            "Indexed image with id = img_922\n",
            "Indexed image with id = img_923\n",
            "Indexed image with id = img_924\n",
            "Indexed image with id = img_925\n"
          ]
        },
        {
          "output_type": "stream",
          "name": "stderr",
          "text": [
            "\rIndexing pages:  53%|█████▎    | 111/208 [54:24<32:37, 20.18s/it]"
          ]
        },
        {
          "output_type": "stream",
          "name": "stdout",
          "text": [
            "Indexed image with id = img_926\n",
            "Indexed image with id = img_928\n",
            "Indexed image with id = img_929\n",
            "Indexed image with id = img_930\n",
            "Indexed image with id = img_931\n"
          ]
        },
        {
          "output_type": "stream",
          "name": "stderr",
          "text": [
            "\rIndexing pages:  54%|█████▍    | 112/208 [54:44<32:18, 20.19s/it]"
          ]
        },
        {
          "output_type": "stream",
          "name": "stdout",
          "text": [
            "Indexed image with id = img_932\n",
            "Indexed image with id = img_934\n",
            "Indexed image with id = img_935\n",
            "Indexed image with id = img_936\n",
            "Indexed image with id = img_937\n"
          ]
        },
        {
          "output_type": "stream",
          "name": "stderr",
          "text": [
            "\rIndexing pages:  54%|█████▍    | 113/208 [55:05<32:08, 20.30s/it]"
          ]
        },
        {
          "output_type": "stream",
          "name": "stdout",
          "text": [
            "Indexed image with id = img_938\n",
            "Indexed image with id = img_940\n",
            "Indexed image with id = img_941\n",
            "Indexed image with id = img_942\n",
            "Indexed image with id = img_943\n"
          ]
        },
        {
          "output_type": "stream",
          "name": "stderr",
          "text": [
            "\rIndexing pages:  55%|█████▍    | 114/208 [55:24<31:27, 20.08s/it]"
          ]
        },
        {
          "output_type": "stream",
          "name": "stdout",
          "text": [
            "Indexed image with id = img_944\n",
            "Indexed image with id = img_946\n",
            "Indexed image with id = img_947\n",
            "Indexed image with id = img_948\n",
            "Indexed image with id = img_949\n"
          ]
        },
        {
          "output_type": "stream",
          "name": "stderr",
          "text": [
            "\rIndexing pages:  55%|█████▌    | 115/208 [55:45<31:28, 20.31s/it]"
          ]
        },
        {
          "output_type": "stream",
          "name": "stdout",
          "text": [
            "Indexed image with id = img_950\n",
            "Indexed image with id = img_952\n",
            "Indexed image with id = img_953\n",
            "Indexed image with id = img_954\n",
            "Indexed image with id = img_955\n"
          ]
        },
        {
          "output_type": "stream",
          "name": "stderr",
          "text": [
            "\rIndexing pages:  56%|█████▌    | 116/208 [56:05<31:07, 20.30s/it]"
          ]
        },
        {
          "output_type": "stream",
          "name": "stdout",
          "text": [
            "Indexed image with id = img_956\n",
            "Indexed image with id = img_958\n",
            "Indexed image with id = img_959\n",
            "Indexed image with id = img_960\n",
            "Indexed image with id = img_961\n"
          ]
        },
        {
          "output_type": "stream",
          "name": "stderr",
          "text": [
            "\rIndexing pages:  56%|█████▋    | 117/208 [56:25<30:40, 20.23s/it]"
          ]
        },
        {
          "output_type": "stream",
          "name": "stdout",
          "text": [
            "Indexed image with id = img_962\n",
            "Indexed image with id = img_964\n",
            "Indexed image with id = img_965\n",
            "Indexed image with id = img_966\n",
            "Indexed image with id = img_967\n"
          ]
        },
        {
          "output_type": "stream",
          "name": "stderr",
          "text": [
            "\rIndexing pages:  57%|█████▋    | 118/208 [56:46<30:43, 20.49s/it]"
          ]
        },
        {
          "output_type": "stream",
          "name": "stdout",
          "text": [
            "Indexed image with id = img_968\n",
            "Indexed image with id = img_970\n",
            "Indexed image with id = img_971\n",
            "Indexed image with id = img_972\n",
            "Indexed image with id = img_973\n"
          ]
        },
        {
          "output_type": "stream",
          "name": "stderr",
          "text": [
            "\rIndexing pages:  57%|█████▋    | 119/208 [57:06<30:09, 20.34s/it]"
          ]
        },
        {
          "output_type": "stream",
          "name": "stdout",
          "text": [
            "Indexed image with id = img_974\n",
            "Indexed image with id = img_976\n",
            "Indexed image with id = img_977\n",
            "Indexed image with id = img_978\n",
            "Indexed image with id = img_979\n"
          ]
        },
        {
          "output_type": "stream",
          "name": "stderr",
          "text": [
            "\rIndexing pages:  58%|█████▊    | 120/208 [57:27<30:02, 20.48s/it]"
          ]
        },
        {
          "output_type": "stream",
          "name": "stdout",
          "text": [
            "Indexed image with id = img_980\n",
            "Indexed image with id = img_982\n",
            "Indexed image with id = img_983\n",
            "Indexed image with id = img_984\n",
            "Indexed image with id = img_985\n"
          ]
        },
        {
          "output_type": "stream",
          "name": "stderr",
          "text": [
            "\rIndexing pages:  58%|█████▊    | 121/208 [57:50<30:40, 21.16s/it]"
          ]
        },
        {
          "output_type": "stream",
          "name": "stdout",
          "text": [
            "Indexed image with id = img_986\n",
            "Indexed image with id = img_988\n",
            "Indexed image with id = img_989\n",
            "Indexed image with id = img_990\n",
            "Indexed image with id = img_991\n",
            "Indexed image with id = img_992\n",
            "Indexed image with id = img_993\n",
            "Indexed image with id = img_994\n",
            "Indexed image with id = img_995\n",
            "Indexed image with id = img_996\n",
            "Indexed image with id = img_997\n",
            "Indexed image with id = img_998\n",
            "Indexed image with id = img_999\n",
            "Indexed image with id = img_1000\n",
            "Indexed image with id = img_1001\n",
            "Indexed image with id = img_1002\n"
          ]
        },
        {
          "output_type": "stream",
          "name": "stderr",
          "text": [
            "\rIndexing pages:  59%|█████▊    | 122/208 [58:51<47:35, 33.20s/it]"
          ]
        },
        {
          "output_type": "stream",
          "name": "stdout",
          "text": [
            "Indexed image with id = img_1003\n",
            "Indexed image with id = img_1005\n",
            "Indexed image with id = img_1006\n",
            "Indexed image with id = img_1007\n",
            "Indexed image with id = img_1008\n",
            "Indexed image with id = img_1009\n",
            "Indexed image with id = img_1010\n",
            "Indexed image with id = img_1011\n",
            "Indexed image with id = img_1012\n",
            "Indexed image with id = img_1013\n",
            "Indexed image with id = img_1014\n",
            "Indexed image with id = img_1015\n",
            "Indexed image with id = img_1016\n",
            "Indexed image with id = img_1017\n",
            "Indexed image with id = img_1018\n",
            "Indexed image with id = img_1019\n"
          ]
        },
        {
          "output_type": "stream",
          "name": "stderr",
          "text": [
            "\rIndexing pages:  59%|█████▉    | 123/208 [59:56<1:00:16, 42.54s/it]"
          ]
        },
        {
          "output_type": "stream",
          "name": "stdout",
          "text": [
            "Indexed image with id = img_1020\n",
            "Indexed image with id = img_1022\n",
            "Indexed image with id = img_1023\n",
            "Indexed image with id = img_1024\n",
            "Indexed image with id = img_1025\n",
            "Indexed image with id = img_1026\n",
            "Indexed image with id = img_1027\n",
            "Indexed image with id = img_1028\n",
            "Indexed image with id = img_1029\n",
            "Indexed image with id = img_1030\n",
            "Indexed image with id = img_1031\n",
            "Indexed image with id = img_1032\n",
            "Indexed image with id = img_1033\n",
            "Indexed image with id = img_1034\n",
            "Indexed image with id = img_1035\n",
            "Indexed image with id = img_1036\n"
          ]
        },
        {
          "output_type": "stream",
          "name": "stderr",
          "text": [
            "\rIndexing pages:  60%|█████▉    | 124/208 [1:00:56<1:07:09, 47.98s/it]"
          ]
        },
        {
          "output_type": "stream",
          "name": "stdout",
          "text": [
            "Indexed image with id = img_1037\n",
            "Indexed image with id = img_1039\n",
            "Indexed image with id = img_1040\n",
            "Indexed image with id = img_1041\n",
            "Indexed image with id = img_1042\n",
            "Indexed image with id = img_1043\n",
            "Indexed image with id = img_1044\n",
            "Indexed image with id = img_1045\n",
            "Indexed image with id = img_1046\n",
            "Indexed image with id = img_1047\n",
            "Indexed image with id = img_1048\n",
            "Indexed image with id = img_1049\n"
          ]
        },
        {
          "output_type": "stream",
          "name": "stderr",
          "text": [
            "\rIndexing pages:  60%|██████    | 125/208 [1:01:43<1:05:47, 47.57s/it]"
          ]
        },
        {
          "output_type": "stream",
          "name": "stdout",
          "text": [
            "Indexed image with id = img_1050\n",
            "Indexed image with id = img_1052\n",
            "Indexed image with id = img_1053\n",
            "Indexed image with id = img_1054\n",
            "Indexed image with id = img_1055\n",
            "Indexed image with id = img_1056\n"
          ]
        },
        {
          "output_type": "stream",
          "name": "stderr",
          "text": [
            "\rIndexing pages:  61%|██████    | 126/208 [1:02:07<55:26, 40.57s/it]  "
          ]
        },
        {
          "output_type": "stream",
          "name": "stdout",
          "text": [
            "Indexed image with id = img_1057\n",
            "Indexed image with id = img_1059\n",
            "Indexed image with id = img_1060\n",
            "Indexed image with id = img_1061\n",
            "Indexed image with id = img_1062\n"
          ]
        },
        {
          "output_type": "stream",
          "name": "stderr",
          "text": [
            "\rIndexing pages:  61%|██████    | 127/208 [1:02:27<46:31, 34.46s/it]"
          ]
        },
        {
          "output_type": "stream",
          "name": "stdout",
          "text": [
            "Indexed image with id = img_1063\n",
            "Indexed image with id = img_1065\n",
            "Indexed image with id = img_1066\n",
            "Indexed image with id = img_1067\n",
            "Indexed image with id = img_1068\n",
            "Indexed image with id = img_1069\n"
          ]
        },
        {
          "output_type": "stream",
          "name": "stderr",
          "text": [
            "\rIndexing pages:  62%|██████▏   | 128/208 [1:02:54<42:38, 31.98s/it]"
          ]
        },
        {
          "output_type": "stream",
          "name": "stdout",
          "text": [
            "Indexed image with id = img_1070\n",
            "Indexed image with id = img_1072\n",
            "Indexed image with id = img_1073\n",
            "Indexed image with id = img_1074\n",
            "Indexed image with id = img_1075\n",
            "Indexed image with id = img_1076\n",
            "Indexed image with id = img_1077\n"
          ]
        },
        {
          "output_type": "stream",
          "name": "stderr",
          "text": [
            "\rIndexing pages:  62%|██████▏   | 129/208 [1:03:22<40:49, 31.00s/it]"
          ]
        },
        {
          "output_type": "stream",
          "name": "stdout",
          "text": [
            "Indexed image with id = img_1078\n",
            "Indexed image with id = img_1080\n",
            "Indexed image with id = img_1081\n",
            "Indexed image with id = img_1082\n",
            "Indexed image with id = img_1083\n",
            "Indexed image with id = img_1084\n",
            "Indexed image with id = img_1085\n"
          ]
        },
        {
          "output_type": "stream",
          "name": "stderr",
          "text": [
            "\rIndexing pages:  62%|██████▎   | 130/208 [1:03:51<39:32, 30.42s/it]"
          ]
        },
        {
          "output_type": "stream",
          "name": "stdout",
          "text": [
            "Indexed image with id = img_1086\n",
            "Indexed image with id = img_1088\n",
            "Indexed image with id = img_1089\n",
            "Indexed image with id = img_1090\n",
            "Indexed image with id = img_1091\n"
          ]
        },
        {
          "output_type": "stream",
          "name": "stderr",
          "text": [
            "\rIndexing pages:  63%|██████▎   | 131/208 [1:04:12<35:13, 27.45s/it]"
          ]
        },
        {
          "output_type": "stream",
          "name": "stdout",
          "text": [
            "Indexed image with id = img_1092\n",
            "Indexed image with id = img_1094\n",
            "Indexed image with id = img_1095\n",
            "Indexed image with id = img_1096\n",
            "Indexed image with id = img_1097\n"
          ]
        },
        {
          "output_type": "stream",
          "name": "stderr",
          "text": [
            "\rIndexing pages:  63%|██████▎   | 132/208 [1:04:32<32:06, 25.35s/it]"
          ]
        },
        {
          "output_type": "stream",
          "name": "stdout",
          "text": [
            "Indexed image with id = img_1098\n",
            "Indexed image with id = img_1100\n",
            "Indexed image with id = img_1101\n",
            "Indexed image with id = img_1102\n",
            "Indexed image with id = img_1103\n",
            "Indexed image with id = img_1104\n",
            "Indexed image with id = img_1105\n",
            "Indexed image with id = img_1106\n",
            "Indexed image with id = img_1107\n",
            "Indexed image with id = img_1108\n"
          ]
        },
        {
          "output_type": "stream",
          "name": "stderr",
          "text": [
            "\rIndexing pages:  64%|██████▍   | 133/208 [1:05:09<35:58, 28.78s/it]"
          ]
        },
        {
          "output_type": "stream",
          "name": "stdout",
          "text": [
            "Indexed image with id = img_1109\n",
            "Indexed image with id = img_1111\n",
            "Indexed image with id = img_1112\n",
            "Indexed image with id = img_1113\n",
            "Indexed image with id = img_1114\n",
            "Indexed image with id = img_1115\n"
          ]
        },
        {
          "output_type": "stream",
          "name": "stderr",
          "text": [
            "\rIndexing pages:  64%|██████▍   | 134/208 [1:05:33<33:45, 27.37s/it]"
          ]
        },
        {
          "output_type": "stream",
          "name": "stdout",
          "text": [
            "Indexed image with id = img_1116\n",
            "Indexed image with id = img_1118\n",
            "Indexed image with id = img_1119\n",
            "Indexed image with id = img_1120\n",
            "Indexed image with id = img_1121\n"
          ]
        },
        {
          "output_type": "stream",
          "name": "stderr",
          "text": [
            "\rIndexing pages:  65%|██████▍   | 135/208 [1:05:53<30:33, 25.12s/it]"
          ]
        },
        {
          "output_type": "stream",
          "name": "stdout",
          "text": [
            "Indexed image with id = img_1122\n",
            "Indexed image with id = img_1124\n",
            "Indexed image with id = img_1125\n",
            "Indexed image with id = img_1126\n",
            "Indexed image with id = img_1127\n"
          ]
        },
        {
          "output_type": "stream",
          "name": "stderr",
          "text": [
            "\rIndexing pages:  65%|██████▌   | 136/208 [1:06:13<28:23, 23.66s/it]"
          ]
        },
        {
          "output_type": "stream",
          "name": "stdout",
          "text": [
            "Indexed image with id = img_1128\n",
            "Indexed image with id = img_1130\n",
            "Indexed image with id = img_1131\n",
            "Indexed image with id = img_1132\n",
            "Indexed image with id = img_1133\n"
          ]
        },
        {
          "output_type": "stream",
          "name": "stderr",
          "text": [
            "\rIndexing pages:  66%|██████▌   | 137/208 [1:06:33<26:37, 22.50s/it]"
          ]
        },
        {
          "output_type": "stream",
          "name": "stdout",
          "text": [
            "Indexed image with id = img_1134\n",
            "Indexed image with id = img_1136\n",
            "Indexed image with id = img_1137\n",
            "Indexed image with id = img_1138\n",
            "Indexed image with id = img_1139\n"
          ]
        },
        {
          "output_type": "stream",
          "name": "stderr",
          "text": [
            "\rIndexing pages:  66%|██████▋   | 138/208 [1:06:52<24:57, 21.40s/it]"
          ]
        },
        {
          "output_type": "stream",
          "name": "stdout",
          "text": [
            "Indexed image with id = img_1140\n",
            "Indexed image with id = img_1142\n",
            "Indexed image with id = img_1143\n",
            "Indexed image with id = img_1144\n"
          ]
        },
        {
          "output_type": "stream",
          "name": "stderr",
          "text": [
            "\rIndexing pages:  67%|██████▋   | 139/208 [1:07:07<22:34, 19.62s/it]"
          ]
        },
        {
          "output_type": "stream",
          "name": "stdout",
          "text": [
            "Indexed image with id = img_1145\n",
            "Indexed image with id = img_1147\n",
            "Indexed image with id = img_1148\n",
            "Indexed image with id = img_1149\n",
            "Indexed image with id = img_1150\n"
          ]
        },
        {
          "output_type": "stream",
          "name": "stderr",
          "text": [
            "\rIndexing pages:  67%|██████▋   | 140/208 [1:07:28<22:31, 19.88s/it]"
          ]
        },
        {
          "output_type": "stream",
          "name": "stdout",
          "text": [
            "Indexed image with id = img_1151\n",
            "Indexed image with id = img_1153\n",
            "Indexed image with id = img_1154\n",
            "Indexed image with id = img_1155\n"
          ]
        },
        {
          "output_type": "stream",
          "name": "stderr",
          "text": [
            "\rIndexing pages:  68%|██████▊   | 141/208 [1:07:44<21:00, 18.81s/it]"
          ]
        },
        {
          "output_type": "stream",
          "name": "stdout",
          "text": [
            "Indexed image with id = img_1156\n",
            "Indexed image with id = img_1158\n",
            "Indexed image with id = img_1159\n",
            "Indexed image with id = img_1160\n",
            "Indexed image with id = img_1161\n"
          ]
        },
        {
          "output_type": "stream",
          "name": "stderr",
          "text": [
            "\rIndexing pages:  68%|██████▊   | 142/208 [1:08:05<21:25, 19.47s/it]"
          ]
        },
        {
          "output_type": "stream",
          "name": "stdout",
          "text": [
            "Indexed image with id = img_1162\n",
            "Indexed image with id = img_1164\n",
            "Indexed image with id = img_1165\n",
            "Indexed image with id = img_1166\n",
            "Indexed image with id = img_1167\n"
          ]
        },
        {
          "output_type": "stream",
          "name": "stderr",
          "text": [
            "\rIndexing pages:  69%|██████▉   | 143/208 [1:08:25<21:17, 19.66s/it]"
          ]
        },
        {
          "output_type": "stream",
          "name": "stdout",
          "text": [
            "Indexed image with id = img_1168\n",
            "Indexed image with id = img_1170\n",
            "Indexed image with id = img_1171\n",
            "Indexed image with id = img_1172\n"
          ]
        },
        {
          "output_type": "stream",
          "name": "stderr",
          "text": [
            "\rIndexing pages:  69%|██████▉   | 144/208 [1:08:41<19:46, 18.54s/it]"
          ]
        },
        {
          "output_type": "stream",
          "name": "stdout",
          "text": [
            "Indexed image with id = img_1173\n",
            "Indexed image with id = img_1175\n",
            "Indexed image with id = img_1176\n",
            "Indexed image with id = img_1177\n",
            "Indexed image with id = img_1178\n"
          ]
        },
        {
          "output_type": "stream",
          "name": "stderr",
          "text": [
            "\rIndexing pages:  70%|██████▉   | 145/208 [1:09:01<19:55, 18.97s/it]"
          ]
        },
        {
          "output_type": "stream",
          "name": "stdout",
          "text": [
            "Indexed image with id = img_1179\n",
            "Indexed image with id = img_1181\n",
            "Indexed image with id = img_1182\n",
            "Indexed image with id = img_1183\n",
            "Indexed image with id = img_1184\n"
          ]
        },
        {
          "output_type": "stream",
          "name": "stderr",
          "text": [
            "\rIndexing pages:  70%|███████   | 146/208 [1:09:22<20:03, 19.40s/it]"
          ]
        },
        {
          "output_type": "stream",
          "name": "stdout",
          "text": [
            "Indexed image with id = img_1185\n",
            "Indexed image with id = img_1187\n",
            "Indexed image with id = img_1188\n",
            "Indexed image with id = img_1189\n",
            "Indexed image with id = img_1190\n"
          ]
        },
        {
          "output_type": "stream",
          "name": "stderr",
          "text": [
            "\rIndexing pages:  71%|███████   | 147/208 [1:09:42<20:09, 19.82s/it]"
          ]
        },
        {
          "output_type": "stream",
          "name": "stdout",
          "text": [
            "Indexed image with id = img_1191\n",
            "Indexed image with id = img_1193\n",
            "Indexed image with id = img_1194\n",
            "Indexed image with id = img_1195\n",
            "Indexed image with id = img_1196\n"
          ]
        },
        {
          "output_type": "stream",
          "name": "stderr",
          "text": [
            "\rIndexing pages:  71%|███████   | 148/208 [1:10:02<19:44, 19.73s/it]"
          ]
        },
        {
          "output_type": "stream",
          "name": "stdout",
          "text": [
            "Indexed image with id = img_1197\n",
            "Indexed image with id = img_1199\n",
            "Indexed image with id = img_1200\n",
            "Indexed image with id = img_1201\n"
          ]
        },
        {
          "output_type": "stream",
          "name": "stderr",
          "text": [
            "\rIndexing pages:  72%|███████▏  | 149/208 [1:10:18<18:20, 18.64s/it]"
          ]
        },
        {
          "output_type": "stream",
          "name": "stdout",
          "text": [
            "Indexed image with id = img_1202\n",
            "Indexed image with id = img_1204\n",
            "Indexed image with id = img_1205\n",
            "Indexed image with id = img_1206\n"
          ]
        },
        {
          "output_type": "stream",
          "name": "stderr",
          "text": [
            "\rIndexing pages:  72%|███████▏  | 150/208 [1:10:34<17:15, 17.86s/it]"
          ]
        },
        {
          "output_type": "stream",
          "name": "stdout",
          "text": [
            "Indexed image with id = img_1207\n",
            "Indexed image with id = img_1209\n",
            "Indexed image with id = img_1210\n",
            "Indexed image with id = img_1211\n",
            "Indexed image with id = img_1212\n"
          ]
        },
        {
          "output_type": "stream",
          "name": "stderr",
          "text": [
            "\rIndexing pages:  73%|███████▎  | 151/208 [1:10:53<17:13, 18.13s/it]"
          ]
        },
        {
          "output_type": "stream",
          "name": "stdout",
          "text": [
            "Indexed image with id = img_1213\n",
            "Indexed image with id = img_1215\n",
            "Indexed image with id = img_1216\n",
            "Indexed image with id = img_1217\n",
            "Indexed image with id = img_1218\n"
          ]
        },
        {
          "output_type": "stream",
          "name": "stderr",
          "text": [
            "\rIndexing pages:  73%|███████▎  | 152/208 [1:11:13<17:22, 18.62s/it]"
          ]
        },
        {
          "output_type": "stream",
          "name": "stdout",
          "text": [
            "Indexed image with id = img_1219\n",
            "Indexed image with id = img_1221\n",
            "Indexed image with id = img_1222\n",
            "Indexed image with id = img_1223\n",
            "Indexed image with id = img_1224\n"
          ]
        },
        {
          "output_type": "stream",
          "name": "stderr",
          "text": [
            "\rIndexing pages:  74%|███████▎  | 153/208 [1:11:34<17:48, 19.42s/it]"
          ]
        },
        {
          "output_type": "stream",
          "name": "stdout",
          "text": [
            "Indexed image with id = img_1225\n",
            "Indexed image with id = img_1227\n",
            "Indexed image with id = img_1228\n",
            "Indexed image with id = img_1229\n",
            "Indexed image with id = img_1230\n"
          ]
        },
        {
          "output_type": "stream",
          "name": "stderr",
          "text": [
            "\rIndexing pages:  74%|███████▍  | 154/208 [1:11:54<17:36, 19.56s/it]"
          ]
        },
        {
          "output_type": "stream",
          "name": "stdout",
          "text": [
            "Indexed image with id = img_1231\n",
            "Indexed image with id = img_1233\n",
            "Indexed image with id = img_1234\n",
            "Indexed image with id = img_1235\n",
            "Indexed image with id = img_1236\n",
            "Indexed image with id = img_1237\n"
          ]
        },
        {
          "output_type": "stream",
          "name": "stderr",
          "text": [
            "\rIndexing pages:  75%|███████▍  | 155/208 [1:12:17<18:18, 20.73s/it]"
          ]
        },
        {
          "output_type": "stream",
          "name": "stdout",
          "text": [
            "Indexed image with id = img_1238\n",
            "Indexed image with id = img_1240\n",
            "Indexed image with id = img_1241\n",
            "Indexed image with id = img_1242\n",
            "Indexed image with id = img_1243\n"
          ]
        },
        {
          "output_type": "stream",
          "name": "stderr",
          "text": [
            "\rIndexing pages:  75%|███████▌  | 156/208 [1:12:38<17:57, 20.72s/it]"
          ]
        },
        {
          "output_type": "stream",
          "name": "stdout",
          "text": [
            "Indexed image with id = img_1244\n",
            "Indexed image with id = img_1246\n",
            "Indexed image with id = img_1247\n",
            "Indexed image with id = img_1248\n"
          ]
        },
        {
          "output_type": "stream",
          "name": "stderr",
          "text": [
            "\rIndexing pages:  75%|███████▌  | 157/208 [1:12:55<16:39, 19.59s/it]"
          ]
        },
        {
          "output_type": "stream",
          "name": "stdout",
          "text": [
            "Indexed image with id = img_1249\n",
            "Indexed image with id = img_1251\n",
            "Indexed image with id = img_1252\n",
            "Indexed image with id = img_1253\n",
            "Indexed image with id = img_1254\n"
          ]
        },
        {
          "output_type": "stream",
          "name": "stderr",
          "text": [
            "\rIndexing pages:  76%|███████▌  | 158/208 [1:13:15<16:34, 19.88s/it]"
          ]
        },
        {
          "output_type": "stream",
          "name": "stdout",
          "text": [
            "Indexed image with id = img_1255\n",
            "Indexed image with id = img_1257\n",
            "Indexed image with id = img_1258\n",
            "Indexed image with id = img_1259\n"
          ]
        },
        {
          "output_type": "stream",
          "name": "stderr",
          "text": [
            "\rIndexing pages:  76%|███████▋  | 159/208 [1:13:32<15:21, 18.80s/it]"
          ]
        },
        {
          "output_type": "stream",
          "name": "stdout",
          "text": [
            "Indexed image with id = img_1260\n",
            "Indexed image with id = img_1262\n",
            "Indexed image with id = img_1263\n",
            "Indexed image with id = img_1264\n",
            "Indexed image with id = img_1265\n"
          ]
        },
        {
          "output_type": "stream",
          "name": "stderr",
          "text": [
            "\rIndexing pages:  77%|███████▋  | 160/208 [1:13:52<15:21, 19.21s/it]"
          ]
        },
        {
          "output_type": "stream",
          "name": "stdout",
          "text": [
            "Indexed image with id = img_1266\n",
            "Indexed image with id = img_1268\n",
            "Indexed image with id = img_1269\n",
            "Indexed image with id = img_1270\n"
          ]
        },
        {
          "output_type": "stream",
          "name": "stderr",
          "text": [
            "\rIndexing pages:  77%|███████▋  | 161/208 [1:14:07<14:06, 18.02s/it]"
          ]
        },
        {
          "output_type": "stream",
          "name": "stdout",
          "text": [
            "Indexed image with id = img_1271\n",
            "Indexed image with id = img_1273\n",
            "Indexed image with id = img_1274\n",
            "Indexed image with id = img_1275\n",
            "Indexed image with id = img_1276\n"
          ]
        },
        {
          "output_type": "stream",
          "name": "stderr",
          "text": [
            "\rIndexing pages:  78%|███████▊  | 162/208 [1:14:26<14:03, 18.34s/it]"
          ]
        },
        {
          "output_type": "stream",
          "name": "stdout",
          "text": [
            "Indexed image with id = img_1277\n",
            "Indexed image with id = img_1279\n",
            "Indexed image with id = img_1280\n",
            "Indexed image with id = img_1281\n",
            "Indexed image with id = img_1282\n"
          ]
        },
        {
          "output_type": "stream",
          "name": "stderr",
          "text": [
            "\rIndexing pages:  78%|███████▊  | 163/208 [1:14:46<14:05, 18.78s/it]"
          ]
        },
        {
          "output_type": "stream",
          "name": "stdout",
          "text": [
            "Indexed image with id = img_1283\n",
            "Indexed image with id = img_1285\n",
            "Indexed image with id = img_1286\n",
            "Indexed image with id = img_1287\n",
            "Indexed image with id = img_1288\n"
          ]
        },
        {
          "output_type": "stream",
          "name": "stderr",
          "text": [
            "\rIndexing pages:  79%|███████▉  | 164/208 [1:15:05<13:53, 18.94s/it]"
          ]
        },
        {
          "output_type": "stream",
          "name": "stdout",
          "text": [
            "Indexed image with id = img_1289\n",
            "Indexed image with id = img_1291\n",
            "Indexed image with id = img_1292\n",
            "Indexed image with id = img_1293\n",
            "Indexed image with id = img_1294\n"
          ]
        },
        {
          "output_type": "stream",
          "name": "stderr",
          "text": [
            "\rIndexing pages:  79%|███████▉  | 165/208 [1:15:26<13:53, 19.38s/it]"
          ]
        },
        {
          "output_type": "stream",
          "name": "stdout",
          "text": [
            "Indexed image with id = img_1295\n",
            "Indexed image with id = img_1297\n",
            "Indexed image with id = img_1298\n",
            "Indexed image with id = img_1299\n",
            "Indexed image with id = img_1300\n"
          ]
        },
        {
          "output_type": "stream",
          "name": "stderr",
          "text": [
            "\rIndexing pages:  80%|███████▉  | 166/208 [1:15:47<13:53, 19.86s/it]"
          ]
        },
        {
          "output_type": "stream",
          "name": "stdout",
          "text": [
            "Indexed image with id = img_1301\n",
            "Indexed image with id = img_1303\n",
            "Indexed image with id = img_1304\n",
            "Indexed image with id = img_1305\n",
            "Indexed image with id = img_1306\n",
            "Indexed image with id = img_1307\n"
          ]
        },
        {
          "output_type": "stream",
          "name": "stderr",
          "text": [
            "\rIndexing pages:  80%|████████  | 167/208 [1:16:11<14:28, 21.18s/it]"
          ]
        },
        {
          "output_type": "stream",
          "name": "stdout",
          "text": [
            "Indexed image with id = img_1308\n",
            "Indexed image with id = img_1310\n",
            "Indexed image with id = img_1311\n",
            "Indexed image with id = img_1312\n",
            "Indexed image with id = img_1313\n"
          ]
        },
        {
          "output_type": "stream",
          "name": "stderr",
          "text": [
            "\rIndexing pages:  81%|████████  | 168/208 [1:16:31<13:51, 20.79s/it]"
          ]
        },
        {
          "output_type": "stream",
          "name": "stdout",
          "text": [
            "Indexed image with id = img_1314\n",
            "Indexed image with id = img_1316\n",
            "Indexed image with id = img_1317\n",
            "Indexed image with id = img_1318\n",
            "Indexed image with id = img_1319\n"
          ]
        },
        {
          "output_type": "stream",
          "name": "stderr",
          "text": [
            "\rIndexing pages:  81%|████████▏ | 169/208 [1:16:54<14:04, 21.65s/it]"
          ]
        },
        {
          "output_type": "stream",
          "name": "stdout",
          "text": [
            "Indexed image with id = img_1320\n",
            "Indexed image with id = img_1322\n",
            "Indexed image with id = img_1323\n",
            "Indexed image with id = img_1324\n",
            "Indexed image with id = img_1325\n"
          ]
        },
        {
          "output_type": "stream",
          "name": "stderr",
          "text": [
            "\rIndexing pages:  82%|████████▏ | 170/208 [1:17:15<13:31, 21.35s/it]"
          ]
        },
        {
          "output_type": "stream",
          "name": "stdout",
          "text": [
            "Indexed image with id = img_1326\n",
            "Indexed image with id = img_1328\n",
            "Indexed image with id = img_1329\n",
            "Indexed image with id = img_1330\n",
            "Indexed image with id = img_1331\n"
          ]
        },
        {
          "output_type": "stream",
          "name": "stderr",
          "text": [
            "\rIndexing pages:  82%|████████▏ | 171/208 [1:17:36<13:02, 21.16s/it]"
          ]
        },
        {
          "output_type": "stream",
          "name": "stdout",
          "text": [
            "Indexed image with id = img_1332\n",
            "Indexed image with id = img_1334\n",
            "Indexed image with id = img_1335\n",
            "Indexed image with id = img_1336\n"
          ]
        },
        {
          "output_type": "stream",
          "name": "stderr",
          "text": [
            "\rIndexing pages:  83%|████████▎ | 172/208 [1:17:53<12:00, 20.01s/it]"
          ]
        },
        {
          "output_type": "stream",
          "name": "stdout",
          "text": [
            "Indexed image with id = img_1337\n",
            "Indexed image with id = img_1339\n",
            "Indexed image with id = img_1340\n",
            "Indexed image with id = img_1341\n",
            "Indexed image with id = img_1342\n"
          ]
        },
        {
          "output_type": "stream",
          "name": "stderr",
          "text": [
            "\rIndexing pages:  83%|████████▎ | 173/208 [1:18:14<11:44, 20.12s/it]"
          ]
        },
        {
          "output_type": "stream",
          "name": "stdout",
          "text": [
            "Indexed image with id = img_1343\n",
            "Indexed image with id = img_1345\n",
            "Indexed image with id = img_1346\n",
            "Indexed image with id = img_1347\n",
            "Indexed image with id = img_1348\n",
            "Indexed image with id = img_1349\n"
          ]
        },
        {
          "output_type": "stream",
          "name": "stderr",
          "text": [
            "\rIndexing pages:  84%|████████▎ | 174/208 [1:18:37<11:57, 21.10s/it]"
          ]
        },
        {
          "output_type": "stream",
          "name": "stdout",
          "text": [
            "Indexed image with id = img_1350\n",
            "Indexed image with id = img_1352\n",
            "Indexed image with id = img_1353\n",
            "Indexed image with id = img_1354\n",
            "Indexed image with id = img_1355\n"
          ]
        },
        {
          "output_type": "stream",
          "name": "stderr",
          "text": [
            "\rIndexing pages:  84%|████████▍ | 175/208 [1:18:57<11:23, 20.71s/it]"
          ]
        },
        {
          "output_type": "stream",
          "name": "stdout",
          "text": [
            "Indexed image with id = img_1356\n",
            "Indexed image with id = img_1358\n",
            "Indexed image with id = img_1359\n",
            "Indexed image with id = img_1360\n",
            "Indexed image with id = img_1361\n"
          ]
        },
        {
          "output_type": "stream",
          "name": "stderr",
          "text": [
            "\rIndexing pages:  85%|████████▍ | 176/208 [1:19:16<10:48, 20.26s/it]"
          ]
        },
        {
          "output_type": "stream",
          "name": "stdout",
          "text": [
            "Indexed image with id = img_1362\n",
            "Indexed image with id = img_1364\n",
            "Indexed image with id = img_1365\n",
            "Indexed image with id = img_1366\n",
            "Indexed image with id = img_1367\n"
          ]
        },
        {
          "output_type": "stream",
          "name": "stderr",
          "text": [
            "\rIndexing pages:  85%|████████▌ | 177/208 [1:19:36<10:28, 20.28s/it]"
          ]
        },
        {
          "output_type": "stream",
          "name": "stdout",
          "text": [
            "Indexed image with id = img_1368\n",
            "Indexed image with id = img_1370\n",
            "Indexed image with id = img_1371\n",
            "Indexed image with id = img_1372\n",
            "Indexed image with id = img_1373\n"
          ]
        },
        {
          "output_type": "stream",
          "name": "stderr",
          "text": [
            "\rIndexing pages:  86%|████████▌ | 178/208 [1:19:56<10:05, 20.18s/it]"
          ]
        },
        {
          "output_type": "stream",
          "name": "stdout",
          "text": [
            "Indexed image with id = img_1374\n",
            "Indexed image with id = img_1376\n",
            "Indexed image with id = img_1377\n",
            "Indexed image with id = img_1378\n",
            "Indexed image with id = img_1379\n"
          ]
        },
        {
          "output_type": "stream",
          "name": "stderr",
          "text": [
            "\rIndexing pages:  86%|████████▌ | 179/208 [1:20:16<09:41, 20.05s/it]"
          ]
        },
        {
          "output_type": "stream",
          "name": "stdout",
          "text": [
            "Indexed image with id = img_1380\n",
            "Indexed image with id = img_1382\n",
            "Indexed image with id = img_1383\n",
            "Indexed image with id = img_1384\n",
            "Indexed image with id = img_1385\n",
            "Indexed image with id = img_1386\n"
          ]
        },
        {
          "output_type": "stream",
          "name": "stderr",
          "text": [
            "\rIndexing pages:  87%|████████▋ | 180/208 [1:20:40<09:52, 21.17s/it]"
          ]
        },
        {
          "output_type": "stream",
          "name": "stdout",
          "text": [
            "Indexed image with id = img_1387\n",
            "Indexed image with id = img_1389\n",
            "Indexed image with id = img_1390\n",
            "Indexed image with id = img_1391\n",
            "Indexed image with id = img_1392\n"
          ]
        },
        {
          "output_type": "stream",
          "name": "stderr",
          "text": [
            "\rIndexing pages:  87%|████████▋ | 181/208 [1:20:58<09:09, 20.35s/it]"
          ]
        },
        {
          "output_type": "stream",
          "name": "stdout",
          "text": [
            "Indexed image with id = img_1393\n",
            "Indexed image with id = img_1395\n",
            "Indexed image with id = img_1396\n",
            "Indexed image with id = img_1397\n",
            "Indexed image with id = img_1398\n",
            "Indexed image with id = img_1399\n",
            "Indexed image with id = img_1400\n",
            "Indexed image with id = img_1401\n",
            "Indexed image with id = img_1402\n",
            "Indexed image with id = img_1403\n",
            "Indexed image with id = img_1404\n"
          ]
        },
        {
          "output_type": "stream",
          "name": "stderr",
          "text": [
            "\rIndexing pages:  88%|████████▊ | 182/208 [1:21:42<11:49, 27.27s/it]"
          ]
        },
        {
          "output_type": "stream",
          "name": "stdout",
          "text": [
            "Indexed image with id = img_1405\n",
            "Indexed image with id = img_1407\n",
            "Indexed image with id = img_1408\n",
            "Indexed image with id = img_1409\n",
            "Indexed image with id = img_1410\n"
          ]
        },
        {
          "output_type": "stream",
          "name": "stderr",
          "text": [
            "\rIndexing pages:  88%|████████▊ | 183/208 [1:22:03<10:38, 25.55s/it]"
          ]
        },
        {
          "output_type": "stream",
          "name": "stdout",
          "text": [
            "Indexed image with id = img_1411\n",
            "Indexed image with id = img_1413\n",
            "Indexed image with id = img_1414\n",
            "Indexed image with id = img_1415\n"
          ]
        },
        {
          "output_type": "stream",
          "name": "stderr",
          "text": [
            "\rIndexing pages:  88%|████████▊ | 184/208 [1:22:19<09:05, 22.74s/it]"
          ]
        },
        {
          "output_type": "stream",
          "name": "stdout",
          "text": [
            "Indexed image with id = img_1416\n",
            "Indexed image with id = img_1418\n",
            "Indexed image with id = img_1419\n",
            "Indexed image with id = img_1420\n"
          ]
        },
        {
          "output_type": "stream",
          "name": "stderr",
          "text": [
            "\rIndexing pages:  89%|████████▉ | 185/208 [1:22:35<07:55, 20.67s/it]"
          ]
        },
        {
          "output_type": "stream",
          "name": "stdout",
          "text": [
            "Indexed image with id = img_1421\n",
            "Indexed image with id = img_1423\n",
            "Indexed image with id = img_1424\n",
            "Indexed image with id = img_1425\n"
          ]
        },
        {
          "output_type": "stream",
          "name": "stderr",
          "text": [
            "\rIndexing pages:  89%|████████▉ | 186/208 [1:22:54<07:20, 20.01s/it]"
          ]
        },
        {
          "output_type": "stream",
          "name": "stdout",
          "text": [
            "Indexed image with id = img_1426\n",
            "Indexed image with id = img_1428\n",
            "Indexed image with id = img_1429\n",
            "Indexed image with id = img_1430\n",
            "Indexed image with id = img_1431\n",
            "Indexed image with id = img_1432\n",
            "Indexed image with id = img_1433\n",
            "Indexed image with id = img_1434\n",
            "Indexed image with id = img_1435\n",
            "Indexed image with id = img_1436\n",
            "Indexed image with id = img_1437\n",
            "Indexed image with id = img_1438\n",
            "Indexed image with id = img_1439\n",
            "Indexed image with id = img_1440\n"
          ]
        },
        {
          "output_type": "stream",
          "name": "stderr",
          "text": [
            "\rIndexing pages:  90%|████████▉ | 187/208 [1:23:46<10:26, 29.85s/it]"
          ]
        },
        {
          "output_type": "stream",
          "name": "stdout",
          "text": [
            "Indexed image with id = img_1441\n",
            "Indexed image with id = img_1443\n",
            "Indexed image with id = img_1444\n",
            "Indexed image with id = img_1445\n",
            "Indexed image with id = img_1446\n",
            "Indexed image with id = img_1447\n",
            "Indexed image with id = img_1448\n",
            "Indexed image with id = img_1449\n",
            "Indexed image with id = img_1450\n",
            "Indexed image with id = img_1451\n",
            "Indexed image with id = img_1452\n",
            "Indexed image with id = img_1453\n",
            "Indexed image with id = img_1454\n"
          ]
        },
        {
          "output_type": "stream",
          "name": "stderr",
          "text": [
            "\rIndexing pages:  90%|█████████ | 188/208 [1:24:36<11:52, 35.62s/it]"
          ]
        },
        {
          "output_type": "stream",
          "name": "stdout",
          "text": [
            "Indexed image with id = img_1455\n",
            "Indexed image with id = img_1457\n",
            "Indexed image with id = img_1458\n",
            "Indexed image with id = img_1459\n",
            "Indexed image with id = img_1460\n",
            "Indexed image with id = img_1461\n",
            "Indexed image with id = img_1462\n",
            "Indexed image with id = img_1463\n",
            "Indexed image with id = img_1464\n",
            "Indexed image with id = img_1465\n",
            "Indexed image with id = img_1466\n",
            "Indexed image with id = img_1467\n"
          ]
        },
        {
          "output_type": "stream",
          "name": "stderr",
          "text": [
            "\rIndexing pages:  91%|█████████ | 189/208 [1:25:19<12:03, 38.05s/it]"
          ]
        },
        {
          "output_type": "stream",
          "name": "stdout",
          "text": [
            "Indexed image with id = img_1468\n",
            "Indexed image with id = img_1470\n",
            "Indexed image with id = img_1471\n",
            "Indexed image with id = img_1472\n",
            "Indexed image with id = img_1473\n",
            "Indexed image with id = img_1474\n",
            "Indexed image with id = img_1475\n",
            "Indexed image with id = img_1476\n",
            "Indexed image with id = img_1477\n",
            "Indexed image with id = img_1478\n",
            "Indexed image with id = img_1479\n",
            "Indexed image with id = img_1480\n"
          ]
        },
        {
          "output_type": "stream",
          "name": "stderr",
          "text": [
            "\rIndexing pages:  91%|█████████▏| 190/208 [1:26:10<12:32, 41.80s/it]"
          ]
        },
        {
          "output_type": "stream",
          "name": "stdout",
          "text": [
            "Indexed image with id = img_1481\n",
            "Indexed image with id = img_1483\n",
            "Indexed image with id = img_1484\n",
            "Indexed image with id = img_1485\n",
            "Indexed image with id = img_1486\n",
            "Indexed image with id = img_1487\n",
            "Indexed image with id = img_1488\n",
            "Indexed image with id = img_1489\n",
            "Indexed image with id = img_1490\n",
            "Indexed image with id = img_1491\n",
            "Indexed image with id = img_1492\n",
            "Indexed image with id = img_1493\n"
          ]
        },
        {
          "output_type": "stream",
          "name": "stderr",
          "text": [
            "\rIndexing pages:  92%|█████████▏| 191/208 [1:26:55<12:07, 42.79s/it]"
          ]
        },
        {
          "output_type": "stream",
          "name": "stdout",
          "text": [
            "Indexed image with id = img_1494\n",
            "Indexed image with id = img_1496\n",
            "Indexed image with id = img_1497\n",
            "Indexed image with id = img_1498\n"
          ]
        },
        {
          "output_type": "stream",
          "name": "stderr",
          "text": [
            "\rIndexing pages:  92%|█████████▏| 192/208 [1:27:10<09:12, 34.55s/it]"
          ]
        },
        {
          "output_type": "stream",
          "name": "stdout",
          "text": [
            "Indexed image with id = img_1499\n",
            "Indexed image with id = img_1501\n",
            "Indexed image with id = img_1502\n",
            "Indexed image with id = img_1503\n"
          ]
        },
        {
          "output_type": "stream",
          "name": "stderr",
          "text": [
            "\rIndexing pages:  93%|█████████▎| 193/208 [1:27:27<07:18, 29.25s/it]"
          ]
        },
        {
          "output_type": "stream",
          "name": "stdout",
          "text": [
            "Indexed image with id = img_1504\n",
            "Indexed image with id = img_1506\n",
            "Indexed image with id = img_1507\n",
            "Indexed image with id = img_1508\n",
            "Indexed image with id = img_1509\n",
            "Indexed image with id = img_1510\n",
            "Indexed image with id = img_1511\n",
            "Indexed image with id = img_1512\n",
            "Indexed image with id = img_1513\n",
            "Indexed image with id = img_1514\n",
            "Indexed image with id = img_1515\n",
            "Indexed image with id = img_1516\n",
            "Indexed image with id = img_1517\n",
            "Indexed image with id = img_1518\n",
            "Indexed image with id = img_1519\n"
          ]
        },
        {
          "output_type": "stream",
          "name": "stderr",
          "text": [
            "\rIndexing pages:  93%|█████████▎| 194/208 [1:28:21<08:30, 36.50s/it]"
          ]
        },
        {
          "output_type": "stream",
          "name": "stdout",
          "text": [
            "Indexed image with id = img_1520\n",
            "Indexed image with id = img_1522\n",
            "Indexed image with id = img_1523\n",
            "Indexed image with id = img_1524\n",
            "Indexed image with id = img_1525\n",
            "Indexed image with id = img_1526\n",
            "Indexed image with id = img_1527\n",
            "Indexed image with id = img_1528\n",
            "Indexed image with id = img_1529\n",
            "Indexed image with id = img_1530\n",
            "Indexed image with id = img_1531\n",
            "Indexed image with id = img_1532\n",
            "Indexed image with id = img_1533\n",
            "Indexed image with id = img_1534\n",
            "Indexed image with id = img_1535\n"
          ]
        },
        {
          "output_type": "stream",
          "name": "stderr",
          "text": [
            "\rIndexing pages:  94%|█████████▍| 195/208 [1:29:14<09:02, 41.71s/it]"
          ]
        },
        {
          "output_type": "stream",
          "name": "stdout",
          "text": [
            "Indexed image with id = img_1536\n",
            "Indexed image with id = img_1538\n",
            "Indexed image with id = img_1539\n",
            "Indexed image with id = img_1540\n"
          ]
        },
        {
          "output_type": "stream",
          "name": "stderr",
          "text": [
            "\rIndexing pages:  94%|█████████▍| 196/208 [1:29:31<06:49, 34.16s/it]"
          ]
        },
        {
          "output_type": "stream",
          "name": "stdout",
          "text": [
            "Indexed image with id = img_1541\n",
            "Indexed image with id = img_1543\n",
            "Indexed image with id = img_1544\n",
            "Indexed image with id = img_1545\n"
          ]
        },
        {
          "output_type": "stream",
          "name": "stderr",
          "text": [
            "\rIndexing pages:  95%|█████████▍| 197/208 [1:29:48<05:17, 28.90s/it]"
          ]
        },
        {
          "output_type": "stream",
          "name": "stdout",
          "text": [
            "Indexed image with id = img_1546\n",
            "Indexed image with id = img_1548\n",
            "Indexed image with id = img_1549\n",
            "Indexed image with id = img_1550\n"
          ]
        },
        {
          "output_type": "stream",
          "name": "stderr",
          "text": [
            "\rIndexing pages:  95%|█████████▌| 198/208 [1:30:04<04:11, 25.14s/it]"
          ]
        },
        {
          "output_type": "stream",
          "name": "stdout",
          "text": [
            "Indexed image with id = img_1551\n",
            "Indexed image with id = img_1553\n",
            "Indexed image with id = img_1554\n",
            "Indexed image with id = img_1555\n",
            "Indexed image with id = img_1556\n"
          ]
        },
        {
          "output_type": "stream",
          "name": "stderr",
          "text": [
            "\rIndexing pages:  96%|█████████▌| 199/208 [1:30:25<03:34, 23.85s/it]"
          ]
        },
        {
          "output_type": "stream",
          "name": "stdout",
          "text": [
            "Indexed image with id = img_1557\n",
            "Indexed image with id = img_1559\n",
            "Indexed image with id = img_1560\n",
            "Indexed image with id = img_1561\n"
          ]
        },
        {
          "output_type": "stream",
          "name": "stderr",
          "text": [
            "\rIndexing pages:  96%|█████████▌| 200/208 [1:30:41<02:51, 21.46s/it]"
          ]
        },
        {
          "output_type": "stream",
          "name": "stdout",
          "text": [
            "Indexed image with id = img_1562\n",
            "Indexed image with id = img_1564\n",
            "Indexed image with id = img_1565\n",
            "Indexed image with id = img_1566\n",
            "Indexed image with id = img_1567\n",
            "Indexed image with id = img_1568\n",
            "Indexed image with id = img_1569\n",
            "Indexed image with id = img_1570\n",
            "Indexed image with id = img_1571\n",
            "Indexed image with id = img_1572\n",
            "Indexed image with id = img_1573\n"
          ]
        },
        {
          "output_type": "stream",
          "name": "stderr",
          "text": [
            "\rIndexing pages:  97%|█████████▋| 201/208 [1:31:24<03:17, 28.16s/it]"
          ]
        },
        {
          "output_type": "stream",
          "name": "stdout",
          "text": [
            "Indexed image with id = img_1574\n",
            "Indexed image with id = img_1576\n",
            "Indexed image with id = img_1577\n",
            "Indexed image with id = img_1578\n",
            "Indexed image with id = img_1579\n",
            "Indexed image with id = img_1580\n",
            "Indexed image with id = img_1581\n",
            "Indexed image with id = img_1582\n",
            "Indexed image with id = img_1583\n",
            "Indexed image with id = img_1584\n",
            "Indexed image with id = img_1585\n",
            "Indexed image with id = img_1586\n",
            "Indexed image with id = img_1587\n"
          ]
        },
        {
          "output_type": "stream",
          "name": "stderr",
          "text": [
            "\rIndexing pages:  97%|█████████▋| 202/208 [1:32:14<03:27, 34.53s/it]"
          ]
        },
        {
          "output_type": "stream",
          "name": "stdout",
          "text": [
            "Indexed image with id = img_1588\n",
            "Indexed image with id = img_1590\n",
            "Indexed image with id = img_1591\n",
            "Indexed image with id = img_1592\n",
            "Indexed image with id = img_1593\n",
            "Indexed image with id = img_1594\n",
            "Indexed image with id = img_1595\n",
            "Indexed image with id = img_1596\n",
            "Indexed image with id = img_1597\n",
            "Indexed image with id = img_1598\n",
            "Indexed image with id = img_1599\n",
            "Indexed image with id = img_1600\n",
            "Indexed image with id = img_1601\n",
            "Indexed image with id = img_1602\n"
          ]
        },
        {
          "output_type": "stream",
          "name": "stderr",
          "text": [
            "\rIndexing pages:  98%|█████████▊| 203/208 [1:33:04<03:15, 39.19s/it]"
          ]
        },
        {
          "output_type": "stream",
          "name": "stdout",
          "text": [
            "Indexed image with id = img_1603\n",
            "Indexed image with id = img_1605\n",
            "Indexed image with id = img_1606\n",
            "Indexed image with id = img_1607\n",
            "Indexed image with id = img_1608\n",
            "Indexed image with id = img_1609\n",
            "Indexed image with id = img_1610\n",
            "Indexed image with id = img_1611\n",
            "Indexed image with id = img_1612\n",
            "Indexed image with id = img_1613\n",
            "Indexed image with id = img_1614\n",
            "Indexed image with id = img_1615\n",
            "Indexed image with id = img_1616\n"
          ]
        },
        {
          "output_type": "stream",
          "name": "stderr",
          "text": [
            "\rIndexing pages:  98%|█████████▊| 204/208 [1:33:52<02:48, 42.01s/it]"
          ]
        },
        {
          "output_type": "stream",
          "name": "stdout",
          "text": [
            "Indexed image with id = img_1617\n"
          ]
        },
        {
          "output_type": "stream",
          "name": "stderr",
          "text": [
            "\rIndexing pages:  99%|█████████▊| 205/208 [1:33:53<01:28, 29.56s/it]"
          ]
        },
        {
          "output_type": "stream",
          "name": "stdout",
          "text": [
            "Indexed image with id = img_1619\n",
            "Indexed image with id = img_1620\n",
            "Indexed image with id = img_1621\n"
          ]
        },
        {
          "output_type": "stream",
          "name": "stderr",
          "text": [
            "\rIndexing pages:  99%|█████████▉| 206/208 [1:34:10<00:51, 25.73s/it]"
          ]
        },
        {
          "output_type": "stream",
          "name": "stdout",
          "text": [
            "Indexed image with id = img_1622\n",
            "Indexed image with id = img_1624\n",
            "Indexed image with id = img_1625\n",
            "Indexed image with id = img_1626\n"
          ]
        },
        {
          "output_type": "stream",
          "name": "stderr",
          "text": [
            "\rIndexing pages: 100%|█████████▉| 207/208 [1:34:25<00:22, 22.61s/it]"
          ]
        },
        {
          "output_type": "stream",
          "name": "stdout",
          "text": [
            "Indexed image with id = img_1627\n",
            "Indexed image with id = img_1629\n",
            "Indexed image with id = img_1630\n",
            "Indexed image with id = img_1631\n",
            "Indexed image with id = img_1632\n",
            "Indexed image with id = img_1633\n",
            "Indexed image with id = img_1634\n",
            "Indexed image with id = img_1635\n",
            "Indexed image with id = img_1636\n",
            "Indexed image with id = img_1637\n",
            "Indexed image with id = img_1638\n",
            "Indexed image with id = img_1639\n",
            "Indexed image with id = img_1640\n",
            "Indexed image with id = img_1641\n",
            "Indexed image with id = img_1642\n",
            "Indexed image with id = img_1643\n",
            "Indexed image with id = img_1644\n"
          ]
        },
        {
          "output_type": "stream",
          "name": "stderr",
          "text": [
            "Indexing pages: 100%|██████████| 208/208 [1:35:35<00:00, 27.57s/it]"
          ]
        },
        {
          "output_type": "stream",
          "name": "stdout",
          "text": [
            "Indexed image with id = img_1645\n",
            "\n",
            " Finished indexing 1646 items from sitemap.\n"
          ]
        },
        {
          "output_type": "stream",
          "name": "stderr",
          "text": [
            "\n"
          ]
        }
      ]
    },
    {
      "cell_type": "code",
      "source": [],
      "metadata": {
        "id": "b44QM2CvxPI3"
      },
      "id": "b44QM2CvxPI3",
      "execution_count": null,
      "outputs": []
    }
  ],
  "metadata": {
    "kernelspec": {
      "display_name": "Python 3",
      "language": "python",
      "name": "python3"
    },
    "language_info": {
      "codemirror_mode": {
        "name": "ipython",
        "version": 3
      },
      "file_extension": ".py",
      "mimetype": "text/x-python",
      "name": "python",
      "nbconvert_exporter": "python",
      "pygments_lexer": "ipython3",
      "version": "3.8.8"
    },
    "colab": {
      "provenance": []
    }
  },
  "nbformat": 4,
  "nbformat_minor": 5
}