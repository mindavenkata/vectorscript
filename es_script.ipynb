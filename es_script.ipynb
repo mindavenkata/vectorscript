{
  "cells": [
    {
      "cell_type": "markdown",
      "source": [
        "Elastic Search Script\n"
      ],
      "metadata": {
        "id": "I3xVwk-jErqg"
      },
      "id": "I3xVwk-jErqg"
    },
    {
      "cell_type": "code",
      "source": [
        "!pip install torch torchvision --index-url https://download.pytorch.org/whl/cpu\n",
        "!pip install pillow numpy elasticsearch tqdm\n",
        "!pip install git+https://github.com/openai/CLIP.git\n",
        "!pip install elasticsearch\n",
        "!pip install requests beautifulsoup4 tqdm pillow\n",
        "!pip install requests lxml tqdm\n",
        "!pip install sentence-transformers\n",
        "\n"
      ],
      "metadata": {
        "id": "nRNN0sp4ILgs",
        "outputId": "e4ffecc1-141c-4504-991f-96910fa166fc",
        "colab": {
          "base_uri": "https://localhost:8080/"
        },
        "collapsed": true
      },
      "id": "nRNN0sp4ILgs",
      "execution_count": 3,
      "outputs": [
        {
          "output_type": "stream",
          "name": "stdout",
          "text": [
            "Looking in indexes: https://download.pytorch.org/whl/cpu\n",
            "Requirement already satisfied: torch in /usr/local/lib/python3.12/dist-packages (2.8.0+cu126)\n",
            "Requirement already satisfied: torchvision in /usr/local/lib/python3.12/dist-packages (0.23.0+cu126)\n",
            "Requirement already satisfied: filelock in /usr/local/lib/python3.12/dist-packages (from torch) (3.20.0)\n",
            "Requirement already satisfied: typing-extensions>=4.10.0 in /usr/local/lib/python3.12/dist-packages (from torch) (4.15.0)\n",
            "Requirement already satisfied: setuptools in /usr/local/lib/python3.12/dist-packages (from torch) (75.2.0)\n",
            "Requirement already satisfied: sympy>=1.13.3 in /usr/local/lib/python3.12/dist-packages (from torch) (1.13.3)\n",
            "Requirement already satisfied: networkx in /usr/local/lib/python3.12/dist-packages (from torch) (3.5)\n",
            "Requirement already satisfied: jinja2 in /usr/local/lib/python3.12/dist-packages (from torch) (3.1.6)\n",
            "Requirement already satisfied: fsspec in /usr/local/lib/python3.12/dist-packages (from torch) (2025.3.0)\n",
            "Requirement already satisfied: nvidia-cuda-nvrtc-cu12==12.6.77 in /usr/local/lib/python3.12/dist-packages (from torch) (12.6.77)\n",
            "Requirement already satisfied: nvidia-cuda-runtime-cu12==12.6.77 in /usr/local/lib/python3.12/dist-packages (from torch) (12.6.77)\n",
            "Requirement already satisfied: nvidia-cuda-cupti-cu12==12.6.80 in /usr/local/lib/python3.12/dist-packages (from torch) (12.6.80)\n",
            "Requirement already satisfied: nvidia-cudnn-cu12==9.10.2.21 in /usr/local/lib/python3.12/dist-packages (from torch) (9.10.2.21)\n",
            "Requirement already satisfied: nvidia-cublas-cu12==12.6.4.1 in /usr/local/lib/python3.12/dist-packages (from torch) (12.6.4.1)\n",
            "Requirement already satisfied: nvidia-cufft-cu12==11.3.0.4 in /usr/local/lib/python3.12/dist-packages (from torch) (11.3.0.4)\n",
            "Requirement already satisfied: nvidia-curand-cu12==10.3.7.77 in /usr/local/lib/python3.12/dist-packages (from torch) (10.3.7.77)\n",
            "Requirement already satisfied: nvidia-cusolver-cu12==11.7.1.2 in /usr/local/lib/python3.12/dist-packages (from torch) (11.7.1.2)\n",
            "Requirement already satisfied: nvidia-cusparse-cu12==12.5.4.2 in /usr/local/lib/python3.12/dist-packages (from torch) (12.5.4.2)\n",
            "Requirement already satisfied: nvidia-cusparselt-cu12==0.7.1 in /usr/local/lib/python3.12/dist-packages (from torch) (0.7.1)\n",
            "Requirement already satisfied: nvidia-nccl-cu12==2.27.3 in /usr/local/lib/python3.12/dist-packages (from torch) (2.27.3)\n",
            "Requirement already satisfied: nvidia-nvtx-cu12==12.6.77 in /usr/local/lib/python3.12/dist-packages (from torch) (12.6.77)\n",
            "Requirement already satisfied: nvidia-nvjitlink-cu12==12.6.85 in /usr/local/lib/python3.12/dist-packages (from torch) (12.6.85)\n",
            "Requirement already satisfied: nvidia-cufile-cu12==1.11.1.6 in /usr/local/lib/python3.12/dist-packages (from torch) (1.11.1.6)\n",
            "Requirement already satisfied: triton==3.4.0 in /usr/local/lib/python3.12/dist-packages (from torch) (3.4.0)\n",
            "Requirement already satisfied: numpy in /usr/local/lib/python3.12/dist-packages (from torchvision) (2.0.2)\n",
            "Requirement already satisfied: pillow!=8.3.*,>=5.3.0 in /usr/local/lib/python3.12/dist-packages (from torchvision) (11.3.0)\n",
            "Requirement already satisfied: mpmath<1.4,>=1.1.0 in /usr/local/lib/python3.12/dist-packages (from sympy>=1.13.3->torch) (1.3.0)\n",
            "Requirement already satisfied: MarkupSafe>=2.0 in /usr/local/lib/python3.12/dist-packages (from jinja2->torch) (3.0.3)\n",
            "Requirement already satisfied: pillow in /usr/local/lib/python3.12/dist-packages (11.3.0)\n",
            "Requirement already satisfied: numpy in /usr/local/lib/python3.12/dist-packages (2.0.2)\n",
            "Collecting elasticsearch\n",
            "  Downloading elasticsearch-9.2.0-py3-none-any.whl.metadata (8.9 kB)\n",
            "Requirement already satisfied: tqdm in /usr/local/lib/python3.12/dist-packages (4.67.1)\n",
            "Requirement already satisfied: anyio in /usr/local/lib/python3.12/dist-packages (from elasticsearch) (4.11.0)\n",
            "Collecting elastic-transport<10,>=9.2.0 (from elasticsearch)\n",
            "  Downloading elastic_transport-9.2.0-py3-none-any.whl.metadata (3.9 kB)\n",
            "Requirement already satisfied: python-dateutil in /usr/local/lib/python3.12/dist-packages (from elasticsearch) (2.9.0.post0)\n",
            "Requirement already satisfied: sniffio in /usr/local/lib/python3.12/dist-packages (from elasticsearch) (1.3.1)\n",
            "Requirement already satisfied: typing-extensions in /usr/local/lib/python3.12/dist-packages (from elasticsearch) (4.15.0)\n",
            "Requirement already satisfied: urllib3<3,>=1.26.2 in /usr/local/lib/python3.12/dist-packages (from elastic-transport<10,>=9.2.0->elasticsearch) (2.5.0)\n",
            "Requirement already satisfied: certifi in /usr/local/lib/python3.12/dist-packages (from elastic-transport<10,>=9.2.0->elasticsearch) (2025.10.5)\n",
            "Requirement already satisfied: idna>=2.8 in /usr/local/lib/python3.12/dist-packages (from anyio->elasticsearch) (3.11)\n",
            "Requirement already satisfied: six>=1.5 in /usr/local/lib/python3.12/dist-packages (from python-dateutil->elasticsearch) (1.17.0)\n",
            "Downloading elasticsearch-9.2.0-py3-none-any.whl (960 kB)\n",
            "\u001b[2K   \u001b[90m━━━━━━━━━━━━━━━━━━━━━━━━━━━━━━━━━━━━━━━━\u001b[0m \u001b[32m960.5/960.5 kB\u001b[0m \u001b[31m59.8 MB/s\u001b[0m eta \u001b[36m0:00:00\u001b[0m\n",
            "\u001b[?25hDownloading elastic_transport-9.2.0-py3-none-any.whl (65 kB)\n",
            "\u001b[2K   \u001b[90m━━━━━━━━━━━━━━━━━━━━━━━━━━━━━━━━━━━━━━━━\u001b[0m \u001b[32m65.3/65.3 kB\u001b[0m \u001b[31m7.9 MB/s\u001b[0m eta \u001b[36m0:00:00\u001b[0m\n",
            "\u001b[?25hInstalling collected packages: elastic-transport, elasticsearch\n",
            "Successfully installed elastic-transport-9.2.0 elasticsearch-9.2.0\n",
            "Collecting git+https://github.com/openai/CLIP.git\n",
            "  Cloning https://github.com/openai/CLIP.git to /tmp/pip-req-build-3n2pg2mf\n",
            "  Running command git clone --filter=blob:none --quiet https://github.com/openai/CLIP.git /tmp/pip-req-build-3n2pg2mf\n",
            "  Resolved https://github.com/openai/CLIP.git to commit dcba3cb2e2827b402d2701e7e1c7d9fed8a20ef1\n",
            "  Preparing metadata (setup.py) ... \u001b[?25l\u001b[?25hdone\n",
            "Collecting ftfy (from clip==1.0)\n",
            "  Downloading ftfy-6.3.1-py3-none-any.whl.metadata (7.3 kB)\n",
            "Requirement already satisfied: packaging in /usr/local/lib/python3.12/dist-packages (from clip==1.0) (25.0)\n",
            "Requirement already satisfied: regex in /usr/local/lib/python3.12/dist-packages (from clip==1.0) (2024.11.6)\n",
            "Requirement already satisfied: tqdm in /usr/local/lib/python3.12/dist-packages (from clip==1.0) (4.67.1)\n",
            "Requirement already satisfied: torch in /usr/local/lib/python3.12/dist-packages (from clip==1.0) (2.8.0+cu126)\n",
            "Requirement already satisfied: torchvision in /usr/local/lib/python3.12/dist-packages (from clip==1.0) (0.23.0+cu126)\n",
            "Requirement already satisfied: wcwidth in /usr/local/lib/python3.12/dist-packages (from ftfy->clip==1.0) (0.2.14)\n",
            "Requirement already satisfied: filelock in /usr/local/lib/python3.12/dist-packages (from torch->clip==1.0) (3.20.0)\n",
            "Requirement already satisfied: typing-extensions>=4.10.0 in /usr/local/lib/python3.12/dist-packages (from torch->clip==1.0) (4.15.0)\n",
            "Requirement already satisfied: setuptools in /usr/local/lib/python3.12/dist-packages (from torch->clip==1.0) (75.2.0)\n",
            "Requirement already satisfied: sympy>=1.13.3 in /usr/local/lib/python3.12/dist-packages (from torch->clip==1.0) (1.13.3)\n",
            "Requirement already satisfied: networkx in /usr/local/lib/python3.12/dist-packages (from torch->clip==1.0) (3.5)\n",
            "Requirement already satisfied: jinja2 in /usr/local/lib/python3.12/dist-packages (from torch->clip==1.0) (3.1.6)\n",
            "Requirement already satisfied: fsspec in /usr/local/lib/python3.12/dist-packages (from torch->clip==1.0) (2025.3.0)\n",
            "Requirement already satisfied: nvidia-cuda-nvrtc-cu12==12.6.77 in /usr/local/lib/python3.12/dist-packages (from torch->clip==1.0) (12.6.77)\n",
            "Requirement already satisfied: nvidia-cuda-runtime-cu12==12.6.77 in /usr/local/lib/python3.12/dist-packages (from torch->clip==1.0) (12.6.77)\n",
            "Requirement already satisfied: nvidia-cuda-cupti-cu12==12.6.80 in /usr/local/lib/python3.12/dist-packages (from torch->clip==1.0) (12.6.80)\n",
            "Requirement already satisfied: nvidia-cudnn-cu12==9.10.2.21 in /usr/local/lib/python3.12/dist-packages (from torch->clip==1.0) (9.10.2.21)\n",
            "Requirement already satisfied: nvidia-cublas-cu12==12.6.4.1 in /usr/local/lib/python3.12/dist-packages (from torch->clip==1.0) (12.6.4.1)\n",
            "Requirement already satisfied: nvidia-cufft-cu12==11.3.0.4 in /usr/local/lib/python3.12/dist-packages (from torch->clip==1.0) (11.3.0.4)\n",
            "Requirement already satisfied: nvidia-curand-cu12==10.3.7.77 in /usr/local/lib/python3.12/dist-packages (from torch->clip==1.0) (10.3.7.77)\n",
            "Requirement already satisfied: nvidia-cusolver-cu12==11.7.1.2 in /usr/local/lib/python3.12/dist-packages (from torch->clip==1.0) (11.7.1.2)\n",
            "Requirement already satisfied: nvidia-cusparse-cu12==12.5.4.2 in /usr/local/lib/python3.12/dist-packages (from torch->clip==1.0) (12.5.4.2)\n",
            "Requirement already satisfied: nvidia-cusparselt-cu12==0.7.1 in /usr/local/lib/python3.12/dist-packages (from torch->clip==1.0) (0.7.1)\n",
            "Requirement already satisfied: nvidia-nccl-cu12==2.27.3 in /usr/local/lib/python3.12/dist-packages (from torch->clip==1.0) (2.27.3)\n",
            "Requirement already satisfied: nvidia-nvtx-cu12==12.6.77 in /usr/local/lib/python3.12/dist-packages (from torch->clip==1.0) (12.6.77)\n",
            "Requirement already satisfied: nvidia-nvjitlink-cu12==12.6.85 in /usr/local/lib/python3.12/dist-packages (from torch->clip==1.0) (12.6.85)\n",
            "Requirement already satisfied: nvidia-cufile-cu12==1.11.1.6 in /usr/local/lib/python3.12/dist-packages (from torch->clip==1.0) (1.11.1.6)\n",
            "Requirement already satisfied: triton==3.4.0 in /usr/local/lib/python3.12/dist-packages (from torch->clip==1.0) (3.4.0)\n",
            "Requirement already satisfied: numpy in /usr/local/lib/python3.12/dist-packages (from torchvision->clip==1.0) (2.0.2)\n",
            "Requirement already satisfied: pillow!=8.3.*,>=5.3.0 in /usr/local/lib/python3.12/dist-packages (from torchvision->clip==1.0) (11.3.0)\n",
            "Requirement already satisfied: mpmath<1.4,>=1.1.0 in /usr/local/lib/python3.12/dist-packages (from sympy>=1.13.3->torch->clip==1.0) (1.3.0)\n",
            "Requirement already satisfied: MarkupSafe>=2.0 in /usr/local/lib/python3.12/dist-packages (from jinja2->torch->clip==1.0) (3.0.3)\n",
            "Downloading ftfy-6.3.1-py3-none-any.whl (44 kB)\n",
            "\u001b[2K   \u001b[90m━━━━━━━━━━━━━━━━━━━━━━━━━━━━━━━━━━━━━━━━\u001b[0m \u001b[32m44.8/44.8 kB\u001b[0m \u001b[31m4.4 MB/s\u001b[0m eta \u001b[36m0:00:00\u001b[0m\n",
            "\u001b[?25hBuilding wheels for collected packages: clip\n",
            "  Building wheel for clip (setup.py) ... \u001b[?25l\u001b[?25hdone\n",
            "  Created wheel for clip: filename=clip-1.0-py3-none-any.whl size=1369490 sha256=aa3e0968fdc75414f0da366e046eb5369f99bca1d9c7aee6480438c2f9654a6c\n",
            "  Stored in directory: /tmp/pip-ephem-wheel-cache-dw_1b81t/wheels/35/3e/df/3d24cbfb3b6a06f17a2bfd7d1138900d4365d9028aa8f6e92f\n",
            "Successfully built clip\n",
            "Installing collected packages: ftfy, clip\n",
            "Successfully installed clip-1.0 ftfy-6.3.1\n",
            "Requirement already satisfied: elasticsearch in /usr/local/lib/python3.12/dist-packages (9.2.0)\n",
            "Requirement already satisfied: anyio in /usr/local/lib/python3.12/dist-packages (from elasticsearch) (4.11.0)\n",
            "Requirement already satisfied: elastic-transport<10,>=9.2.0 in /usr/local/lib/python3.12/dist-packages (from elasticsearch) (9.2.0)\n",
            "Requirement already satisfied: python-dateutil in /usr/local/lib/python3.12/dist-packages (from elasticsearch) (2.9.0.post0)\n",
            "Requirement already satisfied: sniffio in /usr/local/lib/python3.12/dist-packages (from elasticsearch) (1.3.1)\n",
            "Requirement already satisfied: typing-extensions in /usr/local/lib/python3.12/dist-packages (from elasticsearch) (4.15.0)\n",
            "Requirement already satisfied: urllib3<3,>=1.26.2 in /usr/local/lib/python3.12/dist-packages (from elastic-transport<10,>=9.2.0->elasticsearch) (2.5.0)\n",
            "Requirement already satisfied: certifi in /usr/local/lib/python3.12/dist-packages (from elastic-transport<10,>=9.2.0->elasticsearch) (2025.10.5)\n",
            "Requirement already satisfied: idna>=2.8 in /usr/local/lib/python3.12/dist-packages (from anyio->elasticsearch) (3.11)\n",
            "Requirement already satisfied: six>=1.5 in /usr/local/lib/python3.12/dist-packages (from python-dateutil->elasticsearch) (1.17.0)\n",
            "Requirement already satisfied: requests in /usr/local/lib/python3.12/dist-packages (2.32.4)\n",
            "Requirement already satisfied: beautifulsoup4 in /usr/local/lib/python3.12/dist-packages (4.13.5)\n",
            "Requirement already satisfied: tqdm in /usr/local/lib/python3.12/dist-packages (4.67.1)\n",
            "Requirement already satisfied: pillow in /usr/local/lib/python3.12/dist-packages (11.3.0)\n",
            "Requirement already satisfied: charset_normalizer<4,>=2 in /usr/local/lib/python3.12/dist-packages (from requests) (3.4.4)\n",
            "Requirement already satisfied: idna<4,>=2.5 in /usr/local/lib/python3.12/dist-packages (from requests) (3.11)\n",
            "Requirement already satisfied: urllib3<3,>=1.21.1 in /usr/local/lib/python3.12/dist-packages (from requests) (2.5.0)\n",
            "Requirement already satisfied: certifi>=2017.4.17 in /usr/local/lib/python3.12/dist-packages (from requests) (2025.10.5)\n",
            "Requirement already satisfied: soupsieve>1.2 in /usr/local/lib/python3.12/dist-packages (from beautifulsoup4) (2.8)\n",
            "Requirement already satisfied: typing-extensions>=4.0.0 in /usr/local/lib/python3.12/dist-packages (from beautifulsoup4) (4.15.0)\n",
            "Requirement already satisfied: requests in /usr/local/lib/python3.12/dist-packages (2.32.4)\n",
            "Requirement already satisfied: lxml in /usr/local/lib/python3.12/dist-packages (5.4.0)\n",
            "Requirement already satisfied: tqdm in /usr/local/lib/python3.12/dist-packages (4.67.1)\n",
            "Requirement already satisfied: charset_normalizer<4,>=2 in /usr/local/lib/python3.12/dist-packages (from requests) (3.4.4)\n",
            "Requirement already satisfied: idna<4,>=2.5 in /usr/local/lib/python3.12/dist-packages (from requests) (3.11)\n",
            "Requirement already satisfied: urllib3<3,>=1.21.1 in /usr/local/lib/python3.12/dist-packages (from requests) (2.5.0)\n",
            "Requirement already satisfied: certifi>=2017.4.17 in /usr/local/lib/python3.12/dist-packages (from requests) (2025.10.5)\n",
            "Requirement already satisfied: sentence-transformers in /usr/local/lib/python3.12/dist-packages (5.1.2)\n",
            "Requirement already satisfied: transformers<5.0.0,>=4.41.0 in /usr/local/lib/python3.12/dist-packages (from sentence-transformers) (4.57.1)\n",
            "Requirement already satisfied: tqdm in /usr/local/lib/python3.12/dist-packages (from sentence-transformers) (4.67.1)\n",
            "Requirement already satisfied: torch>=1.11.0 in /usr/local/lib/python3.12/dist-packages (from sentence-transformers) (2.8.0+cu126)\n",
            "Requirement already satisfied: scikit-learn in /usr/local/lib/python3.12/dist-packages (from sentence-transformers) (1.6.1)\n",
            "Requirement already satisfied: scipy in /usr/local/lib/python3.12/dist-packages (from sentence-transformers) (1.16.3)\n",
            "Requirement already satisfied: huggingface-hub>=0.20.0 in /usr/local/lib/python3.12/dist-packages (from sentence-transformers) (0.36.0)\n",
            "Requirement already satisfied: Pillow in /usr/local/lib/python3.12/dist-packages (from sentence-transformers) (11.3.0)\n",
            "Requirement already satisfied: typing_extensions>=4.5.0 in /usr/local/lib/python3.12/dist-packages (from sentence-transformers) (4.15.0)\n",
            "Requirement already satisfied: filelock in /usr/local/lib/python3.12/dist-packages (from huggingface-hub>=0.20.0->sentence-transformers) (3.20.0)\n",
            "Requirement already satisfied: fsspec>=2023.5.0 in /usr/local/lib/python3.12/dist-packages (from huggingface-hub>=0.20.0->sentence-transformers) (2025.3.0)\n",
            "Requirement already satisfied: packaging>=20.9 in /usr/local/lib/python3.12/dist-packages (from huggingface-hub>=0.20.0->sentence-transformers) (25.0)\n",
            "Requirement already satisfied: pyyaml>=5.1 in /usr/local/lib/python3.12/dist-packages (from huggingface-hub>=0.20.0->sentence-transformers) (6.0.3)\n",
            "Requirement already satisfied: requests in /usr/local/lib/python3.12/dist-packages (from huggingface-hub>=0.20.0->sentence-transformers) (2.32.4)\n",
            "Requirement already satisfied: hf-xet<2.0.0,>=1.1.3 in /usr/local/lib/python3.12/dist-packages (from huggingface-hub>=0.20.0->sentence-transformers) (1.2.0)\n",
            "Requirement already satisfied: setuptools in /usr/local/lib/python3.12/dist-packages (from torch>=1.11.0->sentence-transformers) (75.2.0)\n",
            "Requirement already satisfied: sympy>=1.13.3 in /usr/local/lib/python3.12/dist-packages (from torch>=1.11.0->sentence-transformers) (1.13.3)\n",
            "Requirement already satisfied: networkx in /usr/local/lib/python3.12/dist-packages (from torch>=1.11.0->sentence-transformers) (3.5)\n",
            "Requirement already satisfied: jinja2 in /usr/local/lib/python3.12/dist-packages (from torch>=1.11.0->sentence-transformers) (3.1.6)\n",
            "Requirement already satisfied: nvidia-cuda-nvrtc-cu12==12.6.77 in /usr/local/lib/python3.12/dist-packages (from torch>=1.11.0->sentence-transformers) (12.6.77)\n",
            "Requirement already satisfied: nvidia-cuda-runtime-cu12==12.6.77 in /usr/local/lib/python3.12/dist-packages (from torch>=1.11.0->sentence-transformers) (12.6.77)\n",
            "Requirement already satisfied: nvidia-cuda-cupti-cu12==12.6.80 in /usr/local/lib/python3.12/dist-packages (from torch>=1.11.0->sentence-transformers) (12.6.80)\n",
            "Requirement already satisfied: nvidia-cudnn-cu12==9.10.2.21 in /usr/local/lib/python3.12/dist-packages (from torch>=1.11.0->sentence-transformers) (9.10.2.21)\n",
            "Requirement already satisfied: nvidia-cublas-cu12==12.6.4.1 in /usr/local/lib/python3.12/dist-packages (from torch>=1.11.0->sentence-transformers) (12.6.4.1)\n",
            "Requirement already satisfied: nvidia-cufft-cu12==11.3.0.4 in /usr/local/lib/python3.12/dist-packages (from torch>=1.11.0->sentence-transformers) (11.3.0.4)\n",
            "Requirement already satisfied: nvidia-curand-cu12==10.3.7.77 in /usr/local/lib/python3.12/dist-packages (from torch>=1.11.0->sentence-transformers) (10.3.7.77)\n",
            "Requirement already satisfied: nvidia-cusolver-cu12==11.7.1.2 in /usr/local/lib/python3.12/dist-packages (from torch>=1.11.0->sentence-transformers) (11.7.1.2)\n",
            "Requirement already satisfied: nvidia-cusparse-cu12==12.5.4.2 in /usr/local/lib/python3.12/dist-packages (from torch>=1.11.0->sentence-transformers) (12.5.4.2)\n",
            "Requirement already satisfied: nvidia-cusparselt-cu12==0.7.1 in /usr/local/lib/python3.12/dist-packages (from torch>=1.11.0->sentence-transformers) (0.7.1)\n",
            "Requirement already satisfied: nvidia-nccl-cu12==2.27.3 in /usr/local/lib/python3.12/dist-packages (from torch>=1.11.0->sentence-transformers) (2.27.3)\n",
            "Requirement already satisfied: nvidia-nvtx-cu12==12.6.77 in /usr/local/lib/python3.12/dist-packages (from torch>=1.11.0->sentence-transformers) (12.6.77)\n",
            "Requirement already satisfied: nvidia-nvjitlink-cu12==12.6.85 in /usr/local/lib/python3.12/dist-packages (from torch>=1.11.0->sentence-transformers) (12.6.85)\n",
            "Requirement already satisfied: nvidia-cufile-cu12==1.11.1.6 in /usr/local/lib/python3.12/dist-packages (from torch>=1.11.0->sentence-transformers) (1.11.1.6)\n",
            "Requirement already satisfied: triton==3.4.0 in /usr/local/lib/python3.12/dist-packages (from torch>=1.11.0->sentence-transformers) (3.4.0)\n",
            "Requirement already satisfied: numpy>=1.17 in /usr/local/lib/python3.12/dist-packages (from transformers<5.0.0,>=4.41.0->sentence-transformers) (2.0.2)\n",
            "Requirement already satisfied: regex!=2019.12.17 in /usr/local/lib/python3.12/dist-packages (from transformers<5.0.0,>=4.41.0->sentence-transformers) (2024.11.6)\n",
            "Requirement already satisfied: tokenizers<=0.23.0,>=0.22.0 in /usr/local/lib/python3.12/dist-packages (from transformers<5.0.0,>=4.41.0->sentence-transformers) (0.22.1)\n",
            "Requirement already satisfied: safetensors>=0.4.3 in /usr/local/lib/python3.12/dist-packages (from transformers<5.0.0,>=4.41.0->sentence-transformers) (0.6.2)\n",
            "Requirement already satisfied: joblib>=1.2.0 in /usr/local/lib/python3.12/dist-packages (from scikit-learn->sentence-transformers) (1.5.2)\n",
            "Requirement already satisfied: threadpoolctl>=3.1.0 in /usr/local/lib/python3.12/dist-packages (from scikit-learn->sentence-transformers) (3.6.0)\n",
            "Requirement already satisfied: mpmath<1.4,>=1.1.0 in /usr/local/lib/python3.12/dist-packages (from sympy>=1.13.3->torch>=1.11.0->sentence-transformers) (1.3.0)\n",
            "Requirement already satisfied: MarkupSafe>=2.0 in /usr/local/lib/python3.12/dist-packages (from jinja2->torch>=1.11.0->sentence-transformers) (3.0.3)\n",
            "Requirement already satisfied: charset_normalizer<4,>=2 in /usr/local/lib/python3.12/dist-packages (from requests->huggingface-hub>=0.20.0->sentence-transformers) (3.4.4)\n",
            "Requirement already satisfied: idna<4,>=2.5 in /usr/local/lib/python3.12/dist-packages (from requests->huggingface-hub>=0.20.0->sentence-transformers) (3.11)\n",
            "Requirement already satisfied: urllib3<3,>=1.21.1 in /usr/local/lib/python3.12/dist-packages (from requests->huggingface-hub>=0.20.0->sentence-transformers) (2.5.0)\n",
            "Requirement already satisfied: certifi>=2017.4.17 in /usr/local/lib/python3.12/dist-packages (from requests->huggingface-hub>=0.20.0->sentence-transformers) (2025.10.5)\n"
          ]
        }
      ]
    },
    {
      "cell_type": "code",
      "source": [
        "import clip\n",
        "import torch\n",
        "from PIL import Image\n",
        "import numpy as np\n",
        "from elasticsearch import Elasticsearch, helpers\n",
        "from sentence_transformers import SentenceTransformer\n",
        "import numpy as np\n",
        "\n",
        "\n",
        "client = Elasticsearch(\n",
        "    \"https://33cb0c87675645148676794cbec9680d.us-east-1.aws.found.io:443\",\n",
        "    api_key=\"a3FSbU5Kb0JJWUFJRE8wZWRYRmg6VDRSYjhROXVPU1JBSVhoemxsNHpZQQ==\"\n",
        ")\n",
        "\n",
        "index_name = \"multimodal_media_v2\"\n",
        "print(client.info().body)\n",
        "\n",
        "DEVICE = \"cuda\" if torch.cuda.is_available() else \"cpu\"\n",
        "MODEL, PREPROCESS = clip.load(\"ViT-L/14\", device=DEVICE)  # 768-dim\n",
        "\n",
        "\n",
        "\n",
        "# Load E5 model for long text\n",
        "text_model = SentenceTransformer(\"intfloat/e5-base-v2\")\n",
        "\n",
        "def embed_text(text: str) -> np.ndarray:\n",
        "    \"\"\"\n",
        "    Generate an embedding for long webpage text using E5 model.\n",
        "    \"\"\"\n",
        "    # Clean + prefix (E5 expects a prompt style)\n",
        "    text = text.strip()\n",
        "    text = \"passage: \" + text\n",
        "    emb = text_model.encode(text, normalize_embeddings=True)\n",
        "    return np.array(emb)\n",
        "\n",
        "# def embed_text(text: str) -> np.ndarray:\n",
        "#     with torch.no_grad():\n",
        "#         tokens = clip.tokenize([text]).to(DEVICE)\n",
        "#         feats = MODEL.encode_text(tokens)\n",
        "#         feats = feats / feats.norm(dim=-1, keepdim=True)\n",
        "#     return feats[0].cpu().numpy().astype(np.float32)\n",
        "\n",
        "def embed_image(path_or_pil) -> np.ndarray:\n",
        "    img = path_or_pil if isinstance(path_or_pil, Image.Image) else Image.open(path_or_pil).convert(\"RGB\")\n",
        "    img = PREPROCESS(img).unsqueeze(0).to(DEVICE)\n",
        "    with torch.no_grad():\n",
        "        feats = MODEL.encode_image(img)\n",
        "        feats = feats / feats.norm(dim=-1, keepdim=True)\n",
        "    return feats[0].cpu().numpy().astype(np.float32)\n",
        "\n",
        "def embed_text_clip(text: str) -> np.ndarray:\n",
        "    \"\"\"\n",
        "    Generate an embedding using CLIP's text encoder.\n",
        "    This ensures text and image vectors are in the same semantic space.\n",
        "    \"\"\"\n",
        "    with torch.no_grad():\n",
        "        tokens = clip.tokenize([text]).to(DEVICE)\n",
        "        feats = MODEL.encode_text(tokens)\n",
        "        feats = feats / feats.norm(dim=-1, keepdim=True)\n",
        "    return feats[0].cpu().numpy().astype(np.float32)\n",
        "\n",
        "\n",
        "def index_image(doc_id: str, title: str, url: str, vector):\n",
        "    body = {\n",
        "        \"id\": doc_id,\n",
        "        \"media_type\": \"image\",\n",
        "        \"title\": title,\n",
        "        \"url\": url,\n",
        "        \"vector_clip\": vector.tolist(),\n",
        "        \"metadata\": {}\n",
        "    }\n",
        "    client.index(index=index_name, id=doc_id, document=body)\n",
        "    print(f\"Indexed image with id = {doc_id}\")\n",
        "\n",
        "\n",
        "# TEMPORARY TEST\n",
        "if __name__ == \"__main__\":\n",
        "    print(len(embed_text(\"hello world\")))  # should print 768\n"
      ],
      "metadata": {
        "id": "AM0SJ7UfKAMI",
        "outputId": "20262438-4fb7-44ea-8263-482557d2d0a2",
        "colab": {
          "base_uri": "https://localhost:8080/",
          "height": 520,
          "referenced_widgets": [
            "992321472d9f493ba058f3a780492d1b",
            "4eb24a7260d64650829c10043744ed65",
            "887b6d166f924fbc8aa6e0efd9626b44",
            "59190ab4f4f947a7b2a08faae326d3b0",
            "51d77e1afceb437486a3ee446c09b48f",
            "3dc7b8bd3bfe443ba6a51c8051e0526a",
            "34a7c274b6994f2a9e0b55a3ca058b85",
            "bf599564019148aa97690a395b84c332",
            "4447116820514960baf62b87348a2bb7",
            "0fdcaed7284b4c92b9885ee84d40e65b",
            "169ffbde5bd945659312ba9d5f48dc8a",
            "597a40957a8a4780acd7c3c5e0e4b69d",
            "19b6dc8eb7ec4c4b913a8f95c96c9444",
            "97180bbf01b54b17934783ca5521f2bf",
            "a9bcad271dbd499a895c0cadbc750d12",
            "c98694b7d56040fdaea5894088cba0bb",
            "c15356a6e14445509753b1c5e143c8d1",
            "033a38b044a1443b921ee47bb1751c75",
            "3a1300a9e27d4639aeadec282e948544",
            "ae046c8fca47434ca614f06c32f91baf",
            "79ae658e3b184624a74456eac9a9c1f4",
            "f533cb8abd14482ea81f5efd44118934",
            "07c71964f3ff4cbe983a9765f720f015",
            "ad51eca60b1f4824bb8dd38cbd177ee8",
            "87b61ec1f933463e99d0184663e2abff",
            "8817f7919b3641d3a6d7521b67e2044c",
            "2beef3dfde7c43b29a53e2b966eab289",
            "69a295c7673d44a293d6e02e1502ce36",
            "0ddbccecdca848db8d2ed47c484d167d",
            "f44ce77cfdc94420852a589803c8ff10",
            "5aecb5c2e36e43c89e49b64cb2366b5b",
            "e17f4938c4f94e8bbe468e16a550e0f6",
            "f05f42928a294e61ab93e65525d0a680",
            "6c6f09faa0f74fb6bdc4cdfcb7f463ca",
            "b2d8c856b57e4ca1ae6e4992cd2b87f7",
            "960ccf8d5c514377a1534cbc93cb51b5",
            "bd9ae6e670b148feadf0c502d219b1be",
            "f2499ab2e64241a4b7d9ead80848ab21",
            "39f79783f7734e989da9271472850f6c",
            "92c3561490324d1ba2e2f94f728e905f",
            "cbd0251dc7464bf08b5af1f3b9489ac9",
            "36c4c5b60d5f4418abda7c2e8b8e30a0",
            "2c22059a4c3f4118863751f70efea4da",
            "8f63fe53a67d4a0eae2dbcafd6446c67",
            "2bdf81e512da4c4bb6bd4b7a6b8ebff2",
            "05bea46873ea43e7aa34776f9c9ec405",
            "17f9827190644761b80c2efbd5f67364",
            "4c31309a61df4601a0030159dc530762",
            "301879a804e248038a4bdfab6c6a48d1",
            "658125f94a45446b8c892c3ac0ca2fa1",
            "5aab3b12f856488ca71575ae8bc42057",
            "8e75d5e7ed1d438fa9019489cdc15a4d",
            "28e1b8c8da46435c8cb91b5f69532b5e",
            "e1db93725cf74b0faec9c5b7ab49fca1",
            "36d8228e263a469f8edf4be17cc199f5",
            "aa281b55bd674441abb9b88e7bb3be71",
            "f03bb7ac4bb94da0b6606504da9fea0c",
            "67eb767fb5ed4157be1e8d3b654b7379",
            "c02d5ad068d94a76bb61e8967e724237",
            "fdd594a3cd9648dea2e329a4ebd8a05b",
            "8a0d8cc22a9b4d81b8368b5b9b1b852b",
            "15f8e076b9244d9f832124498d55d83b",
            "476e262e48c54551b0658805cb57480f",
            "9656c546e46f42758dcf54bb3e4b8e0b",
            "e8df99545ea145269cade6b7156bb059",
            "187be3f35315465a8d0873c744fc2c5b",
            "fc0b511e0f9d4598917eba86123cd04e",
            "5e92983645164add88f5cb0982422fe5",
            "3de927a34bf44a21804723b431f8488c",
            "378a22e2847b462e8f9b91277860b38f",
            "2d86f24a2b6a4e93934e1fc2800b0b0d",
            "56d6870b34b140eaab6b409ef26f3f03",
            "efbb6101b9c44b558f54e97d75d3f38b",
            "bd90e5a54f7f4d8a86e605db192402cc",
            "7d554d45a37c4ec496f8902c97f41222",
            "4abe29cf6ee3442d93c972e421004710",
            "0d41ac70aa33463e9dd264f633c2d17f",
            "f2bbcf39551441ab84c9138899c64c03",
            "d3875b72919a465ea06089e8894ad692",
            "85a42214f69c4c3db1a170f11d20b056",
            "7b9e3d2fd21943eeb8487787403a0609",
            "6048eef946d543f2904d2e611fc9daa7",
            "950a9942be534ef78b542c70089ae10a",
            "1916bae200304229b2c966e1af0fc77e",
            "ce2646b368a44dc4a5a9fea6181da664",
            "495035acf563473c9496ac5000892a1d",
            "37ac49eed80f40f58ace811b22fb8416",
            "30d2d696d91047149151eb1805cce095",
            "c82e4e50b609417f92c8fa43fc620d18",
            "a09400a2c1594496b1750d2f564d9ce5",
            "ac8343077bef43d4a2182c1707418364",
            "a8e91e9d56024e3eb89d1b0c744bd4c9",
            "4a2d092fb40a42b7a76a1c8e047554e9",
            "3dbd2410cedc4547aae8f012ba408a89",
            "380f8348c13d4b958efe62fb2a62d62d",
            "964784a6e12b41bea6cdbfad441c8db3",
            "19e91a87721e4a68a970bb90ad65aa96",
            "66f2221a3c314ed1ac329555856a49ec",
            "0ad26f164e8443bebe323b000704399c",
            "09c1e80d28494f8aba6a8023037d3d03",
            "c578b2a4fd2f4f798021811131184248",
            "1683ac38042c490d99f8f7515c3bde92",
            "fd97380bce0e491aaad3bde638f0e2d1",
            "668a42fe50e14b059d4666d4d6062c70",
            "b134c932cb864d8194851ff029a30f3f",
            "42dd0fb4d6ea44d69569dadf49488a70",
            "381621f3d0884041bff6bd266e71396d",
            "8a48820f476e44818a591c055acda22a",
            "c487d77f2476481d8857c3c558ad7b1d",
            "7917995c95ed4f96beda76c8362eb2a2"
          ]
        }
      },
      "id": "AM0SJ7UfKAMI",
      "execution_count": 4,
      "outputs": [
        {
          "output_type": "stream",
          "name": "stdout",
          "text": [
            "{'name': 'instance-0000000004', 'cluster_name': '33cb0c87675645148676794cbec9680d', 'cluster_uuid': 'Eq0DnWFDQxmO_d_YkDYgLQ', 'version': {'number': '9.0.0', 'build_flavor': 'default', 'build_type': 'docker', 'build_hash': '112859b85d50de2a7e63f73c8fc70b99eea24291', 'build_date': '2025-04-08T15:13:46.049795831Z', 'build_snapshot': False, 'lucene_version': '10.1.0', 'minimum_wire_compatibility_version': '8.18.0', 'minimum_index_compatibility_version': '8.0.0'}, 'tagline': 'You Know, for Search'}\n"
          ]
        },
        {
          "output_type": "stream",
          "name": "stderr",
          "text": [
            "100%|███████████████████████████████████████| 890M/890M [00:12<00:00, 75.8MiB/s]\n",
            "/usr/local/lib/python3.12/dist-packages/huggingface_hub/utils/_auth.py:94: UserWarning: \n",
            "The secret `HF_TOKEN` does not exist in your Colab secrets.\n",
            "To authenticate with the Hugging Face Hub, create a token in your settings tab (https://huggingface.co/settings/tokens), set it as secret in your Google Colab and restart your session.\n",
            "You will be able to reuse this secret in all of your notebooks.\n",
            "Please note that authentication is recommended but still optional to access public models or datasets.\n",
            "  warnings.warn(\n"
          ]
        },
        {
          "output_type": "display_data",
          "data": {
            "text/plain": [
              "modules.json:   0%|          | 0.00/387 [00:00<?, ?B/s]"
            ],
            "application/vnd.jupyter.widget-view+json": {
              "version_major": 2,
              "version_minor": 0,
              "model_id": "992321472d9f493ba058f3a780492d1b"
            }
          },
          "metadata": {}
        },
        {
          "output_type": "display_data",
          "data": {
            "text/plain": [
              "README.md: 0.00B [00:00, ?B/s]"
            ],
            "application/vnd.jupyter.widget-view+json": {
              "version_major": 2,
              "version_minor": 0,
              "model_id": "597a40957a8a4780acd7c3c5e0e4b69d"
            }
          },
          "metadata": {}
        },
        {
          "output_type": "display_data",
          "data": {
            "text/plain": [
              "sentence_bert_config.json:   0%|          | 0.00/57.0 [00:00<?, ?B/s]"
            ],
            "application/vnd.jupyter.widget-view+json": {
              "version_major": 2,
              "version_minor": 0,
              "model_id": "07c71964f3ff4cbe983a9765f720f015"
            }
          },
          "metadata": {}
        },
        {
          "output_type": "display_data",
          "data": {
            "text/plain": [
              "config.json:   0%|          | 0.00/650 [00:00<?, ?B/s]"
            ],
            "application/vnd.jupyter.widget-view+json": {
              "version_major": 2,
              "version_minor": 0,
              "model_id": "6c6f09faa0f74fb6bdc4cdfcb7f463ca"
            }
          },
          "metadata": {}
        },
        {
          "output_type": "display_data",
          "data": {
            "text/plain": [
              "model.safetensors:   0%|          | 0.00/438M [00:00<?, ?B/s]"
            ],
            "application/vnd.jupyter.widget-view+json": {
              "version_major": 2,
              "version_minor": 0,
              "model_id": "2bdf81e512da4c4bb6bd4b7a6b8ebff2"
            }
          },
          "metadata": {}
        },
        {
          "output_type": "display_data",
          "data": {
            "text/plain": [
              "tokenizer_config.json:   0%|          | 0.00/314 [00:00<?, ?B/s]"
            ],
            "application/vnd.jupyter.widget-view+json": {
              "version_major": 2,
              "version_minor": 0,
              "model_id": "aa281b55bd674441abb9b88e7bb3be71"
            }
          },
          "metadata": {}
        },
        {
          "output_type": "display_data",
          "data": {
            "text/plain": [
              "vocab.txt: 0.00B [00:00, ?B/s]"
            ],
            "application/vnd.jupyter.widget-view+json": {
              "version_major": 2,
              "version_minor": 0,
              "model_id": "fc0b511e0f9d4598917eba86123cd04e"
            }
          },
          "metadata": {}
        },
        {
          "output_type": "display_data",
          "data": {
            "text/plain": [
              "tokenizer.json: 0.00B [00:00, ?B/s]"
            ],
            "application/vnd.jupyter.widget-view+json": {
              "version_major": 2,
              "version_minor": 0,
              "model_id": "f2bbcf39551441ab84c9138899c64c03"
            }
          },
          "metadata": {}
        },
        {
          "output_type": "display_data",
          "data": {
            "text/plain": [
              "special_tokens_map.json:   0%|          | 0.00/125 [00:00<?, ?B/s]"
            ],
            "application/vnd.jupyter.widget-view+json": {
              "version_major": 2,
              "version_minor": 0,
              "model_id": "c82e4e50b609417f92c8fa43fc620d18"
            }
          },
          "metadata": {}
        },
        {
          "output_type": "display_data",
          "data": {
            "text/plain": [
              "config.json:   0%|          | 0.00/200 [00:00<?, ?B/s]"
            ],
            "application/vnd.jupyter.widget-view+json": {
              "version_major": 2,
              "version_minor": 0,
              "model_id": "09c1e80d28494f8aba6a8023037d3d03"
            }
          },
          "metadata": {}
        },
        {
          "output_type": "stream",
          "name": "stdout",
          "text": [
            "768\n"
          ]
        }
      ]
    },
    {
      "cell_type": "code",
      "source": [
        "from PIL import Image\n",
        "import requests\n",
        "from io import BytesIO\n",
        "\n",
        "# Example image URL\n",
        "image_url = \"https://member.acg.aaa.com/content/dam/acg/images/home/pr-home/hero-splash-3.jpg\"  #  replace with your image URL\n",
        "\n",
        "# Download and open image from URL\n",
        "response = requests.get(image_url)\n",
        "img = Image.open(BytesIO(response.content)).convert(\"RGB\")\n",
        "\n",
        "# Generate vector\n",
        "vec = embed_image(img)\n",
        "print(\"Image embedding length:\", len(vec))\n",
        "\n",
        "# Index into Elasticsearch\n",
        "index_image(\n",
        "    doc_id=\"img_001\",\n",
        "    title=\"Test Image\",\n",
        "    url=image_url,\n",
        "    vector=vec\n",
        ")\n"
      ],
      "metadata": {
        "id": "GJ7DiWhcKwmD",
        "outputId": "986c37a7-2b5d-4058-e3fb-54a3a156d51a",
        "colab": {
          "base_uri": "https://localhost:8080/"
        }
      },
      "id": "GJ7DiWhcKwmD",
      "execution_count": 5,
      "outputs": [
        {
          "output_type": "stream",
          "name": "stdout",
          "text": [
            "Image embedding length: 768\n",
            "Indexed image with id = img_001\n"
          ]
        }
      ]
    },
    {
      "cell_type": "code",
      "source": [
        "from elasticsearch import Elasticsearch\n",
        "import numpy as np\n",
        "\n",
        "def search_multimodal(query: str, top_k: int = 5):\n",
        "    \"\"\"\n",
        "    Performs multimodal search: compares text query embedding\n",
        "    with both E5 (text) and CLIP (image) vectors.\n",
        "    Returns combined results sorted by cosine similarity.\n",
        "    \"\"\"\n",
        "    # Generate query embeddings\n",
        "    query_vec_e5 = embed_text(query).tolist()\n",
        "    query_vec_clip = embed_text_clip(query).tolist()  # optional fallback for consistency\n",
        "\n",
        "    # --- Search text-based vectors (E5) ---\n",
        "    e5_query = {\n",
        "        \"size\": top_k,\n",
        "        \"query\": {\n",
        "            \"script_score\": {\n",
        "                \"query\": {\"exists\": {\"field\": \"vector_e5\"}},\n",
        "                \"script\": {\n",
        "                    \"source\": \"cosineSimilarity(params.query_vector, 'vector_e5') + 1.0\",\n",
        "                    \"params\": {\"query_vector\": query_vec_e5}\n",
        "                }\n",
        "            }\n",
        "        }\n",
        "    }\n",
        "\n",
        "    # --- Search image-based vectors (CLIP) ---\n",
        "    clip_query = {\n",
        "        \"size\": top_k,\n",
        "        \"query\": {\n",
        "            \"script_score\": {\n",
        "                \"query\": {\"exists\": {\"field\": \"vector_clip\"}},\n",
        "                \"script\": {\n",
        "                    \"source\": \"cosineSimilarity(params.query_vector, 'vector_clip') + 1.0\",\n",
        "                    \"params\": {\"query_vector\": query_vec_clip}\n",
        "                }\n",
        "            }\n",
        "        }\n",
        "    }\n",
        "\n",
        "    # Execute both searches\n",
        "    e5_res = client.search(index=index_name, body=e5_query)\n",
        "    clip_res = client.search(index=index_name, body=clip_query)\n",
        "\n",
        "    # Combine both sets of hits\n",
        "    combined_hits = []\n",
        "    for hit in e5_res[\"hits\"][\"hits\"]:\n",
        "        combined_hits.append({\n",
        "            \"score\": hit[\"_score\"],\n",
        "            \"type\": hit[\"_source\"].get(\"media_type\"),\n",
        "            \"title\": hit[\"_source\"].get(\"title\"),\n",
        "            \"url\": hit[\"_source\"].get(\"url\")\n",
        "        })\n",
        "    for hit in clip_res[\"hits\"][\"hits\"]:\n",
        "        combined_hits.append({\n",
        "            \"score\": hit[\"_score\"],\n",
        "            \"type\": hit[\"_source\"].get(\"media_type\"),\n",
        "            \"title\": hit[\"_source\"].get(\"title\"),\n",
        "            \"url\": hit[\"_source\"].get(\"url\")\n",
        "        })\n",
        "\n",
        "    # Sort by score descending\n",
        "    combined_hits = sorted(combined_hits, key=lambda x: x[\"score\"], reverse=True)\n",
        "\n",
        "    print(f\"\\n Search Results for: '{query}'\")\n",
        "    for item in combined_hits[:top_k]:\n",
        "        print(f\"[{item['type'].upper()}] {item['title']} → {item['url']} (score={item['score']:.3f})\")\n",
        "\n",
        "    return combined_hits\n"
      ],
      "metadata": {
        "id": "ZHmeeVVDdy_w"
      },
      "id": "ZHmeeVVDdy_w",
      "execution_count": 18,
      "outputs": []
    },
    {
      "cell_type": "code",
      "source": [
        "\n",
        "if __name__ == \"__main__\":\n",
        "    # Example: text search instead of manual upload\n",
        "    query = input(\"Enter your search text: \")\n",
        "    results = search_multimodal(query, top_k=100)\n",
        "    print(results)\n",
        "    print(\"\\n Search Results:\")\n",
        "    for i, r in enumerate(results, 1):\n",
        "        print(f\"{i}. [{r['score']:.4f}] {r['title']} → {r['url']}\")\n"
      ],
      "metadata": {
        "colab": {
          "base_uri": "https://localhost:8080/"
        },
        "id": "_EKPYuBLEYd6",
        "outputId": "2c71251f-6a7d-4980-ed9e-396d66f0063f"
      },
      "id": "_EKPYuBLEYd6",
      "execution_count": 22,
      "outputs": [
        {
          "output_type": "stream",
          "name": "stdout",
          "text": [
            "Enter your search text: car\n",
            "\n",
            " Search Results for: 'car'\n",
            "[PAGE] The Vacation Road Trip – Prepare to Have Fun! → https://dev1.meemic.com/why-meemic/blog/claims-safety/the-summer-road-trip-prepare-to-have-fun (score=1.737)\n",
            "[PAGE] Consumer Guide to Collision Repair from Meemic Insurance Company → https://dev1.meemic.com/member-services/safety-information-center/consumer-guide-to-collision-repair (score=1.735)\n",
            "[PAGE] Browse All Claims and Safety Articles → https://dev1.meemic.com/why-meemic/blog/claims-safety-4 (score=1.734)\n",
            "[PAGE] Top 10 Vehicle Technologies for Mature Drivers → https://dev1.meemic.com/why-meemic/blog/claims-safety/top-10-vehicle-technologies-for-mature-drivers (score=1.733)\n",
            "[PAGE] Essential Safety Features for Safe Winter Driving → https://dev1.meemic.com/why-meemic/blog/claims-safety/essential-safety-features-for-safe-winter-driving (score=1.732)\n",
            "[PAGE] Auto Theft Prevention Tips from Meemic Insurance Company → https://dev1.meemic.com/member-services/safety-information-center/auto-theft-prevention (score=1.731)\n",
            "[PAGE] Do You Need Comprehensive Car Insurance Coverage? → https://dev1.meemic.com/why-meemic/blog/auto-insurance/do-you-need-comprehensive-auto-coverage (score=1.728)\n",
            "[PAGE] Claims & Repair Services → https://dev1.meemic.com/auto-insurance/claims-repair-services (score=1.727)\n",
            "[PAGE] Claims & Repair Services → https://dev1.meemic.com/member-services/repair-services (score=1.727)\n",
            "[PAGE] The Educated Choice Repair Program by Meemic Insurance Company → https://dev1.meemic.com/member-services/repair-services/educated-choice-repair-program (score=1.727)\n",
            "[PAGE] Avoid Falling Victim to the Staged Car Crash Scam → https://dev1.meemic.com/why-meemic/blog/claims-safety/avoid-falling-victim-to-the-staged-car-crash-scam (score=1.726)\n",
            "[PAGE] Car Insurance Discounts for Educators → https://dev1.meemic.com/auto-insurance/educators-staff-benefits-discounts (score=1.724)\n",
            "[PAGE] Antique Car Insurance → https://dev1.meemic.com/auto-insurance/antique-car-insurance (score=1.724)\n",
            "[PAGE] Specialized Auto Insurance Discounts & Coverages for the Educational Community → https://dev1.meemic.com/auto-insurance/auto-policy-benefits (score=1.723)\n",
            "[PAGE] Protect Your Key Fob to Help Avoid ‘Relay Attack’ Car Theft → https://dev1.meemic.com/why-meemic/blog/claims-safety/key-fob-relay-attack (score=1.723)\n",
            "[PAGE] Emergency Supply Kits → https://dev1.meemic.com/member-services/safety-information-center/emergency-supply-kits (score=1.722)\n",
            "[PAGE] AAA Drive → https://dev1.meemic.com/auto-insurance/aaa-drive (score=1.722)\n",
            "[PAGE] Fender-benders: 4 Tips to Help Protect Yourself → https://dev1.meemic.com/why-meemic/blog/claims-safety/fender-benders-4-tips-to-help-protect-yourself (score=1.722)\n",
            "[PAGE] Take Extra Precautions to Keep Kids Out of Hot Cars → https://dev1.meemic.com/why-meemic/blog/claims-safety/take-extra-precautions-to-keep-kids-out-of-hot-car (score=1.722)\n",
            "[PAGE] Privacy Policy → https://dev1.meemic.com/auto-insurance/aaa-drive/privacy-policy (score=1.721)\n",
            "[PAGE] 7 Steps for Preparing Your Vehicle for Long-Term Storage → https://dev1.meemic.com/why-meemic/blog/auto-insurance/7-steps-for-preparing-your-vehicle-for-long-term-storage (score=1.721)\n",
            "[PAGE] 10 Tips to Avoid Parking Lot Hazards → https://dev1.meemic.com/why-meemic/blog/claims-safety/10-tips-to-avoid-parking-lot-hazards (score=1.719)\n",
            "[PAGE] Winter Driving Safety: Use Extra Caution on Snowy & Icy Roads → https://dev1.meemic.com/member-services/safety-information-center/winter-driving-safety-use-extra-caution-on-snowy-icy-roads (score=1.719)\n",
            "[PAGE] AAADrive™ Frequently asked questions → https://dev1.meemic.com/auto-insurance/aaa-drive/aaadrive-faq (score=1.719)\n",
            "[PAGE] Auto Safety & Information Center → https://dev1.meemic.com/member-services/safety-information-center/car-safety-information-center (score=1.719)\n",
            "[PAGE] AAADrive Terms and Conditions → https://dev1.meemic.com/auto-insurance/aaa-drive/terms-and-conditions (score=1.719)\n",
            "[PAGE] Auto Insurance Articles → https://dev1.meemic.com/why-meemic/blog/auto-insurance (score=1.718)\n",
            "[PAGE] Renewal Forms Mail → https://dev1.meemic.com/renewalformsmail (score=1.716)\n",
            "[PAGE] Inquire About Existing Claims from Meemic Insurance Company → https://dev1.meemic.com/member-services/claims-center/inquire-about-existing-claims (score=1.715)\n",
            "[PAGE] Auto Insurance Policy Life Cycle → https://dev1.meemic.com/auto-insurance/life-cycle-guide (score=1.715)\n",
            "[PAGE] When to Reduce Your Car Insurance Coverage → https://dev1.meemic.com/why-meemic/blog/auto-insurance/when-to-reduce-auto-coverage (score=1.714)\n",
            "[PAGE] Insurance Claims Center at Meemic Insurance Company → https://dev1.meemic.com/member-services/claims-center (score=1.714)\n",
            "[PAGE] The Meemic Blog | Meemic Insurance Company → https://dev1.meemic.com/why-meemic/blog (score=1.714)\n",
            "[PAGE] Autumn Driving Safety Tips | Meemic Insurance Company → https://dev1.meemic.com/member-services/safety-information-center/autumn-driving-safety-tips (score=1.714)\n",
            "[PAGE] Cruising Green: 5 Tips for More Eco-Friendly Driving → https://dev1.meemic.com/why-meemic/blog/auto-insurance/cruising-green-5-tips-for-more-eco-friendly-driving (score=1.713)\n",
            "[PAGE] Insurance Checkup at Meemic Insurance Company → https://dev1.meemic.com/member-services/safety-information-center/insurance-checkup (score=1.713)\n",
            "[PAGE] Higher Ed Landing Page → https://dev1.meemic.com/higher-ed-landing-page (score=1.712)\n",
            "[PAGE] 5 Myths About Auto Theft → https://dev1.meemic.com/why-meemic/blog/claims-safety/5-myths-about-auto-theft (score=1.712)\n",
            "[PAGE] Safety Information Center → https://dev1.meemic.com/member-services/safety-information-center (score=1.712)\n",
            "[PAGE] Smartphones Can Spell Trouble for Drivers → https://dev1.meemic.com/why-meemic/blog/claims-safety/smartphone-can-spell-trouble-for-drivers (score=1.712)\n",
            "[PAGE] Insurance for Teachers & Educators | Auto & Home Insurance | Meemic Insurance Company → https://dev1.meemic.com/educational-organization-landing-page (score=1.712)\n",
            "[PAGE] Tips for Parents of Teen Drivers → https://dev1.meemic.com/member-services/safety-information-center/tips-for-parents-of-teen-drivers (score=1.711)\n",
            "[PAGE] Shopping Safety Tips from Meemic Insurance Company → https://dev1.meemic.com/member-services/safety-information-center/shopping-safety (score=1.711)\n",
            "[PAGE] Preventing Deer Related Auto Accidents from Meemic Insurance Company → https://dev1.meemic.com/member-services/safety-information-center/preventing-deer-related-auto-accidents (score=1.711)\n",
            "[PAGE] Holiday Home Safety Tips from Meemic Insurance Company → https://dev1.meemic.com/member-services/safety-information-center/holiday-home-safety (score=1.711)\n",
            "[PAGE] Car Insurance for Teachers and Educators | Meemic Insurance Company → https://dev1.meemic.com/auto-insurance (score=1.710)\n",
            "[PAGE] 10 Safety Tips for Driving in the Rain from Meemic Insurance Company → https://dev1.meemic.com/member-services/safety-information-center/driving-safely-in-the-rain (score=1.710)\n",
            "[PAGE] Have You Checked If Your Car Is Subject to Recall? → https://dev1.meemic.com/why-meemic/blog/auto-insurance/have-you-checked-if-your-car-is-subject-to-recall (score=1.710)\n",
            "[PAGE] Auto Insurance Articles 2 → https://dev1.meemic.com/why-meemic/blog/auto-insurance-2 (score=1.710)\n",
            "[PAGE] Claims Safety → https://dev1.meemic.com/why-meemic/blog/claims-safety (score=1.710)\n",
            "[PAGE] Other Insurance Products → https://dev1.meemic.com/other-products (score=1.709)\n",
            "[PAGE] Meemic and AAA Patnership: Roadside Assistance | Meemic Insurance Company → https://dev1.meemic.com/other-products/aaa-membership (score=1.709)\n",
            "[PAGE] Refer-a-Friend Promotion Terms and Conditions → https://dev1.meemic.com/referafriend (score=1.707)\n",
            "[PAGE] Spring/Summer Storms — Be Aware & Prepared → https://dev1.meemic.com/member-services/safety-information-center/spring-storm-safety (score=1.707)\n",
            "[PAGE] Sitemap for Meemic Insurance Company → https://dev1.meemic.com/site-map (score=1.707)\n",
            "[PAGE] Meemic Insurance Online Account Center → https://dev1.meemic.com/accountcenter (score=1.706)\n",
            "[PAGE] Leaves of Love | Meemic Insurance Company → https://dev1.meemic.com/why-meemic/leaves-of-love (score=1.706)\n",
            "[PAGE] Windshield: Repair or Replace? → https://dev1.meemic.com/why-meemic/blog/claims-safety/windshield-repair-or-replace (score=1.706)\n",
            "[PAGE] Buying and Riding a Motorcycle Safely → https://dev1.meemic.com/member-services/safety-information-center/motorcycle-safety-tips (score=1.706)\n",
            "[PAGE] Plan Now for Your Child’s Insurance at College → https://dev1.meemic.com/why-meemic/blog/claims-safety/plan-now-for-your-childs-insurance-at-college (score=1.706)\n",
            "[PAGE] Insurance for Teachers & Educators | Auto & Home Insurance | Meemic Insurance Company → https://dev1.meemic.com/retired-ed-landing-page (score=1.706)\n",
            "[PAGE] Best In Class Insurance at Meemic Insurance Company → https://dev1.meemic.com/why-meemic/best-in-class-service (score=1.706)\n",
            "[PAGE] Tips for Staying Healthy in College → https://dev1.meemic.com/why-meemic/blog/claims-safety/tips-for-staying-healthy-in-college (score=1.705)\n",
            "[PAGE] Home Auto Bundle → https://dev1.meemic.com/home-auto-bundle (score=1.705)\n",
            "[PAGE] Homeowner Reminders from Meemic Insurance Company → https://dev1.meemic.com/member-services/safety-information-center/homeowner-reminders (score=1.705)\n",
            "[PAGE] Insurance for Teachers & Educators | Auto & Home Insurance | Meemic Insurance Company → https://dev1.meemic.com/ya-marketing-landing-page (score=1.705)\n",
            "[PAGE] Umbrella Insurance for Teachers → https://dev1.meemic.com/home-insurance/umbrella-insurance (score=1.704)\n",
            "[PAGE] MEMSPA → https://dev1.meemic.com/memspa (score=1.704)\n",
            "[PAGE] Insurance for Teachers & Educators | Auto & Home Insurance | Meemic Insurance Company → https://dev1.meemic.com/education-quote-landing-page (score=1.704)\n",
            "[PAGE] Home Insurance Questions → https://dev1.meemic.com/home-insurance/life-cycle-guide (score=1.703)\n",
            "[PAGE] Home Insurance Claim Process → https://dev1.meemic.com/home-insurance/claims-repair-services (score=1.703)\n",
            "[PAGE] Catalytic Converter Thefts on the Rise → https://dev1.meemic.com/why-meemic/blog/claims-safety/catalytic-converter-thefts-on-the-rise (score=1.703)\n",
            "[PAGE] Contact Us at Meemic Insurance Company → https://dev1.meemic.com/member-services/contact-us (score=1.703)\n",
            "[PAGE] Wind Safety Tips - Witch of November | Meemic Insurance Company → https://dev1.meemic.com/member-services/safety-information-center/witch-of-november-fall-wind-safety (score=1.702)\n",
            "[PAGE] Outstanding Member Satisfaction → https://dev1.meemic.com/why-meemic/outstanding-member-satisfaction (score=1.702)\n",
            "[PAGE] Top Apps to Help You Avoid Drunk Driving → https://dev1.meemic.com/why-meemic/blog/claims-safety/top-apps-to-help-you-avoid-drunk-driving (score=1.702)\n",
            "[PAGE] Claims Safety 3 → https://dev1.meemic.com/why-meemic/blog/claims-safety-3 (score=1.702)\n",
            "[PAGE] Storm-Proofing Tips from Meemic Insurance Company → https://dev1.meemic.com/member-services/safety-information-center/storm-proofing (score=1.702)\n",
            "[PAGE] Insurance FAQs | Meemic Insurance Company → https://dev1.meemic.com/member-services/insurance-faqs (score=1.702)\n",
            "[PAGE] The Meemic Community | Meemic Insurance Company → https://dev1.meemic.com/why-meemic/meemic-community (score=1.701)\n",
            "[PAGE] Seat Belts Save Thousands of Lives Per Year → https://dev1.meemic.com/why-meemic/blog/claims-safety/seat-belt (score=1.701)\n",
            "[PAGE] Do You Barely Use Your RV Don't Forget Maintenance → https://dev1.meemic.com/why-meemic/blog/auto-insurance/do-you-barely-use-your-rv-dont-forget-maintenance (score=1.701)\n",
            "[PAGE] Save Now → https://dev1.meemic.com/save-now (score=1.701)\n",
            "[PAGE] Save 694 → https://dev1.meemic.com/save-694 (score=1.701)\n",
            "[PAGE] Home Insurance Discounts → https://dev1.meemic.com/home-insurance/educators-staff-benefits-discounts (score=1.700)\n",
            "[PAGE] Don't Be a Fatal Statistic from Driving Drowsy → https://dev1.meemic.com/member-services/safety-information-center/avoid-driving-while-drowsy (score=1.700)\n",
            "[PAGE] Policy Documents → https://dev1.meemic.com/policydocs (score=1.700)\n",
            "[PAGE] foundation_logo_v_2018_cmyk.png → https://dev1.meemic.com/foundation_logo_v_2018_cmyk (score=1.700)\n",
            "[PAGE] JotForm Test → https://dev1.meemic.com/jotform-test (score=1.700)\n",
            "[PAGE] Insurance for Teachers & Educators | Auto & Home Insurance | Meemic Insurance Company → https://dev1.meemic.com/marketing-landing-page (score=1.700)\n",
            "[PAGE] Save 465 → https://dev1.meemic.com/save-465 (score=1.700)\n",
            "[PAGE] AAA Terms & Conditions → https://dev1.meemic.com/aaamemberterms (score=1.700)\n",
            "[PAGE] Fire Safety → https://dev1.meemic.com/member-services/safety-information-center/fire-safety (score=1.700)\n",
            "[PAGE] Home Security* → https://dev1.meemic.com/member-services/safety-information-center/home-security (score=1.699)\n",
            "[PAGE] Tips for Dealing with Potholes – Stay Vigilant → https://dev1.meemic.com/member-services/safety-information-center/tips-for-dealing-with-potholes (score=1.699)\n",
            "[PAGE] Protect Your Boat with Insurance, Winterization → https://dev1.meemic.com/why-meemic/blog/claims-safety/winterize-your-boat (score=1.699)\n",
            "[PAGE] Browse All Teaching & Education Articles → https://dev1.meemic.com/why-meemic/blog/teaching-and-education-3 (score=1.699)\n",
            "[PAGE] Reducing Your Risk When Driving at Night → https://dev1.meemic.com/why-meemic/blog/auto-insurance/reducing-your-risk-when-driving-at-night (score=1.699)\n",
            "[PAGE] Common Insurance Myths - Busted → https://dev1.meemic.com/why-meemic/blog/auto-insurance/common-insurance-myths-busted (score=1.697)\n",
            "[PAGE] Insurance for Teachers & Educators | Auto & Home Insurance | Meemic Insurance Company → https://dev1.meemic.com (score=1.697)\n",
            "[{'score': 1.7367173, 'type': 'page', 'title': 'The Vacation Road Trip – Prepare to Have Fun!', 'url': 'https://dev1.meemic.com/why-meemic/blog/claims-safety/the-summer-road-trip-prepare-to-have-fun'}, {'score': 1.73532, 'type': 'page', 'title': 'Consumer Guide to Collision Repair from Meemic Insurance Company', 'url': 'https://dev1.meemic.com/member-services/safety-information-center/consumer-guide-to-collision-repair'}, {'score': 1.7339642, 'type': 'page', 'title': 'Browse All Claims and Safety Articles', 'url': 'https://dev1.meemic.com/why-meemic/blog/claims-safety-4'}, {'score': 1.7331506, 'type': 'page', 'title': 'Top 10 Vehicle Technologies for Mature Drivers', 'url': 'https://dev1.meemic.com/why-meemic/blog/claims-safety/top-10-vehicle-technologies-for-mature-drivers'}, {'score': 1.7318301, 'type': 'page', 'title': 'Essential Safety Features for Safe Winter Driving', 'url': 'https://dev1.meemic.com/why-meemic/blog/claims-safety/essential-safety-features-for-safe-winter-driving'}, {'score': 1.7305034, 'type': 'page', 'title': 'Auto Theft Prevention Tips from Meemic Insurance Company', 'url': 'https://dev1.meemic.com/member-services/safety-information-center/auto-theft-prevention'}, {'score': 1.728162, 'type': 'page', 'title': 'Do You Need Comprehensive Car Insurance Coverage?', 'url': 'https://dev1.meemic.com/why-meemic/blog/auto-insurance/do-you-need-comprehensive-auto-coverage'}, {'score': 1.7269554, 'type': 'page', 'title': 'Claims & Repair Services', 'url': 'https://dev1.meemic.com/auto-insurance/claims-repair-services'}, {'score': 1.7269554, 'type': 'page', 'title': 'Claims & Repair Services', 'url': 'https://dev1.meemic.com/member-services/repair-services'}, {'score': 1.7266508, 'type': 'page', 'title': 'The Educated Choice Repair Program by Meemic Insurance Company', 'url': 'https://dev1.meemic.com/member-services/repair-services/educated-choice-repair-program'}, {'score': 1.7257745, 'type': 'page', 'title': 'Avoid Falling Victim to the Staged Car Crash Scam', 'url': 'https://dev1.meemic.com/why-meemic/blog/claims-safety/avoid-falling-victim-to-the-staged-car-crash-scam'}, {'score': 1.7238086, 'type': 'page', 'title': 'Car Insurance Discounts for Educators', 'url': 'https://dev1.meemic.com/auto-insurance/educators-staff-benefits-discounts'}, {'score': 1.7238015, 'type': 'page', 'title': 'Antique Car Insurance', 'url': 'https://dev1.meemic.com/auto-insurance/antique-car-insurance'}, {'score': 1.7234217, 'type': 'page', 'title': 'Specialized Auto Insurance Discounts & Coverages for the Educational Community', 'url': 'https://dev1.meemic.com/auto-insurance/auto-policy-benefits'}, {'score': 1.7226943, 'type': 'page', 'title': 'Protect Your Key Fob to Help Avoid ‘Relay Attack’ Car Theft', 'url': 'https://dev1.meemic.com/why-meemic/blog/claims-safety/key-fob-relay-attack'}, {'score': 1.7223387, 'type': 'page', 'title': 'Emergency Supply Kits', 'url': 'https://dev1.meemic.com/member-services/safety-information-center/emergency-supply-kits'}, {'score': 1.72223, 'type': 'page', 'title': 'AAA Drive', 'url': 'https://dev1.meemic.com/auto-insurance/aaa-drive'}, {'score': 1.7220085, 'type': 'page', 'title': 'Fender-benders: 4 Tips to Help Protect Yourself', 'url': 'https://dev1.meemic.com/why-meemic/blog/claims-safety/fender-benders-4-tips-to-help-protect-yourself'}, {'score': 1.7218215, 'type': 'page', 'title': 'Take Extra Precautions to Keep Kids Out of Hot Cars', 'url': 'https://dev1.meemic.com/why-meemic/blog/claims-safety/take-extra-precautions-to-keep-kids-out-of-hot-car'}, {'score': 1.7210975, 'type': 'page', 'title': 'Privacy Policy', 'url': 'https://dev1.meemic.com/auto-insurance/aaa-drive/privacy-policy'}, {'score': 1.7207612, 'type': 'page', 'title': '7 Steps for Preparing Your Vehicle for Long-Term Storage', 'url': 'https://dev1.meemic.com/why-meemic/blog/auto-insurance/7-steps-for-preparing-your-vehicle-for-long-term-storage'}, {'score': 1.7193496, 'type': 'page', 'title': '10 Tips to Avoid Parking Lot Hazards', 'url': 'https://dev1.meemic.com/why-meemic/blog/claims-safety/10-tips-to-avoid-parking-lot-hazards'}, {'score': 1.7192441, 'type': 'page', 'title': 'Winter Driving Safety: Use Extra Caution on Snowy & Icy Roads', 'url': 'https://dev1.meemic.com/member-services/safety-information-center/winter-driving-safety-use-extra-caution-on-snowy-icy-roads'}, {'score': 1.7187223, 'type': 'page', 'title': 'AAADrive™ Frequently asked questions', 'url': 'https://dev1.meemic.com/auto-insurance/aaa-drive/aaadrive-faq'}, {'score': 1.7186232, 'type': 'page', 'title': 'Auto Safety & Information Center', 'url': 'https://dev1.meemic.com/member-services/safety-information-center/car-safety-information-center'}, {'score': 1.718579, 'type': 'page', 'title': 'AAADrive Terms and Conditions', 'url': 'https://dev1.meemic.com/auto-insurance/aaa-drive/terms-and-conditions'}, {'score': 1.7175632, 'type': 'page', 'title': 'Auto Insurance Articles', 'url': 'https://dev1.meemic.com/why-meemic/blog/auto-insurance'}, {'score': 1.7160583, 'type': 'page', 'title': 'Renewal Forms Mail', 'url': 'https://dev1.meemic.com/renewalformsmail'}, {'score': 1.715127, 'type': 'page', 'title': 'Inquire About Existing Claims from Meemic Insurance Company', 'url': 'https://dev1.meemic.com/member-services/claims-center/inquire-about-existing-claims'}, {'score': 1.7149286, 'type': 'page', 'title': 'Auto Insurance Policy Life Cycle', 'url': 'https://dev1.meemic.com/auto-insurance/life-cycle-guide'}, {'score': 1.7144967, 'type': 'page', 'title': 'When to Reduce Your Car Insurance Coverage', 'url': 'https://dev1.meemic.com/why-meemic/blog/auto-insurance/when-to-reduce-auto-coverage'}, {'score': 1.7143357, 'type': 'page', 'title': 'Insurance Claims Center at Meemic Insurance Company', 'url': 'https://dev1.meemic.com/member-services/claims-center'}, {'score': 1.7142378, 'type': 'page', 'title': 'The Meemic Blog | Meemic Insurance Company', 'url': 'https://dev1.meemic.com/why-meemic/blog'}, {'score': 1.7137709, 'type': 'page', 'title': 'Autumn Driving Safety Tips | Meemic Insurance Company', 'url': 'https://dev1.meemic.com/member-services/safety-information-center/autumn-driving-safety-tips'}, {'score': 1.7134764, 'type': 'page', 'title': 'Cruising Green: 5 Tips for More Eco-Friendly Driving', 'url': 'https://dev1.meemic.com/why-meemic/blog/auto-insurance/cruising-green-5-tips-for-more-eco-friendly-driving'}, {'score': 1.7125918, 'type': 'page', 'title': 'Insurance Checkup at Meemic Insurance Company', 'url': 'https://dev1.meemic.com/member-services/safety-information-center/insurance-checkup'}, {'score': 1.7121512, 'type': 'page', 'title': 'Higher Ed Landing Page', 'url': 'https://dev1.meemic.com/higher-ed-landing-page'}, {'score': 1.712096, 'type': 'page', 'title': '5 Myths About Auto Theft', 'url': 'https://dev1.meemic.com/why-meemic/blog/claims-safety/5-myths-about-auto-theft'}, {'score': 1.7120862, 'type': 'page', 'title': 'Safety Information Center', 'url': 'https://dev1.meemic.com/member-services/safety-information-center'}, {'score': 1.7117434, 'type': 'page', 'title': 'Smartphones Can Spell Trouble for Drivers', 'url': 'https://dev1.meemic.com/why-meemic/blog/claims-safety/smartphone-can-spell-trouble-for-drivers'}, {'score': 1.7116549, 'type': 'page', 'title': 'Insurance for Teachers & Educators | Auto & Home Insurance | Meemic Insurance Company', 'url': 'https://dev1.meemic.com/educational-organization-landing-page'}, {'score': 1.711477, 'type': 'page', 'title': 'Tips for Parents of Teen Drivers', 'url': 'https://dev1.meemic.com/member-services/safety-information-center/tips-for-parents-of-teen-drivers'}, {'score': 1.7112386, 'type': 'page', 'title': 'Shopping Safety Tips from Meemic Insurance Company', 'url': 'https://dev1.meemic.com/member-services/safety-information-center/shopping-safety'}, {'score': 1.7111039, 'type': 'page', 'title': 'Preventing Deer Related Auto Accidents from Meemic Insurance Company', 'url': 'https://dev1.meemic.com/member-services/safety-information-center/preventing-deer-related-auto-accidents'}, {'score': 1.7107583, 'type': 'page', 'title': 'Holiday Home Safety Tips from Meemic Insurance Company', 'url': 'https://dev1.meemic.com/member-services/safety-information-center/holiday-home-safety'}, {'score': 1.7101336, 'type': 'page', 'title': 'Car Insurance for Teachers and Educators | Meemic Insurance Company', 'url': 'https://dev1.meemic.com/auto-insurance'}, {'score': 1.7101161, 'type': 'page', 'title': '10 Safety Tips for Driving in the Rain from Meemic Insurance Company', 'url': 'https://dev1.meemic.com/member-services/safety-information-center/driving-safely-in-the-rain'}, {'score': 1.7099952, 'type': 'page', 'title': 'Have You Checked If Your Car Is Subject to Recall?', 'url': 'https://dev1.meemic.com/why-meemic/blog/auto-insurance/have-you-checked-if-your-car-is-subject-to-recall'}, {'score': 1.7096825, 'type': 'page', 'title': 'Auto Insurance Articles 2', 'url': 'https://dev1.meemic.com/why-meemic/blog/auto-insurance-2'}, {'score': 1.709584, 'type': 'page', 'title': 'Claims Safety', 'url': 'https://dev1.meemic.com/why-meemic/blog/claims-safety'}, {'score': 1.7089856, 'type': 'page', 'title': 'Other Insurance Products', 'url': 'https://dev1.meemic.com/other-products'}, {'score': 1.7087464, 'type': 'page', 'title': 'Meemic and AAA Patnership: Roadside Assistance | Meemic Insurance Company', 'url': 'https://dev1.meemic.com/other-products/aaa-membership'}, {'score': 1.7070396, 'type': 'page', 'title': 'Refer-a-Friend Promotion Terms and Conditions', 'url': 'https://dev1.meemic.com/referafriend'}, {'score': 1.7065551, 'type': 'page', 'title': 'Spring/Summer Storms — Be Aware & Prepared', 'url': 'https://dev1.meemic.com/member-services/safety-information-center/spring-storm-safety'}, {'score': 1.7065271, 'type': 'page', 'title': 'Sitemap for Meemic Insurance Company', 'url': 'https://dev1.meemic.com/site-map'}, {'score': 1.7062755, 'type': 'page', 'title': 'Meemic Insurance Online Account Center', 'url': 'https://dev1.meemic.com/accountcenter'}, {'score': 1.7062548, 'type': 'page', 'title': 'Leaves of Love | Meemic Insurance Company', 'url': 'https://dev1.meemic.com/why-meemic/leaves-of-love'}, {'score': 1.706238, 'type': 'page', 'title': 'Windshield: Repair or Replace?', 'url': 'https://dev1.meemic.com/why-meemic/blog/claims-safety/windshield-repair-or-replace'}, {'score': 1.7061269, 'type': 'page', 'title': 'Buying and Riding a Motorcycle Safely', 'url': 'https://dev1.meemic.com/member-services/safety-information-center/motorcycle-safety-tips'}, {'score': 1.7056317, 'type': 'page', 'title': 'Plan Now for Your Child’s Insurance at College', 'url': 'https://dev1.meemic.com/why-meemic/blog/claims-safety/plan-now-for-your-childs-insurance-at-college'}, {'score': 1.7056279, 'type': 'page', 'title': 'Insurance for Teachers & Educators | Auto & Home Insurance | Meemic Insurance Company', 'url': 'https://dev1.meemic.com/retired-ed-landing-page'}, {'score': 1.705616, 'type': 'page', 'title': 'Best In Class Insurance at Meemic Insurance Company', 'url': 'https://dev1.meemic.com/why-meemic/best-in-class-service'}, {'score': 1.7054281, 'type': 'page', 'title': 'Tips for Staying Healthy in College', 'url': 'https://dev1.meemic.com/why-meemic/blog/claims-safety/tips-for-staying-healthy-in-college'}, {'score': 1.70532, 'type': 'page', 'title': 'Home Auto Bundle', 'url': 'https://dev1.meemic.com/home-auto-bundle'}, {'score': 1.7050784, 'type': 'page', 'title': 'Homeowner Reminders from Meemic Insurance Company', 'url': 'https://dev1.meemic.com/member-services/safety-information-center/homeowner-reminders'}, {'score': 1.70469, 'type': 'page', 'title': 'Insurance for Teachers & Educators | Auto & Home Insurance | Meemic Insurance Company', 'url': 'https://dev1.meemic.com/ya-marketing-landing-page'}, {'score': 1.7040585, 'type': 'page', 'title': 'Umbrella Insurance for Teachers', 'url': 'https://dev1.meemic.com/home-insurance/umbrella-insurance'}, {'score': 1.7038429, 'type': 'page', 'title': 'MEMSPA', 'url': 'https://dev1.meemic.com/memspa'}, {'score': 1.7036142, 'type': 'page', 'title': 'Insurance for Teachers & Educators | Auto & Home Insurance | Meemic Insurance Company', 'url': 'https://dev1.meemic.com/education-quote-landing-page'}, {'score': 1.703399, 'type': 'page', 'title': 'Home Insurance Questions', 'url': 'https://dev1.meemic.com/home-insurance/life-cycle-guide'}, {'score': 1.7027562, 'type': 'page', 'title': 'Home Insurance Claim Process', 'url': 'https://dev1.meemic.com/home-insurance/claims-repair-services'}, {'score': 1.7026955, 'type': 'page', 'title': 'Catalytic Converter Thefts on the Rise', 'url': 'https://dev1.meemic.com/why-meemic/blog/claims-safety/catalytic-converter-thefts-on-the-rise'}, {'score': 1.7025447, 'type': 'page', 'title': 'Contact Us at Meemic Insurance Company', 'url': 'https://dev1.meemic.com/member-services/contact-us'}, {'score': 1.7023299, 'type': 'page', 'title': 'Wind Safety Tips - Witch of November | Meemic Insurance Company', 'url': 'https://dev1.meemic.com/member-services/safety-information-center/witch-of-november-fall-wind-safety'}, {'score': 1.7021325, 'type': 'page', 'title': 'Outstanding Member Satisfaction', 'url': 'https://dev1.meemic.com/why-meemic/outstanding-member-satisfaction'}, {'score': 1.7019763, 'type': 'page', 'title': 'Top Apps to Help You Avoid Drunk Driving', 'url': 'https://dev1.meemic.com/why-meemic/blog/claims-safety/top-apps-to-help-you-avoid-drunk-driving'}, {'score': 1.7016659, 'type': 'page', 'title': 'Claims Safety 3', 'url': 'https://dev1.meemic.com/why-meemic/blog/claims-safety-3'}, {'score': 1.7016371, 'type': 'page', 'title': 'Storm-Proofing Tips from Meemic Insurance Company', 'url': 'https://dev1.meemic.com/member-services/safety-information-center/storm-proofing'}, {'score': 1.7015796, 'type': 'page', 'title': 'Insurance FAQs | Meemic Insurance Company', 'url': 'https://dev1.meemic.com/member-services/insurance-faqs'}, {'score': 1.7014652, 'type': 'page', 'title': 'The Meemic Community | Meemic Insurance Company', 'url': 'https://dev1.meemic.com/why-meemic/meemic-community'}, {'score': 1.7011266, 'type': 'page', 'title': 'Seat Belts Save Thousands of Lives Per Year', 'url': 'https://dev1.meemic.com/why-meemic/blog/claims-safety/seat-belt'}, {'score': 1.7009025, 'type': 'page', 'title': \"Do You Barely Use Your RV Don't Forget Maintenance\", 'url': 'https://dev1.meemic.com/why-meemic/blog/auto-insurance/do-you-barely-use-your-rv-dont-forget-maintenance'}, {'score': 1.7006859, 'type': 'page', 'title': 'Save Now', 'url': 'https://dev1.meemic.com/save-now'}, {'score': 1.7006128, 'type': 'page', 'title': 'Save 694', 'url': 'https://dev1.meemic.com/save-694'}, {'score': 1.7004777, 'type': 'page', 'title': 'Home Insurance Discounts', 'url': 'https://dev1.meemic.com/home-insurance/educators-staff-benefits-discounts'}, {'score': 1.700333, 'type': 'page', 'title': \"Don't Be a Fatal Statistic from Driving Drowsy\", 'url': 'https://dev1.meemic.com/member-services/safety-information-center/avoid-driving-while-drowsy'}, {'score': 1.7001636, 'type': 'page', 'title': 'Policy Documents', 'url': 'https://dev1.meemic.com/policydocs'}, {'score': 1.7000916, 'type': 'page', 'title': 'foundation_logo_v_2018_cmyk.png', 'url': 'https://dev1.meemic.com/foundation_logo_v_2018_cmyk'}, {'score': 1.7000916, 'type': 'page', 'title': 'JotForm Test', 'url': 'https://dev1.meemic.com/jotform-test'}, {'score': 1.699841, 'type': 'page', 'title': 'Insurance for Teachers & Educators | Auto & Home Insurance | Meemic Insurance Company', 'url': 'https://dev1.meemic.com/marketing-landing-page'}, {'score': 1.699841, 'type': 'page', 'title': 'Save 465', 'url': 'https://dev1.meemic.com/save-465'}, {'score': 1.6998289, 'type': 'page', 'title': 'AAA Terms & Conditions', 'url': 'https://dev1.meemic.com/aaamemberterms'}, {'score': 1.6995767, 'type': 'page', 'title': 'Fire Safety', 'url': 'https://dev1.meemic.com/member-services/safety-information-center/fire-safety'}, {'score': 1.6993834, 'type': 'page', 'title': 'Home Security*', 'url': 'https://dev1.meemic.com/member-services/safety-information-center/home-security'}, {'score': 1.6989775, 'type': 'page', 'title': 'Tips for Dealing with Potholes – Stay Vigilant', 'url': 'https://dev1.meemic.com/member-services/safety-information-center/tips-for-dealing-with-potholes'}, {'score': 1.6988201, 'type': 'page', 'title': 'Protect Your Boat with Insurance, Winterization', 'url': 'https://dev1.meemic.com/why-meemic/blog/claims-safety/winterize-your-boat'}, {'score': 1.6987914, 'type': 'page', 'title': 'Browse All Teaching & Education Articles', 'url': 'https://dev1.meemic.com/why-meemic/blog/teaching-and-education-3'}, {'score': 1.6985898, 'type': 'page', 'title': 'Reducing Your Risk When Driving at Night', 'url': 'https://dev1.meemic.com/why-meemic/blog/auto-insurance/reducing-your-risk-when-driving-at-night'}, {'score': 1.6971227, 'type': 'page', 'title': 'Common Insurance Myths - Busted', 'url': 'https://dev1.meemic.com/why-meemic/blog/auto-insurance/common-insurance-myths-busted'}, {'score': 1.6970232, 'type': 'page', 'title': 'Insurance for Teachers & Educators | Auto & Home Insurance | Meemic Insurance Company', 'url': 'https://dev1.meemic.com'}, {'score': 1.0929638, 'type': 'image', 'title': '', 'url': 'https://aaa.scene7.com/is/image/aaaautoclubsouthstage/image-45?ts=1724055712202&bfc=on&network=on&dirt_feature=smart_imaging&dpr=off'}, {'score': 1.089716, 'type': 'image', 'title': '', 'url': 'https://dev1.meemic.com/content/meemic/us/en/member-services/safety-information-center/fire-safety/_jcr_content/root/container/container/article-banner/image.coreimg.jpeg/1724054282961/fire-safety.jpeg'}, {'score': 1.085163, 'type': 'image', 'title': '', 'url': 'https://dev1.meemic.com/content/meemic/us/en/why-meemic/blog/claims-safety/do-i-really-need-travel-insurance/_jcr_content/root/container/container/article-banner/image.coreimg.jpeg/1724055569403/travel-insurance.jpeg'}, {'score': 1.0822113, 'type': 'image', 'title': '', 'url': 'https://dev1.meemic.com/content/meemic/us/en/why-meemic/blog/home-insurance/safeguard-your-wedding-ring-with-the-right-insurance/_jcr_content/root/container/container/article-banner/image.coreimg.jpeg/1724054268692/wedding-ring.jpeg'}, {'score': 1.0811734, 'type': 'image', 'title': 'sb10063936i-001', 'url': 'https://aaa.scene7.com/is/image/aaaautoclubsouthstage/mobile-home-insurance?ts=1724055940822&bfc=on&network=on&dirt_feature=smart_imaging&dpr=off'}, {'score': 1.080129, 'type': 'image', 'title': '', 'url': 'https://aaa.scene7.com/is/image/aaaautoclubsouthstage/image-6-2?ts=1724055623153&bfc=on&network=on&dirt_feature=smart_imaging&dpr=off'}, {'score': 1.0794984, 'type': 'image', 'title': '', 'url': 'https://aaa.scene7.com/is/image/aaaautoclubsouthstage/image-14-1?ts=1724055644483&bfc=on&network=on&dirt_feature=smart_imaging&dpr=off'}, {'score': 1.0791733, 'type': 'image', 'title': '', 'url': 'https://aaa.scene7.com/is/image/aaaautoclubsouthstage/why-get-flood-insurance?ts=1724055730273&bfc=on&network=on&dirt_feature=smart_imaging&dpr=off'}, {'score': 1.0789921, 'type': 'image', 'title': '', 'url': 'https://aaa.scene7.com/is/image/aaaautoclubsouthstage/image-3-2?ts=1724055636377&bfc=on&network=on&dirt_feature=smart_imaging&dpr=off'}, {'score': 1.0783685, 'type': 'image', 'title': '', 'url': 'https://aaa.scene7.com/is/image/aaaautoclubsouthstage/image-17-1?ts=1724055618284&bfc=on&network=on&dirt_feature=smart_imaging&dpr=off'}, {'score': 1.0774281, 'type': 'image', 'title': '', 'url': 'https://dev1.meemic.com/content/meemic/us/en/member-services/safety-information-center/thanksgiving-kitchen-safety-tips/_jcr_content/root/container/container/article-banner/image.coreimg.jpeg/1724054272716/thanksgiving-article-safety.jpeg'}, {'score': 1.077252, 'type': 'image', 'title': '', 'url': 'https://dev1.meemic.com/content/meemic/us/en/why-meemic/blog/claims-safety/like-a-boy-scout-be-prepared-when-camping/_jcr_content/root/container/container/article-banner/image.coreimg.jpeg/1724055533012/camping-prepardness-tips.jpeg'}, {'score': 1.0769365, 'type': 'image', 'title': '871009038', 'url': 'https://aaa.scene7.com/is/image/aaaautoclubsouthstage/become-a-home-owner?ts=1724055860878&bfc=on&network=on&dirt_feature=smart_imaging&dpr=off'}, {'score': 1.0761167, 'type': 'image', 'title': '', 'url': 'https://dev1.meemic.com/content/meemic/us/en/why-meemic/blog/home-insurance/renters-insurance-and-misconceptions/_jcr_content/root/container/container/article-banner/image.coreimg.jpeg/1724055535859/apartment-building.jpeg'}, {'score': 1.074613, 'type': 'image', 'title': '', 'url': 'https://aaa.scene7.com/is/image/aaaautoclubsouthstage/grilling-safety-1?ts=1724054257385&$Responsive$&bfc=on&network=on&dirt_feature=smart_imaging&dpr=off'}, {'score': 1.0731798, 'type': 'image', 'title': '1828480723', 'url': 'https://aaa.scene7.com/is/image/aaaautoclubsouthstage/meemic-insurance-faq-page-hero?ts=1724055933239&bfc=on&network=on&dirt_feature=smart_imaging&dpr=off'}, {'score': 1.0723374, 'type': 'image', 'title': '', 'url': 'https://aaa.scene7.com/is/image/aaaautoclubsouthstage/christmas-tree-1?ts=1724055558502&bfc=on&network=on&dirt_feature=smart_imaging&dpr=off'}, {'score': 1.0720925, 'type': 'image', 'title': 'Celebrate the new 2025-26 school year', 'url': 'https://aaa.scene7.com/is/image/aaaautoclubsouthstage/q2grant_2025?ts=1743771349005&$Responsive$&bfc=on&network=on&dirt_feature=smart_imaging&dpr=off'}, {'score': 1.0710046, 'type': 'image', 'title': '1313283007', 'url': 'https://aaa.scene7.com/is/image/aaaautoclubsouthstage/renters-insurance-1?ts=1724055963775&bfc=on&network=on&dirt_feature=smart_imaging&dpr=off'}, {'score': 1.0696474, 'type': 'image', 'title': 'Precautions to Think About Before Heading on Vacation', 'url': 'https://dev1.meemic.com/content/meemic/us/en/why-meemic/blog/claims-safety/travel-precautions-blog/_jcr_content/root/container/container/article-banner/image.coreimg.jpeg/1731684301133/travel-safety.jpeg'}, {'score': 1.0694501, 'type': 'image', 'title': '', 'url': 'https://aaa.scene7.com/is/image/aaaautoclubsouthstage/sept-popin-grant?ts=1726160255974&$Responsive$&bfc=on&network=on&dirt_feature=smart_imaging&dpr=off'}, {'score': 1.0692258, 'type': 'image', 'title': '', 'url': 'https://aaa.scene7.com/is/image/aaaautoclubsouthstage/image-9-2?ts=1724055645420&bfc=on&network=on&dirt_feature=smart_imaging&dpr=off'}, {'score': 1.0688251, 'type': 'image', 'title': '', 'url': 'https://aaa.scene7.com/is/image/aaaautoclubsouthstage/image-26-1?ts=1724055605972&bfc=on&network=on&dirt_feature=smart_imaging&dpr=off'}, {'score': 1.0678334, 'type': 'image', 'title': 'hero', 'url': 'https://aaa.scene7.com/is/image/aaaautoclubsouthstage/meemic-home-insurance-discounts?ts=1724055976147&bfc=on&network=on&dirt_feature=smart_imaging&dpr=off'}, {'score': 1.0678146, 'type': 'image', 'title': '', 'url': 'https://dev1.meemic.com/content/meemic/us/en/member-services/safety-information-center/avoid-driving-while-drowsy/_jcr_content/root/container/container/article-banner/image.coreimg.jpeg/1724055558830/driving-tired-driver-safety.jpeg'}, {'score': 1.0676575, 'type': 'image', 'title': 'image', 'url': 'https://aaa.scene7.com/is/image/aaaautoclubsouthstage/theres-strength-in-number?ts=1724055645333&bfc=on&network=on&dirt_feature=smart_imaging&dpr=off'}, {'score': 1.0673836, 'type': 'image', 'title': 'hero', 'url': 'https://aaa.scene7.com/is/image/aaaautoclubsouthstage/home-insurance-hero?ts=1724055983456&bfc=on&network=on&dirt_feature=smart_imaging&dpr=off'}, {'score': 1.0672659, 'type': 'image', 'title': '', 'url': 'https://dev1.meemic.com/content/meemic/us/en/member-services/safety-information-center/space-heating-safety-tips/_jcr_content/root/container/container/article-banner/image.coreimg.jpeg/1724054270555/space-heater-article.jpeg'}, {'score': 1.0663548, 'type': 'image', 'title': '', 'url': 'https://aaa.scene7.com/is/image/aaaautoclubsouthstage/image-52?ts=1724055737164&bfc=on&network=on&dirt_feature=smart_imaging&dpr=off'}, {'score': 1.0656765, 'type': 'image', 'title': '', 'url': 'https://dev1.meemic.com/content/meemic/us/en/why-meemic/blog/auto-insurance/do-you-need-comprehensive-auto-coverage/_jcr_content/root/container/container/article-banner/image.coreimg.jpeg/1724055554152/new-comprehensive-car-coverage.jpeg'}, {'score': 1.065517, 'type': 'image', 'title': '', 'url': 'https://dev1.meemic.com/content/meemic/us/en/why-meemic/blog/claims-safety/protecting-your-home-against-garage-fires/_jcr_content/root/container/container/article-banner/image.coreimg.jpeg/1724055561963/garage-fire-main.jpeg'}, {'score': 1.0651343, 'type': 'image', 'title': '', 'url': 'https://aaa.scene7.com/is/image/aaaautoclubsouthstage/thanksgiving-article-fryer-safety-1?ts=1724055570774&$Responsive$&bfc=on&network=on&dirt_feature=smart_imaging&dpr=off'}, {'score': 1.0647112, 'type': 'image', 'title': '', 'url': 'https://aaa.scene7.com/is/image/aaaautoclubsouthstage/image-15-1?ts=1724055612921&bfc=on&network=on&dirt_feature=smart_imaging&dpr=off'}, {'score': 1.064628, 'type': 'image', 'title': '', 'url': 'https://dev1.meemic.com/content/meemic/us/en/member-services/safety-information-center/home-security/_jcr_content/root/container/container/article-banner/image.coreimg.jpeg/1724055559729/home-security-system.jpeg'}, {'score': 1.0645382, 'type': 'image', 'title': '', 'url': 'https://dev1.meemic.com/content/meemic/us/en/why-meemic/blog/claims-safety/catalytic-converter-thefts-on-the-rise/_jcr_content/root/container/container/article-banner/image.coreimg.jpeg/1724055538979/car-theft-under-car-items.jpeg'}, {'score': 1.0643363, 'type': 'image', 'title': '175416163', 'url': 'https://aaa.scene7.com/is/image/aaaautoclubsouthstage/meemic-auto-glass-repair?ts=1724055928251&bfc=on&network=on&dirt_feature=smart_imaging&dpr=off'}, {'score': 1.0643363, 'type': 'image', 'title': '175416163', 'url': 'https://aaa.scene7.com/is/image/aaaautoclubsouthstage/meemic-auto-glass-repair?ts=1724055928251&bfc=on&network=on&dirt_feature=smart_imaging&dpr=off'}, {'score': 1.064078, 'type': 'image', 'title': 'Precautions to Think About Before Heading on Vacation', 'url': 'https://aaa.scene7.com/is/image/aaaautoclubsouthstage/travel-safety-1?ts=1732136181453&bfc=on&network=on&dirt_feature=smart_imaging&dpr=off'}, {'score': 1.0638705, 'type': 'image', 'title': '511471770', 'url': 'https://aaa.scene7.com/is/image/aaaautoclubsouthstage/auto-insurance-life-cycle?ts=1724055940207&bfc=on&network=on&dirt_feature=smart_imaging&dpr=off'}, {'score': 1.0637144, 'type': 'image', 'title': '', 'url': 'https://aaa.scene7.com/is/image/aaaautoclubsouthstage/image-4-2?ts=1724055664960&bfc=on&network=on&dirt_feature=smart_imaging&dpr=off'}, {'score': 1.0636281, 'type': 'image', 'title': '', 'url': 'https://dev1.meemic.com/content/meemic/us/en/member-services/safety-information-center/tips-for-dealing-with-potholes/_jcr_content/root/container/container/article-banner/image.coreimg.jpeg/1724055572091/pothole-article-tips-and-tricks.jpeg'}, {'score': 1.063589, 'type': 'image', 'title': '150954377', 'url': 'https://aaa.scene7.com/is/image/aaaautoclubsouthstage/when-to-get-umbrella-insurance?ts=1724055964654&bfc=on&network=on&dirt_feature=smart_imaging&dpr=off'}, {'score': 1.0631847, 'type': 'image', 'title': 'Man Replacing Battery In Home Smoke Alarm', 'url': 'https://dev1.meemic.com/content/meemic/us/en/why-meemic/blog/claims-safety/why-every-home-needs-smoke-alarms/_jcr_content/root/container/container/article-banner/image.coreimg.jpeg/1728594760010/smoke-alarm-maintenance.jpeg'}, {'score': 1.0625048, 'type': 'image', 'title': 'Man Replacing Battery In Home Smoke Alarm', 'url': 'https://aaa.scene7.com/is/image/aaaautoclubsouthstage/smoke-alarm-maintenance-1?ts=1729280634336&bfc=on&network=on&dirt_feature=smart_imaging&dpr=off'}, {'score': 1.0624712, 'type': 'image', 'title': '2152392736', 'url': 'https://aaa.scene7.com/is/image/aaaautoclubsouthstage/other-products-travel?ts=1724055961969&bfc=on&network=on&dirt_feature=smart_imaging&dpr=off'}, {'score': 1.0621256, 'type': 'image', 'title': '', 'url': 'https://dev1.meemic.com/content/meemic/us/en/member-services/safety-information-center/pool-safety-for-family-members-visitors/_jcr_content/root/container/container/article-banner/image.coreimg.jpeg/1724055576851/pool-safety.jpeg'}, {'score': 1.0614009, 'type': 'image', 'title': '', 'url': 'https://aaa.scene7.com/is/image/aaaautoclubsouthstage/image-29-1?ts=1724055700239&bfc=on&network=on&dirt_feature=smart_imaging&dpr=off'}, {'score': 1.0613502, 'type': 'image', 'title': '', 'url': 'https://dev1.meemic.com/content/meemic/us/en/why-meemic/blog/home-insurance/what-you-need-to-know-home-sharing/_jcr_content/root/container/container/article-banner/image.coreimg.jpeg/1724055545573/room-for-rent.jpeg'}, {'score': 1.0610555, 'type': 'image', 'title': '', 'url': 'https://dev1.meemic.com/content/meemic/us/en/member-services/safety-information-center/chimney-and-fireplace-safety/_jcr_content/root/container/container/article-banner/image.coreimg.jpeg/1724055538779/chimney-fireplace-safety.jpeg'}, {'score': 1.0607845, 'type': 'image', 'title': '470719831', 'url': 'https://aaa.scene7.com/is/image/aaaautoclubsouthstage/home-life-cycle-1?ts=1724055988143&bfc=on&network=on&dirt_feature=smart_imaging&dpr=off'}, {'score': 1.0607492, 'type': 'image', 'title': '', 'url': 'https://aaa.scene7.com/is/image/aaaautoclubsouthstage/image-7-2?ts=1724055658673&bfc=on&network=on&dirt_feature=smart_imaging&dpr=off'}, {'score': 1.0604109, 'type': 'image', 'title': '', 'url': 'https://aaa.scene7.com/is/image/aaaautoclubsouthstage/image-18-1?ts=1724055618907&bfc=on&network=on&dirt_feature=smart_imaging&dpr=off'}, {'score': 1.0604057, 'type': 'image', 'title': 'Test Image', 'url': 'https://member.acg.aaa.com/content/dam/acg/images/home/pr-home/hero-splash-3.jpg'}, {'score': 1.0603454, 'type': 'image', 'title': '1470198654', 'url': 'https://aaa.scene7.com/is/image/aaaautoclubsouthstage/condo-insurance?ts=1724055966500&bfc=on&network=on&dirt_feature=smart_imaging&dpr=off'}, {'score': 1.060262, 'type': 'image', 'title': '', 'url': 'https://dev1.meemic.com/content/meemic/us/en/why-meemic/blog/claims-safety/plan-now-for-your-childs-insurance-at-college/_jcr_content/root/container/container/article-banner/image.coreimg.jpeg/1724054269596/college-insurance.jpeg'}, {'score': 1.0600092, 'type': 'image', 'title': '', 'url': 'https://dev1.meemic.com/content/meemic/us/en/why-meemic/blog/claims-safety/10-tips-to-help-prevent-and-combat-electrical-fire/_jcr_content/root/container/container/article-banner/image.coreimg.jpeg/1724055550976/electrical-fire.jpeg'}, {'score': 1.0597758, 'type': 'image', 'title': '', 'url': 'https://dev1.meemic.com/content/meemic/us/en/why-meemic/blog/home-insurance/will-your-insurance-cover-you-while-moving/_jcr_content/root/container/container/article-banner/image.coreimg.jpeg/1724055553379/moving-houses-blog.jpeg'}, {'score': 1.0587262, 'type': 'image', 'title': '', 'url': 'https://dev1.meemic.com/content/meemic/us/en/why-meemic/blog/auto-insurance/common-insurance-myths-busted/_jcr_content/root/container/container/article-banner/image.coreimg.jpeg/1724055573839/insurance-myths.jpeg'}, {'score': 1.0586191, 'type': 'image', 'title': '5 Myths About Auto Theft', 'url': 'https://dev1.meemic.com/content/meemic/us/en/why-meemic/blog/claims-safety/5-myths-about-auto-theft/_jcr_content/root/container/container/article-banner/image.coreimg.jpeg/1731687435805/auto-theft.jpeg'}, {'score': 1.0585961, 'type': 'image', 'title': 'Close-up view of grey car crashed into blue truck. Auto accident on city street. Dangerous situation for vehicle. Traffic trouble and insurance claim concept', 'url': 'https://dev1.meemic.com/content/meemic/us/en/why-meemic/blog/auto-insurance/auto-liability-coverage/_jcr_content/root/container/container/article-banner/image.coreimg.jpeg/1739220223338/auto-liability-coverage.jpeg'}, {'score': 1.058373, 'type': 'image', 'title': '', 'url': 'https://aaa.scene7.com/is/image/aaaautoclubsouthstage/image-13?ts=1724055721691&bfc=on&network=on&dirt_feature=smart_imaging&dpr=off'}, {'score': 1.0583209, 'type': 'image', 'title': '', 'url': 'https://aaa.scene7.com/is/image/aaaautoclubsouthstage/image-8-1?ts=1724055633545&bfc=on&network=on&dirt_feature=smart_imaging&dpr=off'}, {'score': 1.0579987, 'type': 'image', 'title': '', 'url': 'https://aaa.scene7.com/is/image/aaaautoclubsouthstage/september-mtoy-art-pthvp?ts=1724055603550&bfc=on&network=on&dirt_feature=smart_imaging&dpr=off'}, {'score': 1.0579109, 'type': 'image', 'title': 'image', 'url': 'https://aaa.scene7.com/is/image/aaaautoclubsouthstage/claims-center-hero?ts=1724055947151&bfc=on&network=on&dirt_feature=smart_imaging&dpr=off'}, {'score': 1.0578414, 'type': 'image', 'title': '1320874936', 'url': 'https://aaa.scene7.com/is/image/aaaautoclubsouthstage/auto-coverage-comprehensive-coverage?ts=1724055950603&bfc=on&network=on&dirt_feature=smart_imaging&dpr=off'}, {'score': 1.0578414, 'type': 'image', 'title': '1320874936', 'url': 'https://aaa.scene7.com/is/image/aaaautoclubsouthstage/auto-coverage-comprehensive-coverage?ts=1724055950603&bfc=on&network=on&dirt_feature=smart_imaging&dpr=off'}, {'score': 1.0577284, 'type': 'image', 'title': 'Image 39', 'url': 'https://dev1.meemic.com/content/dam/meemic/icons/green-4.png'}, {'score': 1.0575519, 'type': 'image', 'title': '', 'url': 'https://aaa.scene7.com/is/image/aaaautoclubsouthstage/image-8-3?ts=1724055626343&bfc=on&network=on&dirt_feature=smart_imaging&dpr=off'}, {'score': 1.0575145, 'type': 'image', 'title': 'Close-up view of grey car crashed into blue truck. Auto accident on city street. Dangerous situation for vehicle. Traffic trouble and insurance claim concept', 'url': 'https://aaa.scene7.com/is/image/aaaautoclubsouthstage/auto-liability-coverage-1?ts=1739290602970&bfc=on&network=on&dirt_feature=smart_imaging&dpr=off'}, {'score': 1.0575145, 'type': 'image', 'title': 'Close-up view of grey car crashed into blue truck. Auto accident on city street. Dangerous situation for vehicle. Traffic trouble and insurance claim concept', 'url': 'https://aaa.scene7.com/is/image/aaaautoclubsouthstage/auto-liability-coverage-1?ts=1739286944424&bfc=on&network=on&dirt_feature=smart_imaging&dpr=off'}, {'score': 1.0573801, 'type': 'image', 'title': '', 'url': 'https://aaa.scene7.com/is/image/aaaautoclubsouthstage/anti-bullying-initiatives-september-foundation-article?ts=1726159867373&bfc=on&network=on&dirt_feature=smart_imaging&dpr=off'}, {'score': 1.05719, 'type': 'image', 'title': 'New Year concept', 'url': 'https://aaa.scene7.com/is/image/aaaautoclubsouthstage/MTOY-blog-January-New-Year?ts=1737651754610&bfc=on&network=on&dirt_feature=smart_imaging&dpr=off'}, {'score': 1.0571833, 'type': 'image', 'title': '', 'url': 'https://dev1.meemic.com/content/meemic/us/en/member-services/safety-information-center/hail-storms/_jcr_content/root/container/container/article-banner/image.coreimg.jpeg/1724055592612/hail-storm-safety.jpeg'}, {'score': 1.0570434, 'type': 'image', 'title': '', 'url': 'https://dev1.meemic.com/content/meemic/us/en/member-services/safety-information-center/radon-a-little-known-household-danger/_jcr_content/root/container/container/article-banner/image.coreimg.jpeg/1724054271441/radon-testing-article.jpeg'}, {'score': 1.0565162, 'type': 'image', 'title': '', 'url': 'https://aaa.scene7.com/is/image/aaaautoclubsouthstage/registerhero?ts=1720722706266&bfc=on&network=on&dirt_feature=smart_imaging&dpr=off'}, {'score': 1.0563129, 'type': 'image', 'title': 'Image 36', 'url': 'https://dev1.meemic.com/content/dam/meemic/icons/green-1.png'}, {'score': 1.0563129, 'type': 'image', 'title': 'Image 49', 'url': 'https://dev1.meemic.com/content/dam/meemic/icons/green-1.png'}, {'score': 1.0563129, 'type': 'image', 'title': 'Report Your Claim', 'url': 'https://dev1.meemic.com/content/dam/meemic/icons/green-1.png'}, {'score': 1.0563129, 'type': 'image', 'title': 'Image 1103', 'url': 'https://dev1.meemic.com/content/dam/meemic/icons/green-1.png'}, {'score': 1.0557016, 'type': 'image', 'title': '', 'url': 'https://aaa.scene7.com/is/image/aaaautoclubsouthstage/new-the-explosive-child?ts=1723233066950&bfc=on&network=on&dirt_feature=smart_imaging&dpr=off'}, {'score': 1.05563, 'type': 'image', 'title': '', 'url': 'https://dev1.meemic.com/content/meemic/us/en/why-meemic/blog/claims-safety/fireworks-safety/_jcr_content/root/container/container/article-banner/image.coreimg.jpeg/1724055536972/fireworks-safety.jpeg'}, {'score': 1.0553685, 'type': 'image', 'title': '1464776403', 'url': 'https://aaa.scene7.com/is/image/aaaautoclubsouthstage/meemic-insurnace-benefits-and-discounts?ts=1724055690023&bfc=on&network=on&dirt_feature=smart_imaging&dpr=off'}, {'score': 1.0553663, 'type': 'image', 'title': '1290693328', 'url': 'https://aaa.scene7.com/is/image/aaaautoclubsouthstage/other-products-life?ts=1724055954282&bfc=on&network=on&dirt_feature=smart_imaging&dpr=off'}, {'score': 1.0547568, 'type': 'image', 'title': '10 Tips to Avoid Parking Lot Hazards', 'url': 'https://aaa.scene7.com/is/image/aaaautoclubsouthstage/parking-lot-safety?ts=1732646512913&bfc=on&network=on&dirt_feature=smart_imaging&dpr=off'}, {'score': 1.0546826, 'type': 'image', 'title': '', 'url': 'https://dev1.meemic.com/content/meemic/us/en/why-meemic/blog/claims-safety/tips-on-avoiding-suv-rollovers/_jcr_content/root/container/container/article-banner/image.coreimg.jpeg/1724054278331/suv-rollover-article.jpeg'}, {'score': 1.054353, 'type': 'image', 'title': '', 'url': 'https://aaa.scene7.com/is/image/aaaautoclubsouthstage/image-7-5?ts=1724055647313&bfc=on&network=on&dirt_feature=smart_imaging&dpr=off'}, {'score': 1.0542146, 'type': 'image', 'title': '5 Myths About Auto Theft', 'url': 'https://aaa.scene7.com/is/image/aaaautoclubsouthstage/auto-theft-1?ts=1732136180530&bfc=on&network=on&dirt_feature=smart_imaging&dpr=off'}, {'score': 1.0538976, 'type': 'image', 'title': 'Close-up of a row of townhouses in Arlington, Virginia', 'url': 'https://aaa.scene7.com/is/image/aaaautoclubsouthstage/HOA-insurance-1?ts=1735944386135&bfc=on&network=on&dirt_feature=smart_imaging&dpr=off'}, {'score': 1.0538976, 'type': 'image', 'title': 'Close-up of a row of townhouses in Arlington, Virginia', 'url': 'https://aaa.scene7.com/is/image/aaaautoclubsouthstage/HOA-insurance-1?ts=1735855379634&bfc=on&network=on&dirt_feature=smart_imaging&dpr=off'}, {'score': 1.0532526, 'type': 'image', 'title': 'Image 37', 'url': 'https://dev1.meemic.com/content/dam/meemic/icons/green-2.png'}, {'score': 1.0532526, 'type': 'image', 'title': 'Image 50', 'url': 'https://dev1.meemic.com/content/dam/meemic/icons/green-2.png'}, {'score': 1.0532526, 'type': 'image', 'title': 'Image 145', 'url': 'https://dev1.meemic.com/content/dam/meemic/icons/green-2.png'}, {'score': 1.0532526, 'type': 'image', 'title': 'Image 1104', 'url': 'https://dev1.meemic.com/content/dam/meemic/icons/green-2.png'}, {'score': 1.0530797, 'type': 'image', 'title': '1422163487', 'url': 'https://aaa.scene7.com/is/image/aaaautoclubsouthstage/home-insurance-coverage?ts=1724055941774&bfc=on&network=on&dirt_feature=smart_imaging&dpr=off'}, {'score': 1.0530797, 'type': 'image', 'title': '1422163487', 'url': 'https://aaa.scene7.com/is/image/aaaautoclubsouthstage/home-insurance-coverage?ts=1724055941774&bfc=on&network=on&dirt_feature=smart_imaging&dpr=off'}, {'score': 1.0526546, 'type': 'image', 'title': '523307348', 'url': 'https://aaa.scene7.com/is/image/aaaautoclubsouthstage/home-insurance-liability-coverage?ts=1724055957836&bfc=on&network=on&dirt_feature=smart_imaging&dpr=off'}, {'score': 1.0526546, 'type': 'image', 'title': '523307348', 'url': 'https://aaa.scene7.com/is/image/aaaautoclubsouthstage/home-insurance-liability-coverage?ts=1724055957836&bfc=on&network=on&dirt_feature=smart_imaging&dpr=off'}, {'score': 1.0526084, 'type': 'image', 'title': 'Image 40', 'url': 'https://dev1.meemic.com/content/dam/meemic/icons/green-5.png'}, {'score': 1.0520104, 'type': 'image', 'title': '', 'url': 'https://aaa.scene7.com/is/image/aaaautoclubsouthstage/flood-insurance-hero?ts=1724055989086&bfc=on&network=on&dirt_feature=smart_imaging&dpr=off'}, {'score': 1.0517164, 'type': 'image', 'title': 'HOA house', 'url': 'https://dev1.meemic.com/content/meemic/us/en/why-meemic/blog/home-insurance/hoa-insurance-obligations/_jcr_content/root/container/container/article-banner/image.coreimg.jpeg/1734975042269/hoa-insurance.jpeg'}]\n",
            "\n",
            " Search Results:\n",
            "1. [1.7367] The Vacation Road Trip – Prepare to Have Fun! → https://dev1.meemic.com/why-meemic/blog/claims-safety/the-summer-road-trip-prepare-to-have-fun\n",
            "2. [1.7353] Consumer Guide to Collision Repair from Meemic Insurance Company → https://dev1.meemic.com/member-services/safety-information-center/consumer-guide-to-collision-repair\n",
            "3. [1.7340] Browse All Claims and Safety Articles → https://dev1.meemic.com/why-meemic/blog/claims-safety-4\n",
            "4. [1.7332] Top 10 Vehicle Technologies for Mature Drivers → https://dev1.meemic.com/why-meemic/blog/claims-safety/top-10-vehicle-technologies-for-mature-drivers\n",
            "5. [1.7318] Essential Safety Features for Safe Winter Driving → https://dev1.meemic.com/why-meemic/blog/claims-safety/essential-safety-features-for-safe-winter-driving\n",
            "6. [1.7305] Auto Theft Prevention Tips from Meemic Insurance Company → https://dev1.meemic.com/member-services/safety-information-center/auto-theft-prevention\n",
            "7. [1.7282] Do You Need Comprehensive Car Insurance Coverage? → https://dev1.meemic.com/why-meemic/blog/auto-insurance/do-you-need-comprehensive-auto-coverage\n",
            "8. [1.7270] Claims & Repair Services → https://dev1.meemic.com/auto-insurance/claims-repair-services\n",
            "9. [1.7270] Claims & Repair Services → https://dev1.meemic.com/member-services/repair-services\n",
            "10. [1.7267] The Educated Choice Repair Program by Meemic Insurance Company → https://dev1.meemic.com/member-services/repair-services/educated-choice-repair-program\n",
            "11. [1.7258] Avoid Falling Victim to the Staged Car Crash Scam → https://dev1.meemic.com/why-meemic/blog/claims-safety/avoid-falling-victim-to-the-staged-car-crash-scam\n",
            "12. [1.7238] Car Insurance Discounts for Educators → https://dev1.meemic.com/auto-insurance/educators-staff-benefits-discounts\n",
            "13. [1.7238] Antique Car Insurance → https://dev1.meemic.com/auto-insurance/antique-car-insurance\n",
            "14. [1.7234] Specialized Auto Insurance Discounts & Coverages for the Educational Community → https://dev1.meemic.com/auto-insurance/auto-policy-benefits\n",
            "15. [1.7227] Protect Your Key Fob to Help Avoid ‘Relay Attack’ Car Theft → https://dev1.meemic.com/why-meemic/blog/claims-safety/key-fob-relay-attack\n",
            "16. [1.7223] Emergency Supply Kits → https://dev1.meemic.com/member-services/safety-information-center/emergency-supply-kits\n",
            "17. [1.7222] AAA Drive → https://dev1.meemic.com/auto-insurance/aaa-drive\n",
            "18. [1.7220] Fender-benders: 4 Tips to Help Protect Yourself → https://dev1.meemic.com/why-meemic/blog/claims-safety/fender-benders-4-tips-to-help-protect-yourself\n",
            "19. [1.7218] Take Extra Precautions to Keep Kids Out of Hot Cars → https://dev1.meemic.com/why-meemic/blog/claims-safety/take-extra-precautions-to-keep-kids-out-of-hot-car\n",
            "20. [1.7211] Privacy Policy → https://dev1.meemic.com/auto-insurance/aaa-drive/privacy-policy\n",
            "21. [1.7208] 7 Steps for Preparing Your Vehicle for Long-Term Storage → https://dev1.meemic.com/why-meemic/blog/auto-insurance/7-steps-for-preparing-your-vehicle-for-long-term-storage\n",
            "22. [1.7193] 10 Tips to Avoid Parking Lot Hazards → https://dev1.meemic.com/why-meemic/blog/claims-safety/10-tips-to-avoid-parking-lot-hazards\n",
            "23. [1.7192] Winter Driving Safety: Use Extra Caution on Snowy & Icy Roads → https://dev1.meemic.com/member-services/safety-information-center/winter-driving-safety-use-extra-caution-on-snowy-icy-roads\n",
            "24. [1.7187] AAADrive™ Frequently asked questions → https://dev1.meemic.com/auto-insurance/aaa-drive/aaadrive-faq\n",
            "25. [1.7186] Auto Safety & Information Center → https://dev1.meemic.com/member-services/safety-information-center/car-safety-information-center\n",
            "26. [1.7186] AAADrive Terms and Conditions → https://dev1.meemic.com/auto-insurance/aaa-drive/terms-and-conditions\n",
            "27. [1.7176] Auto Insurance Articles → https://dev1.meemic.com/why-meemic/blog/auto-insurance\n",
            "28. [1.7161] Renewal Forms Mail → https://dev1.meemic.com/renewalformsmail\n",
            "29. [1.7151] Inquire About Existing Claims from Meemic Insurance Company → https://dev1.meemic.com/member-services/claims-center/inquire-about-existing-claims\n",
            "30. [1.7149] Auto Insurance Policy Life Cycle → https://dev1.meemic.com/auto-insurance/life-cycle-guide\n",
            "31. [1.7145] When to Reduce Your Car Insurance Coverage → https://dev1.meemic.com/why-meemic/blog/auto-insurance/when-to-reduce-auto-coverage\n",
            "32. [1.7143] Insurance Claims Center at Meemic Insurance Company → https://dev1.meemic.com/member-services/claims-center\n",
            "33. [1.7142] The Meemic Blog | Meemic Insurance Company → https://dev1.meemic.com/why-meemic/blog\n",
            "34. [1.7138] Autumn Driving Safety Tips | Meemic Insurance Company → https://dev1.meemic.com/member-services/safety-information-center/autumn-driving-safety-tips\n",
            "35. [1.7135] Cruising Green: 5 Tips for More Eco-Friendly Driving → https://dev1.meemic.com/why-meemic/blog/auto-insurance/cruising-green-5-tips-for-more-eco-friendly-driving\n",
            "36. [1.7126] Insurance Checkup at Meemic Insurance Company → https://dev1.meemic.com/member-services/safety-information-center/insurance-checkup\n",
            "37. [1.7122] Higher Ed Landing Page → https://dev1.meemic.com/higher-ed-landing-page\n",
            "38. [1.7121] 5 Myths About Auto Theft → https://dev1.meemic.com/why-meemic/blog/claims-safety/5-myths-about-auto-theft\n",
            "39. [1.7121] Safety Information Center → https://dev1.meemic.com/member-services/safety-information-center\n",
            "40. [1.7117] Smartphones Can Spell Trouble for Drivers → https://dev1.meemic.com/why-meemic/blog/claims-safety/smartphone-can-spell-trouble-for-drivers\n",
            "41. [1.7117] Insurance for Teachers & Educators | Auto & Home Insurance | Meemic Insurance Company → https://dev1.meemic.com/educational-organization-landing-page\n",
            "42. [1.7115] Tips for Parents of Teen Drivers → https://dev1.meemic.com/member-services/safety-information-center/tips-for-parents-of-teen-drivers\n",
            "43. [1.7112] Shopping Safety Tips from Meemic Insurance Company → https://dev1.meemic.com/member-services/safety-information-center/shopping-safety\n",
            "44. [1.7111] Preventing Deer Related Auto Accidents from Meemic Insurance Company → https://dev1.meemic.com/member-services/safety-information-center/preventing-deer-related-auto-accidents\n",
            "45. [1.7108] Holiday Home Safety Tips from Meemic Insurance Company → https://dev1.meemic.com/member-services/safety-information-center/holiday-home-safety\n",
            "46. [1.7101] Car Insurance for Teachers and Educators | Meemic Insurance Company → https://dev1.meemic.com/auto-insurance\n",
            "47. [1.7101] 10 Safety Tips for Driving in the Rain from Meemic Insurance Company → https://dev1.meemic.com/member-services/safety-information-center/driving-safely-in-the-rain\n",
            "48. [1.7100] Have You Checked If Your Car Is Subject to Recall? → https://dev1.meemic.com/why-meemic/blog/auto-insurance/have-you-checked-if-your-car-is-subject-to-recall\n",
            "49. [1.7097] Auto Insurance Articles 2 → https://dev1.meemic.com/why-meemic/blog/auto-insurance-2\n",
            "50. [1.7096] Claims Safety → https://dev1.meemic.com/why-meemic/blog/claims-safety\n",
            "51. [1.7090] Other Insurance Products → https://dev1.meemic.com/other-products\n",
            "52. [1.7087] Meemic and AAA Patnership: Roadside Assistance | Meemic Insurance Company → https://dev1.meemic.com/other-products/aaa-membership\n",
            "53. [1.7070] Refer-a-Friend Promotion Terms and Conditions → https://dev1.meemic.com/referafriend\n",
            "54. [1.7066] Spring/Summer Storms — Be Aware & Prepared → https://dev1.meemic.com/member-services/safety-information-center/spring-storm-safety\n",
            "55. [1.7065] Sitemap for Meemic Insurance Company → https://dev1.meemic.com/site-map\n",
            "56. [1.7063] Meemic Insurance Online Account Center → https://dev1.meemic.com/accountcenter\n",
            "57. [1.7063] Leaves of Love | Meemic Insurance Company → https://dev1.meemic.com/why-meemic/leaves-of-love\n",
            "58. [1.7062] Windshield: Repair or Replace? → https://dev1.meemic.com/why-meemic/blog/claims-safety/windshield-repair-or-replace\n",
            "59. [1.7061] Buying and Riding a Motorcycle Safely → https://dev1.meemic.com/member-services/safety-information-center/motorcycle-safety-tips\n",
            "60. [1.7056] Plan Now for Your Child’s Insurance at College → https://dev1.meemic.com/why-meemic/blog/claims-safety/plan-now-for-your-childs-insurance-at-college\n",
            "61. [1.7056] Insurance for Teachers & Educators | Auto & Home Insurance | Meemic Insurance Company → https://dev1.meemic.com/retired-ed-landing-page\n",
            "62. [1.7056] Best In Class Insurance at Meemic Insurance Company → https://dev1.meemic.com/why-meemic/best-in-class-service\n",
            "63. [1.7054] Tips for Staying Healthy in College → https://dev1.meemic.com/why-meemic/blog/claims-safety/tips-for-staying-healthy-in-college\n",
            "64. [1.7053] Home Auto Bundle → https://dev1.meemic.com/home-auto-bundle\n",
            "65. [1.7051] Homeowner Reminders from Meemic Insurance Company → https://dev1.meemic.com/member-services/safety-information-center/homeowner-reminders\n",
            "66. [1.7047] Insurance for Teachers & Educators | Auto & Home Insurance | Meemic Insurance Company → https://dev1.meemic.com/ya-marketing-landing-page\n",
            "67. [1.7041] Umbrella Insurance for Teachers → https://dev1.meemic.com/home-insurance/umbrella-insurance\n",
            "68. [1.7038] MEMSPA → https://dev1.meemic.com/memspa\n",
            "69. [1.7036] Insurance for Teachers & Educators | Auto & Home Insurance | Meemic Insurance Company → https://dev1.meemic.com/education-quote-landing-page\n",
            "70. [1.7034] Home Insurance Questions → https://dev1.meemic.com/home-insurance/life-cycle-guide\n",
            "71. [1.7028] Home Insurance Claim Process → https://dev1.meemic.com/home-insurance/claims-repair-services\n",
            "72. [1.7027] Catalytic Converter Thefts on the Rise → https://dev1.meemic.com/why-meemic/blog/claims-safety/catalytic-converter-thefts-on-the-rise\n",
            "73. [1.7025] Contact Us at Meemic Insurance Company → https://dev1.meemic.com/member-services/contact-us\n",
            "74. [1.7023] Wind Safety Tips - Witch of November | Meemic Insurance Company → https://dev1.meemic.com/member-services/safety-information-center/witch-of-november-fall-wind-safety\n",
            "75. [1.7021] Outstanding Member Satisfaction → https://dev1.meemic.com/why-meemic/outstanding-member-satisfaction\n",
            "76. [1.7020] Top Apps to Help You Avoid Drunk Driving → https://dev1.meemic.com/why-meemic/blog/claims-safety/top-apps-to-help-you-avoid-drunk-driving\n",
            "77. [1.7017] Claims Safety 3 → https://dev1.meemic.com/why-meemic/blog/claims-safety-3\n",
            "78. [1.7016] Storm-Proofing Tips from Meemic Insurance Company → https://dev1.meemic.com/member-services/safety-information-center/storm-proofing\n",
            "79. [1.7016] Insurance FAQs | Meemic Insurance Company → https://dev1.meemic.com/member-services/insurance-faqs\n",
            "80. [1.7015] The Meemic Community | Meemic Insurance Company → https://dev1.meemic.com/why-meemic/meemic-community\n",
            "81. [1.7011] Seat Belts Save Thousands of Lives Per Year → https://dev1.meemic.com/why-meemic/blog/claims-safety/seat-belt\n",
            "82. [1.7009] Do You Barely Use Your RV Don't Forget Maintenance → https://dev1.meemic.com/why-meemic/blog/auto-insurance/do-you-barely-use-your-rv-dont-forget-maintenance\n",
            "83. [1.7007] Save Now → https://dev1.meemic.com/save-now\n",
            "84. [1.7006] Save 694 → https://dev1.meemic.com/save-694\n",
            "85. [1.7005] Home Insurance Discounts → https://dev1.meemic.com/home-insurance/educators-staff-benefits-discounts\n",
            "86. [1.7003] Don't Be a Fatal Statistic from Driving Drowsy → https://dev1.meemic.com/member-services/safety-information-center/avoid-driving-while-drowsy\n",
            "87. [1.7002] Policy Documents → https://dev1.meemic.com/policydocs\n",
            "88. [1.7001] foundation_logo_v_2018_cmyk.png → https://dev1.meemic.com/foundation_logo_v_2018_cmyk\n",
            "89. [1.7001] JotForm Test → https://dev1.meemic.com/jotform-test\n",
            "90. [1.6998] Insurance for Teachers & Educators | Auto & Home Insurance | Meemic Insurance Company → https://dev1.meemic.com/marketing-landing-page\n",
            "91. [1.6998] Save 465 → https://dev1.meemic.com/save-465\n",
            "92. [1.6998] AAA Terms & Conditions → https://dev1.meemic.com/aaamemberterms\n",
            "93. [1.6996] Fire Safety → https://dev1.meemic.com/member-services/safety-information-center/fire-safety\n",
            "94. [1.6994] Home Security* → https://dev1.meemic.com/member-services/safety-information-center/home-security\n",
            "95. [1.6990] Tips for Dealing with Potholes – Stay Vigilant → https://dev1.meemic.com/member-services/safety-information-center/tips-for-dealing-with-potholes\n",
            "96. [1.6988] Protect Your Boat with Insurance, Winterization → https://dev1.meemic.com/why-meemic/blog/claims-safety/winterize-your-boat\n",
            "97. [1.6988] Browse All Teaching & Education Articles → https://dev1.meemic.com/why-meemic/blog/teaching-and-education-3\n",
            "98. [1.6986] Reducing Your Risk When Driving at Night → https://dev1.meemic.com/why-meemic/blog/auto-insurance/reducing-your-risk-when-driving-at-night\n",
            "99. [1.6971] Common Insurance Myths - Busted → https://dev1.meemic.com/why-meemic/blog/auto-insurance/common-insurance-myths-busted\n",
            "100. [1.6970] Insurance for Teachers & Educators | Auto & Home Insurance | Meemic Insurance Company → https://dev1.meemic.com\n",
            "101. [1.0930]  → https://aaa.scene7.com/is/image/aaaautoclubsouthstage/image-45?ts=1724055712202&bfc=on&network=on&dirt_feature=smart_imaging&dpr=off\n",
            "102. [1.0897]  → https://dev1.meemic.com/content/meemic/us/en/member-services/safety-information-center/fire-safety/_jcr_content/root/container/container/article-banner/image.coreimg.jpeg/1724054282961/fire-safety.jpeg\n",
            "103. [1.0852]  → https://dev1.meemic.com/content/meemic/us/en/why-meemic/blog/claims-safety/do-i-really-need-travel-insurance/_jcr_content/root/container/container/article-banner/image.coreimg.jpeg/1724055569403/travel-insurance.jpeg\n",
            "104. [1.0822]  → https://dev1.meemic.com/content/meemic/us/en/why-meemic/blog/home-insurance/safeguard-your-wedding-ring-with-the-right-insurance/_jcr_content/root/container/container/article-banner/image.coreimg.jpeg/1724054268692/wedding-ring.jpeg\n",
            "105. [1.0812] sb10063936i-001 → https://aaa.scene7.com/is/image/aaaautoclubsouthstage/mobile-home-insurance?ts=1724055940822&bfc=on&network=on&dirt_feature=smart_imaging&dpr=off\n",
            "106. [1.0801]  → https://aaa.scene7.com/is/image/aaaautoclubsouthstage/image-6-2?ts=1724055623153&bfc=on&network=on&dirt_feature=smart_imaging&dpr=off\n",
            "107. [1.0795]  → https://aaa.scene7.com/is/image/aaaautoclubsouthstage/image-14-1?ts=1724055644483&bfc=on&network=on&dirt_feature=smart_imaging&dpr=off\n",
            "108. [1.0792]  → https://aaa.scene7.com/is/image/aaaautoclubsouthstage/why-get-flood-insurance?ts=1724055730273&bfc=on&network=on&dirt_feature=smart_imaging&dpr=off\n",
            "109. [1.0790]  → https://aaa.scene7.com/is/image/aaaautoclubsouthstage/image-3-2?ts=1724055636377&bfc=on&network=on&dirt_feature=smart_imaging&dpr=off\n",
            "110. [1.0784]  → https://aaa.scene7.com/is/image/aaaautoclubsouthstage/image-17-1?ts=1724055618284&bfc=on&network=on&dirt_feature=smart_imaging&dpr=off\n",
            "111. [1.0774]  → https://dev1.meemic.com/content/meemic/us/en/member-services/safety-information-center/thanksgiving-kitchen-safety-tips/_jcr_content/root/container/container/article-banner/image.coreimg.jpeg/1724054272716/thanksgiving-article-safety.jpeg\n",
            "112. [1.0773]  → https://dev1.meemic.com/content/meemic/us/en/why-meemic/blog/claims-safety/like-a-boy-scout-be-prepared-when-camping/_jcr_content/root/container/container/article-banner/image.coreimg.jpeg/1724055533012/camping-prepardness-tips.jpeg\n",
            "113. [1.0769] 871009038 → https://aaa.scene7.com/is/image/aaaautoclubsouthstage/become-a-home-owner?ts=1724055860878&bfc=on&network=on&dirt_feature=smart_imaging&dpr=off\n",
            "114. [1.0761]  → https://dev1.meemic.com/content/meemic/us/en/why-meemic/blog/home-insurance/renters-insurance-and-misconceptions/_jcr_content/root/container/container/article-banner/image.coreimg.jpeg/1724055535859/apartment-building.jpeg\n",
            "115. [1.0746]  → https://aaa.scene7.com/is/image/aaaautoclubsouthstage/grilling-safety-1?ts=1724054257385&$Responsive$&bfc=on&network=on&dirt_feature=smart_imaging&dpr=off\n",
            "116. [1.0732] 1828480723 → https://aaa.scene7.com/is/image/aaaautoclubsouthstage/meemic-insurance-faq-page-hero?ts=1724055933239&bfc=on&network=on&dirt_feature=smart_imaging&dpr=off\n",
            "117. [1.0723]  → https://aaa.scene7.com/is/image/aaaautoclubsouthstage/christmas-tree-1?ts=1724055558502&bfc=on&network=on&dirt_feature=smart_imaging&dpr=off\n",
            "118. [1.0721] Celebrate the new 2025-26 school year → https://aaa.scene7.com/is/image/aaaautoclubsouthstage/q2grant_2025?ts=1743771349005&$Responsive$&bfc=on&network=on&dirt_feature=smart_imaging&dpr=off\n",
            "119. [1.0710] 1313283007 → https://aaa.scene7.com/is/image/aaaautoclubsouthstage/renters-insurance-1?ts=1724055963775&bfc=on&network=on&dirt_feature=smart_imaging&dpr=off\n",
            "120. [1.0696] Precautions to Think About Before Heading on Vacation → https://dev1.meemic.com/content/meemic/us/en/why-meemic/blog/claims-safety/travel-precautions-blog/_jcr_content/root/container/container/article-banner/image.coreimg.jpeg/1731684301133/travel-safety.jpeg\n",
            "121. [1.0695]  → https://aaa.scene7.com/is/image/aaaautoclubsouthstage/sept-popin-grant?ts=1726160255974&$Responsive$&bfc=on&network=on&dirt_feature=smart_imaging&dpr=off\n",
            "122. [1.0692]  → https://aaa.scene7.com/is/image/aaaautoclubsouthstage/image-9-2?ts=1724055645420&bfc=on&network=on&dirt_feature=smart_imaging&dpr=off\n",
            "123. [1.0688]  → https://aaa.scene7.com/is/image/aaaautoclubsouthstage/image-26-1?ts=1724055605972&bfc=on&network=on&dirt_feature=smart_imaging&dpr=off\n",
            "124. [1.0678] hero → https://aaa.scene7.com/is/image/aaaautoclubsouthstage/meemic-home-insurance-discounts?ts=1724055976147&bfc=on&network=on&dirt_feature=smart_imaging&dpr=off\n",
            "125. [1.0678]  → https://dev1.meemic.com/content/meemic/us/en/member-services/safety-information-center/avoid-driving-while-drowsy/_jcr_content/root/container/container/article-banner/image.coreimg.jpeg/1724055558830/driving-tired-driver-safety.jpeg\n",
            "126. [1.0677] image → https://aaa.scene7.com/is/image/aaaautoclubsouthstage/theres-strength-in-number?ts=1724055645333&bfc=on&network=on&dirt_feature=smart_imaging&dpr=off\n",
            "127. [1.0674] hero → https://aaa.scene7.com/is/image/aaaautoclubsouthstage/home-insurance-hero?ts=1724055983456&bfc=on&network=on&dirt_feature=smart_imaging&dpr=off\n",
            "128. [1.0673]  → https://dev1.meemic.com/content/meemic/us/en/member-services/safety-information-center/space-heating-safety-tips/_jcr_content/root/container/container/article-banner/image.coreimg.jpeg/1724054270555/space-heater-article.jpeg\n",
            "129. [1.0664]  → https://aaa.scene7.com/is/image/aaaautoclubsouthstage/image-52?ts=1724055737164&bfc=on&network=on&dirt_feature=smart_imaging&dpr=off\n",
            "130. [1.0657]  → https://dev1.meemic.com/content/meemic/us/en/why-meemic/blog/auto-insurance/do-you-need-comprehensive-auto-coverage/_jcr_content/root/container/container/article-banner/image.coreimg.jpeg/1724055554152/new-comprehensive-car-coverage.jpeg\n",
            "131. [1.0655]  → https://dev1.meemic.com/content/meemic/us/en/why-meemic/blog/claims-safety/protecting-your-home-against-garage-fires/_jcr_content/root/container/container/article-banner/image.coreimg.jpeg/1724055561963/garage-fire-main.jpeg\n",
            "132. [1.0651]  → https://aaa.scene7.com/is/image/aaaautoclubsouthstage/thanksgiving-article-fryer-safety-1?ts=1724055570774&$Responsive$&bfc=on&network=on&dirt_feature=smart_imaging&dpr=off\n",
            "133. [1.0647]  → https://aaa.scene7.com/is/image/aaaautoclubsouthstage/image-15-1?ts=1724055612921&bfc=on&network=on&dirt_feature=smart_imaging&dpr=off\n",
            "134. [1.0646]  → https://dev1.meemic.com/content/meemic/us/en/member-services/safety-information-center/home-security/_jcr_content/root/container/container/article-banner/image.coreimg.jpeg/1724055559729/home-security-system.jpeg\n",
            "135. [1.0645]  → https://dev1.meemic.com/content/meemic/us/en/why-meemic/blog/claims-safety/catalytic-converter-thefts-on-the-rise/_jcr_content/root/container/container/article-banner/image.coreimg.jpeg/1724055538979/car-theft-under-car-items.jpeg\n",
            "136. [1.0643] 175416163 → https://aaa.scene7.com/is/image/aaaautoclubsouthstage/meemic-auto-glass-repair?ts=1724055928251&bfc=on&network=on&dirt_feature=smart_imaging&dpr=off\n",
            "137. [1.0643] 175416163 → https://aaa.scene7.com/is/image/aaaautoclubsouthstage/meemic-auto-glass-repair?ts=1724055928251&bfc=on&network=on&dirt_feature=smart_imaging&dpr=off\n",
            "138. [1.0641] Precautions to Think About Before Heading on Vacation → https://aaa.scene7.com/is/image/aaaautoclubsouthstage/travel-safety-1?ts=1732136181453&bfc=on&network=on&dirt_feature=smart_imaging&dpr=off\n",
            "139. [1.0639] 511471770 → https://aaa.scene7.com/is/image/aaaautoclubsouthstage/auto-insurance-life-cycle?ts=1724055940207&bfc=on&network=on&dirt_feature=smart_imaging&dpr=off\n",
            "140. [1.0637]  → https://aaa.scene7.com/is/image/aaaautoclubsouthstage/image-4-2?ts=1724055664960&bfc=on&network=on&dirt_feature=smart_imaging&dpr=off\n",
            "141. [1.0636]  → https://dev1.meemic.com/content/meemic/us/en/member-services/safety-information-center/tips-for-dealing-with-potholes/_jcr_content/root/container/container/article-banner/image.coreimg.jpeg/1724055572091/pothole-article-tips-and-tricks.jpeg\n",
            "142. [1.0636] 150954377 → https://aaa.scene7.com/is/image/aaaautoclubsouthstage/when-to-get-umbrella-insurance?ts=1724055964654&bfc=on&network=on&dirt_feature=smart_imaging&dpr=off\n",
            "143. [1.0632] Man Replacing Battery In Home Smoke Alarm → https://dev1.meemic.com/content/meemic/us/en/why-meemic/blog/claims-safety/why-every-home-needs-smoke-alarms/_jcr_content/root/container/container/article-banner/image.coreimg.jpeg/1728594760010/smoke-alarm-maintenance.jpeg\n",
            "144. [1.0625] Man Replacing Battery In Home Smoke Alarm → https://aaa.scene7.com/is/image/aaaautoclubsouthstage/smoke-alarm-maintenance-1?ts=1729280634336&bfc=on&network=on&dirt_feature=smart_imaging&dpr=off\n",
            "145. [1.0625] 2152392736 → https://aaa.scene7.com/is/image/aaaautoclubsouthstage/other-products-travel?ts=1724055961969&bfc=on&network=on&dirt_feature=smart_imaging&dpr=off\n",
            "146. [1.0621]  → https://dev1.meemic.com/content/meemic/us/en/member-services/safety-information-center/pool-safety-for-family-members-visitors/_jcr_content/root/container/container/article-banner/image.coreimg.jpeg/1724055576851/pool-safety.jpeg\n",
            "147. [1.0614]  → https://aaa.scene7.com/is/image/aaaautoclubsouthstage/image-29-1?ts=1724055700239&bfc=on&network=on&dirt_feature=smart_imaging&dpr=off\n",
            "148. [1.0614]  → https://dev1.meemic.com/content/meemic/us/en/why-meemic/blog/home-insurance/what-you-need-to-know-home-sharing/_jcr_content/root/container/container/article-banner/image.coreimg.jpeg/1724055545573/room-for-rent.jpeg\n",
            "149. [1.0611]  → https://dev1.meemic.com/content/meemic/us/en/member-services/safety-information-center/chimney-and-fireplace-safety/_jcr_content/root/container/container/article-banner/image.coreimg.jpeg/1724055538779/chimney-fireplace-safety.jpeg\n",
            "150. [1.0608] 470719831 → https://aaa.scene7.com/is/image/aaaautoclubsouthstage/home-life-cycle-1?ts=1724055988143&bfc=on&network=on&dirt_feature=smart_imaging&dpr=off\n",
            "151. [1.0607]  → https://aaa.scene7.com/is/image/aaaautoclubsouthstage/image-7-2?ts=1724055658673&bfc=on&network=on&dirt_feature=smart_imaging&dpr=off\n",
            "152. [1.0604]  → https://aaa.scene7.com/is/image/aaaautoclubsouthstage/image-18-1?ts=1724055618907&bfc=on&network=on&dirt_feature=smart_imaging&dpr=off\n",
            "153. [1.0604] Test Image → https://member.acg.aaa.com/content/dam/acg/images/home/pr-home/hero-splash-3.jpg\n",
            "154. [1.0603] 1470198654 → https://aaa.scene7.com/is/image/aaaautoclubsouthstage/condo-insurance?ts=1724055966500&bfc=on&network=on&dirt_feature=smart_imaging&dpr=off\n",
            "155. [1.0603]  → https://dev1.meemic.com/content/meemic/us/en/why-meemic/blog/claims-safety/plan-now-for-your-childs-insurance-at-college/_jcr_content/root/container/container/article-banner/image.coreimg.jpeg/1724054269596/college-insurance.jpeg\n",
            "156. [1.0600]  → https://dev1.meemic.com/content/meemic/us/en/why-meemic/blog/claims-safety/10-tips-to-help-prevent-and-combat-electrical-fire/_jcr_content/root/container/container/article-banner/image.coreimg.jpeg/1724055550976/electrical-fire.jpeg\n",
            "157. [1.0598]  → https://dev1.meemic.com/content/meemic/us/en/why-meemic/blog/home-insurance/will-your-insurance-cover-you-while-moving/_jcr_content/root/container/container/article-banner/image.coreimg.jpeg/1724055553379/moving-houses-blog.jpeg\n",
            "158. [1.0587]  → https://dev1.meemic.com/content/meemic/us/en/why-meemic/blog/auto-insurance/common-insurance-myths-busted/_jcr_content/root/container/container/article-banner/image.coreimg.jpeg/1724055573839/insurance-myths.jpeg\n",
            "159. [1.0586] 5 Myths About Auto Theft → https://dev1.meemic.com/content/meemic/us/en/why-meemic/blog/claims-safety/5-myths-about-auto-theft/_jcr_content/root/container/container/article-banner/image.coreimg.jpeg/1731687435805/auto-theft.jpeg\n",
            "160. [1.0586] Close-up view of grey car crashed into blue truck. Auto accident on city street. Dangerous situation for vehicle. Traffic trouble and insurance claim concept → https://dev1.meemic.com/content/meemic/us/en/why-meemic/blog/auto-insurance/auto-liability-coverage/_jcr_content/root/container/container/article-banner/image.coreimg.jpeg/1739220223338/auto-liability-coverage.jpeg\n",
            "161. [1.0584]  → https://aaa.scene7.com/is/image/aaaautoclubsouthstage/image-13?ts=1724055721691&bfc=on&network=on&dirt_feature=smart_imaging&dpr=off\n",
            "162. [1.0583]  → https://aaa.scene7.com/is/image/aaaautoclubsouthstage/image-8-1?ts=1724055633545&bfc=on&network=on&dirt_feature=smart_imaging&dpr=off\n",
            "163. [1.0580]  → https://aaa.scene7.com/is/image/aaaautoclubsouthstage/september-mtoy-art-pthvp?ts=1724055603550&bfc=on&network=on&dirt_feature=smart_imaging&dpr=off\n",
            "164. [1.0579] image → https://aaa.scene7.com/is/image/aaaautoclubsouthstage/claims-center-hero?ts=1724055947151&bfc=on&network=on&dirt_feature=smart_imaging&dpr=off\n",
            "165. [1.0578] 1320874936 → https://aaa.scene7.com/is/image/aaaautoclubsouthstage/auto-coverage-comprehensive-coverage?ts=1724055950603&bfc=on&network=on&dirt_feature=smart_imaging&dpr=off\n",
            "166. [1.0578] 1320874936 → https://aaa.scene7.com/is/image/aaaautoclubsouthstage/auto-coverage-comprehensive-coverage?ts=1724055950603&bfc=on&network=on&dirt_feature=smart_imaging&dpr=off\n",
            "167. [1.0577] Image 39 → https://dev1.meemic.com/content/dam/meemic/icons/green-4.png\n",
            "168. [1.0576]  → https://aaa.scene7.com/is/image/aaaautoclubsouthstage/image-8-3?ts=1724055626343&bfc=on&network=on&dirt_feature=smart_imaging&dpr=off\n",
            "169. [1.0575] Close-up view of grey car crashed into blue truck. Auto accident on city street. Dangerous situation for vehicle. Traffic trouble and insurance claim concept → https://aaa.scene7.com/is/image/aaaautoclubsouthstage/auto-liability-coverage-1?ts=1739290602970&bfc=on&network=on&dirt_feature=smart_imaging&dpr=off\n",
            "170. [1.0575] Close-up view of grey car crashed into blue truck. Auto accident on city street. Dangerous situation for vehicle. Traffic trouble and insurance claim concept → https://aaa.scene7.com/is/image/aaaautoclubsouthstage/auto-liability-coverage-1?ts=1739286944424&bfc=on&network=on&dirt_feature=smart_imaging&dpr=off\n",
            "171. [1.0574]  → https://aaa.scene7.com/is/image/aaaautoclubsouthstage/anti-bullying-initiatives-september-foundation-article?ts=1726159867373&bfc=on&network=on&dirt_feature=smart_imaging&dpr=off\n",
            "172. [1.0572] New Year concept → https://aaa.scene7.com/is/image/aaaautoclubsouthstage/MTOY-blog-January-New-Year?ts=1737651754610&bfc=on&network=on&dirt_feature=smart_imaging&dpr=off\n",
            "173. [1.0572]  → https://dev1.meemic.com/content/meemic/us/en/member-services/safety-information-center/hail-storms/_jcr_content/root/container/container/article-banner/image.coreimg.jpeg/1724055592612/hail-storm-safety.jpeg\n",
            "174. [1.0570]  → https://dev1.meemic.com/content/meemic/us/en/member-services/safety-information-center/radon-a-little-known-household-danger/_jcr_content/root/container/container/article-banner/image.coreimg.jpeg/1724054271441/radon-testing-article.jpeg\n",
            "175. [1.0565]  → https://aaa.scene7.com/is/image/aaaautoclubsouthstage/registerhero?ts=1720722706266&bfc=on&network=on&dirt_feature=smart_imaging&dpr=off\n",
            "176. [1.0563] Image 36 → https://dev1.meemic.com/content/dam/meemic/icons/green-1.png\n",
            "177. [1.0563] Image 49 → https://dev1.meemic.com/content/dam/meemic/icons/green-1.png\n",
            "178. [1.0563] Report Your Claim → https://dev1.meemic.com/content/dam/meemic/icons/green-1.png\n",
            "179. [1.0563] Image 1103 → https://dev1.meemic.com/content/dam/meemic/icons/green-1.png\n",
            "180. [1.0557]  → https://aaa.scene7.com/is/image/aaaautoclubsouthstage/new-the-explosive-child?ts=1723233066950&bfc=on&network=on&dirt_feature=smart_imaging&dpr=off\n",
            "181. [1.0556]  → https://dev1.meemic.com/content/meemic/us/en/why-meemic/blog/claims-safety/fireworks-safety/_jcr_content/root/container/container/article-banner/image.coreimg.jpeg/1724055536972/fireworks-safety.jpeg\n",
            "182. [1.0554] 1464776403 → https://aaa.scene7.com/is/image/aaaautoclubsouthstage/meemic-insurnace-benefits-and-discounts?ts=1724055690023&bfc=on&network=on&dirt_feature=smart_imaging&dpr=off\n",
            "183. [1.0554] 1290693328 → https://aaa.scene7.com/is/image/aaaautoclubsouthstage/other-products-life?ts=1724055954282&bfc=on&network=on&dirt_feature=smart_imaging&dpr=off\n",
            "184. [1.0548] 10 Tips to Avoid Parking Lot Hazards → https://aaa.scene7.com/is/image/aaaautoclubsouthstage/parking-lot-safety?ts=1732646512913&bfc=on&network=on&dirt_feature=smart_imaging&dpr=off\n",
            "185. [1.0547]  → https://dev1.meemic.com/content/meemic/us/en/why-meemic/blog/claims-safety/tips-on-avoiding-suv-rollovers/_jcr_content/root/container/container/article-banner/image.coreimg.jpeg/1724054278331/suv-rollover-article.jpeg\n",
            "186. [1.0544]  → https://aaa.scene7.com/is/image/aaaautoclubsouthstage/image-7-5?ts=1724055647313&bfc=on&network=on&dirt_feature=smart_imaging&dpr=off\n",
            "187. [1.0542] 5 Myths About Auto Theft → https://aaa.scene7.com/is/image/aaaautoclubsouthstage/auto-theft-1?ts=1732136180530&bfc=on&network=on&dirt_feature=smart_imaging&dpr=off\n",
            "188. [1.0539] Close-up of a row of townhouses in Arlington, Virginia → https://aaa.scene7.com/is/image/aaaautoclubsouthstage/HOA-insurance-1?ts=1735944386135&bfc=on&network=on&dirt_feature=smart_imaging&dpr=off\n",
            "189. [1.0539] Close-up of a row of townhouses in Arlington, Virginia → https://aaa.scene7.com/is/image/aaaautoclubsouthstage/HOA-insurance-1?ts=1735855379634&bfc=on&network=on&dirt_feature=smart_imaging&dpr=off\n",
            "190. [1.0533] Image 37 → https://dev1.meemic.com/content/dam/meemic/icons/green-2.png\n",
            "191. [1.0533] Image 50 → https://dev1.meemic.com/content/dam/meemic/icons/green-2.png\n",
            "192. [1.0533] Image 145 → https://dev1.meemic.com/content/dam/meemic/icons/green-2.png\n",
            "193. [1.0533] Image 1104 → https://dev1.meemic.com/content/dam/meemic/icons/green-2.png\n",
            "194. [1.0531] 1422163487 → https://aaa.scene7.com/is/image/aaaautoclubsouthstage/home-insurance-coverage?ts=1724055941774&bfc=on&network=on&dirt_feature=smart_imaging&dpr=off\n",
            "195. [1.0531] 1422163487 → https://aaa.scene7.com/is/image/aaaautoclubsouthstage/home-insurance-coverage?ts=1724055941774&bfc=on&network=on&dirt_feature=smart_imaging&dpr=off\n",
            "196. [1.0527] 523307348 → https://aaa.scene7.com/is/image/aaaautoclubsouthstage/home-insurance-liability-coverage?ts=1724055957836&bfc=on&network=on&dirt_feature=smart_imaging&dpr=off\n",
            "197. [1.0527] 523307348 → https://aaa.scene7.com/is/image/aaaautoclubsouthstage/home-insurance-liability-coverage?ts=1724055957836&bfc=on&network=on&dirt_feature=smart_imaging&dpr=off\n",
            "198. [1.0526] Image 40 → https://dev1.meemic.com/content/dam/meemic/icons/green-5.png\n",
            "199. [1.0520]  → https://aaa.scene7.com/is/image/aaaautoclubsouthstage/flood-insurance-hero?ts=1724055989086&bfc=on&network=on&dirt_feature=smart_imaging&dpr=off\n",
            "200. [1.0517] HOA house → https://dev1.meemic.com/content/meemic/us/en/why-meemic/blog/home-insurance/hoa-insurance-obligations/_jcr_content/root/container/container/article-banner/image.coreimg.jpeg/1734975042269/hoa-insurance.jpeg\n"
          ]
        }
      ]
    },
    {
      "cell_type": "code",
      "source": [
        "\n",
        "\n",
        "from xml.etree import ElementTree\n",
        "\n",
        "def crawl_from_sitemap(sitemap_url: str, limit: int = 500):\n",
        "    \"\"\"\n",
        "    Reads the sitemap XML, extracts all <loc> URLs,\n",
        "    fetches each page, extracts text/images/videos,\n",
        "    and indexes them into Elasticsearch.\n",
        "    \"\"\"\n",
        "    print(f\" Reading sitemap: {sitemap_url}\")\n",
        "    resp = requests.get(sitemap_url, timeout=10)\n",
        "    xml_root = ElementTree.fromstring(resp.content)\n",
        "\n",
        "    urls = [elem.text for elem in xml_root.iter(\"{http://www.sitemaps.org/schemas/sitemap/0.9}loc\")]\n",
        "    print(f\" Found {len(urls)} URLs in sitemap\")\n",
        "\n",
        "    count = 0\n",
        "    for url in tqdm(urls[:limit], desc=\"Indexing pages\"):\n",
        "        try:\n",
        "            r = requests.get(url, timeout=8)\n",
        "            if \"text/html\" not in r.headers.get(\"Content-Type\", \"\"):\n",
        "                continue\n",
        "\n",
        "            soup = BeautifulSoup(r.text, \"html.parser\")\n",
        "            page_title = soup.title.string if soup.title else url\n",
        "            page_text = \" \".join(t.get_text(strip=True) for t in soup.find_all([\"p\", \"h1\", \"h2\", \"h3\"]))\n",
        "\n",
        "            if len(page_text) > 100:\n",
        "                vec = embed_text(page_text)\n",
        "                client.index(index=index_name, id=f\"page_{count}\", document={\n",
        "                    \"id\": f\"page_{count}\",\n",
        "                    \"media_type\": \"page\",\n",
        "                    \"title\": page_title,\n",
        "                    \"url\": url,\n",
        "                    \"vector_clip\": vec.tolist(),\n",
        "                    \"metadata\": {\"length\": len(page_text)}\n",
        "                })\n",
        "                count += 1\n",
        "\n",
        "            # Optional: also grab images\n",
        "            for img_tag in soup.find_all(\"img\", src=True):\n",
        "                img_url = urljoin(url, img_tag[\"src\"])\n",
        "                try:\n",
        "                    img_resp = requests.get(img_url, timeout=5)\n",
        "                    img = Image.open(BytesIO(img_resp.content)).convert(\"RGB\")\n",
        "                    vec = embed_image(img)\n",
        "                    index_image(\n",
        "                        doc_id=f\"img_{count}\",\n",
        "                        title=img_tag.get(\"alt\", f\"Image {count}\"),\n",
        "                        url=img_url,\n",
        "                        vector=vec\n",
        "                    )\n",
        "                    count += 1\n",
        "                except Exception:\n",
        "                    pass\n",
        "\n",
        "        except Exception as e:\n",
        "            print(f\" Skipping {url}: {e}\")\n",
        "\n",
        "    print(f\"\\n Finished indexing {count} items from sitemap.\")\n"
      ],
      "metadata": {
        "id": "3WcZLQQ1fk3U"
      },
      "id": "3WcZLQQ1fk3U",
      "execution_count": null,
      "outputs": []
    },
    {
      "cell_type": "code",
      "source": [
        "if __name__ == \"__main__\":\n",
        "    sitemap_url = input(\"Enter the sitemap url \")\n",
        "    crawl_from_sitemap(sitemap_url, limit=500)\n"
      ],
      "metadata": {
        "colab": {
          "base_uri": "https://localhost:8080/"
        },
        "id": "akBSRg1SbM6H",
        "outputId": "9a055971-cf3d-4530-8226-9660511654a1"
      },
      "id": "akBSRg1SbM6H",
      "execution_count": null,
      "outputs": [
        {
          "output_type": "stream",
          "name": "stdout",
          "text": [
            "Enter the sitemap url https://dev1.meemic.com/sitemap.xml\n",
            " Reading sitemap: https://dev1.meemic.com/sitemap.xml\n",
            " Found 208 URLs in sitemap\n"
          ]
        },
        {
          "output_type": "stream",
          "name": "stderr",
          "text": [
            "\rIndexing pages:   0%|          | 0/208 [00:00<?, ?it/s]"
          ]
        },
        {
          "output_type": "stream",
          "name": "stdout",
          "text": [
            "Indexed image with id = img_1\n",
            "Indexed image with id = img_2\n",
            "Indexed image with id = img_3\n",
            "Indexed image with id = img_4\n",
            "Indexed image with id = img_5\n",
            "Indexed image with id = img_6\n",
            "Indexed image with id = img_7\n",
            "Indexed image with id = img_8\n",
            "Indexed image with id = img_9\n",
            "Indexed image with id = img_10\n",
            "Indexed image with id = img_11\n",
            "Indexed image with id = img_12\n"
          ]
        },
        {
          "output_type": "stream",
          "name": "stderr",
          "text": [
            "\rIndexing pages:   0%|          | 1/208 [00:51<2:58:38, 51.78s/it]"
          ]
        },
        {
          "output_type": "stream",
          "name": "stdout",
          "text": [
            "Indexed image with id = img_13\n",
            "Indexed image with id = img_15\n",
            "Indexed image with id = img_16\n",
            "Indexed image with id = img_17\n",
            "Indexed image with id = img_18\n",
            "Indexed image with id = img_19\n",
            "Indexed image with id = img_20\n",
            "Indexed image with id = img_21\n",
            "Indexed image with id = img_22\n",
            "Indexed image with id = img_23\n",
            "Indexed image with id = img_24\n",
            "Indexed image with id = img_25\n",
            "Indexed image with id = img_26\n",
            "Indexed image with id = img_27\n",
            "Indexed image with id = img_28\n"
          ]
        },
        {
          "output_type": "stream",
          "name": "stderr",
          "text": [
            "\rIndexing pages:   1%|          | 2/208 [01:52<3:15:55, 57.07s/it]"
          ]
        },
        {
          "output_type": "stream",
          "name": "stdout",
          "text": [
            "Indexed image with id = img_29\n",
            "Indexed image with id = img_31\n",
            "Indexed image with id = img_32\n",
            "Indexed image with id = img_33\n",
            "Indexed image with id = img_34\n",
            "Indexed image with id = img_35\n",
            "Indexed image with id = img_36\n",
            "Indexed image with id = img_37\n",
            "Indexed image with id = img_38\n",
            "Indexed image with id = img_39\n",
            "Indexed image with id = img_40\n",
            "Indexed image with id = img_41\n",
            "Indexed image with id = img_42\n",
            "Indexed image with id = img_43\n"
          ]
        },
        {
          "output_type": "stream",
          "name": "stderr",
          "text": [
            "\rIndexing pages:   1%|▏         | 3/208 [02:49<3:14:55, 57.05s/it]"
          ]
        },
        {
          "output_type": "stream",
          "name": "stdout",
          "text": [
            "Indexed image with id = img_44\n",
            "Indexed image with id = img_46\n",
            "Indexed image with id = img_47\n",
            "Indexed image with id = img_48\n",
            "Indexed image with id = img_49\n",
            "Indexed image with id = img_50\n",
            "Indexed image with id = img_51\n",
            "Indexed image with id = img_52\n",
            "Indexed image with id = img_53\n",
            "Indexed image with id = img_54\n"
          ]
        },
        {
          "output_type": "stream",
          "name": "stderr",
          "text": [
            "\rIndexing pages:   2%|▏         | 4/208 [03:30<2:52:01, 50.60s/it]"
          ]
        },
        {
          "output_type": "stream",
          "name": "stdout",
          "text": [
            "Indexed image with id = img_55\n",
            "Indexed image with id = img_57\n",
            "Indexed image with id = img_58\n",
            "Indexed image with id = img_59\n",
            "Indexed image with id = img_60\n",
            "Indexed image with id = img_61\n"
          ]
        },
        {
          "output_type": "stream",
          "name": "stderr",
          "text": [
            "\rIndexing pages:   2%|▏         | 5/208 [03:55<2:20:15, 41.46s/it]"
          ]
        },
        {
          "output_type": "stream",
          "name": "stdout",
          "text": [
            "Indexed image with id = img_62\n",
            "Indexed image with id = img_64\n",
            "Indexed image with id = img_65\n",
            "Indexed image with id = img_66\n",
            "Indexed image with id = img_67\n"
          ]
        },
        {
          "output_type": "stream",
          "name": "stderr",
          "text": [
            "\rIndexing pages:   3%|▎         | 6/208 [04:15<1:55:31, 34.32s/it]"
          ]
        },
        {
          "output_type": "stream",
          "name": "stdout",
          "text": [
            "Indexed image with id = img_68\n",
            "Indexed image with id = img_70\n",
            "Indexed image with id = img_71\n",
            "Indexed image with id = img_72\n",
            "Indexed image with id = img_73\n",
            "Indexed image with id = img_74\n",
            "Indexed image with id = img_75\n",
            "Indexed image with id = img_76\n"
          ]
        },
        {
          "output_type": "stream",
          "name": "stderr",
          "text": [
            "\rIndexing pages:   3%|▎         | 7/208 [04:52<1:57:12, 34.99s/it]"
          ]
        },
        {
          "output_type": "stream",
          "name": "stdout",
          "text": [
            "Indexed image with id = img_77\n",
            "Indexed image with id = img_79\n",
            "Indexed image with id = img_80\n",
            "Indexed image with id = img_81\n"
          ]
        },
        {
          "output_type": "stream",
          "name": "stderr",
          "text": [
            "\rIndexing pages:   4%|▍         | 8/208 [05:08<1:36:57, 29.09s/it]"
          ]
        },
        {
          "output_type": "stream",
          "name": "stdout",
          "text": [
            "Indexed image with id = img_82\n",
            "Indexed image with id = img_84\n",
            "Indexed image with id = img_85\n",
            "Indexed image with id = img_86\n"
          ]
        },
        {
          "output_type": "stream",
          "name": "stderr",
          "text": [
            "\rIndexing pages:   4%|▍         | 9/208 [05:25<1:23:23, 25.14s/it]"
          ]
        },
        {
          "output_type": "stream",
          "name": "stdout",
          "text": [
            "Indexed image with id = img_87\n",
            "Indexed image with id = img_89\n",
            "Indexed image with id = img_90\n",
            "Indexed image with id = img_91\n"
          ]
        },
        {
          "output_type": "stream",
          "name": "stderr",
          "text": [
            "\rIndexing pages:   5%|▍         | 10/208 [05:41<1:14:04, 22.45s/it]"
          ]
        },
        {
          "output_type": "stream",
          "name": "stdout",
          "text": [
            "Indexed image with id = img_92\n",
            "Indexed image with id = img_94\n",
            "Indexed image with id = img_95\n",
            "Indexed image with id = img_96\n"
          ]
        },
        {
          "output_type": "stream",
          "name": "stderr",
          "text": [
            "\rIndexing pages:   5%|▌         | 11/208 [05:57<1:07:23, 20.53s/it]"
          ]
        },
        {
          "output_type": "stream",
          "name": "stdout",
          "text": [
            "Indexed image with id = img_97\n",
            "Indexed image with id = img_99\n",
            "Indexed image with id = img_100\n",
            "Indexed image with id = img_101\n",
            "Indexed image with id = img_102\n",
            "Indexed image with id = img_103\n",
            "Indexed image with id = img_104\n",
            "Indexed image with id = img_105\n",
            "Indexed image with id = img_106\n",
            "Indexed image with id = img_107\n",
            "Indexed image with id = img_108\n",
            "Indexed image with id = img_109\n",
            "Indexed image with id = img_110\n",
            "Indexed image with id = img_111\n",
            "Indexed image with id = img_112\n",
            "Indexed image with id = img_113\n",
            "Indexed image with id = img_114\n"
          ]
        },
        {
          "output_type": "stream",
          "name": "stderr",
          "text": [
            "\rIndexing pages:   6%|▌         | 12/208 [07:01<1:49:33, 33.54s/it]"
          ]
        },
        {
          "output_type": "stream",
          "name": "stdout",
          "text": [
            "Indexed image with id = img_115\n",
            "Indexed image with id = img_117\n",
            "Indexed image with id = img_118\n",
            "Indexed image with id = img_119\n",
            "Indexed image with id = img_120\n",
            "Indexed image with id = img_121\n",
            "Indexed image with id = img_122\n",
            "Indexed image with id = img_123\n",
            "Indexed image with id = img_124\n"
          ]
        },
        {
          "output_type": "stream",
          "name": "stderr",
          "text": [
            "\rIndexing pages:   6%|▋         | 13/208 [07:36<1:50:32, 34.01s/it]"
          ]
        },
        {
          "output_type": "stream",
          "name": "stdout",
          "text": [
            "Indexed image with id = img_125\n",
            "Indexed image with id = img_127\n",
            "Indexed image with id = img_128\n",
            "Indexed image with id = img_129\n",
            "Indexed image with id = img_130\n",
            "Indexed image with id = img_131\n",
            "Indexed image with id = img_132\n"
          ]
        },
        {
          "output_type": "stream",
          "name": "stderr",
          "text": [
            "\rIndexing pages:   7%|▋         | 14/208 [08:02<1:42:49, 31.80s/it]"
          ]
        },
        {
          "output_type": "stream",
          "name": "stdout",
          "text": [
            "Indexed image with id = img_133\n",
            "Indexed image with id = img_135\n",
            "Indexed image with id = img_136\n",
            "Indexed image with id = img_137\n",
            "Indexed image with id = img_138\n",
            "Indexed image with id = img_139\n",
            "Indexed image with id = img_140\n"
          ]
        },
        {
          "output_type": "stream",
          "name": "stderr",
          "text": [
            "\rIndexing pages:   7%|▋         | 15/208 [08:29<1:37:38, 30.35s/it]"
          ]
        },
        {
          "output_type": "stream",
          "name": "stdout",
          "text": [
            "Indexed image with id = img_141\n",
            "Indexed image with id = img_143\n",
            "Indexed image with id = img_144\n",
            "Indexed image with id = img_145\n",
            "Indexed image with id = img_146\n",
            "Indexed image with id = img_147\n",
            "Indexed image with id = img_148\n",
            "Indexed image with id = img_149\n"
          ]
        },
        {
          "output_type": "stream",
          "name": "stderr",
          "text": [
            "\rIndexing pages:   8%|▊         | 16/208 [08:59<1:36:29, 30.15s/it]"
          ]
        },
        {
          "output_type": "stream",
          "name": "stdout",
          "text": [
            "Indexed image with id = img_150\n",
            "Indexed image with id = img_152\n",
            "Indexed image with id = img_153\n",
            "Indexed image with id = img_154\n",
            "Indexed image with id = img_155\n",
            "Indexed image with id = img_156\n"
          ]
        },
        {
          "output_type": "stream",
          "name": "stderr",
          "text": [
            "\rIndexing pages:   8%|▊         | 17/208 [09:22<1:28:33, 27.82s/it]"
          ]
        },
        {
          "output_type": "stream",
          "name": "stdout",
          "text": [
            "Indexed image with id = img_157\n",
            "Indexed image with id = img_159\n",
            "Indexed image with id = img_160\n",
            "Indexed image with id = img_161\n"
          ]
        },
        {
          "output_type": "stream",
          "name": "stderr",
          "text": [
            "\rIndexing pages:   9%|▊         | 18/208 [09:39<1:17:58, 24.62s/it]"
          ]
        },
        {
          "output_type": "stream",
          "name": "stdout",
          "text": [
            "Indexed image with id = img_162\n",
            "Indexed image with id = img_164\n",
            "Indexed image with id = img_165\n",
            "Indexed image with id = img_166\n",
            "Indexed image with id = img_167\n",
            "Indexed image with id = img_168\n",
            "Indexed image with id = img_169\n",
            "Indexed image with id = img_170\n",
            "Indexed image with id = img_171\n",
            "Indexed image with id = img_172\n",
            "Indexed image with id = img_173\n"
          ]
        },
        {
          "output_type": "stream",
          "name": "stderr",
          "text": [
            "\rIndexing pages:   9%|▉         | 19/208 [10:20<1:33:25, 29.66s/it]"
          ]
        },
        {
          "output_type": "stream",
          "name": "stdout",
          "text": [
            "Indexed image with id = img_174\n",
            "Indexed image with id = img_176\n",
            "Indexed image with id = img_177\n",
            "Indexed image with id = img_178\n",
            "Indexed image with id = img_179\n"
          ]
        },
        {
          "output_type": "stream",
          "name": "stderr",
          "text": [
            "\rIndexing pages:  10%|▉         | 20/208 [10:41<1:24:17, 26.90s/it]"
          ]
        },
        {
          "output_type": "stream",
          "name": "stdout",
          "text": [
            "Indexed image with id = img_180\n",
            "Indexed image with id = img_182\n",
            "Indexed image with id = img_183\n",
            "Indexed image with id = img_184\n",
            "Indexed image with id = img_185\n",
            "Indexed image with id = img_186\n",
            "Indexed image with id = img_187\n"
          ]
        },
        {
          "output_type": "stream",
          "name": "stderr",
          "text": [
            "\rIndexing pages:  10%|█         | 21/208 [11:08<1:24:17, 27.05s/it]"
          ]
        },
        {
          "output_type": "stream",
          "name": "stdout",
          "text": [
            "Indexed image with id = img_188\n",
            "Indexed image with id = img_190\n",
            "Indexed image with id = img_191\n",
            "Indexed image with id = img_192\n",
            "Indexed image with id = img_193\n",
            "Indexed image with id = img_194\n",
            "Indexed image with id = img_195\n",
            "Indexed image with id = img_196\n",
            "Indexed image with id = img_197\n",
            "Indexed image with id = img_198\n",
            "Indexed image with id = img_199\n",
            "Indexed image with id = img_200\n",
            "Indexed image with id = img_201\n",
            "Indexed image with id = img_202\n",
            "Indexed image with id = img_203\n"
          ]
        },
        {
          "output_type": "stream",
          "name": "stderr",
          "text": [
            "\rIndexing pages:  11%|█         | 22/208 [12:11<1:56:59, 37.74s/it]"
          ]
        },
        {
          "output_type": "stream",
          "name": "stdout",
          "text": [
            "Indexed image with id = img_204\n",
            "Indexed image with id = img_206\n",
            "Indexed image with id = img_207\n",
            "Indexed image with id = img_208\n",
            "Indexed image with id = img_209\n",
            "Indexed image with id = img_210\n",
            "Indexed image with id = img_211\n",
            "Indexed image with id = img_212\n",
            "Indexed image with id = img_213\n",
            "Indexed image with id = img_214\n",
            "Indexed image with id = img_215\n",
            "Indexed image with id = img_216\n",
            "Indexed image with id = img_217\n",
            "Indexed image with id = img_218\n",
            "Indexed image with id = img_219\n"
          ]
        },
        {
          "output_type": "stream",
          "name": "stderr",
          "text": [
            "\rIndexing pages:  11%|█         | 23/208 [13:07<2:13:57, 43.44s/it]"
          ]
        },
        {
          "output_type": "stream",
          "name": "stdout",
          "text": [
            "Indexed image with id = img_220\n",
            "Indexed image with id = img_222\n",
            "Indexed image with id = img_223\n",
            "Indexed image with id = img_224\n",
            "Indexed image with id = img_225\n",
            "Indexed image with id = img_226\n"
          ]
        },
        {
          "output_type": "stream",
          "name": "stderr",
          "text": [
            "\rIndexing pages:  12%|█▏        | 24/208 [13:32<1:55:29, 37.66s/it]"
          ]
        },
        {
          "output_type": "stream",
          "name": "stdout",
          "text": [
            "Indexed image with id = img_227\n",
            "Indexed image with id = img_229\n",
            "Indexed image with id = img_230\n",
            "Indexed image with id = img_231\n",
            "Indexed image with id = img_232\n",
            "Indexed image with id = img_233\n"
          ]
        },
        {
          "output_type": "stream",
          "name": "stderr",
          "text": [
            "\rIndexing pages:  12%|█▏        | 25/208 [13:56<1:43:02, 33.78s/it]"
          ]
        },
        {
          "output_type": "stream",
          "name": "stdout",
          "text": [
            "Indexed image with id = img_234\n",
            "Indexed image with id = img_236\n",
            "Indexed image with id = img_237\n",
            "Indexed image with id = img_238\n",
            "Indexed image with id = img_239\n",
            "Indexed image with id = img_240\n"
          ]
        },
        {
          "output_type": "stream",
          "name": "stderr",
          "text": [
            "\rIndexing pages:  12%|█▎        | 26/208 [14:20<1:33:08, 30.70s/it]"
          ]
        },
        {
          "output_type": "stream",
          "name": "stdout",
          "text": [
            "Indexed image with id = img_241\n",
            "Indexed image with id = img_243\n",
            "Indexed image with id = img_244\n",
            "Indexed image with id = img_245\n",
            "Indexed image with id = img_246\n",
            "Indexed image with id = img_247\n",
            "Indexed image with id = img_248\n",
            "Indexed image with id = img_249\n",
            "Indexed image with id = img_250\n",
            "Indexed image with id = img_251\n",
            "Indexed image with id = img_252\n",
            "Indexed image with id = img_253\n",
            "Indexed image with id = img_254\n"
          ]
        },
        {
          "output_type": "stream",
          "name": "stderr",
          "text": [
            "\rIndexing pages:  13%|█▎        | 27/208 [15:08<1:48:38, 36.01s/it]"
          ]
        },
        {
          "output_type": "stream",
          "name": "stdout",
          "text": [
            "Indexed image with id = img_255\n",
            "Indexed image with id = img_257\n",
            "Indexed image with id = img_258\n",
            "Indexed image with id = img_259\n",
            "Indexed image with id = img_260\n",
            "Indexed image with id = img_261\n",
            "Indexed image with id = img_262\n",
            "Indexed image with id = img_263\n",
            "Indexed image with id = img_264\n",
            "Indexed image with id = img_265\n",
            "Indexed image with id = img_266\n"
          ]
        },
        {
          "output_type": "stream",
          "name": "stderr",
          "text": [
            "\rIndexing pages:  13%|█▎        | 28/208 [15:51<1:54:08, 38.05s/it]"
          ]
        },
        {
          "output_type": "stream",
          "name": "stdout",
          "text": [
            "Indexed image with id = img_267\n",
            "Indexed image with id = img_269\n",
            "Indexed image with id = img_270\n",
            "Indexed image with id = img_271\n",
            "Indexed image with id = img_272\n",
            "Indexed image with id = img_273\n",
            "Indexed image with id = img_274\n",
            "Indexed image with id = img_275\n",
            "Indexed image with id = img_276\n",
            "Indexed image with id = img_277\n",
            "Indexed image with id = img_278\n",
            "Indexed image with id = img_279\n",
            "Indexed image with id = img_280\n",
            "Indexed image with id = img_281\n",
            "Indexed image with id = img_282\n",
            "Indexed image with id = img_283\n",
            "Indexed image with id = img_284\n",
            "Indexed image with id = img_285\n",
            "Indexed image with id = img_286\n",
            "Indexed image with id = img_287\n",
            "Indexed image with id = img_288\n",
            "Indexed image with id = img_289\n",
            "Indexed image with id = img_290\n",
            "Indexed image with id = img_291\n",
            "Indexed image with id = img_292\n",
            "Indexed image with id = img_293\n",
            "Indexed image with id = img_294\n",
            "Indexed image with id = img_295\n",
            "Indexed image with id = img_296\n",
            "Indexed image with id = img_297\n",
            "Indexed image with id = img_298\n",
            "Indexed image with id = img_299\n",
            "Indexed image with id = img_300\n",
            "Indexed image with id = img_301\n",
            "Indexed image with id = img_302\n",
            "Indexed image with id = img_303\n",
            "Indexed image with id = img_304\n",
            "Indexed image with id = img_305\n",
            "Indexed image with id = img_306\n",
            "Indexed image with id = img_307\n",
            "Indexed image with id = img_308\n",
            "Indexed image with id = img_309\n",
            "Indexed image with id = img_310\n",
            "Indexed image with id = img_311\n",
            "Indexed image with id = img_312\n",
            "Indexed image with id = img_313\n",
            "Indexed image with id = img_314\n",
            "Indexed image with id = img_315\n",
            "Indexed image with id = img_316\n",
            "Indexed image with id = img_317\n",
            "Indexed image with id = img_318\n",
            "Indexed image with id = img_319\n",
            "Indexed image with id = img_320\n",
            "Indexed image with id = img_321\n",
            "Indexed image with id = img_322\n",
            "Indexed image with id = img_323\n",
            "Indexed image with id = img_324\n",
            "Indexed image with id = img_325\n",
            "Indexed image with id = img_326\n",
            "Indexed image with id = img_327\n",
            "Indexed image with id = img_328\n",
            "Indexed image with id = img_329\n",
            "Indexed image with id = img_330\n",
            "Indexed image with id = img_331\n",
            "Indexed image with id = img_332\n",
            "Indexed image with id = img_333\n",
            "Indexed image with id = img_334\n",
            "Indexed image with id = img_335\n",
            "Indexed image with id = img_336\n",
            "Indexed image with id = img_337\n",
            "Indexed image with id = img_338\n",
            "Indexed image with id = img_339\n",
            "Indexed image with id = img_340\n",
            "Indexed image with id = img_341\n",
            "Indexed image with id = img_342\n",
            "Indexed image with id = img_343\n",
            "Indexed image with id = img_344\n",
            "Indexed image with id = img_345\n",
            "Indexed image with id = img_346\n"
          ]
        },
        {
          "output_type": "stream",
          "name": "stderr",
          "text": [
            "\rIndexing pages:  14%|█▍        | 29/208 [20:55<5:51:51, 117.94s/it]"
          ]
        },
        {
          "output_type": "stream",
          "name": "stdout",
          "text": [
            "Indexed image with id = img_347\n",
            "Indexed image with id = img_349\n",
            "Indexed image with id = img_350\n",
            "Indexed image with id = img_351\n",
            "Indexed image with id = img_352\n"
          ]
        },
        {
          "output_type": "stream",
          "name": "stderr",
          "text": [
            "\rIndexing pages:  14%|█▍        | 30/208 [21:15<4:22:35, 88.51s/it] "
          ]
        },
        {
          "output_type": "stream",
          "name": "stdout",
          "text": [
            "Indexed image with id = img_353\n",
            "Indexed image with id = img_355\n",
            "Indexed image with id = img_356\n",
            "Indexed image with id = img_357\n",
            "Indexed image with id = img_358\n"
          ]
        },
        {
          "output_type": "stream",
          "name": "stderr",
          "text": [
            "\rIndexing pages:  15%|█▍        | 31/208 [21:35<3:20:09, 67.85s/it]"
          ]
        },
        {
          "output_type": "stream",
          "name": "stdout",
          "text": [
            "Indexed image with id = img_359\n",
            "Indexed image with id = img_361\n",
            "Indexed image with id = img_362\n",
            "Indexed image with id = img_363\n",
            "Indexed image with id = img_364\n",
            "Indexed image with id = img_365\n",
            "Indexed image with id = img_366\n",
            "Indexed image with id = img_367\n",
            "Indexed image with id = img_368\n",
            "Indexed image with id = img_369\n",
            "Indexed image with id = img_370\n",
            "Indexed image with id = img_371\n",
            "Indexed image with id = img_372\n",
            "Indexed image with id = img_373\n",
            "Indexed image with id = img_374\n",
            "Indexed image with id = img_375\n",
            "Indexed image with id = img_376\n",
            "Indexed image with id = img_377\n",
            "Indexed image with id = img_378\n",
            "Indexed image with id = img_379\n"
          ]
        },
        {
          "output_type": "stream",
          "name": "stderr",
          "text": [
            "\rIndexing pages:  15%|█▌        | 32/208 [22:51<3:26:11, 70.30s/it]"
          ]
        },
        {
          "output_type": "stream",
          "name": "stdout",
          "text": [
            "Indexed image with id = img_380\n",
            "Indexed image with id = img_382\n",
            "Indexed image with id = img_383\n",
            "Indexed image with id = img_384\n",
            "Indexed image with id = img_385\n",
            "Indexed image with id = img_386\n",
            "Indexed image with id = img_387\n",
            "Indexed image with id = img_388\n",
            "Indexed image with id = img_389\n",
            "Indexed image with id = img_390\n",
            "Indexed image with id = img_391\n",
            "Indexed image with id = img_392\n",
            "Indexed image with id = img_393\n",
            "Indexed image with id = img_394\n",
            "Indexed image with id = img_395\n",
            "Indexed image with id = img_396\n"
          ]
        },
        {
          "output_type": "stream",
          "name": "stderr",
          "text": [
            "\rIndexing pages:  16%|█▌        | 33/208 [23:54<3:19:05, 68.26s/it]"
          ]
        },
        {
          "output_type": "stream",
          "name": "stdout",
          "text": [
            "Indexed image with id = img_397\n",
            "Indexed image with id = img_399\n",
            "Indexed image with id = img_400\n",
            "Indexed image with id = img_401\n",
            "Indexed image with id = img_402\n"
          ]
        },
        {
          "output_type": "stream",
          "name": "stderr",
          "text": [
            "\rIndexing pages:  16%|█▋        | 34/208 [24:15<2:36:37, 54.01s/it]"
          ]
        },
        {
          "output_type": "stream",
          "name": "stdout",
          "text": [
            "Indexed image with id = img_403\n",
            "Indexed image with id = img_405\n",
            "Indexed image with id = img_406\n",
            "Indexed image with id = img_407\n",
            "Indexed image with id = img_408\n"
          ]
        },
        {
          "output_type": "stream",
          "name": "stderr",
          "text": [
            "\rIndexing pages:  17%|█▋        | 35/208 [24:35<2:06:17, 43.80s/it]"
          ]
        },
        {
          "output_type": "stream",
          "name": "stdout",
          "text": [
            "Indexed image with id = img_409\n",
            "Indexed image with id = img_411\n",
            "Indexed image with id = img_412\n",
            "Indexed image with id = img_413\n",
            "Indexed image with id = img_414\n"
          ]
        },
        {
          "output_type": "stream",
          "name": "stderr",
          "text": [
            "\rIndexing pages:  17%|█▋        | 36/208 [24:55<1:45:24, 36.77s/it]"
          ]
        },
        {
          "output_type": "stream",
          "name": "stdout",
          "text": [
            "Indexed image with id = img_415\n",
            "Indexed image with id = img_417\n",
            "Indexed image with id = img_418\n",
            "Indexed image with id = img_419\n",
            "Indexed image with id = img_420\n"
          ]
        },
        {
          "output_type": "stream",
          "name": "stderr",
          "text": [
            "\rIndexing pages:  18%|█▊        | 37/208 [25:15<1:30:17, 31.68s/it]"
          ]
        },
        {
          "output_type": "stream",
          "name": "stdout",
          "text": [
            "Indexed image with id = img_421\n",
            "Indexed image with id = img_423\n",
            "Indexed image with id = img_424\n",
            "Indexed image with id = img_425\n",
            "Indexed image with id = img_426\n"
          ]
        },
        {
          "output_type": "stream",
          "name": "stderr",
          "text": [
            "\rIndexing pages:  18%|█▊        | 38/208 [25:37<1:20:57, 28.57s/it]"
          ]
        },
        {
          "output_type": "stream",
          "name": "stdout",
          "text": [
            "Indexed image with id = img_427\n",
            "Indexed image with id = img_429\n",
            "Indexed image with id = img_430\n",
            "Indexed image with id = img_431\n",
            "Indexed image with id = img_432\n"
          ]
        },
        {
          "output_type": "stream",
          "name": "stderr",
          "text": [
            "\rIndexing pages:  19%|█▉        | 39/208 [25:57<1:13:50, 26.22s/it]"
          ]
        },
        {
          "output_type": "stream",
          "name": "stdout",
          "text": [
            "Indexed image with id = img_433\n",
            "Indexed image with id = img_435\n",
            "Indexed image with id = img_436\n",
            "Indexed image with id = img_437\n",
            "Indexed image with id = img_438\n"
          ]
        },
        {
          "output_type": "stream",
          "name": "stderr",
          "text": [
            "\rIndexing pages:  19%|█▉        | 40/208 [26:17<1:07:48, 24.22s/it]"
          ]
        },
        {
          "output_type": "stream",
          "name": "stdout",
          "text": [
            "Indexed image with id = img_439\n",
            "Indexed image with id = img_441\n",
            "Indexed image with id = img_442\n",
            "Indexed image with id = img_443\n",
            "Indexed image with id = img_444\n"
          ]
        },
        {
          "output_type": "stream",
          "name": "stderr",
          "text": [
            "\rIndexing pages:  20%|█▉        | 41/208 [26:37<1:04:22, 23.13s/it]"
          ]
        },
        {
          "output_type": "stream",
          "name": "stdout",
          "text": [
            "Indexed image with id = img_445\n",
            "Indexed image with id = img_447\n",
            "Indexed image with id = img_448\n",
            "Indexed image with id = img_449\n",
            "Indexed image with id = img_450\n"
          ]
        },
        {
          "output_type": "stream",
          "name": "stderr",
          "text": [
            "\rIndexing pages:  20%|██        | 42/208 [26:58<1:01:49, 22.35s/it]"
          ]
        },
        {
          "output_type": "stream",
          "name": "stdout",
          "text": [
            "Indexed image with id = img_451\n",
            "Indexed image with id = img_453\n",
            "Indexed image with id = img_454\n",
            "Indexed image with id = img_455\n",
            "Indexed image with id = img_456\n"
          ]
        },
        {
          "output_type": "stream",
          "name": "stderr",
          "text": [
            "\rIndexing pages:  21%|██        | 43/208 [27:18<59:25, 21.61s/it]  "
          ]
        },
        {
          "output_type": "stream",
          "name": "stdout",
          "text": [
            "Indexed image with id = img_457\n",
            "Indexed image with id = img_459\n",
            "Indexed image with id = img_460\n",
            "Indexed image with id = img_461\n",
            "Indexed image with id = img_462\n"
          ]
        },
        {
          "output_type": "stream",
          "name": "stderr",
          "text": [
            "\rIndexing pages:  21%|██        | 44/208 [27:40<59:53, 21.91s/it]"
          ]
        },
        {
          "output_type": "stream",
          "name": "stdout",
          "text": [
            "Indexed image with id = img_463\n",
            "Indexed image with id = img_465\n",
            "Indexed image with id = img_466\n",
            "Indexed image with id = img_467\n",
            "Indexed image with id = img_468\n"
          ]
        },
        {
          "output_type": "stream",
          "name": "stderr",
          "text": [
            "\rIndexing pages:  22%|██▏       | 45/208 [28:01<58:29, 21.53s/it]"
          ]
        },
        {
          "output_type": "stream",
          "name": "stdout",
          "text": [
            "Indexed image with id = img_469\n",
            "Indexed image with id = img_471\n",
            "Indexed image with id = img_472\n",
            "Indexed image with id = img_473\n",
            "Indexed image with id = img_474\n"
          ]
        },
        {
          "output_type": "stream",
          "name": "stderr",
          "text": [
            "\rIndexing pages:  22%|██▏       | 46/208 [28:22<57:51, 21.43s/it]"
          ]
        },
        {
          "output_type": "stream",
          "name": "stdout",
          "text": [
            "Indexed image with id = img_475\n",
            "Indexed image with id = img_477\n",
            "Indexed image with id = img_478\n",
            "Indexed image with id = img_479\n",
            "Indexed image with id = img_480\n",
            "Indexed image with id = img_481\n",
            "Indexed image with id = img_482\n",
            "Indexed image with id = img_483\n",
            "Indexed image with id = img_484\n",
            "Indexed image with id = img_485\n",
            "Indexed image with id = img_486\n",
            "Indexed image with id = img_487\n",
            "Indexed image with id = img_488\n"
          ]
        },
        {
          "output_type": "stream",
          "name": "stderr",
          "text": [
            "\rIndexing pages:  23%|██▎       | 47/208 [29:17<1:24:04, 31.33s/it]"
          ]
        },
        {
          "output_type": "stream",
          "name": "stdout",
          "text": [
            "Indexed image with id = img_489\n",
            "Indexed image with id = img_491\n",
            "Indexed image with id = img_492\n",
            "Indexed image with id = img_493\n",
            "Indexed image with id = img_494\n"
          ]
        },
        {
          "output_type": "stream",
          "name": "stderr",
          "text": [
            "\rIndexing pages:  23%|██▎       | 48/208 [29:38<1:15:47, 28.42s/it]"
          ]
        },
        {
          "output_type": "stream",
          "name": "stdout",
          "text": [
            "Indexed image with id = img_495\n",
            "Indexed image with id = img_497\n",
            "Indexed image with id = img_498\n",
            "Indexed image with id = img_499\n",
            "Indexed image with id = img_500\n"
          ]
        },
        {
          "output_type": "stream",
          "name": "stderr",
          "text": [
            "\rIndexing pages:  24%|██▎       | 49/208 [29:59<1:09:21, 26.17s/it]"
          ]
        },
        {
          "output_type": "stream",
          "name": "stdout",
          "text": [
            "Indexed image with id = img_501\n",
            "Indexed image with id = img_503\n",
            "Indexed image with id = img_504\n",
            "Indexed image with id = img_505\n",
            "Indexed image with id = img_506\n"
          ]
        },
        {
          "output_type": "stream",
          "name": "stderr",
          "text": [
            "\rIndexing pages:  24%|██▍       | 50/208 [30:19<1:03:54, 24.27s/it]"
          ]
        },
        {
          "output_type": "stream",
          "name": "stdout",
          "text": [
            "Indexed image with id = img_507\n",
            "Indexed image with id = img_509\n",
            "Indexed image with id = img_510\n",
            "Indexed image with id = img_511\n",
            "Indexed image with id = img_512\n"
          ]
        },
        {
          "output_type": "stream",
          "name": "stderr",
          "text": [
            "\rIndexing pages:  25%|██▍       | 51/208 [30:40<1:00:25, 23.09s/it]"
          ]
        },
        {
          "output_type": "stream",
          "name": "stdout",
          "text": [
            "Indexed image with id = img_513\n",
            "Indexed image with id = img_515\n",
            "Indexed image with id = img_516\n",
            "Indexed image with id = img_517\n",
            "Indexed image with id = img_518\n"
          ]
        },
        {
          "output_type": "stream",
          "name": "stderr",
          "text": [
            "\rIndexing pages:  25%|██▌       | 52/208 [31:00<57:55, 22.28s/it]  "
          ]
        },
        {
          "output_type": "stream",
          "name": "stdout",
          "text": [
            "Indexed image with id = img_519\n",
            "Indexed image with id = img_521\n",
            "Indexed image with id = img_522\n",
            "Indexed image with id = img_523\n",
            "Indexed image with id = img_524\n"
          ]
        },
        {
          "output_type": "stream",
          "name": "stderr",
          "text": [
            "\rIndexing pages:  25%|██▌       | 53/208 [31:20<55:49, 21.61s/it]"
          ]
        },
        {
          "output_type": "stream",
          "name": "stdout",
          "text": [
            "Indexed image with id = img_525\n",
            "Indexed image with id = img_527\n",
            "Indexed image with id = img_528\n",
            "Indexed image with id = img_529\n",
            "Indexed image with id = img_530\n"
          ]
        },
        {
          "output_type": "stream",
          "name": "stderr",
          "text": [
            "\rIndexing pages:  26%|██▌       | 54/208 [31:42<56:02, 21.84s/it]"
          ]
        },
        {
          "output_type": "stream",
          "name": "stdout",
          "text": [
            "Indexed image with id = img_531\n",
            "Indexed image with id = img_533\n",
            "Indexed image with id = img_534\n",
            "Indexed image with id = img_535\n",
            "Indexed image with id = img_536\n"
          ]
        },
        {
          "output_type": "stream",
          "name": "stderr",
          "text": [
            "\rIndexing pages:  26%|██▋       | 55/208 [32:03<54:34, 21.40s/it]"
          ]
        },
        {
          "output_type": "stream",
          "name": "stdout",
          "text": [
            "Indexed image with id = img_537\n",
            "Indexed image with id = img_539\n",
            "Indexed image with id = img_540\n",
            "Indexed image with id = img_541\n",
            "Indexed image with id = img_542\n"
          ]
        },
        {
          "output_type": "stream",
          "name": "stderr",
          "text": [
            "\rIndexing pages:  27%|██▋       | 56/208 [32:23<53:09, 20.98s/it]"
          ]
        },
        {
          "output_type": "stream",
          "name": "stdout",
          "text": [
            "Indexed image with id = img_543\n",
            "Indexed image with id = img_545\n",
            "Indexed image with id = img_546\n",
            "Indexed image with id = img_547\n",
            "Indexed image with id = img_548\n",
            "Indexed image with id = img_549\n"
          ]
        },
        {
          "output_type": "stream",
          "name": "stderr",
          "text": [
            "\rIndexing pages:  27%|██▋       | 57/208 [32:47<55:26, 22.03s/it]"
          ]
        },
        {
          "output_type": "stream",
          "name": "stdout",
          "text": [
            "Indexed image with id = img_550\n",
            "Indexed image with id = img_552\n",
            "Indexed image with id = img_553\n",
            "Indexed image with id = img_554\n",
            "Indexed image with id = img_555\n",
            "Indexed image with id = img_556\n",
            "Indexed image with id = img_557\n",
            "Indexed image with id = img_558\n",
            "Indexed image with id = img_559\n",
            "Indexed image with id = img_560\n",
            "Indexed image with id = img_561\n",
            "Indexed image with id = img_562\n",
            "Indexed image with id = img_563\n"
          ]
        },
        {
          "output_type": "stream",
          "name": "stderr",
          "text": [
            "\rIndexing pages:  28%|██▊       | 58/208 [33:38<1:16:39, 30.67s/it]"
          ]
        },
        {
          "output_type": "stream",
          "name": "stdout",
          "text": [
            "Indexed image with id = img_564\n",
            "Indexed image with id = img_566\n",
            "Indexed image with id = img_567\n",
            "Indexed image with id = img_568\n"
          ]
        },
        {
          "output_type": "stream",
          "name": "stderr",
          "text": [
            "\rIndexing pages:  28%|██▊       | 59/208 [33:54<1:05:24, 26.34s/it]"
          ]
        },
        {
          "output_type": "stream",
          "name": "stdout",
          "text": [
            "Indexed image with id = img_569\n",
            "Indexed image with id = img_571\n",
            "Indexed image with id = img_572\n",
            "Indexed image with id = img_573\n",
            "Indexed image with id = img_574\n"
          ]
        },
        {
          "output_type": "stream",
          "name": "stderr",
          "text": [
            "\rIndexing pages:  29%|██▉       | 60/208 [34:14<1:00:29, 24.52s/it]"
          ]
        },
        {
          "output_type": "stream",
          "name": "stdout",
          "text": [
            "Indexed image with id = img_575\n",
            "Indexed image with id = img_577\n",
            "Indexed image with id = img_578\n",
            "Indexed image with id = img_579\n",
            "Indexed image with id = img_580\n"
          ]
        },
        {
          "output_type": "stream",
          "name": "stderr",
          "text": [
            "\rIndexing pages:  29%|██▉       | 61/208 [34:35<57:11, 23.35s/it]  "
          ]
        },
        {
          "output_type": "stream",
          "name": "stdout",
          "text": [
            "Indexed image with id = img_581\n",
            "Indexed image with id = img_583\n",
            "Indexed image with id = img_584\n",
            "Indexed image with id = img_585\n"
          ]
        },
        {
          "output_type": "stream",
          "name": "stderr",
          "text": [
            "\rIndexing pages:  30%|██▉       | 62/208 [34:51<51:42, 21.25s/it]"
          ]
        },
        {
          "output_type": "stream",
          "name": "stdout",
          "text": [
            "Indexed image with id = img_586\n",
            "Indexed image with id = img_588\n",
            "Indexed image with id = img_589\n",
            "Indexed image with id = img_590\n",
            "Indexed image with id = img_591\n",
            "Indexed image with id = img_592\n",
            "Indexed image with id = img_593\n",
            "Indexed image with id = img_594\n",
            "Indexed image with id = img_595\n"
          ]
        },
        {
          "output_type": "stream",
          "name": "stderr",
          "text": [
            "\rIndexing pages:  30%|███       | 63/208 [35:28<1:02:12, 25.74s/it]"
          ]
        },
        {
          "output_type": "stream",
          "name": "stdout",
          "text": [
            "Indexed image with id = img_596\n",
            "Indexed image with id = img_598\n",
            "Indexed image with id = img_599\n",
            "Indexed image with id = img_600\n",
            "Indexed image with id = img_601\n"
          ]
        },
        {
          "output_type": "stream",
          "name": "stderr",
          "text": [
            "\rIndexing pages:  31%|███       | 64/208 [35:48<57:47, 24.08s/it]  "
          ]
        },
        {
          "output_type": "stream",
          "name": "stdout",
          "text": [
            "Indexed image with id = img_602\n",
            "Indexed image with id = img_604\n",
            "Indexed image with id = img_605\n",
            "Indexed image with id = img_606\n",
            "Indexed image with id = img_607\n",
            "Indexed image with id = img_608\n",
            "Indexed image with id = img_609\n",
            "Indexed image with id = img_610\n",
            "Indexed image with id = img_611\n",
            "Indexed image with id = img_612\n",
            "Indexed image with id = img_613\n",
            "Indexed image with id = img_614\n",
            "Indexed image with id = img_615\n",
            "Indexed image with id = img_616\n",
            "Indexed image with id = img_617\n",
            "Indexed image with id = img_618\n",
            "Indexed image with id = img_619\n",
            "Indexed image with id = img_620\n",
            "Indexed image with id = img_621\n"
          ]
        },
        {
          "output_type": "stream",
          "name": "stderr",
          "text": [
            "\rIndexing pages:  31%|███▏      | 65/208 [37:01<1:32:40, 38.89s/it]"
          ]
        },
        {
          "output_type": "stream",
          "name": "stdout",
          "text": [
            "Indexed image with id = img_622\n",
            "Indexed image with id = img_624\n",
            "Indexed image with id = img_625\n",
            "Indexed image with id = img_626\n",
            "Indexed image with id = img_627\n"
          ]
        },
        {
          "output_type": "stream",
          "name": "stderr",
          "text": [
            "\rIndexing pages:  32%|███▏      | 66/208 [37:21<1:18:11, 33.04s/it]"
          ]
        },
        {
          "output_type": "stream",
          "name": "stdout",
          "text": [
            "Indexed image with id = img_628\n",
            "Indexed image with id = img_630\n",
            "Indexed image with id = img_631\n",
            "Indexed image with id = img_632\n",
            "Indexed image with id = img_633\n",
            "Indexed image with id = img_634\n",
            "Indexed image with id = img_635\n"
          ]
        },
        {
          "output_type": "stream",
          "name": "stderr",
          "text": [
            "\rIndexing pages:  32%|███▏      | 67/208 [37:49<1:14:32, 31.72s/it]"
          ]
        },
        {
          "output_type": "stream",
          "name": "stdout",
          "text": [
            "Indexed image with id = img_636\n",
            "Indexed image with id = img_638\n",
            "Indexed image with id = img_639\n",
            "Indexed image with id = img_640\n",
            "Indexed image with id = img_641\n"
          ]
        },
        {
          "output_type": "stream",
          "name": "stderr",
          "text": [
            "\rIndexing pages:  33%|███▎      | 68/208 [38:10<1:06:12, 28.37s/it]"
          ]
        },
        {
          "output_type": "stream",
          "name": "stdout",
          "text": [
            "Indexed image with id = img_642\n",
            "Indexed image with id = img_644\n",
            "Indexed image with id = img_645\n",
            "Indexed image with id = img_646\n",
            "Indexed image with id = img_647\n",
            "Indexed image with id = img_648\n",
            "Indexed image with id = img_649\n",
            "Indexed image with id = img_650\n",
            "Indexed image with id = img_651\n",
            "Indexed image with id = img_652\n",
            "Indexed image with id = img_653\n",
            "Indexed image with id = img_654\n",
            "Indexed image with id = img_655\n"
          ]
        },
        {
          "output_type": "stream",
          "name": "stderr",
          "text": [
            "\rIndexing pages:  33%|███▎      | 69/208 [39:00<1:20:43, 34.85s/it]"
          ]
        },
        {
          "output_type": "stream",
          "name": "stdout",
          "text": [
            "Indexed image with id = img_656\n",
            "Indexed image with id = img_658\n",
            "Indexed image with id = img_659\n",
            "Indexed image with id = img_660\n",
            "Indexed image with id = img_661\n",
            "Indexed image with id = img_662\n",
            "Indexed image with id = img_663\n"
          ]
        },
        {
          "output_type": "stream",
          "name": "stderr",
          "text": [
            "\rIndexing pages:  34%|███▎      | 70/208 [39:28<1:15:18, 32.74s/it]"
          ]
        },
        {
          "output_type": "stream",
          "name": "stdout",
          "text": [
            "Indexed image with id = img_664\n",
            "Indexed image with id = img_666\n",
            "Indexed image with id = img_667\n",
            "Indexed image with id = img_668\n",
            "Indexed image with id = img_669\n",
            "Indexed image with id = img_670\n"
          ]
        },
        {
          "output_type": "stream",
          "name": "stderr",
          "text": [
            "\rIndexing pages:  34%|███▍      | 71/208 [39:52<1:08:40, 30.08s/it]"
          ]
        },
        {
          "output_type": "stream",
          "name": "stdout",
          "text": [
            "Indexed image with id = img_671\n",
            "Indexed image with id = img_673\n",
            "Indexed image with id = img_674\n",
            "Indexed image with id = img_675\n",
            "Indexed image with id = img_676\n",
            "Indexed image with id = img_677\n",
            "Indexed image with id = img_678\n",
            "Indexed image with id = img_679\n"
          ]
        },
        {
          "output_type": "stream",
          "name": "stderr",
          "text": [
            "\rIndexing pages:  35%|███▍      | 72/208 [40:22<1:08:34, 30.25s/it]"
          ]
        },
        {
          "output_type": "stream",
          "name": "stdout",
          "text": [
            "Indexed image with id = img_680\n",
            "Indexed image with id = img_682\n",
            "Indexed image with id = img_683\n",
            "Indexed image with id = img_684\n",
            "Indexed image with id = img_685\n"
          ]
        },
        {
          "output_type": "stream",
          "name": "stderr",
          "text": [
            "\rIndexing pages:  35%|███▌      | 73/208 [40:42<1:01:15, 27.23s/it]"
          ]
        },
        {
          "output_type": "stream",
          "name": "stdout",
          "text": [
            "Indexed image with id = img_686\n",
            "Indexed image with id = img_688\n",
            "Indexed image with id = img_689\n",
            "Indexed image with id = img_690\n",
            "Indexed image with id = img_691\n",
            "Indexed image with id = img_692\n",
            "Indexed image with id = img_693\n",
            "Indexed image with id = img_694\n",
            "Indexed image with id = img_695\n",
            "Indexed image with id = img_696\n",
            "Indexed image with id = img_697\n",
            "Indexed image with id = img_698\n",
            "Indexed image with id = img_699\n",
            "Indexed image with id = img_700\n",
            "Indexed image with id = img_701\n",
            "Indexed image with id = img_702\n"
          ]
        },
        {
          "output_type": "stream",
          "name": "stderr",
          "text": [
            "\rIndexing pages:  36%|███▌      | 74/208 [41:46<1:24:55, 38.03s/it]"
          ]
        },
        {
          "output_type": "stream",
          "name": "stdout",
          "text": [
            "Indexed image with id = img_703\n",
            "Indexed image with id = img_705\n",
            "Indexed image with id = img_706\n",
            "Indexed image with id = img_707\n",
            "Indexed image with id = img_708\n"
          ]
        },
        {
          "output_type": "stream",
          "name": "stderr",
          "text": [
            "\rIndexing pages:  36%|███▌      | 75/208 [42:07<1:12:55, 32.90s/it]"
          ]
        },
        {
          "output_type": "stream",
          "name": "stdout",
          "text": [
            "Indexed image with id = img_709\n",
            "Indexed image with id = img_711\n",
            "Indexed image with id = img_712\n",
            "Indexed image with id = img_713\n",
            "Indexed image with id = img_714\n"
          ]
        },
        {
          "output_type": "stream",
          "name": "stderr",
          "text": [
            "\rIndexing pages:  37%|███▋      | 76/208 [42:26<1:03:34, 28.90s/it]"
          ]
        },
        {
          "output_type": "stream",
          "name": "stdout",
          "text": [
            "Indexed image with id = img_715\n",
            "Indexed image with id = img_717\n",
            "Indexed image with id = img_718\n",
            "Indexed image with id = img_719\n",
            "Indexed image with id = img_720\n"
          ]
        },
        {
          "output_type": "stream",
          "name": "stderr",
          "text": [
            "\rIndexing pages:  37%|███▋      | 77/208 [42:48<58:23, 26.74s/it]  "
          ]
        },
        {
          "output_type": "stream",
          "name": "stdout",
          "text": [
            "Indexed image with id = img_721\n",
            "Indexed image with id = img_723\n",
            "Indexed image with id = img_724\n",
            "Indexed image with id = img_725\n",
            "Indexed image with id = img_726\n"
          ]
        },
        {
          "output_type": "stream",
          "name": "stderr",
          "text": [
            "\rIndexing pages:  38%|███▊      | 78/208 [43:09<54:02, 24.95s/it]"
          ]
        },
        {
          "output_type": "stream",
          "name": "stdout",
          "text": [
            "Indexed image with id = img_727\n",
            "Indexed image with id = img_729\n",
            "Indexed image with id = img_730\n",
            "Indexed image with id = img_731\n",
            "Indexed image with id = img_732\n"
          ]
        },
        {
          "output_type": "stream",
          "name": "stderr",
          "text": [
            "\rIndexing pages:  38%|███▊      | 79/208 [43:29<50:39, 23.56s/it]"
          ]
        },
        {
          "output_type": "stream",
          "name": "stdout",
          "text": [
            "Indexed image with id = img_733\n",
            "Indexed image with id = img_735\n",
            "Indexed image with id = img_736\n",
            "Indexed image with id = img_737\n",
            "Indexed image with id = img_738\n"
          ]
        },
        {
          "output_type": "stream",
          "name": "stderr",
          "text": [
            "\rIndexing pages:  38%|███▊      | 80/208 [43:49<48:06, 22.55s/it]"
          ]
        },
        {
          "output_type": "stream",
          "name": "stdout",
          "text": [
            "Indexed image with id = img_739\n",
            "Indexed image with id = img_741\n",
            "Indexed image with id = img_742\n",
            "Indexed image with id = img_743\n",
            "Indexed image with id = img_744\n"
          ]
        },
        {
          "output_type": "stream",
          "name": "stderr",
          "text": [
            "\rIndexing pages:  39%|███▉      | 81/208 [44:09<45:51, 21.66s/it]"
          ]
        },
        {
          "output_type": "stream",
          "name": "stdout",
          "text": [
            "Indexed image with id = img_745\n",
            "Indexed image with id = img_747\n",
            "Indexed image with id = img_748\n",
            "Indexed image with id = img_749\n",
            "Indexed image with id = img_750\n"
          ]
        },
        {
          "output_type": "stream",
          "name": "stderr",
          "text": [
            "\rIndexing pages:  39%|███▉      | 82/208 [44:29<44:47, 21.33s/it]"
          ]
        },
        {
          "output_type": "stream",
          "name": "stdout",
          "text": [
            "Indexed image with id = img_751\n",
            "Indexed image with id = img_753\n",
            "Indexed image with id = img_754\n",
            "Indexed image with id = img_755\n",
            "Indexed image with id = img_756\n"
          ]
        },
        {
          "output_type": "stream",
          "name": "stderr",
          "text": [
            "\rIndexing pages:  40%|███▉      | 83/208 [44:50<44:03, 21.15s/it]"
          ]
        },
        {
          "output_type": "stream",
          "name": "stdout",
          "text": [
            "Indexed image with id = img_757\n",
            "Indexed image with id = img_759\n",
            "Indexed image with id = img_760\n",
            "Indexed image with id = img_761\n",
            "Indexed image with id = img_762\n",
            "Indexed image with id = img_763\n"
          ]
        },
        {
          "output_type": "stream",
          "name": "stderr",
          "text": [
            "\rIndexing pages:  40%|████      | 84/208 [45:14<45:22, 21.96s/it]"
          ]
        },
        {
          "output_type": "stream",
          "name": "stdout",
          "text": [
            "Indexed image with id = img_764\n",
            "Indexed image with id = img_766\n",
            "Indexed image with id = img_767\n",
            "Indexed image with id = img_768\n",
            "Indexed image with id = img_769\n"
          ]
        },
        {
          "output_type": "stream",
          "name": "stderr",
          "text": [
            "\rIndexing pages:  41%|████      | 85/208 [45:35<44:16, 21.60s/it]"
          ]
        },
        {
          "output_type": "stream",
          "name": "stdout",
          "text": [
            "Indexed image with id = img_770\n",
            "Indexed image with id = img_772\n",
            "Indexed image with id = img_773\n",
            "Indexed image with id = img_774\n",
            "Indexed image with id = img_775\n"
          ]
        },
        {
          "output_type": "stream",
          "name": "stderr",
          "text": [
            "\rIndexing pages:  41%|████▏     | 86/208 [45:55<43:06, 21.20s/it]"
          ]
        },
        {
          "output_type": "stream",
          "name": "stdout",
          "text": [
            "Indexed image with id = img_776\n",
            "Indexed image with id = img_778\n",
            "Indexed image with id = img_779\n",
            "Indexed image with id = img_780\n",
            "Indexed image with id = img_781\n"
          ]
        },
        {
          "output_type": "stream",
          "name": "stderr",
          "text": [
            "\rIndexing pages:  42%|████▏     | 87/208 [46:15<42:02, 20.85s/it]"
          ]
        },
        {
          "output_type": "stream",
          "name": "stdout",
          "text": [
            "Indexed image with id = img_782\n",
            "Indexed image with id = img_784\n",
            "Indexed image with id = img_785\n",
            "Indexed image with id = img_786\n",
            "Indexed image with id = img_787\n"
          ]
        },
        {
          "output_type": "stream",
          "name": "stderr",
          "text": [
            "\rIndexing pages:  42%|████▏     | 88/208 [46:34<40:43, 20.36s/it]"
          ]
        },
        {
          "output_type": "stream",
          "name": "stdout",
          "text": [
            "Indexed image with id = img_788\n",
            "Indexed image with id = img_790\n",
            "Indexed image with id = img_791\n",
            "Indexed image with id = img_792\n",
            "Indexed image with id = img_793\n"
          ]
        },
        {
          "output_type": "stream",
          "name": "stderr",
          "text": [
            "\rIndexing pages:  43%|████▎     | 89/208 [46:55<40:38, 20.49s/it]"
          ]
        },
        {
          "output_type": "stream",
          "name": "stdout",
          "text": [
            "Indexed image with id = img_794\n",
            "Indexed image with id = img_796\n",
            "Indexed image with id = img_797\n",
            "Indexed image with id = img_798\n",
            "Indexed image with id = img_799\n"
          ]
        },
        {
          "output_type": "stream",
          "name": "stderr",
          "text": [
            "\rIndexing pages:  43%|████▎     | 90/208 [47:15<39:58, 20.33s/it]"
          ]
        },
        {
          "output_type": "stream",
          "name": "stdout",
          "text": [
            "Indexed image with id = img_800\n",
            "Indexed image with id = img_802\n",
            "Indexed image with id = img_803\n",
            "Indexed image with id = img_804\n",
            "Indexed image with id = img_805\n"
          ]
        },
        {
          "output_type": "stream",
          "name": "stderr",
          "text": [
            "\rIndexing pages:  44%|████▍     | 91/208 [47:36<40:06, 20.57s/it]"
          ]
        },
        {
          "output_type": "stream",
          "name": "stdout",
          "text": [
            "Indexed image with id = img_806\n",
            "Indexed image with id = img_808\n",
            "Indexed image with id = img_809\n",
            "Indexed image with id = img_810\n",
            "Indexed image with id = img_811\n"
          ]
        },
        {
          "output_type": "stream",
          "name": "stderr",
          "text": [
            "\rIndexing pages:  44%|████▍     | 92/208 [47:56<39:21, 20.36s/it]"
          ]
        },
        {
          "output_type": "stream",
          "name": "stdout",
          "text": [
            "Indexed image with id = img_812\n",
            "Indexed image with id = img_814\n",
            "Indexed image with id = img_815\n",
            "Indexed image with id = img_816\n",
            "Indexed image with id = img_817\n"
          ]
        },
        {
          "output_type": "stream",
          "name": "stderr",
          "text": [
            "\rIndexing pages:  45%|████▍     | 93/208 [48:16<38:47, 20.24s/it]"
          ]
        },
        {
          "output_type": "stream",
          "name": "stdout",
          "text": [
            "Indexed image with id = img_818\n",
            "Indexed image with id = img_820\n",
            "Indexed image with id = img_821\n",
            "Indexed image with id = img_822\n",
            "Indexed image with id = img_823\n"
          ]
        },
        {
          "output_type": "stream",
          "name": "stderr",
          "text": [
            "\rIndexing pages:  45%|████▌     | 94/208 [48:37<38:44, 20.39s/it]"
          ]
        },
        {
          "output_type": "stream",
          "name": "stdout",
          "text": [
            "Indexed image with id = img_824\n",
            "Indexed image with id = img_826\n",
            "Indexed image with id = img_827\n",
            "Indexed image with id = img_828\n",
            "Indexed image with id = img_829\n"
          ]
        },
        {
          "output_type": "stream",
          "name": "stderr",
          "text": [
            "\rIndexing pages:  46%|████▌     | 95/208 [48:56<37:53, 20.12s/it]"
          ]
        },
        {
          "output_type": "stream",
          "name": "stdout",
          "text": [
            "Indexed image with id = img_830\n",
            "Indexed image with id = img_832\n",
            "Indexed image with id = img_833\n",
            "Indexed image with id = img_834\n",
            "Indexed image with id = img_835\n"
          ]
        },
        {
          "output_type": "stream",
          "name": "stderr",
          "text": [
            "\rIndexing pages:  46%|████▌     | 96/208 [49:16<37:30, 20.09s/it]"
          ]
        },
        {
          "output_type": "stream",
          "name": "stdout",
          "text": [
            "Indexed image with id = img_836\n",
            "Indexed image with id = img_838\n",
            "Indexed image with id = img_839\n",
            "Indexed image with id = img_840\n",
            "Indexed image with id = img_841\n"
          ]
        },
        {
          "output_type": "stream",
          "name": "stderr",
          "text": [
            "\rIndexing pages:  47%|████▋     | 97/208 [49:37<37:51, 20.46s/it]"
          ]
        },
        {
          "output_type": "stream",
          "name": "stdout",
          "text": [
            "Indexed image with id = img_842\n",
            "Indexed image with id = img_844\n",
            "Indexed image with id = img_845\n",
            "Indexed image with id = img_846\n",
            "Indexed image with id = img_847\n"
          ]
        },
        {
          "output_type": "stream",
          "name": "stderr",
          "text": [
            "\rIndexing pages:  47%|████▋     | 98/208 [49:57<36:58, 20.17s/it]"
          ]
        },
        {
          "output_type": "stream",
          "name": "stdout",
          "text": [
            "Indexed image with id = img_848\n",
            "Indexed image with id = img_850\n",
            "Indexed image with id = img_851\n",
            "Indexed image with id = img_852\n",
            "Indexed image with id = img_853\n"
          ]
        },
        {
          "output_type": "stream",
          "name": "stderr",
          "text": [
            "\rIndexing pages:  48%|████▊     | 99/208 [50:17<36:44, 20.22s/it]"
          ]
        },
        {
          "output_type": "stream",
          "name": "stdout",
          "text": [
            "Indexed image with id = img_854\n",
            "Indexed image with id = img_856\n",
            "Indexed image with id = img_857\n",
            "Indexed image with id = img_858\n",
            "Indexed image with id = img_859\n"
          ]
        },
        {
          "output_type": "stream",
          "name": "stderr",
          "text": [
            "\rIndexing pages:  48%|████▊     | 100/208 [50:39<37:09, 20.64s/it]"
          ]
        },
        {
          "output_type": "stream",
          "name": "stdout",
          "text": [
            "Indexed image with id = img_860\n",
            "Indexed image with id = img_862\n",
            "Indexed image with id = img_863\n",
            "Indexed image with id = img_864\n",
            "Indexed image with id = img_865\n"
          ]
        },
        {
          "output_type": "stream",
          "name": "stderr",
          "text": [
            "\rIndexing pages:  49%|████▊     | 101/208 [50:59<36:37, 20.54s/it]"
          ]
        },
        {
          "output_type": "stream",
          "name": "stdout",
          "text": [
            "Indexed image with id = img_866\n",
            "Indexed image with id = img_868\n",
            "Indexed image with id = img_869\n",
            "Indexed image with id = img_870\n",
            "Indexed image with id = img_871\n"
          ]
        },
        {
          "output_type": "stream",
          "name": "stderr",
          "text": [
            "\rIndexing pages:  49%|████▉     | 102/208 [51:20<36:20, 20.57s/it]"
          ]
        },
        {
          "output_type": "stream",
          "name": "stdout",
          "text": [
            "Indexed image with id = img_872\n",
            "Indexed image with id = img_874\n",
            "Indexed image with id = img_875\n",
            "Indexed image with id = img_876\n",
            "Indexed image with id = img_877\n"
          ]
        },
        {
          "output_type": "stream",
          "name": "stderr",
          "text": [
            "\rIndexing pages:  50%|████▉     | 103/208 [51:41<36:08, 20.65s/it]"
          ]
        },
        {
          "output_type": "stream",
          "name": "stdout",
          "text": [
            "Indexed image with id = img_878\n",
            "Indexed image with id = img_880\n",
            "Indexed image with id = img_881\n",
            "Indexed image with id = img_882\n",
            "Indexed image with id = img_883\n"
          ]
        },
        {
          "output_type": "stream",
          "name": "stderr",
          "text": [
            "\rIndexing pages:  50%|█████     | 104/208 [52:01<35:47, 20.65s/it]"
          ]
        },
        {
          "output_type": "stream",
          "name": "stdout",
          "text": [
            "Indexed image with id = img_884\n",
            "Indexed image with id = img_886\n",
            "Indexed image with id = img_887\n",
            "Indexed image with id = img_888\n",
            "Indexed image with id = img_889\n"
          ]
        },
        {
          "output_type": "stream",
          "name": "stderr",
          "text": [
            "\rIndexing pages:  50%|█████     | 105/208 [52:23<35:48, 20.86s/it]"
          ]
        },
        {
          "output_type": "stream",
          "name": "stdout",
          "text": [
            "Indexed image with id = img_890\n",
            "Indexed image with id = img_892\n",
            "Indexed image with id = img_893\n",
            "Indexed image with id = img_894\n",
            "Indexed image with id = img_895\n"
          ]
        },
        {
          "output_type": "stream",
          "name": "stderr",
          "text": [
            "\rIndexing pages:  51%|█████     | 106/208 [52:42<34:47, 20.46s/it]"
          ]
        },
        {
          "output_type": "stream",
          "name": "stdout",
          "text": [
            "Indexed image with id = img_896\n",
            "Indexed image with id = img_898\n",
            "Indexed image with id = img_899\n",
            "Indexed image with id = img_900\n",
            "Indexed image with id = img_901\n"
          ]
        },
        {
          "output_type": "stream",
          "name": "stderr",
          "text": [
            "\rIndexing pages:  51%|█████▏    | 107/208 [53:03<34:45, 20.65s/it]"
          ]
        },
        {
          "output_type": "stream",
          "name": "stdout",
          "text": [
            "Indexed image with id = img_902\n",
            "Indexed image with id = img_904\n",
            "Indexed image with id = img_905\n",
            "Indexed image with id = img_906\n",
            "Indexed image with id = img_907\n"
          ]
        },
        {
          "output_type": "stream",
          "name": "stderr",
          "text": [
            "\rIndexing pages:  52%|█████▏    | 108/208 [53:24<34:19, 20.60s/it]"
          ]
        },
        {
          "output_type": "stream",
          "name": "stdout",
          "text": [
            "Indexed image with id = img_908\n",
            "Indexed image with id = img_910\n",
            "Indexed image with id = img_911\n",
            "Indexed image with id = img_912\n",
            "Indexed image with id = img_913\n"
          ]
        },
        {
          "output_type": "stream",
          "name": "stderr",
          "text": [
            "\rIndexing pages:  52%|█████▏    | 109/208 [53:44<33:49, 20.50s/it]"
          ]
        },
        {
          "output_type": "stream",
          "name": "stdout",
          "text": [
            "Indexed image with id = img_914\n",
            "Indexed image with id = img_916\n",
            "Indexed image with id = img_917\n",
            "Indexed image with id = img_918\n",
            "Indexed image with id = img_919\n"
          ]
        },
        {
          "output_type": "stream",
          "name": "stderr",
          "text": [
            "\rIndexing pages:  53%|█████▎    | 110/208 [54:04<33:20, 20.41s/it]"
          ]
        },
        {
          "output_type": "stream",
          "name": "stdout",
          "text": [
            "Indexed image with id = img_920\n",
            "Indexed image with id = img_922\n",
            "Indexed image with id = img_923\n",
            "Indexed image with id = img_924\n",
            "Indexed image with id = img_925\n"
          ]
        },
        {
          "output_type": "stream",
          "name": "stderr",
          "text": [
            "\rIndexing pages:  53%|█████▎    | 111/208 [54:24<32:37, 20.18s/it]"
          ]
        },
        {
          "output_type": "stream",
          "name": "stdout",
          "text": [
            "Indexed image with id = img_926\n",
            "Indexed image with id = img_928\n",
            "Indexed image with id = img_929\n",
            "Indexed image with id = img_930\n",
            "Indexed image with id = img_931\n"
          ]
        },
        {
          "output_type": "stream",
          "name": "stderr",
          "text": [
            "\rIndexing pages:  54%|█████▍    | 112/208 [54:44<32:18, 20.19s/it]"
          ]
        },
        {
          "output_type": "stream",
          "name": "stdout",
          "text": [
            "Indexed image with id = img_932\n",
            "Indexed image with id = img_934\n",
            "Indexed image with id = img_935\n",
            "Indexed image with id = img_936\n",
            "Indexed image with id = img_937\n"
          ]
        },
        {
          "output_type": "stream",
          "name": "stderr",
          "text": [
            "\rIndexing pages:  54%|█████▍    | 113/208 [55:05<32:08, 20.30s/it]"
          ]
        },
        {
          "output_type": "stream",
          "name": "stdout",
          "text": [
            "Indexed image with id = img_938\n",
            "Indexed image with id = img_940\n",
            "Indexed image with id = img_941\n",
            "Indexed image with id = img_942\n",
            "Indexed image with id = img_943\n"
          ]
        },
        {
          "output_type": "stream",
          "name": "stderr",
          "text": [
            "\rIndexing pages:  55%|█████▍    | 114/208 [55:24<31:27, 20.08s/it]"
          ]
        },
        {
          "output_type": "stream",
          "name": "stdout",
          "text": [
            "Indexed image with id = img_944\n",
            "Indexed image with id = img_946\n",
            "Indexed image with id = img_947\n",
            "Indexed image with id = img_948\n",
            "Indexed image with id = img_949\n"
          ]
        },
        {
          "output_type": "stream",
          "name": "stderr",
          "text": [
            "\rIndexing pages:  55%|█████▌    | 115/208 [55:45<31:28, 20.31s/it]"
          ]
        },
        {
          "output_type": "stream",
          "name": "stdout",
          "text": [
            "Indexed image with id = img_950\n",
            "Indexed image with id = img_952\n",
            "Indexed image with id = img_953\n",
            "Indexed image with id = img_954\n",
            "Indexed image with id = img_955\n"
          ]
        },
        {
          "output_type": "stream",
          "name": "stderr",
          "text": [
            "\rIndexing pages:  56%|█████▌    | 116/208 [56:05<31:07, 20.30s/it]"
          ]
        },
        {
          "output_type": "stream",
          "name": "stdout",
          "text": [
            "Indexed image with id = img_956\n",
            "Indexed image with id = img_958\n",
            "Indexed image with id = img_959\n",
            "Indexed image with id = img_960\n",
            "Indexed image with id = img_961\n"
          ]
        },
        {
          "output_type": "stream",
          "name": "stderr",
          "text": [
            "\rIndexing pages:  56%|█████▋    | 117/208 [56:25<30:40, 20.23s/it]"
          ]
        },
        {
          "output_type": "stream",
          "name": "stdout",
          "text": [
            "Indexed image with id = img_962\n",
            "Indexed image with id = img_964\n",
            "Indexed image with id = img_965\n",
            "Indexed image with id = img_966\n",
            "Indexed image with id = img_967\n"
          ]
        },
        {
          "output_type": "stream",
          "name": "stderr",
          "text": [
            "\rIndexing pages:  57%|█████▋    | 118/208 [56:46<30:43, 20.49s/it]"
          ]
        },
        {
          "output_type": "stream",
          "name": "stdout",
          "text": [
            "Indexed image with id = img_968\n",
            "Indexed image with id = img_970\n",
            "Indexed image with id = img_971\n",
            "Indexed image with id = img_972\n",
            "Indexed image with id = img_973\n"
          ]
        },
        {
          "output_type": "stream",
          "name": "stderr",
          "text": [
            "\rIndexing pages:  57%|█████▋    | 119/208 [57:06<30:09, 20.34s/it]"
          ]
        },
        {
          "output_type": "stream",
          "name": "stdout",
          "text": [
            "Indexed image with id = img_974\n",
            "Indexed image with id = img_976\n",
            "Indexed image with id = img_977\n",
            "Indexed image with id = img_978\n",
            "Indexed image with id = img_979\n"
          ]
        },
        {
          "output_type": "stream",
          "name": "stderr",
          "text": [
            "\rIndexing pages:  58%|█████▊    | 120/208 [57:27<30:02, 20.48s/it]"
          ]
        },
        {
          "output_type": "stream",
          "name": "stdout",
          "text": [
            "Indexed image with id = img_980\n",
            "Indexed image with id = img_982\n",
            "Indexed image with id = img_983\n",
            "Indexed image with id = img_984\n",
            "Indexed image with id = img_985\n"
          ]
        },
        {
          "output_type": "stream",
          "name": "stderr",
          "text": [
            "\rIndexing pages:  58%|█████▊    | 121/208 [57:50<30:40, 21.16s/it]"
          ]
        },
        {
          "output_type": "stream",
          "name": "stdout",
          "text": [
            "Indexed image with id = img_986\n",
            "Indexed image with id = img_988\n",
            "Indexed image with id = img_989\n",
            "Indexed image with id = img_990\n",
            "Indexed image with id = img_991\n",
            "Indexed image with id = img_992\n",
            "Indexed image with id = img_993\n",
            "Indexed image with id = img_994\n",
            "Indexed image with id = img_995\n",
            "Indexed image with id = img_996\n",
            "Indexed image with id = img_997\n",
            "Indexed image with id = img_998\n",
            "Indexed image with id = img_999\n",
            "Indexed image with id = img_1000\n",
            "Indexed image with id = img_1001\n",
            "Indexed image with id = img_1002\n"
          ]
        },
        {
          "output_type": "stream",
          "name": "stderr",
          "text": [
            "\rIndexing pages:  59%|█████▊    | 122/208 [58:51<47:35, 33.20s/it]"
          ]
        },
        {
          "output_type": "stream",
          "name": "stdout",
          "text": [
            "Indexed image with id = img_1003\n",
            "Indexed image with id = img_1005\n",
            "Indexed image with id = img_1006\n",
            "Indexed image with id = img_1007\n",
            "Indexed image with id = img_1008\n",
            "Indexed image with id = img_1009\n",
            "Indexed image with id = img_1010\n",
            "Indexed image with id = img_1011\n",
            "Indexed image with id = img_1012\n",
            "Indexed image with id = img_1013\n",
            "Indexed image with id = img_1014\n",
            "Indexed image with id = img_1015\n",
            "Indexed image with id = img_1016\n",
            "Indexed image with id = img_1017\n",
            "Indexed image with id = img_1018\n",
            "Indexed image with id = img_1019\n"
          ]
        },
        {
          "output_type": "stream",
          "name": "stderr",
          "text": [
            "\rIndexing pages:  59%|█████▉    | 123/208 [59:56<1:00:16, 42.54s/it]"
          ]
        },
        {
          "output_type": "stream",
          "name": "stdout",
          "text": [
            "Indexed image with id = img_1020\n",
            "Indexed image with id = img_1022\n",
            "Indexed image with id = img_1023\n",
            "Indexed image with id = img_1024\n",
            "Indexed image with id = img_1025\n",
            "Indexed image with id = img_1026\n",
            "Indexed image with id = img_1027\n",
            "Indexed image with id = img_1028\n",
            "Indexed image with id = img_1029\n",
            "Indexed image with id = img_1030\n",
            "Indexed image with id = img_1031\n",
            "Indexed image with id = img_1032\n",
            "Indexed image with id = img_1033\n",
            "Indexed image with id = img_1034\n",
            "Indexed image with id = img_1035\n",
            "Indexed image with id = img_1036\n"
          ]
        },
        {
          "output_type": "stream",
          "name": "stderr",
          "text": [
            "\rIndexing pages:  60%|█████▉    | 124/208 [1:00:56<1:07:09, 47.98s/it]"
          ]
        },
        {
          "output_type": "stream",
          "name": "stdout",
          "text": [
            "Indexed image with id = img_1037\n",
            "Indexed image with id = img_1039\n",
            "Indexed image with id = img_1040\n",
            "Indexed image with id = img_1041\n",
            "Indexed image with id = img_1042\n",
            "Indexed image with id = img_1043\n",
            "Indexed image with id = img_1044\n",
            "Indexed image with id = img_1045\n",
            "Indexed image with id = img_1046\n",
            "Indexed image with id = img_1047\n",
            "Indexed image with id = img_1048\n",
            "Indexed image with id = img_1049\n"
          ]
        },
        {
          "output_type": "stream",
          "name": "stderr",
          "text": [
            "\rIndexing pages:  60%|██████    | 125/208 [1:01:43<1:05:47, 47.57s/it]"
          ]
        },
        {
          "output_type": "stream",
          "name": "stdout",
          "text": [
            "Indexed image with id = img_1050\n",
            "Indexed image with id = img_1052\n",
            "Indexed image with id = img_1053\n",
            "Indexed image with id = img_1054\n",
            "Indexed image with id = img_1055\n",
            "Indexed image with id = img_1056\n"
          ]
        },
        {
          "output_type": "stream",
          "name": "stderr",
          "text": [
            "\rIndexing pages:  61%|██████    | 126/208 [1:02:07<55:26, 40.57s/it]  "
          ]
        },
        {
          "output_type": "stream",
          "name": "stdout",
          "text": [
            "Indexed image with id = img_1057\n",
            "Indexed image with id = img_1059\n",
            "Indexed image with id = img_1060\n",
            "Indexed image with id = img_1061\n",
            "Indexed image with id = img_1062\n"
          ]
        },
        {
          "output_type": "stream",
          "name": "stderr",
          "text": [
            "\rIndexing pages:  61%|██████    | 127/208 [1:02:27<46:31, 34.46s/it]"
          ]
        },
        {
          "output_type": "stream",
          "name": "stdout",
          "text": [
            "Indexed image with id = img_1063\n",
            "Indexed image with id = img_1065\n",
            "Indexed image with id = img_1066\n",
            "Indexed image with id = img_1067\n",
            "Indexed image with id = img_1068\n",
            "Indexed image with id = img_1069\n"
          ]
        },
        {
          "output_type": "stream",
          "name": "stderr",
          "text": [
            "\rIndexing pages:  62%|██████▏   | 128/208 [1:02:54<42:38, 31.98s/it]"
          ]
        },
        {
          "output_type": "stream",
          "name": "stdout",
          "text": [
            "Indexed image with id = img_1070\n",
            "Indexed image with id = img_1072\n",
            "Indexed image with id = img_1073\n",
            "Indexed image with id = img_1074\n",
            "Indexed image with id = img_1075\n",
            "Indexed image with id = img_1076\n",
            "Indexed image with id = img_1077\n"
          ]
        },
        {
          "output_type": "stream",
          "name": "stderr",
          "text": [
            "\rIndexing pages:  62%|██████▏   | 129/208 [1:03:22<40:49, 31.00s/it]"
          ]
        },
        {
          "output_type": "stream",
          "name": "stdout",
          "text": [
            "Indexed image with id = img_1078\n",
            "Indexed image with id = img_1080\n",
            "Indexed image with id = img_1081\n",
            "Indexed image with id = img_1082\n",
            "Indexed image with id = img_1083\n",
            "Indexed image with id = img_1084\n",
            "Indexed image with id = img_1085\n"
          ]
        },
        {
          "output_type": "stream",
          "name": "stderr",
          "text": [
            "\rIndexing pages:  62%|██████▎   | 130/208 [1:03:51<39:32, 30.42s/it]"
          ]
        },
        {
          "output_type": "stream",
          "name": "stdout",
          "text": [
            "Indexed image with id = img_1086\n",
            "Indexed image with id = img_1088\n",
            "Indexed image with id = img_1089\n",
            "Indexed image with id = img_1090\n",
            "Indexed image with id = img_1091\n"
          ]
        },
        {
          "output_type": "stream",
          "name": "stderr",
          "text": [
            "\rIndexing pages:  63%|██████▎   | 131/208 [1:04:12<35:13, 27.45s/it]"
          ]
        },
        {
          "output_type": "stream",
          "name": "stdout",
          "text": [
            "Indexed image with id = img_1092\n",
            "Indexed image with id = img_1094\n",
            "Indexed image with id = img_1095\n",
            "Indexed image with id = img_1096\n",
            "Indexed image with id = img_1097\n"
          ]
        },
        {
          "output_type": "stream",
          "name": "stderr",
          "text": [
            "\rIndexing pages:  63%|██████▎   | 132/208 [1:04:32<32:06, 25.35s/it]"
          ]
        },
        {
          "output_type": "stream",
          "name": "stdout",
          "text": [
            "Indexed image with id = img_1098\n",
            "Indexed image with id = img_1100\n",
            "Indexed image with id = img_1101\n",
            "Indexed image with id = img_1102\n",
            "Indexed image with id = img_1103\n",
            "Indexed image with id = img_1104\n",
            "Indexed image with id = img_1105\n",
            "Indexed image with id = img_1106\n",
            "Indexed image with id = img_1107\n",
            "Indexed image with id = img_1108\n"
          ]
        },
        {
          "output_type": "stream",
          "name": "stderr",
          "text": [
            "\rIndexing pages:  64%|██████▍   | 133/208 [1:05:09<35:58, 28.78s/it]"
          ]
        },
        {
          "output_type": "stream",
          "name": "stdout",
          "text": [
            "Indexed image with id = img_1109\n",
            "Indexed image with id = img_1111\n",
            "Indexed image with id = img_1112\n",
            "Indexed image with id = img_1113\n",
            "Indexed image with id = img_1114\n",
            "Indexed image with id = img_1115\n"
          ]
        },
        {
          "output_type": "stream",
          "name": "stderr",
          "text": [
            "\rIndexing pages:  64%|██████▍   | 134/208 [1:05:33<33:45, 27.37s/it]"
          ]
        },
        {
          "output_type": "stream",
          "name": "stdout",
          "text": [
            "Indexed image with id = img_1116\n",
            "Indexed image with id = img_1118\n",
            "Indexed image with id = img_1119\n",
            "Indexed image with id = img_1120\n",
            "Indexed image with id = img_1121\n"
          ]
        },
        {
          "output_type": "stream",
          "name": "stderr",
          "text": [
            "\rIndexing pages:  65%|██████▍   | 135/208 [1:05:53<30:33, 25.12s/it]"
          ]
        },
        {
          "output_type": "stream",
          "name": "stdout",
          "text": [
            "Indexed image with id = img_1122\n",
            "Indexed image with id = img_1124\n",
            "Indexed image with id = img_1125\n",
            "Indexed image with id = img_1126\n",
            "Indexed image with id = img_1127\n"
          ]
        },
        {
          "output_type": "stream",
          "name": "stderr",
          "text": [
            "\rIndexing pages:  65%|██████▌   | 136/208 [1:06:13<28:23, 23.66s/it]"
          ]
        },
        {
          "output_type": "stream",
          "name": "stdout",
          "text": [
            "Indexed image with id = img_1128\n",
            "Indexed image with id = img_1130\n",
            "Indexed image with id = img_1131\n",
            "Indexed image with id = img_1132\n",
            "Indexed image with id = img_1133\n"
          ]
        },
        {
          "output_type": "stream",
          "name": "stderr",
          "text": [
            "\rIndexing pages:  66%|██████▌   | 137/208 [1:06:33<26:37, 22.50s/it]"
          ]
        },
        {
          "output_type": "stream",
          "name": "stdout",
          "text": [
            "Indexed image with id = img_1134\n",
            "Indexed image with id = img_1136\n",
            "Indexed image with id = img_1137\n",
            "Indexed image with id = img_1138\n",
            "Indexed image with id = img_1139\n"
          ]
        },
        {
          "output_type": "stream",
          "name": "stderr",
          "text": [
            "\rIndexing pages:  66%|██████▋   | 138/208 [1:06:52<24:57, 21.40s/it]"
          ]
        },
        {
          "output_type": "stream",
          "name": "stdout",
          "text": [
            "Indexed image with id = img_1140\n",
            "Indexed image with id = img_1142\n",
            "Indexed image with id = img_1143\n",
            "Indexed image with id = img_1144\n"
          ]
        },
        {
          "output_type": "stream",
          "name": "stderr",
          "text": [
            "\rIndexing pages:  67%|██████▋   | 139/208 [1:07:07<22:34, 19.62s/it]"
          ]
        },
        {
          "output_type": "stream",
          "name": "stdout",
          "text": [
            "Indexed image with id = img_1145\n",
            "Indexed image with id = img_1147\n",
            "Indexed image with id = img_1148\n",
            "Indexed image with id = img_1149\n",
            "Indexed image with id = img_1150\n"
          ]
        },
        {
          "output_type": "stream",
          "name": "stderr",
          "text": [
            "\rIndexing pages:  67%|██████▋   | 140/208 [1:07:28<22:31, 19.88s/it]"
          ]
        },
        {
          "output_type": "stream",
          "name": "stdout",
          "text": [
            "Indexed image with id = img_1151\n",
            "Indexed image with id = img_1153\n",
            "Indexed image with id = img_1154\n",
            "Indexed image with id = img_1155\n"
          ]
        },
        {
          "output_type": "stream",
          "name": "stderr",
          "text": [
            "\rIndexing pages:  68%|██████▊   | 141/208 [1:07:44<21:00, 18.81s/it]"
          ]
        },
        {
          "output_type": "stream",
          "name": "stdout",
          "text": [
            "Indexed image with id = img_1156\n",
            "Indexed image with id = img_1158\n",
            "Indexed image with id = img_1159\n",
            "Indexed image with id = img_1160\n",
            "Indexed image with id = img_1161\n"
          ]
        },
        {
          "output_type": "stream",
          "name": "stderr",
          "text": [
            "\rIndexing pages:  68%|██████▊   | 142/208 [1:08:05<21:25, 19.47s/it]"
          ]
        },
        {
          "output_type": "stream",
          "name": "stdout",
          "text": [
            "Indexed image with id = img_1162\n",
            "Indexed image with id = img_1164\n",
            "Indexed image with id = img_1165\n",
            "Indexed image with id = img_1166\n",
            "Indexed image with id = img_1167\n"
          ]
        },
        {
          "output_type": "stream",
          "name": "stderr",
          "text": [
            "\rIndexing pages:  69%|██████▉   | 143/208 [1:08:25<21:17, 19.66s/it]"
          ]
        },
        {
          "output_type": "stream",
          "name": "stdout",
          "text": [
            "Indexed image with id = img_1168\n",
            "Indexed image with id = img_1170\n",
            "Indexed image with id = img_1171\n",
            "Indexed image with id = img_1172\n"
          ]
        },
        {
          "output_type": "stream",
          "name": "stderr",
          "text": [
            "\rIndexing pages:  69%|██████▉   | 144/208 [1:08:41<19:46, 18.54s/it]"
          ]
        },
        {
          "output_type": "stream",
          "name": "stdout",
          "text": [
            "Indexed image with id = img_1173\n",
            "Indexed image with id = img_1175\n",
            "Indexed image with id = img_1176\n",
            "Indexed image with id = img_1177\n",
            "Indexed image with id = img_1178\n"
          ]
        },
        {
          "output_type": "stream",
          "name": "stderr",
          "text": [
            "\rIndexing pages:  70%|██████▉   | 145/208 [1:09:01<19:55, 18.97s/it]"
          ]
        },
        {
          "output_type": "stream",
          "name": "stdout",
          "text": [
            "Indexed image with id = img_1179\n",
            "Indexed image with id = img_1181\n",
            "Indexed image with id = img_1182\n",
            "Indexed image with id = img_1183\n",
            "Indexed image with id = img_1184\n"
          ]
        },
        {
          "output_type": "stream",
          "name": "stderr",
          "text": [
            "\rIndexing pages:  70%|███████   | 146/208 [1:09:22<20:03, 19.40s/it]"
          ]
        },
        {
          "output_type": "stream",
          "name": "stdout",
          "text": [
            "Indexed image with id = img_1185\n",
            "Indexed image with id = img_1187\n",
            "Indexed image with id = img_1188\n",
            "Indexed image with id = img_1189\n",
            "Indexed image with id = img_1190\n"
          ]
        },
        {
          "output_type": "stream",
          "name": "stderr",
          "text": [
            "\rIndexing pages:  71%|███████   | 147/208 [1:09:42<20:09, 19.82s/it]"
          ]
        },
        {
          "output_type": "stream",
          "name": "stdout",
          "text": [
            "Indexed image with id = img_1191\n",
            "Indexed image with id = img_1193\n",
            "Indexed image with id = img_1194\n",
            "Indexed image with id = img_1195\n",
            "Indexed image with id = img_1196\n"
          ]
        },
        {
          "output_type": "stream",
          "name": "stderr",
          "text": [
            "\rIndexing pages:  71%|███████   | 148/208 [1:10:02<19:44, 19.73s/it]"
          ]
        },
        {
          "output_type": "stream",
          "name": "stdout",
          "text": [
            "Indexed image with id = img_1197\n",
            "Indexed image with id = img_1199\n",
            "Indexed image with id = img_1200\n",
            "Indexed image with id = img_1201\n"
          ]
        },
        {
          "output_type": "stream",
          "name": "stderr",
          "text": [
            "\rIndexing pages:  72%|███████▏  | 149/208 [1:10:18<18:20, 18.64s/it]"
          ]
        },
        {
          "output_type": "stream",
          "name": "stdout",
          "text": [
            "Indexed image with id = img_1202\n",
            "Indexed image with id = img_1204\n",
            "Indexed image with id = img_1205\n",
            "Indexed image with id = img_1206\n"
          ]
        },
        {
          "output_type": "stream",
          "name": "stderr",
          "text": [
            "\rIndexing pages:  72%|███████▏  | 150/208 [1:10:34<17:15, 17.86s/it]"
          ]
        },
        {
          "output_type": "stream",
          "name": "stdout",
          "text": [
            "Indexed image with id = img_1207\n",
            "Indexed image with id = img_1209\n",
            "Indexed image with id = img_1210\n",
            "Indexed image with id = img_1211\n",
            "Indexed image with id = img_1212\n"
          ]
        },
        {
          "output_type": "stream",
          "name": "stderr",
          "text": [
            "\rIndexing pages:  73%|███████▎  | 151/208 [1:10:53<17:13, 18.13s/it]"
          ]
        },
        {
          "output_type": "stream",
          "name": "stdout",
          "text": [
            "Indexed image with id = img_1213\n",
            "Indexed image with id = img_1215\n",
            "Indexed image with id = img_1216\n",
            "Indexed image with id = img_1217\n",
            "Indexed image with id = img_1218\n"
          ]
        },
        {
          "output_type": "stream",
          "name": "stderr",
          "text": [
            "\rIndexing pages:  73%|███████▎  | 152/208 [1:11:13<17:22, 18.62s/it]"
          ]
        },
        {
          "output_type": "stream",
          "name": "stdout",
          "text": [
            "Indexed image with id = img_1219\n",
            "Indexed image with id = img_1221\n",
            "Indexed image with id = img_1222\n",
            "Indexed image with id = img_1223\n",
            "Indexed image with id = img_1224\n"
          ]
        },
        {
          "output_type": "stream",
          "name": "stderr",
          "text": [
            "\rIndexing pages:  74%|███████▎  | 153/208 [1:11:34<17:48, 19.42s/it]"
          ]
        },
        {
          "output_type": "stream",
          "name": "stdout",
          "text": [
            "Indexed image with id = img_1225\n",
            "Indexed image with id = img_1227\n",
            "Indexed image with id = img_1228\n",
            "Indexed image with id = img_1229\n",
            "Indexed image with id = img_1230\n"
          ]
        },
        {
          "output_type": "stream",
          "name": "stderr",
          "text": [
            "\rIndexing pages:  74%|███████▍  | 154/208 [1:11:54<17:36, 19.56s/it]"
          ]
        },
        {
          "output_type": "stream",
          "name": "stdout",
          "text": [
            "Indexed image with id = img_1231\n",
            "Indexed image with id = img_1233\n",
            "Indexed image with id = img_1234\n",
            "Indexed image with id = img_1235\n",
            "Indexed image with id = img_1236\n",
            "Indexed image with id = img_1237\n"
          ]
        },
        {
          "output_type": "stream",
          "name": "stderr",
          "text": [
            "\rIndexing pages:  75%|███████▍  | 155/208 [1:12:17<18:18, 20.73s/it]"
          ]
        },
        {
          "output_type": "stream",
          "name": "stdout",
          "text": [
            "Indexed image with id = img_1238\n",
            "Indexed image with id = img_1240\n",
            "Indexed image with id = img_1241\n",
            "Indexed image with id = img_1242\n",
            "Indexed image with id = img_1243\n"
          ]
        },
        {
          "output_type": "stream",
          "name": "stderr",
          "text": [
            "\rIndexing pages:  75%|███████▌  | 156/208 [1:12:38<17:57, 20.72s/it]"
          ]
        },
        {
          "output_type": "stream",
          "name": "stdout",
          "text": [
            "Indexed image with id = img_1244\n",
            "Indexed image with id = img_1246\n",
            "Indexed image with id = img_1247\n",
            "Indexed image with id = img_1248\n"
          ]
        },
        {
          "output_type": "stream",
          "name": "stderr",
          "text": [
            "\rIndexing pages:  75%|███████▌  | 157/208 [1:12:55<16:39, 19.59s/it]"
          ]
        },
        {
          "output_type": "stream",
          "name": "stdout",
          "text": [
            "Indexed image with id = img_1249\n",
            "Indexed image with id = img_1251\n",
            "Indexed image with id = img_1252\n",
            "Indexed image with id = img_1253\n",
            "Indexed image with id = img_1254\n"
          ]
        },
        {
          "output_type": "stream",
          "name": "stderr",
          "text": [
            "\rIndexing pages:  76%|███████▌  | 158/208 [1:13:15<16:34, 19.88s/it]"
          ]
        },
        {
          "output_type": "stream",
          "name": "stdout",
          "text": [
            "Indexed image with id = img_1255\n",
            "Indexed image with id = img_1257\n",
            "Indexed image with id = img_1258\n",
            "Indexed image with id = img_1259\n"
          ]
        },
        {
          "output_type": "stream",
          "name": "stderr",
          "text": [
            "\rIndexing pages:  76%|███████▋  | 159/208 [1:13:32<15:21, 18.80s/it]"
          ]
        },
        {
          "output_type": "stream",
          "name": "stdout",
          "text": [
            "Indexed image with id = img_1260\n",
            "Indexed image with id = img_1262\n",
            "Indexed image with id = img_1263\n",
            "Indexed image with id = img_1264\n",
            "Indexed image with id = img_1265\n"
          ]
        },
        {
          "output_type": "stream",
          "name": "stderr",
          "text": [
            "\rIndexing pages:  77%|███████▋  | 160/208 [1:13:52<15:21, 19.21s/it]"
          ]
        },
        {
          "output_type": "stream",
          "name": "stdout",
          "text": [
            "Indexed image with id = img_1266\n",
            "Indexed image with id = img_1268\n",
            "Indexed image with id = img_1269\n",
            "Indexed image with id = img_1270\n"
          ]
        },
        {
          "output_type": "stream",
          "name": "stderr",
          "text": [
            "\rIndexing pages:  77%|███████▋  | 161/208 [1:14:07<14:06, 18.02s/it]"
          ]
        },
        {
          "output_type": "stream",
          "name": "stdout",
          "text": [
            "Indexed image with id = img_1271\n",
            "Indexed image with id = img_1273\n",
            "Indexed image with id = img_1274\n",
            "Indexed image with id = img_1275\n",
            "Indexed image with id = img_1276\n"
          ]
        },
        {
          "output_type": "stream",
          "name": "stderr",
          "text": [
            "\rIndexing pages:  78%|███████▊  | 162/208 [1:14:26<14:03, 18.34s/it]"
          ]
        },
        {
          "output_type": "stream",
          "name": "stdout",
          "text": [
            "Indexed image with id = img_1277\n",
            "Indexed image with id = img_1279\n",
            "Indexed image with id = img_1280\n",
            "Indexed image with id = img_1281\n",
            "Indexed image with id = img_1282\n"
          ]
        },
        {
          "output_type": "stream",
          "name": "stderr",
          "text": [
            "\rIndexing pages:  78%|███████▊  | 163/208 [1:14:46<14:05, 18.78s/it]"
          ]
        },
        {
          "output_type": "stream",
          "name": "stdout",
          "text": [
            "Indexed image with id = img_1283\n",
            "Indexed image with id = img_1285\n",
            "Indexed image with id = img_1286\n",
            "Indexed image with id = img_1287\n",
            "Indexed image with id = img_1288\n"
          ]
        },
        {
          "output_type": "stream",
          "name": "stderr",
          "text": [
            "\rIndexing pages:  79%|███████▉  | 164/208 [1:15:05<13:53, 18.94s/it]"
          ]
        },
        {
          "output_type": "stream",
          "name": "stdout",
          "text": [
            "Indexed image with id = img_1289\n",
            "Indexed image with id = img_1291\n",
            "Indexed image with id = img_1292\n",
            "Indexed image with id = img_1293\n",
            "Indexed image with id = img_1294\n"
          ]
        },
        {
          "output_type": "stream",
          "name": "stderr",
          "text": [
            "\rIndexing pages:  79%|███████▉  | 165/208 [1:15:26<13:53, 19.38s/it]"
          ]
        },
        {
          "output_type": "stream",
          "name": "stdout",
          "text": [
            "Indexed image with id = img_1295\n",
            "Indexed image with id = img_1297\n",
            "Indexed image with id = img_1298\n",
            "Indexed image with id = img_1299\n",
            "Indexed image with id = img_1300\n"
          ]
        },
        {
          "output_type": "stream",
          "name": "stderr",
          "text": [
            "\rIndexing pages:  80%|███████▉  | 166/208 [1:15:47<13:53, 19.86s/it]"
          ]
        },
        {
          "output_type": "stream",
          "name": "stdout",
          "text": [
            "Indexed image with id = img_1301\n",
            "Indexed image with id = img_1303\n",
            "Indexed image with id = img_1304\n",
            "Indexed image with id = img_1305\n",
            "Indexed image with id = img_1306\n",
            "Indexed image with id = img_1307\n"
          ]
        },
        {
          "output_type": "stream",
          "name": "stderr",
          "text": [
            "\rIndexing pages:  80%|████████  | 167/208 [1:16:11<14:28, 21.18s/it]"
          ]
        },
        {
          "output_type": "stream",
          "name": "stdout",
          "text": [
            "Indexed image with id = img_1308\n",
            "Indexed image with id = img_1310\n",
            "Indexed image with id = img_1311\n",
            "Indexed image with id = img_1312\n",
            "Indexed image with id = img_1313\n"
          ]
        },
        {
          "output_type": "stream",
          "name": "stderr",
          "text": [
            "\rIndexing pages:  81%|████████  | 168/208 [1:16:31<13:51, 20.79s/it]"
          ]
        },
        {
          "output_type": "stream",
          "name": "stdout",
          "text": [
            "Indexed image with id = img_1314\n",
            "Indexed image with id = img_1316\n",
            "Indexed image with id = img_1317\n",
            "Indexed image with id = img_1318\n",
            "Indexed image with id = img_1319\n"
          ]
        },
        {
          "output_type": "stream",
          "name": "stderr",
          "text": [
            "\rIndexing pages:  81%|████████▏ | 169/208 [1:16:54<14:04, 21.65s/it]"
          ]
        },
        {
          "output_type": "stream",
          "name": "stdout",
          "text": [
            "Indexed image with id = img_1320\n",
            "Indexed image with id = img_1322\n",
            "Indexed image with id = img_1323\n",
            "Indexed image with id = img_1324\n",
            "Indexed image with id = img_1325\n"
          ]
        },
        {
          "output_type": "stream",
          "name": "stderr",
          "text": [
            "\rIndexing pages:  82%|████████▏ | 170/208 [1:17:15<13:31, 21.35s/it]"
          ]
        },
        {
          "output_type": "stream",
          "name": "stdout",
          "text": [
            "Indexed image with id = img_1326\n",
            "Indexed image with id = img_1328\n",
            "Indexed image with id = img_1329\n",
            "Indexed image with id = img_1330\n",
            "Indexed image with id = img_1331\n"
          ]
        },
        {
          "output_type": "stream",
          "name": "stderr",
          "text": [
            "\rIndexing pages:  82%|████████▏ | 171/208 [1:17:36<13:02, 21.16s/it]"
          ]
        },
        {
          "output_type": "stream",
          "name": "stdout",
          "text": [
            "Indexed image with id = img_1332\n",
            "Indexed image with id = img_1334\n",
            "Indexed image with id = img_1335\n",
            "Indexed image with id = img_1336\n"
          ]
        },
        {
          "output_type": "stream",
          "name": "stderr",
          "text": [
            "\rIndexing pages:  83%|████████▎ | 172/208 [1:17:53<12:00, 20.01s/it]"
          ]
        },
        {
          "output_type": "stream",
          "name": "stdout",
          "text": [
            "Indexed image with id = img_1337\n",
            "Indexed image with id = img_1339\n",
            "Indexed image with id = img_1340\n",
            "Indexed image with id = img_1341\n",
            "Indexed image with id = img_1342\n"
          ]
        },
        {
          "output_type": "stream",
          "name": "stderr",
          "text": [
            "\rIndexing pages:  83%|████████▎ | 173/208 [1:18:14<11:44, 20.12s/it]"
          ]
        },
        {
          "output_type": "stream",
          "name": "stdout",
          "text": [
            "Indexed image with id = img_1343\n",
            "Indexed image with id = img_1345\n",
            "Indexed image with id = img_1346\n",
            "Indexed image with id = img_1347\n",
            "Indexed image with id = img_1348\n",
            "Indexed image with id = img_1349\n"
          ]
        },
        {
          "output_type": "stream",
          "name": "stderr",
          "text": [
            "\rIndexing pages:  84%|████████▎ | 174/208 [1:18:37<11:57, 21.10s/it]"
          ]
        },
        {
          "output_type": "stream",
          "name": "stdout",
          "text": [
            "Indexed image with id = img_1350\n",
            "Indexed image with id = img_1352\n",
            "Indexed image with id = img_1353\n",
            "Indexed image with id = img_1354\n",
            "Indexed image with id = img_1355\n"
          ]
        },
        {
          "output_type": "stream",
          "name": "stderr",
          "text": [
            "\rIndexing pages:  84%|████████▍ | 175/208 [1:18:57<11:23, 20.71s/it]"
          ]
        },
        {
          "output_type": "stream",
          "name": "stdout",
          "text": [
            "Indexed image with id = img_1356\n",
            "Indexed image with id = img_1358\n",
            "Indexed image with id = img_1359\n",
            "Indexed image with id = img_1360\n",
            "Indexed image with id = img_1361\n"
          ]
        },
        {
          "output_type": "stream",
          "name": "stderr",
          "text": [
            "\rIndexing pages:  85%|████████▍ | 176/208 [1:19:16<10:48, 20.26s/it]"
          ]
        },
        {
          "output_type": "stream",
          "name": "stdout",
          "text": [
            "Indexed image with id = img_1362\n",
            "Indexed image with id = img_1364\n",
            "Indexed image with id = img_1365\n",
            "Indexed image with id = img_1366\n",
            "Indexed image with id = img_1367\n"
          ]
        },
        {
          "output_type": "stream",
          "name": "stderr",
          "text": [
            "\rIndexing pages:  85%|████████▌ | 177/208 [1:19:36<10:28, 20.28s/it]"
          ]
        },
        {
          "output_type": "stream",
          "name": "stdout",
          "text": [
            "Indexed image with id = img_1368\n",
            "Indexed image with id = img_1370\n",
            "Indexed image with id = img_1371\n",
            "Indexed image with id = img_1372\n",
            "Indexed image with id = img_1373\n"
          ]
        },
        {
          "output_type": "stream",
          "name": "stderr",
          "text": [
            "\rIndexing pages:  86%|████████▌ | 178/208 [1:19:56<10:05, 20.18s/it]"
          ]
        },
        {
          "output_type": "stream",
          "name": "stdout",
          "text": [
            "Indexed image with id = img_1374\n",
            "Indexed image with id = img_1376\n",
            "Indexed image with id = img_1377\n",
            "Indexed image with id = img_1378\n",
            "Indexed image with id = img_1379\n"
          ]
        },
        {
          "output_type": "stream",
          "name": "stderr",
          "text": [
            "\rIndexing pages:  86%|████████▌ | 179/208 [1:20:16<09:41, 20.05s/it]"
          ]
        },
        {
          "output_type": "stream",
          "name": "stdout",
          "text": [
            "Indexed image with id = img_1380\n",
            "Indexed image with id = img_1382\n",
            "Indexed image with id = img_1383\n",
            "Indexed image with id = img_1384\n",
            "Indexed image with id = img_1385\n",
            "Indexed image with id = img_1386\n"
          ]
        },
        {
          "output_type": "stream",
          "name": "stderr",
          "text": [
            "\rIndexing pages:  87%|████████▋ | 180/208 [1:20:40<09:52, 21.17s/it]"
          ]
        },
        {
          "output_type": "stream",
          "name": "stdout",
          "text": [
            "Indexed image with id = img_1387\n",
            "Indexed image with id = img_1389\n",
            "Indexed image with id = img_1390\n",
            "Indexed image with id = img_1391\n",
            "Indexed image with id = img_1392\n"
          ]
        },
        {
          "output_type": "stream",
          "name": "stderr",
          "text": [
            "\rIndexing pages:  87%|████████▋ | 181/208 [1:20:58<09:09, 20.35s/it]"
          ]
        },
        {
          "output_type": "stream",
          "name": "stdout",
          "text": [
            "Indexed image with id = img_1393\n",
            "Indexed image with id = img_1395\n",
            "Indexed image with id = img_1396\n",
            "Indexed image with id = img_1397\n",
            "Indexed image with id = img_1398\n",
            "Indexed image with id = img_1399\n",
            "Indexed image with id = img_1400\n",
            "Indexed image with id = img_1401\n",
            "Indexed image with id = img_1402\n",
            "Indexed image with id = img_1403\n",
            "Indexed image with id = img_1404\n"
          ]
        },
        {
          "output_type": "stream",
          "name": "stderr",
          "text": [
            "\rIndexing pages:  88%|████████▊ | 182/208 [1:21:42<11:49, 27.27s/it]"
          ]
        },
        {
          "output_type": "stream",
          "name": "stdout",
          "text": [
            "Indexed image with id = img_1405\n",
            "Indexed image with id = img_1407\n",
            "Indexed image with id = img_1408\n",
            "Indexed image with id = img_1409\n",
            "Indexed image with id = img_1410\n"
          ]
        },
        {
          "output_type": "stream",
          "name": "stderr",
          "text": [
            "\rIndexing pages:  88%|████████▊ | 183/208 [1:22:03<10:38, 25.55s/it]"
          ]
        },
        {
          "output_type": "stream",
          "name": "stdout",
          "text": [
            "Indexed image with id = img_1411\n",
            "Indexed image with id = img_1413\n",
            "Indexed image with id = img_1414\n",
            "Indexed image with id = img_1415\n"
          ]
        },
        {
          "output_type": "stream",
          "name": "stderr",
          "text": [
            "\rIndexing pages:  88%|████████▊ | 184/208 [1:22:19<09:05, 22.74s/it]"
          ]
        },
        {
          "output_type": "stream",
          "name": "stdout",
          "text": [
            "Indexed image with id = img_1416\n",
            "Indexed image with id = img_1418\n",
            "Indexed image with id = img_1419\n",
            "Indexed image with id = img_1420\n"
          ]
        },
        {
          "output_type": "stream",
          "name": "stderr",
          "text": [
            "\rIndexing pages:  89%|████████▉ | 185/208 [1:22:35<07:55, 20.67s/it]"
          ]
        },
        {
          "output_type": "stream",
          "name": "stdout",
          "text": [
            "Indexed image with id = img_1421\n",
            "Indexed image with id = img_1423\n",
            "Indexed image with id = img_1424\n",
            "Indexed image with id = img_1425\n"
          ]
        },
        {
          "output_type": "stream",
          "name": "stderr",
          "text": [
            "\rIndexing pages:  89%|████████▉ | 186/208 [1:22:54<07:20, 20.01s/it]"
          ]
        },
        {
          "output_type": "stream",
          "name": "stdout",
          "text": [
            "Indexed image with id = img_1426\n",
            "Indexed image with id = img_1428\n",
            "Indexed image with id = img_1429\n",
            "Indexed image with id = img_1430\n",
            "Indexed image with id = img_1431\n",
            "Indexed image with id = img_1432\n",
            "Indexed image with id = img_1433\n",
            "Indexed image with id = img_1434\n",
            "Indexed image with id = img_1435\n",
            "Indexed image with id = img_1436\n",
            "Indexed image with id = img_1437\n",
            "Indexed image with id = img_1438\n",
            "Indexed image with id = img_1439\n",
            "Indexed image with id = img_1440\n"
          ]
        },
        {
          "output_type": "stream",
          "name": "stderr",
          "text": [
            "\rIndexing pages:  90%|████████▉ | 187/208 [1:23:46<10:26, 29.85s/it]"
          ]
        },
        {
          "output_type": "stream",
          "name": "stdout",
          "text": [
            "Indexed image with id = img_1441\n",
            "Indexed image with id = img_1443\n",
            "Indexed image with id = img_1444\n",
            "Indexed image with id = img_1445\n",
            "Indexed image with id = img_1446\n",
            "Indexed image with id = img_1447\n",
            "Indexed image with id = img_1448\n",
            "Indexed image with id = img_1449\n",
            "Indexed image with id = img_1450\n",
            "Indexed image with id = img_1451\n",
            "Indexed image with id = img_1452\n",
            "Indexed image with id = img_1453\n",
            "Indexed image with id = img_1454\n"
          ]
        },
        {
          "output_type": "stream",
          "name": "stderr",
          "text": [
            "\rIndexing pages:  90%|█████████ | 188/208 [1:24:36<11:52, 35.62s/it]"
          ]
        },
        {
          "output_type": "stream",
          "name": "stdout",
          "text": [
            "Indexed image with id = img_1455\n",
            "Indexed image with id = img_1457\n",
            "Indexed image with id = img_1458\n",
            "Indexed image with id = img_1459\n",
            "Indexed image with id = img_1460\n",
            "Indexed image with id = img_1461\n",
            "Indexed image with id = img_1462\n",
            "Indexed image with id = img_1463\n",
            "Indexed image with id = img_1464\n",
            "Indexed image with id = img_1465\n",
            "Indexed image with id = img_1466\n",
            "Indexed image with id = img_1467\n"
          ]
        },
        {
          "output_type": "stream",
          "name": "stderr",
          "text": [
            "\rIndexing pages:  91%|█████████ | 189/208 [1:25:19<12:03, 38.05s/it]"
          ]
        },
        {
          "output_type": "stream",
          "name": "stdout",
          "text": [
            "Indexed image with id = img_1468\n",
            "Indexed image with id = img_1470\n",
            "Indexed image with id = img_1471\n",
            "Indexed image with id = img_1472\n",
            "Indexed image with id = img_1473\n",
            "Indexed image with id = img_1474\n",
            "Indexed image with id = img_1475\n",
            "Indexed image with id = img_1476\n",
            "Indexed image with id = img_1477\n",
            "Indexed image with id = img_1478\n",
            "Indexed image with id = img_1479\n",
            "Indexed image with id = img_1480\n"
          ]
        },
        {
          "output_type": "stream",
          "name": "stderr",
          "text": [
            "\rIndexing pages:  91%|█████████▏| 190/208 [1:26:10<12:32, 41.80s/it]"
          ]
        },
        {
          "output_type": "stream",
          "name": "stdout",
          "text": [
            "Indexed image with id = img_1481\n",
            "Indexed image with id = img_1483\n",
            "Indexed image with id = img_1484\n",
            "Indexed image with id = img_1485\n",
            "Indexed image with id = img_1486\n",
            "Indexed image with id = img_1487\n",
            "Indexed image with id = img_1488\n",
            "Indexed image with id = img_1489\n",
            "Indexed image with id = img_1490\n",
            "Indexed image with id = img_1491\n",
            "Indexed image with id = img_1492\n",
            "Indexed image with id = img_1493\n"
          ]
        },
        {
          "output_type": "stream",
          "name": "stderr",
          "text": [
            "\rIndexing pages:  92%|█████████▏| 191/208 [1:26:55<12:07, 42.79s/it]"
          ]
        },
        {
          "output_type": "stream",
          "name": "stdout",
          "text": [
            "Indexed image with id = img_1494\n",
            "Indexed image with id = img_1496\n",
            "Indexed image with id = img_1497\n",
            "Indexed image with id = img_1498\n"
          ]
        },
        {
          "output_type": "stream",
          "name": "stderr",
          "text": [
            "\rIndexing pages:  92%|█████████▏| 192/208 [1:27:10<09:12, 34.55s/it]"
          ]
        },
        {
          "output_type": "stream",
          "name": "stdout",
          "text": [
            "Indexed image with id = img_1499\n",
            "Indexed image with id = img_1501\n",
            "Indexed image with id = img_1502\n",
            "Indexed image with id = img_1503\n"
          ]
        },
        {
          "output_type": "stream",
          "name": "stderr",
          "text": [
            "\rIndexing pages:  93%|█████████▎| 193/208 [1:27:27<07:18, 29.25s/it]"
          ]
        },
        {
          "output_type": "stream",
          "name": "stdout",
          "text": [
            "Indexed image with id = img_1504\n",
            "Indexed image with id = img_1506\n",
            "Indexed image with id = img_1507\n",
            "Indexed image with id = img_1508\n",
            "Indexed image with id = img_1509\n",
            "Indexed image with id = img_1510\n",
            "Indexed image with id = img_1511\n",
            "Indexed image with id = img_1512\n",
            "Indexed image with id = img_1513\n",
            "Indexed image with id = img_1514\n",
            "Indexed image with id = img_1515\n",
            "Indexed image with id = img_1516\n",
            "Indexed image with id = img_1517\n",
            "Indexed image with id = img_1518\n",
            "Indexed image with id = img_1519\n"
          ]
        },
        {
          "output_type": "stream",
          "name": "stderr",
          "text": [
            "\rIndexing pages:  93%|█████████▎| 194/208 [1:28:21<08:30, 36.50s/it]"
          ]
        },
        {
          "output_type": "stream",
          "name": "stdout",
          "text": [
            "Indexed image with id = img_1520\n",
            "Indexed image with id = img_1522\n",
            "Indexed image with id = img_1523\n",
            "Indexed image with id = img_1524\n",
            "Indexed image with id = img_1525\n",
            "Indexed image with id = img_1526\n",
            "Indexed image with id = img_1527\n",
            "Indexed image with id = img_1528\n",
            "Indexed image with id = img_1529\n",
            "Indexed image with id = img_1530\n",
            "Indexed image with id = img_1531\n",
            "Indexed image with id = img_1532\n",
            "Indexed image with id = img_1533\n",
            "Indexed image with id = img_1534\n",
            "Indexed image with id = img_1535\n"
          ]
        },
        {
          "output_type": "stream",
          "name": "stderr",
          "text": [
            "\rIndexing pages:  94%|█████████▍| 195/208 [1:29:14<09:02, 41.71s/it]"
          ]
        },
        {
          "output_type": "stream",
          "name": "stdout",
          "text": [
            "Indexed image with id = img_1536\n",
            "Indexed image with id = img_1538\n",
            "Indexed image with id = img_1539\n",
            "Indexed image with id = img_1540\n"
          ]
        },
        {
          "output_type": "stream",
          "name": "stderr",
          "text": [
            "\rIndexing pages:  94%|█████████▍| 196/208 [1:29:31<06:49, 34.16s/it]"
          ]
        },
        {
          "output_type": "stream",
          "name": "stdout",
          "text": [
            "Indexed image with id = img_1541\n",
            "Indexed image with id = img_1543\n",
            "Indexed image with id = img_1544\n",
            "Indexed image with id = img_1545\n"
          ]
        },
        {
          "output_type": "stream",
          "name": "stderr",
          "text": [
            "\rIndexing pages:  95%|█████████▍| 197/208 [1:29:48<05:17, 28.90s/it]"
          ]
        },
        {
          "output_type": "stream",
          "name": "stdout",
          "text": [
            "Indexed image with id = img_1546\n",
            "Indexed image with id = img_1548\n",
            "Indexed image with id = img_1549\n",
            "Indexed image with id = img_1550\n"
          ]
        },
        {
          "output_type": "stream",
          "name": "stderr",
          "text": [
            "\rIndexing pages:  95%|█████████▌| 198/208 [1:30:04<04:11, 25.14s/it]"
          ]
        },
        {
          "output_type": "stream",
          "name": "stdout",
          "text": [
            "Indexed image with id = img_1551\n",
            "Indexed image with id = img_1553\n",
            "Indexed image with id = img_1554\n",
            "Indexed image with id = img_1555\n",
            "Indexed image with id = img_1556\n"
          ]
        },
        {
          "output_type": "stream",
          "name": "stderr",
          "text": [
            "\rIndexing pages:  96%|█████████▌| 199/208 [1:30:25<03:34, 23.85s/it]"
          ]
        },
        {
          "output_type": "stream",
          "name": "stdout",
          "text": [
            "Indexed image with id = img_1557\n",
            "Indexed image with id = img_1559\n",
            "Indexed image with id = img_1560\n",
            "Indexed image with id = img_1561\n"
          ]
        },
        {
          "output_type": "stream",
          "name": "stderr",
          "text": [
            "\rIndexing pages:  96%|█████████▌| 200/208 [1:30:41<02:51, 21.46s/it]"
          ]
        },
        {
          "output_type": "stream",
          "name": "stdout",
          "text": [
            "Indexed image with id = img_1562\n",
            "Indexed image with id = img_1564\n",
            "Indexed image with id = img_1565\n",
            "Indexed image with id = img_1566\n",
            "Indexed image with id = img_1567\n",
            "Indexed image with id = img_1568\n",
            "Indexed image with id = img_1569\n",
            "Indexed image with id = img_1570\n",
            "Indexed image with id = img_1571\n",
            "Indexed image with id = img_1572\n",
            "Indexed image with id = img_1573\n"
          ]
        },
        {
          "output_type": "stream",
          "name": "stderr",
          "text": [
            "\rIndexing pages:  97%|█████████▋| 201/208 [1:31:24<03:17, 28.16s/it]"
          ]
        },
        {
          "output_type": "stream",
          "name": "stdout",
          "text": [
            "Indexed image with id = img_1574\n",
            "Indexed image with id = img_1576\n",
            "Indexed image with id = img_1577\n",
            "Indexed image with id = img_1578\n",
            "Indexed image with id = img_1579\n",
            "Indexed image with id = img_1580\n",
            "Indexed image with id = img_1581\n",
            "Indexed image with id = img_1582\n",
            "Indexed image with id = img_1583\n",
            "Indexed image with id = img_1584\n",
            "Indexed image with id = img_1585\n",
            "Indexed image with id = img_1586\n",
            "Indexed image with id = img_1587\n"
          ]
        },
        {
          "output_type": "stream",
          "name": "stderr",
          "text": [
            "\rIndexing pages:  97%|█████████▋| 202/208 [1:32:14<03:27, 34.53s/it]"
          ]
        },
        {
          "output_type": "stream",
          "name": "stdout",
          "text": [
            "Indexed image with id = img_1588\n",
            "Indexed image with id = img_1590\n",
            "Indexed image with id = img_1591\n",
            "Indexed image with id = img_1592\n",
            "Indexed image with id = img_1593\n",
            "Indexed image with id = img_1594\n",
            "Indexed image with id = img_1595\n",
            "Indexed image with id = img_1596\n",
            "Indexed image with id = img_1597\n",
            "Indexed image with id = img_1598\n",
            "Indexed image with id = img_1599\n",
            "Indexed image with id = img_1600\n",
            "Indexed image with id = img_1601\n",
            "Indexed image with id = img_1602\n"
          ]
        },
        {
          "output_type": "stream",
          "name": "stderr",
          "text": [
            "\rIndexing pages:  98%|█████████▊| 203/208 [1:33:04<03:15, 39.19s/it]"
          ]
        },
        {
          "output_type": "stream",
          "name": "stdout",
          "text": [
            "Indexed image with id = img_1603\n",
            "Indexed image with id = img_1605\n",
            "Indexed image with id = img_1606\n",
            "Indexed image with id = img_1607\n",
            "Indexed image with id = img_1608\n",
            "Indexed image with id = img_1609\n",
            "Indexed image with id = img_1610\n",
            "Indexed image with id = img_1611\n",
            "Indexed image with id = img_1612\n",
            "Indexed image with id = img_1613\n",
            "Indexed image with id = img_1614\n",
            "Indexed image with id = img_1615\n",
            "Indexed image with id = img_1616\n"
          ]
        },
        {
          "output_type": "stream",
          "name": "stderr",
          "text": [
            "\rIndexing pages:  98%|█████████▊| 204/208 [1:33:52<02:48, 42.01s/it]"
          ]
        },
        {
          "output_type": "stream",
          "name": "stdout",
          "text": [
            "Indexed image with id = img_1617\n"
          ]
        },
        {
          "output_type": "stream",
          "name": "stderr",
          "text": [
            "\rIndexing pages:  99%|█████████▊| 205/208 [1:33:53<01:28, 29.56s/it]"
          ]
        },
        {
          "output_type": "stream",
          "name": "stdout",
          "text": [
            "Indexed image with id = img_1619\n",
            "Indexed image with id = img_1620\n",
            "Indexed image with id = img_1621\n"
          ]
        },
        {
          "output_type": "stream",
          "name": "stderr",
          "text": [
            "\rIndexing pages:  99%|█████████▉| 206/208 [1:34:10<00:51, 25.73s/it]"
          ]
        },
        {
          "output_type": "stream",
          "name": "stdout",
          "text": [
            "Indexed image with id = img_1622\n",
            "Indexed image with id = img_1624\n",
            "Indexed image with id = img_1625\n",
            "Indexed image with id = img_1626\n"
          ]
        },
        {
          "output_type": "stream",
          "name": "stderr",
          "text": [
            "\rIndexing pages: 100%|█████████▉| 207/208 [1:34:25<00:22, 22.61s/it]"
          ]
        },
        {
          "output_type": "stream",
          "name": "stdout",
          "text": [
            "Indexed image with id = img_1627\n",
            "Indexed image with id = img_1629\n",
            "Indexed image with id = img_1630\n",
            "Indexed image with id = img_1631\n",
            "Indexed image with id = img_1632\n",
            "Indexed image with id = img_1633\n",
            "Indexed image with id = img_1634\n",
            "Indexed image with id = img_1635\n",
            "Indexed image with id = img_1636\n",
            "Indexed image with id = img_1637\n",
            "Indexed image with id = img_1638\n",
            "Indexed image with id = img_1639\n",
            "Indexed image with id = img_1640\n",
            "Indexed image with id = img_1641\n",
            "Indexed image with id = img_1642\n",
            "Indexed image with id = img_1643\n",
            "Indexed image with id = img_1644\n"
          ]
        },
        {
          "output_type": "stream",
          "name": "stderr",
          "text": [
            "Indexing pages: 100%|██████████| 208/208 [1:35:35<00:00, 27.57s/it]"
          ]
        },
        {
          "output_type": "stream",
          "name": "stdout",
          "text": [
            "Indexed image with id = img_1645\n",
            "\n",
            " Finished indexing 1646 items from sitemap.\n"
          ]
        },
        {
          "output_type": "stream",
          "name": "stderr",
          "text": [
            "\n"
          ]
        }
      ]
    },
    {
      "cell_type": "code",
      "source": [],
      "metadata": {
        "id": "b44QM2CvxPI3"
      },
      "id": "b44QM2CvxPI3",
      "execution_count": null,
      "outputs": []
    }
  ],
  "metadata": {
    "kernelspec": {
      "display_name": "Python 3",
      "language": "python",
      "name": "python3"
    },
    "language_info": {
      "codemirror_mode": {
        "name": "ipython",
        "version": 3
      },
      "file_extension": ".py",
      "mimetype": "text/x-python",
      "name": "python",
      "nbconvert_exporter": "python",
      "pygments_lexer": "ipython3",
      "version": "3.8.8"
    },
    "colab": {
      "provenance": []
    },
    "widgets": {
      "application/vnd.jupyter.widget-state+json": {
        "992321472d9f493ba058f3a780492d1b": {
          "model_module": "@jupyter-widgets/controls",
          "model_name": "HBoxModel",
          "model_module_version": "1.5.0",
          "state": {
            "_dom_classes": [],
            "_model_module": "@jupyter-widgets/controls",
            "_model_module_version": "1.5.0",
            "_model_name": "HBoxModel",
            "_view_count": null,
            "_view_module": "@jupyter-widgets/controls",
            "_view_module_version": "1.5.0",
            "_view_name": "HBoxView",
            "box_style": "",
            "children": [
              "IPY_MODEL_4eb24a7260d64650829c10043744ed65",
              "IPY_MODEL_887b6d166f924fbc8aa6e0efd9626b44",
              "IPY_MODEL_59190ab4f4f947a7b2a08faae326d3b0"
            ],
            "layout": "IPY_MODEL_51d77e1afceb437486a3ee446c09b48f"
          }
        },
        "4eb24a7260d64650829c10043744ed65": {
          "model_module": "@jupyter-widgets/controls",
          "model_name": "HTMLModel",
          "model_module_version": "1.5.0",
          "state": {
            "_dom_classes": [],
            "_model_module": "@jupyter-widgets/controls",
            "_model_module_version": "1.5.0",
            "_model_name": "HTMLModel",
            "_view_count": null,
            "_view_module": "@jupyter-widgets/controls",
            "_view_module_version": "1.5.0",
            "_view_name": "HTMLView",
            "description": "",
            "description_tooltip": null,
            "layout": "IPY_MODEL_3dc7b8bd3bfe443ba6a51c8051e0526a",
            "placeholder": "​",
            "style": "IPY_MODEL_34a7c274b6994f2a9e0b55a3ca058b85",
            "value": "modules.json: 100%"
          }
        },
        "887b6d166f924fbc8aa6e0efd9626b44": {
          "model_module": "@jupyter-widgets/controls",
          "model_name": "FloatProgressModel",
          "model_module_version": "1.5.0",
          "state": {
            "_dom_classes": [],
            "_model_module": "@jupyter-widgets/controls",
            "_model_module_version": "1.5.0",
            "_model_name": "FloatProgressModel",
            "_view_count": null,
            "_view_module": "@jupyter-widgets/controls",
            "_view_module_version": "1.5.0",
            "_view_name": "ProgressView",
            "bar_style": "success",
            "description": "",
            "description_tooltip": null,
            "layout": "IPY_MODEL_bf599564019148aa97690a395b84c332",
            "max": 387,
            "min": 0,
            "orientation": "horizontal",
            "style": "IPY_MODEL_4447116820514960baf62b87348a2bb7",
            "value": 387
          }
        },
        "59190ab4f4f947a7b2a08faae326d3b0": {
          "model_module": "@jupyter-widgets/controls",
          "model_name": "HTMLModel",
          "model_module_version": "1.5.0",
          "state": {
            "_dom_classes": [],
            "_model_module": "@jupyter-widgets/controls",
            "_model_module_version": "1.5.0",
            "_model_name": "HTMLModel",
            "_view_count": null,
            "_view_module": "@jupyter-widgets/controls",
            "_view_module_version": "1.5.0",
            "_view_name": "HTMLView",
            "description": "",
            "description_tooltip": null,
            "layout": "IPY_MODEL_0fdcaed7284b4c92b9885ee84d40e65b",
            "placeholder": "​",
            "style": "IPY_MODEL_169ffbde5bd945659312ba9d5f48dc8a",
            "value": " 387/387 [00:00&lt;00:00, 35.0kB/s]"
          }
        },
        "51d77e1afceb437486a3ee446c09b48f": {
          "model_module": "@jupyter-widgets/base",
          "model_name": "LayoutModel",
          "model_module_version": "1.2.0",
          "state": {
            "_model_module": "@jupyter-widgets/base",
            "_model_module_version": "1.2.0",
            "_model_name": "LayoutModel",
            "_view_count": null,
            "_view_module": "@jupyter-widgets/base",
            "_view_module_version": "1.2.0",
            "_view_name": "LayoutView",
            "align_content": null,
            "align_items": null,
            "align_self": null,
            "border": null,
            "bottom": null,
            "display": null,
            "flex": null,
            "flex_flow": null,
            "grid_area": null,
            "grid_auto_columns": null,
            "grid_auto_flow": null,
            "grid_auto_rows": null,
            "grid_column": null,
            "grid_gap": null,
            "grid_row": null,
            "grid_template_areas": null,
            "grid_template_columns": null,
            "grid_template_rows": null,
            "height": null,
            "justify_content": null,
            "justify_items": null,
            "left": null,
            "margin": null,
            "max_height": null,
            "max_width": null,
            "min_height": null,
            "min_width": null,
            "object_fit": null,
            "object_position": null,
            "order": null,
            "overflow": null,
            "overflow_x": null,
            "overflow_y": null,
            "padding": null,
            "right": null,
            "top": null,
            "visibility": null,
            "width": null
          }
        },
        "3dc7b8bd3bfe443ba6a51c8051e0526a": {
          "model_module": "@jupyter-widgets/base",
          "model_name": "LayoutModel",
          "model_module_version": "1.2.0",
          "state": {
            "_model_module": "@jupyter-widgets/base",
            "_model_module_version": "1.2.0",
            "_model_name": "LayoutModel",
            "_view_count": null,
            "_view_module": "@jupyter-widgets/base",
            "_view_module_version": "1.2.0",
            "_view_name": "LayoutView",
            "align_content": null,
            "align_items": null,
            "align_self": null,
            "border": null,
            "bottom": null,
            "display": null,
            "flex": null,
            "flex_flow": null,
            "grid_area": null,
            "grid_auto_columns": null,
            "grid_auto_flow": null,
            "grid_auto_rows": null,
            "grid_column": null,
            "grid_gap": null,
            "grid_row": null,
            "grid_template_areas": null,
            "grid_template_columns": null,
            "grid_template_rows": null,
            "height": null,
            "justify_content": null,
            "justify_items": null,
            "left": null,
            "margin": null,
            "max_height": null,
            "max_width": null,
            "min_height": null,
            "min_width": null,
            "object_fit": null,
            "object_position": null,
            "order": null,
            "overflow": null,
            "overflow_x": null,
            "overflow_y": null,
            "padding": null,
            "right": null,
            "top": null,
            "visibility": null,
            "width": null
          }
        },
        "34a7c274b6994f2a9e0b55a3ca058b85": {
          "model_module": "@jupyter-widgets/controls",
          "model_name": "DescriptionStyleModel",
          "model_module_version": "1.5.0",
          "state": {
            "_model_module": "@jupyter-widgets/controls",
            "_model_module_version": "1.5.0",
            "_model_name": "DescriptionStyleModel",
            "_view_count": null,
            "_view_module": "@jupyter-widgets/base",
            "_view_module_version": "1.2.0",
            "_view_name": "StyleView",
            "description_width": ""
          }
        },
        "bf599564019148aa97690a395b84c332": {
          "model_module": "@jupyter-widgets/base",
          "model_name": "LayoutModel",
          "model_module_version": "1.2.0",
          "state": {
            "_model_module": "@jupyter-widgets/base",
            "_model_module_version": "1.2.0",
            "_model_name": "LayoutModel",
            "_view_count": null,
            "_view_module": "@jupyter-widgets/base",
            "_view_module_version": "1.2.0",
            "_view_name": "LayoutView",
            "align_content": null,
            "align_items": null,
            "align_self": null,
            "border": null,
            "bottom": null,
            "display": null,
            "flex": null,
            "flex_flow": null,
            "grid_area": null,
            "grid_auto_columns": null,
            "grid_auto_flow": null,
            "grid_auto_rows": null,
            "grid_column": null,
            "grid_gap": null,
            "grid_row": null,
            "grid_template_areas": null,
            "grid_template_columns": null,
            "grid_template_rows": null,
            "height": null,
            "justify_content": null,
            "justify_items": null,
            "left": null,
            "margin": null,
            "max_height": null,
            "max_width": null,
            "min_height": null,
            "min_width": null,
            "object_fit": null,
            "object_position": null,
            "order": null,
            "overflow": null,
            "overflow_x": null,
            "overflow_y": null,
            "padding": null,
            "right": null,
            "top": null,
            "visibility": null,
            "width": null
          }
        },
        "4447116820514960baf62b87348a2bb7": {
          "model_module": "@jupyter-widgets/controls",
          "model_name": "ProgressStyleModel",
          "model_module_version": "1.5.0",
          "state": {
            "_model_module": "@jupyter-widgets/controls",
            "_model_module_version": "1.5.0",
            "_model_name": "ProgressStyleModel",
            "_view_count": null,
            "_view_module": "@jupyter-widgets/base",
            "_view_module_version": "1.2.0",
            "_view_name": "StyleView",
            "bar_color": null,
            "description_width": ""
          }
        },
        "0fdcaed7284b4c92b9885ee84d40e65b": {
          "model_module": "@jupyter-widgets/base",
          "model_name": "LayoutModel",
          "model_module_version": "1.2.0",
          "state": {
            "_model_module": "@jupyter-widgets/base",
            "_model_module_version": "1.2.0",
            "_model_name": "LayoutModel",
            "_view_count": null,
            "_view_module": "@jupyter-widgets/base",
            "_view_module_version": "1.2.0",
            "_view_name": "LayoutView",
            "align_content": null,
            "align_items": null,
            "align_self": null,
            "border": null,
            "bottom": null,
            "display": null,
            "flex": null,
            "flex_flow": null,
            "grid_area": null,
            "grid_auto_columns": null,
            "grid_auto_flow": null,
            "grid_auto_rows": null,
            "grid_column": null,
            "grid_gap": null,
            "grid_row": null,
            "grid_template_areas": null,
            "grid_template_columns": null,
            "grid_template_rows": null,
            "height": null,
            "justify_content": null,
            "justify_items": null,
            "left": null,
            "margin": null,
            "max_height": null,
            "max_width": null,
            "min_height": null,
            "min_width": null,
            "object_fit": null,
            "object_position": null,
            "order": null,
            "overflow": null,
            "overflow_x": null,
            "overflow_y": null,
            "padding": null,
            "right": null,
            "top": null,
            "visibility": null,
            "width": null
          }
        },
        "169ffbde5bd945659312ba9d5f48dc8a": {
          "model_module": "@jupyter-widgets/controls",
          "model_name": "DescriptionStyleModel",
          "model_module_version": "1.5.0",
          "state": {
            "_model_module": "@jupyter-widgets/controls",
            "_model_module_version": "1.5.0",
            "_model_name": "DescriptionStyleModel",
            "_view_count": null,
            "_view_module": "@jupyter-widgets/base",
            "_view_module_version": "1.2.0",
            "_view_name": "StyleView",
            "description_width": ""
          }
        },
        "597a40957a8a4780acd7c3c5e0e4b69d": {
          "model_module": "@jupyter-widgets/controls",
          "model_name": "HBoxModel",
          "model_module_version": "1.5.0",
          "state": {
            "_dom_classes": [],
            "_model_module": "@jupyter-widgets/controls",
            "_model_module_version": "1.5.0",
            "_model_name": "HBoxModel",
            "_view_count": null,
            "_view_module": "@jupyter-widgets/controls",
            "_view_module_version": "1.5.0",
            "_view_name": "HBoxView",
            "box_style": "",
            "children": [
              "IPY_MODEL_19b6dc8eb7ec4c4b913a8f95c96c9444",
              "IPY_MODEL_97180bbf01b54b17934783ca5521f2bf",
              "IPY_MODEL_a9bcad271dbd499a895c0cadbc750d12"
            ],
            "layout": "IPY_MODEL_c98694b7d56040fdaea5894088cba0bb"
          }
        },
        "19b6dc8eb7ec4c4b913a8f95c96c9444": {
          "model_module": "@jupyter-widgets/controls",
          "model_name": "HTMLModel",
          "model_module_version": "1.5.0",
          "state": {
            "_dom_classes": [],
            "_model_module": "@jupyter-widgets/controls",
            "_model_module_version": "1.5.0",
            "_model_name": "HTMLModel",
            "_view_count": null,
            "_view_module": "@jupyter-widgets/controls",
            "_view_module_version": "1.5.0",
            "_view_name": "HTMLView",
            "description": "",
            "description_tooltip": null,
            "layout": "IPY_MODEL_c15356a6e14445509753b1c5e143c8d1",
            "placeholder": "​",
            "style": "IPY_MODEL_033a38b044a1443b921ee47bb1751c75",
            "value": "README.md: "
          }
        },
        "97180bbf01b54b17934783ca5521f2bf": {
          "model_module": "@jupyter-widgets/controls",
          "model_name": "FloatProgressModel",
          "model_module_version": "1.5.0",
          "state": {
            "_dom_classes": [],
            "_model_module": "@jupyter-widgets/controls",
            "_model_module_version": "1.5.0",
            "_model_name": "FloatProgressModel",
            "_view_count": null,
            "_view_module": "@jupyter-widgets/controls",
            "_view_module_version": "1.5.0",
            "_view_name": "ProgressView",
            "bar_style": "success",
            "description": "",
            "description_tooltip": null,
            "layout": "IPY_MODEL_3a1300a9e27d4639aeadec282e948544",
            "max": 1,
            "min": 0,
            "orientation": "horizontal",
            "style": "IPY_MODEL_ae046c8fca47434ca614f06c32f91baf",
            "value": 1
          }
        },
        "a9bcad271dbd499a895c0cadbc750d12": {
          "model_module": "@jupyter-widgets/controls",
          "model_name": "HTMLModel",
          "model_module_version": "1.5.0",
          "state": {
            "_dom_classes": [],
            "_model_module": "@jupyter-widgets/controls",
            "_model_module_version": "1.5.0",
            "_model_name": "HTMLModel",
            "_view_count": null,
            "_view_module": "@jupyter-widgets/controls",
            "_view_module_version": "1.5.0",
            "_view_name": "HTMLView",
            "description": "",
            "description_tooltip": null,
            "layout": "IPY_MODEL_79ae658e3b184624a74456eac9a9c1f4",
            "placeholder": "​",
            "style": "IPY_MODEL_f533cb8abd14482ea81f5efd44118934",
            "value": " 67.6k/? [00:00&lt;00:00, 5.53MB/s]"
          }
        },
        "c98694b7d56040fdaea5894088cba0bb": {
          "model_module": "@jupyter-widgets/base",
          "model_name": "LayoutModel",
          "model_module_version": "1.2.0",
          "state": {
            "_model_module": "@jupyter-widgets/base",
            "_model_module_version": "1.2.0",
            "_model_name": "LayoutModel",
            "_view_count": null,
            "_view_module": "@jupyter-widgets/base",
            "_view_module_version": "1.2.0",
            "_view_name": "LayoutView",
            "align_content": null,
            "align_items": null,
            "align_self": null,
            "border": null,
            "bottom": null,
            "display": null,
            "flex": null,
            "flex_flow": null,
            "grid_area": null,
            "grid_auto_columns": null,
            "grid_auto_flow": null,
            "grid_auto_rows": null,
            "grid_column": null,
            "grid_gap": null,
            "grid_row": null,
            "grid_template_areas": null,
            "grid_template_columns": null,
            "grid_template_rows": null,
            "height": null,
            "justify_content": null,
            "justify_items": null,
            "left": null,
            "margin": null,
            "max_height": null,
            "max_width": null,
            "min_height": null,
            "min_width": null,
            "object_fit": null,
            "object_position": null,
            "order": null,
            "overflow": null,
            "overflow_x": null,
            "overflow_y": null,
            "padding": null,
            "right": null,
            "top": null,
            "visibility": null,
            "width": null
          }
        },
        "c15356a6e14445509753b1c5e143c8d1": {
          "model_module": "@jupyter-widgets/base",
          "model_name": "LayoutModel",
          "model_module_version": "1.2.0",
          "state": {
            "_model_module": "@jupyter-widgets/base",
            "_model_module_version": "1.2.0",
            "_model_name": "LayoutModel",
            "_view_count": null,
            "_view_module": "@jupyter-widgets/base",
            "_view_module_version": "1.2.0",
            "_view_name": "LayoutView",
            "align_content": null,
            "align_items": null,
            "align_self": null,
            "border": null,
            "bottom": null,
            "display": null,
            "flex": null,
            "flex_flow": null,
            "grid_area": null,
            "grid_auto_columns": null,
            "grid_auto_flow": null,
            "grid_auto_rows": null,
            "grid_column": null,
            "grid_gap": null,
            "grid_row": null,
            "grid_template_areas": null,
            "grid_template_columns": null,
            "grid_template_rows": null,
            "height": null,
            "justify_content": null,
            "justify_items": null,
            "left": null,
            "margin": null,
            "max_height": null,
            "max_width": null,
            "min_height": null,
            "min_width": null,
            "object_fit": null,
            "object_position": null,
            "order": null,
            "overflow": null,
            "overflow_x": null,
            "overflow_y": null,
            "padding": null,
            "right": null,
            "top": null,
            "visibility": null,
            "width": null
          }
        },
        "033a38b044a1443b921ee47bb1751c75": {
          "model_module": "@jupyter-widgets/controls",
          "model_name": "DescriptionStyleModel",
          "model_module_version": "1.5.0",
          "state": {
            "_model_module": "@jupyter-widgets/controls",
            "_model_module_version": "1.5.0",
            "_model_name": "DescriptionStyleModel",
            "_view_count": null,
            "_view_module": "@jupyter-widgets/base",
            "_view_module_version": "1.2.0",
            "_view_name": "StyleView",
            "description_width": ""
          }
        },
        "3a1300a9e27d4639aeadec282e948544": {
          "model_module": "@jupyter-widgets/base",
          "model_name": "LayoutModel",
          "model_module_version": "1.2.0",
          "state": {
            "_model_module": "@jupyter-widgets/base",
            "_model_module_version": "1.2.0",
            "_model_name": "LayoutModel",
            "_view_count": null,
            "_view_module": "@jupyter-widgets/base",
            "_view_module_version": "1.2.0",
            "_view_name": "LayoutView",
            "align_content": null,
            "align_items": null,
            "align_self": null,
            "border": null,
            "bottom": null,
            "display": null,
            "flex": null,
            "flex_flow": null,
            "grid_area": null,
            "grid_auto_columns": null,
            "grid_auto_flow": null,
            "grid_auto_rows": null,
            "grid_column": null,
            "grid_gap": null,
            "grid_row": null,
            "grid_template_areas": null,
            "grid_template_columns": null,
            "grid_template_rows": null,
            "height": null,
            "justify_content": null,
            "justify_items": null,
            "left": null,
            "margin": null,
            "max_height": null,
            "max_width": null,
            "min_height": null,
            "min_width": null,
            "object_fit": null,
            "object_position": null,
            "order": null,
            "overflow": null,
            "overflow_x": null,
            "overflow_y": null,
            "padding": null,
            "right": null,
            "top": null,
            "visibility": null,
            "width": "20px"
          }
        },
        "ae046c8fca47434ca614f06c32f91baf": {
          "model_module": "@jupyter-widgets/controls",
          "model_name": "ProgressStyleModel",
          "model_module_version": "1.5.0",
          "state": {
            "_model_module": "@jupyter-widgets/controls",
            "_model_module_version": "1.5.0",
            "_model_name": "ProgressStyleModel",
            "_view_count": null,
            "_view_module": "@jupyter-widgets/base",
            "_view_module_version": "1.2.0",
            "_view_name": "StyleView",
            "bar_color": null,
            "description_width": ""
          }
        },
        "79ae658e3b184624a74456eac9a9c1f4": {
          "model_module": "@jupyter-widgets/base",
          "model_name": "LayoutModel",
          "model_module_version": "1.2.0",
          "state": {
            "_model_module": "@jupyter-widgets/base",
            "_model_module_version": "1.2.0",
            "_model_name": "LayoutModel",
            "_view_count": null,
            "_view_module": "@jupyter-widgets/base",
            "_view_module_version": "1.2.0",
            "_view_name": "LayoutView",
            "align_content": null,
            "align_items": null,
            "align_self": null,
            "border": null,
            "bottom": null,
            "display": null,
            "flex": null,
            "flex_flow": null,
            "grid_area": null,
            "grid_auto_columns": null,
            "grid_auto_flow": null,
            "grid_auto_rows": null,
            "grid_column": null,
            "grid_gap": null,
            "grid_row": null,
            "grid_template_areas": null,
            "grid_template_columns": null,
            "grid_template_rows": null,
            "height": null,
            "justify_content": null,
            "justify_items": null,
            "left": null,
            "margin": null,
            "max_height": null,
            "max_width": null,
            "min_height": null,
            "min_width": null,
            "object_fit": null,
            "object_position": null,
            "order": null,
            "overflow": null,
            "overflow_x": null,
            "overflow_y": null,
            "padding": null,
            "right": null,
            "top": null,
            "visibility": null,
            "width": null
          }
        },
        "f533cb8abd14482ea81f5efd44118934": {
          "model_module": "@jupyter-widgets/controls",
          "model_name": "DescriptionStyleModel",
          "model_module_version": "1.5.0",
          "state": {
            "_model_module": "@jupyter-widgets/controls",
            "_model_module_version": "1.5.0",
            "_model_name": "DescriptionStyleModel",
            "_view_count": null,
            "_view_module": "@jupyter-widgets/base",
            "_view_module_version": "1.2.0",
            "_view_name": "StyleView",
            "description_width": ""
          }
        },
        "07c71964f3ff4cbe983a9765f720f015": {
          "model_module": "@jupyter-widgets/controls",
          "model_name": "HBoxModel",
          "model_module_version": "1.5.0",
          "state": {
            "_dom_classes": [],
            "_model_module": "@jupyter-widgets/controls",
            "_model_module_version": "1.5.0",
            "_model_name": "HBoxModel",
            "_view_count": null,
            "_view_module": "@jupyter-widgets/controls",
            "_view_module_version": "1.5.0",
            "_view_name": "HBoxView",
            "box_style": "",
            "children": [
              "IPY_MODEL_ad51eca60b1f4824bb8dd38cbd177ee8",
              "IPY_MODEL_87b61ec1f933463e99d0184663e2abff",
              "IPY_MODEL_8817f7919b3641d3a6d7521b67e2044c"
            ],
            "layout": "IPY_MODEL_2beef3dfde7c43b29a53e2b966eab289"
          }
        },
        "ad51eca60b1f4824bb8dd38cbd177ee8": {
          "model_module": "@jupyter-widgets/controls",
          "model_name": "HTMLModel",
          "model_module_version": "1.5.0",
          "state": {
            "_dom_classes": [],
            "_model_module": "@jupyter-widgets/controls",
            "_model_module_version": "1.5.0",
            "_model_name": "HTMLModel",
            "_view_count": null,
            "_view_module": "@jupyter-widgets/controls",
            "_view_module_version": "1.5.0",
            "_view_name": "HTMLView",
            "description": "",
            "description_tooltip": null,
            "layout": "IPY_MODEL_69a295c7673d44a293d6e02e1502ce36",
            "placeholder": "​",
            "style": "IPY_MODEL_0ddbccecdca848db8d2ed47c484d167d",
            "value": "sentence_bert_config.json: 100%"
          }
        },
        "87b61ec1f933463e99d0184663e2abff": {
          "model_module": "@jupyter-widgets/controls",
          "model_name": "FloatProgressModel",
          "model_module_version": "1.5.0",
          "state": {
            "_dom_classes": [],
            "_model_module": "@jupyter-widgets/controls",
            "_model_module_version": "1.5.0",
            "_model_name": "FloatProgressModel",
            "_view_count": null,
            "_view_module": "@jupyter-widgets/controls",
            "_view_module_version": "1.5.0",
            "_view_name": "ProgressView",
            "bar_style": "success",
            "description": "",
            "description_tooltip": null,
            "layout": "IPY_MODEL_f44ce77cfdc94420852a589803c8ff10",
            "max": 57,
            "min": 0,
            "orientation": "horizontal",
            "style": "IPY_MODEL_5aecb5c2e36e43c89e49b64cb2366b5b",
            "value": 57
          }
        },
        "8817f7919b3641d3a6d7521b67e2044c": {
          "model_module": "@jupyter-widgets/controls",
          "model_name": "HTMLModel",
          "model_module_version": "1.5.0",
          "state": {
            "_dom_classes": [],
            "_model_module": "@jupyter-widgets/controls",
            "_model_module_version": "1.5.0",
            "_model_name": "HTMLModel",
            "_view_count": null,
            "_view_module": "@jupyter-widgets/controls",
            "_view_module_version": "1.5.0",
            "_view_name": "HTMLView",
            "description": "",
            "description_tooltip": null,
            "layout": "IPY_MODEL_e17f4938c4f94e8bbe468e16a550e0f6",
            "placeholder": "​",
            "style": "IPY_MODEL_f05f42928a294e61ab93e65525d0a680",
            "value": " 57.0/57.0 [00:00&lt;00:00, 5.91kB/s]"
          }
        },
        "2beef3dfde7c43b29a53e2b966eab289": {
          "model_module": "@jupyter-widgets/base",
          "model_name": "LayoutModel",
          "model_module_version": "1.2.0",
          "state": {
            "_model_module": "@jupyter-widgets/base",
            "_model_module_version": "1.2.0",
            "_model_name": "LayoutModel",
            "_view_count": null,
            "_view_module": "@jupyter-widgets/base",
            "_view_module_version": "1.2.0",
            "_view_name": "LayoutView",
            "align_content": null,
            "align_items": null,
            "align_self": null,
            "border": null,
            "bottom": null,
            "display": null,
            "flex": null,
            "flex_flow": null,
            "grid_area": null,
            "grid_auto_columns": null,
            "grid_auto_flow": null,
            "grid_auto_rows": null,
            "grid_column": null,
            "grid_gap": null,
            "grid_row": null,
            "grid_template_areas": null,
            "grid_template_columns": null,
            "grid_template_rows": null,
            "height": null,
            "justify_content": null,
            "justify_items": null,
            "left": null,
            "margin": null,
            "max_height": null,
            "max_width": null,
            "min_height": null,
            "min_width": null,
            "object_fit": null,
            "object_position": null,
            "order": null,
            "overflow": null,
            "overflow_x": null,
            "overflow_y": null,
            "padding": null,
            "right": null,
            "top": null,
            "visibility": null,
            "width": null
          }
        },
        "69a295c7673d44a293d6e02e1502ce36": {
          "model_module": "@jupyter-widgets/base",
          "model_name": "LayoutModel",
          "model_module_version": "1.2.0",
          "state": {
            "_model_module": "@jupyter-widgets/base",
            "_model_module_version": "1.2.0",
            "_model_name": "LayoutModel",
            "_view_count": null,
            "_view_module": "@jupyter-widgets/base",
            "_view_module_version": "1.2.0",
            "_view_name": "LayoutView",
            "align_content": null,
            "align_items": null,
            "align_self": null,
            "border": null,
            "bottom": null,
            "display": null,
            "flex": null,
            "flex_flow": null,
            "grid_area": null,
            "grid_auto_columns": null,
            "grid_auto_flow": null,
            "grid_auto_rows": null,
            "grid_column": null,
            "grid_gap": null,
            "grid_row": null,
            "grid_template_areas": null,
            "grid_template_columns": null,
            "grid_template_rows": null,
            "height": null,
            "justify_content": null,
            "justify_items": null,
            "left": null,
            "margin": null,
            "max_height": null,
            "max_width": null,
            "min_height": null,
            "min_width": null,
            "object_fit": null,
            "object_position": null,
            "order": null,
            "overflow": null,
            "overflow_x": null,
            "overflow_y": null,
            "padding": null,
            "right": null,
            "top": null,
            "visibility": null,
            "width": null
          }
        },
        "0ddbccecdca848db8d2ed47c484d167d": {
          "model_module": "@jupyter-widgets/controls",
          "model_name": "DescriptionStyleModel",
          "model_module_version": "1.5.0",
          "state": {
            "_model_module": "@jupyter-widgets/controls",
            "_model_module_version": "1.5.0",
            "_model_name": "DescriptionStyleModel",
            "_view_count": null,
            "_view_module": "@jupyter-widgets/base",
            "_view_module_version": "1.2.0",
            "_view_name": "StyleView",
            "description_width": ""
          }
        },
        "f44ce77cfdc94420852a589803c8ff10": {
          "model_module": "@jupyter-widgets/base",
          "model_name": "LayoutModel",
          "model_module_version": "1.2.0",
          "state": {
            "_model_module": "@jupyter-widgets/base",
            "_model_module_version": "1.2.0",
            "_model_name": "LayoutModel",
            "_view_count": null,
            "_view_module": "@jupyter-widgets/base",
            "_view_module_version": "1.2.0",
            "_view_name": "LayoutView",
            "align_content": null,
            "align_items": null,
            "align_self": null,
            "border": null,
            "bottom": null,
            "display": null,
            "flex": null,
            "flex_flow": null,
            "grid_area": null,
            "grid_auto_columns": null,
            "grid_auto_flow": null,
            "grid_auto_rows": null,
            "grid_column": null,
            "grid_gap": null,
            "grid_row": null,
            "grid_template_areas": null,
            "grid_template_columns": null,
            "grid_template_rows": null,
            "height": null,
            "justify_content": null,
            "justify_items": null,
            "left": null,
            "margin": null,
            "max_height": null,
            "max_width": null,
            "min_height": null,
            "min_width": null,
            "object_fit": null,
            "object_position": null,
            "order": null,
            "overflow": null,
            "overflow_x": null,
            "overflow_y": null,
            "padding": null,
            "right": null,
            "top": null,
            "visibility": null,
            "width": null
          }
        },
        "5aecb5c2e36e43c89e49b64cb2366b5b": {
          "model_module": "@jupyter-widgets/controls",
          "model_name": "ProgressStyleModel",
          "model_module_version": "1.5.0",
          "state": {
            "_model_module": "@jupyter-widgets/controls",
            "_model_module_version": "1.5.0",
            "_model_name": "ProgressStyleModel",
            "_view_count": null,
            "_view_module": "@jupyter-widgets/base",
            "_view_module_version": "1.2.0",
            "_view_name": "StyleView",
            "bar_color": null,
            "description_width": ""
          }
        },
        "e17f4938c4f94e8bbe468e16a550e0f6": {
          "model_module": "@jupyter-widgets/base",
          "model_name": "LayoutModel",
          "model_module_version": "1.2.0",
          "state": {
            "_model_module": "@jupyter-widgets/base",
            "_model_module_version": "1.2.0",
            "_model_name": "LayoutModel",
            "_view_count": null,
            "_view_module": "@jupyter-widgets/base",
            "_view_module_version": "1.2.0",
            "_view_name": "LayoutView",
            "align_content": null,
            "align_items": null,
            "align_self": null,
            "border": null,
            "bottom": null,
            "display": null,
            "flex": null,
            "flex_flow": null,
            "grid_area": null,
            "grid_auto_columns": null,
            "grid_auto_flow": null,
            "grid_auto_rows": null,
            "grid_column": null,
            "grid_gap": null,
            "grid_row": null,
            "grid_template_areas": null,
            "grid_template_columns": null,
            "grid_template_rows": null,
            "height": null,
            "justify_content": null,
            "justify_items": null,
            "left": null,
            "margin": null,
            "max_height": null,
            "max_width": null,
            "min_height": null,
            "min_width": null,
            "object_fit": null,
            "object_position": null,
            "order": null,
            "overflow": null,
            "overflow_x": null,
            "overflow_y": null,
            "padding": null,
            "right": null,
            "top": null,
            "visibility": null,
            "width": null
          }
        },
        "f05f42928a294e61ab93e65525d0a680": {
          "model_module": "@jupyter-widgets/controls",
          "model_name": "DescriptionStyleModel",
          "model_module_version": "1.5.0",
          "state": {
            "_model_module": "@jupyter-widgets/controls",
            "_model_module_version": "1.5.0",
            "_model_name": "DescriptionStyleModel",
            "_view_count": null,
            "_view_module": "@jupyter-widgets/base",
            "_view_module_version": "1.2.0",
            "_view_name": "StyleView",
            "description_width": ""
          }
        },
        "6c6f09faa0f74fb6bdc4cdfcb7f463ca": {
          "model_module": "@jupyter-widgets/controls",
          "model_name": "HBoxModel",
          "model_module_version": "1.5.0",
          "state": {
            "_dom_classes": [],
            "_model_module": "@jupyter-widgets/controls",
            "_model_module_version": "1.5.0",
            "_model_name": "HBoxModel",
            "_view_count": null,
            "_view_module": "@jupyter-widgets/controls",
            "_view_module_version": "1.5.0",
            "_view_name": "HBoxView",
            "box_style": "",
            "children": [
              "IPY_MODEL_b2d8c856b57e4ca1ae6e4992cd2b87f7",
              "IPY_MODEL_960ccf8d5c514377a1534cbc93cb51b5",
              "IPY_MODEL_bd9ae6e670b148feadf0c502d219b1be"
            ],
            "layout": "IPY_MODEL_f2499ab2e64241a4b7d9ead80848ab21"
          }
        },
        "b2d8c856b57e4ca1ae6e4992cd2b87f7": {
          "model_module": "@jupyter-widgets/controls",
          "model_name": "HTMLModel",
          "model_module_version": "1.5.0",
          "state": {
            "_dom_classes": [],
            "_model_module": "@jupyter-widgets/controls",
            "_model_module_version": "1.5.0",
            "_model_name": "HTMLModel",
            "_view_count": null,
            "_view_module": "@jupyter-widgets/controls",
            "_view_module_version": "1.5.0",
            "_view_name": "HTMLView",
            "description": "",
            "description_tooltip": null,
            "layout": "IPY_MODEL_39f79783f7734e989da9271472850f6c",
            "placeholder": "​",
            "style": "IPY_MODEL_92c3561490324d1ba2e2f94f728e905f",
            "value": "config.json: 100%"
          }
        },
        "960ccf8d5c514377a1534cbc93cb51b5": {
          "model_module": "@jupyter-widgets/controls",
          "model_name": "FloatProgressModel",
          "model_module_version": "1.5.0",
          "state": {
            "_dom_classes": [],
            "_model_module": "@jupyter-widgets/controls",
            "_model_module_version": "1.5.0",
            "_model_name": "FloatProgressModel",
            "_view_count": null,
            "_view_module": "@jupyter-widgets/controls",
            "_view_module_version": "1.5.0",
            "_view_name": "ProgressView",
            "bar_style": "success",
            "description": "",
            "description_tooltip": null,
            "layout": "IPY_MODEL_cbd0251dc7464bf08b5af1f3b9489ac9",
            "max": 650,
            "min": 0,
            "orientation": "horizontal",
            "style": "IPY_MODEL_36c4c5b60d5f4418abda7c2e8b8e30a0",
            "value": 650
          }
        },
        "bd9ae6e670b148feadf0c502d219b1be": {
          "model_module": "@jupyter-widgets/controls",
          "model_name": "HTMLModel",
          "model_module_version": "1.5.0",
          "state": {
            "_dom_classes": [],
            "_model_module": "@jupyter-widgets/controls",
            "_model_module_version": "1.5.0",
            "_model_name": "HTMLModel",
            "_view_count": null,
            "_view_module": "@jupyter-widgets/controls",
            "_view_module_version": "1.5.0",
            "_view_name": "HTMLView",
            "description": "",
            "description_tooltip": null,
            "layout": "IPY_MODEL_2c22059a4c3f4118863751f70efea4da",
            "placeholder": "​",
            "style": "IPY_MODEL_8f63fe53a67d4a0eae2dbcafd6446c67",
            "value": " 650/650 [00:00&lt;00:00, 74.0kB/s]"
          }
        },
        "f2499ab2e64241a4b7d9ead80848ab21": {
          "model_module": "@jupyter-widgets/base",
          "model_name": "LayoutModel",
          "model_module_version": "1.2.0",
          "state": {
            "_model_module": "@jupyter-widgets/base",
            "_model_module_version": "1.2.0",
            "_model_name": "LayoutModel",
            "_view_count": null,
            "_view_module": "@jupyter-widgets/base",
            "_view_module_version": "1.2.0",
            "_view_name": "LayoutView",
            "align_content": null,
            "align_items": null,
            "align_self": null,
            "border": null,
            "bottom": null,
            "display": null,
            "flex": null,
            "flex_flow": null,
            "grid_area": null,
            "grid_auto_columns": null,
            "grid_auto_flow": null,
            "grid_auto_rows": null,
            "grid_column": null,
            "grid_gap": null,
            "grid_row": null,
            "grid_template_areas": null,
            "grid_template_columns": null,
            "grid_template_rows": null,
            "height": null,
            "justify_content": null,
            "justify_items": null,
            "left": null,
            "margin": null,
            "max_height": null,
            "max_width": null,
            "min_height": null,
            "min_width": null,
            "object_fit": null,
            "object_position": null,
            "order": null,
            "overflow": null,
            "overflow_x": null,
            "overflow_y": null,
            "padding": null,
            "right": null,
            "top": null,
            "visibility": null,
            "width": null
          }
        },
        "39f79783f7734e989da9271472850f6c": {
          "model_module": "@jupyter-widgets/base",
          "model_name": "LayoutModel",
          "model_module_version": "1.2.0",
          "state": {
            "_model_module": "@jupyter-widgets/base",
            "_model_module_version": "1.2.0",
            "_model_name": "LayoutModel",
            "_view_count": null,
            "_view_module": "@jupyter-widgets/base",
            "_view_module_version": "1.2.0",
            "_view_name": "LayoutView",
            "align_content": null,
            "align_items": null,
            "align_self": null,
            "border": null,
            "bottom": null,
            "display": null,
            "flex": null,
            "flex_flow": null,
            "grid_area": null,
            "grid_auto_columns": null,
            "grid_auto_flow": null,
            "grid_auto_rows": null,
            "grid_column": null,
            "grid_gap": null,
            "grid_row": null,
            "grid_template_areas": null,
            "grid_template_columns": null,
            "grid_template_rows": null,
            "height": null,
            "justify_content": null,
            "justify_items": null,
            "left": null,
            "margin": null,
            "max_height": null,
            "max_width": null,
            "min_height": null,
            "min_width": null,
            "object_fit": null,
            "object_position": null,
            "order": null,
            "overflow": null,
            "overflow_x": null,
            "overflow_y": null,
            "padding": null,
            "right": null,
            "top": null,
            "visibility": null,
            "width": null
          }
        },
        "92c3561490324d1ba2e2f94f728e905f": {
          "model_module": "@jupyter-widgets/controls",
          "model_name": "DescriptionStyleModel",
          "model_module_version": "1.5.0",
          "state": {
            "_model_module": "@jupyter-widgets/controls",
            "_model_module_version": "1.5.0",
            "_model_name": "DescriptionStyleModel",
            "_view_count": null,
            "_view_module": "@jupyter-widgets/base",
            "_view_module_version": "1.2.0",
            "_view_name": "StyleView",
            "description_width": ""
          }
        },
        "cbd0251dc7464bf08b5af1f3b9489ac9": {
          "model_module": "@jupyter-widgets/base",
          "model_name": "LayoutModel",
          "model_module_version": "1.2.0",
          "state": {
            "_model_module": "@jupyter-widgets/base",
            "_model_module_version": "1.2.0",
            "_model_name": "LayoutModel",
            "_view_count": null,
            "_view_module": "@jupyter-widgets/base",
            "_view_module_version": "1.2.0",
            "_view_name": "LayoutView",
            "align_content": null,
            "align_items": null,
            "align_self": null,
            "border": null,
            "bottom": null,
            "display": null,
            "flex": null,
            "flex_flow": null,
            "grid_area": null,
            "grid_auto_columns": null,
            "grid_auto_flow": null,
            "grid_auto_rows": null,
            "grid_column": null,
            "grid_gap": null,
            "grid_row": null,
            "grid_template_areas": null,
            "grid_template_columns": null,
            "grid_template_rows": null,
            "height": null,
            "justify_content": null,
            "justify_items": null,
            "left": null,
            "margin": null,
            "max_height": null,
            "max_width": null,
            "min_height": null,
            "min_width": null,
            "object_fit": null,
            "object_position": null,
            "order": null,
            "overflow": null,
            "overflow_x": null,
            "overflow_y": null,
            "padding": null,
            "right": null,
            "top": null,
            "visibility": null,
            "width": null
          }
        },
        "36c4c5b60d5f4418abda7c2e8b8e30a0": {
          "model_module": "@jupyter-widgets/controls",
          "model_name": "ProgressStyleModel",
          "model_module_version": "1.5.0",
          "state": {
            "_model_module": "@jupyter-widgets/controls",
            "_model_module_version": "1.5.0",
            "_model_name": "ProgressStyleModel",
            "_view_count": null,
            "_view_module": "@jupyter-widgets/base",
            "_view_module_version": "1.2.0",
            "_view_name": "StyleView",
            "bar_color": null,
            "description_width": ""
          }
        },
        "2c22059a4c3f4118863751f70efea4da": {
          "model_module": "@jupyter-widgets/base",
          "model_name": "LayoutModel",
          "model_module_version": "1.2.0",
          "state": {
            "_model_module": "@jupyter-widgets/base",
            "_model_module_version": "1.2.0",
            "_model_name": "LayoutModel",
            "_view_count": null,
            "_view_module": "@jupyter-widgets/base",
            "_view_module_version": "1.2.0",
            "_view_name": "LayoutView",
            "align_content": null,
            "align_items": null,
            "align_self": null,
            "border": null,
            "bottom": null,
            "display": null,
            "flex": null,
            "flex_flow": null,
            "grid_area": null,
            "grid_auto_columns": null,
            "grid_auto_flow": null,
            "grid_auto_rows": null,
            "grid_column": null,
            "grid_gap": null,
            "grid_row": null,
            "grid_template_areas": null,
            "grid_template_columns": null,
            "grid_template_rows": null,
            "height": null,
            "justify_content": null,
            "justify_items": null,
            "left": null,
            "margin": null,
            "max_height": null,
            "max_width": null,
            "min_height": null,
            "min_width": null,
            "object_fit": null,
            "object_position": null,
            "order": null,
            "overflow": null,
            "overflow_x": null,
            "overflow_y": null,
            "padding": null,
            "right": null,
            "top": null,
            "visibility": null,
            "width": null
          }
        },
        "8f63fe53a67d4a0eae2dbcafd6446c67": {
          "model_module": "@jupyter-widgets/controls",
          "model_name": "DescriptionStyleModel",
          "model_module_version": "1.5.0",
          "state": {
            "_model_module": "@jupyter-widgets/controls",
            "_model_module_version": "1.5.0",
            "_model_name": "DescriptionStyleModel",
            "_view_count": null,
            "_view_module": "@jupyter-widgets/base",
            "_view_module_version": "1.2.0",
            "_view_name": "StyleView",
            "description_width": ""
          }
        },
        "2bdf81e512da4c4bb6bd4b7a6b8ebff2": {
          "model_module": "@jupyter-widgets/controls",
          "model_name": "HBoxModel",
          "model_module_version": "1.5.0",
          "state": {
            "_dom_classes": [],
            "_model_module": "@jupyter-widgets/controls",
            "_model_module_version": "1.5.0",
            "_model_name": "HBoxModel",
            "_view_count": null,
            "_view_module": "@jupyter-widgets/controls",
            "_view_module_version": "1.5.0",
            "_view_name": "HBoxView",
            "box_style": "",
            "children": [
              "IPY_MODEL_05bea46873ea43e7aa34776f9c9ec405",
              "IPY_MODEL_17f9827190644761b80c2efbd5f67364",
              "IPY_MODEL_4c31309a61df4601a0030159dc530762"
            ],
            "layout": "IPY_MODEL_301879a804e248038a4bdfab6c6a48d1"
          }
        },
        "05bea46873ea43e7aa34776f9c9ec405": {
          "model_module": "@jupyter-widgets/controls",
          "model_name": "HTMLModel",
          "model_module_version": "1.5.0",
          "state": {
            "_dom_classes": [],
            "_model_module": "@jupyter-widgets/controls",
            "_model_module_version": "1.5.0",
            "_model_name": "HTMLModel",
            "_view_count": null,
            "_view_module": "@jupyter-widgets/controls",
            "_view_module_version": "1.5.0",
            "_view_name": "HTMLView",
            "description": "",
            "description_tooltip": null,
            "layout": "IPY_MODEL_658125f94a45446b8c892c3ac0ca2fa1",
            "placeholder": "​",
            "style": "IPY_MODEL_5aab3b12f856488ca71575ae8bc42057",
            "value": "model.safetensors: 100%"
          }
        },
        "17f9827190644761b80c2efbd5f67364": {
          "model_module": "@jupyter-widgets/controls",
          "model_name": "FloatProgressModel",
          "model_module_version": "1.5.0",
          "state": {
            "_dom_classes": [],
            "_model_module": "@jupyter-widgets/controls",
            "_model_module_version": "1.5.0",
            "_model_name": "FloatProgressModel",
            "_view_count": null,
            "_view_module": "@jupyter-widgets/controls",
            "_view_module_version": "1.5.0",
            "_view_name": "ProgressView",
            "bar_style": "success",
            "description": "",
            "description_tooltip": null,
            "layout": "IPY_MODEL_8e75d5e7ed1d438fa9019489cdc15a4d",
            "max": 437955512,
            "min": 0,
            "orientation": "horizontal",
            "style": "IPY_MODEL_28e1b8c8da46435c8cb91b5f69532b5e",
            "value": 437955512
          }
        },
        "4c31309a61df4601a0030159dc530762": {
          "model_module": "@jupyter-widgets/controls",
          "model_name": "HTMLModel",
          "model_module_version": "1.5.0",
          "state": {
            "_dom_classes": [],
            "_model_module": "@jupyter-widgets/controls",
            "_model_module_version": "1.5.0",
            "_model_name": "HTMLModel",
            "_view_count": null,
            "_view_module": "@jupyter-widgets/controls",
            "_view_module_version": "1.5.0",
            "_view_name": "HTMLView",
            "description": "",
            "description_tooltip": null,
            "layout": "IPY_MODEL_e1db93725cf74b0faec9c5b7ab49fca1",
            "placeholder": "​",
            "style": "IPY_MODEL_36d8228e263a469f8edf4be17cc199f5",
            "value": " 438M/438M [00:03&lt;00:00, 259MB/s]"
          }
        },
        "301879a804e248038a4bdfab6c6a48d1": {
          "model_module": "@jupyter-widgets/base",
          "model_name": "LayoutModel",
          "model_module_version": "1.2.0",
          "state": {
            "_model_module": "@jupyter-widgets/base",
            "_model_module_version": "1.2.0",
            "_model_name": "LayoutModel",
            "_view_count": null,
            "_view_module": "@jupyter-widgets/base",
            "_view_module_version": "1.2.0",
            "_view_name": "LayoutView",
            "align_content": null,
            "align_items": null,
            "align_self": null,
            "border": null,
            "bottom": null,
            "display": null,
            "flex": null,
            "flex_flow": null,
            "grid_area": null,
            "grid_auto_columns": null,
            "grid_auto_flow": null,
            "grid_auto_rows": null,
            "grid_column": null,
            "grid_gap": null,
            "grid_row": null,
            "grid_template_areas": null,
            "grid_template_columns": null,
            "grid_template_rows": null,
            "height": null,
            "justify_content": null,
            "justify_items": null,
            "left": null,
            "margin": null,
            "max_height": null,
            "max_width": null,
            "min_height": null,
            "min_width": null,
            "object_fit": null,
            "object_position": null,
            "order": null,
            "overflow": null,
            "overflow_x": null,
            "overflow_y": null,
            "padding": null,
            "right": null,
            "top": null,
            "visibility": null,
            "width": null
          }
        },
        "658125f94a45446b8c892c3ac0ca2fa1": {
          "model_module": "@jupyter-widgets/base",
          "model_name": "LayoutModel",
          "model_module_version": "1.2.0",
          "state": {
            "_model_module": "@jupyter-widgets/base",
            "_model_module_version": "1.2.0",
            "_model_name": "LayoutModel",
            "_view_count": null,
            "_view_module": "@jupyter-widgets/base",
            "_view_module_version": "1.2.0",
            "_view_name": "LayoutView",
            "align_content": null,
            "align_items": null,
            "align_self": null,
            "border": null,
            "bottom": null,
            "display": null,
            "flex": null,
            "flex_flow": null,
            "grid_area": null,
            "grid_auto_columns": null,
            "grid_auto_flow": null,
            "grid_auto_rows": null,
            "grid_column": null,
            "grid_gap": null,
            "grid_row": null,
            "grid_template_areas": null,
            "grid_template_columns": null,
            "grid_template_rows": null,
            "height": null,
            "justify_content": null,
            "justify_items": null,
            "left": null,
            "margin": null,
            "max_height": null,
            "max_width": null,
            "min_height": null,
            "min_width": null,
            "object_fit": null,
            "object_position": null,
            "order": null,
            "overflow": null,
            "overflow_x": null,
            "overflow_y": null,
            "padding": null,
            "right": null,
            "top": null,
            "visibility": null,
            "width": null
          }
        },
        "5aab3b12f856488ca71575ae8bc42057": {
          "model_module": "@jupyter-widgets/controls",
          "model_name": "DescriptionStyleModel",
          "model_module_version": "1.5.0",
          "state": {
            "_model_module": "@jupyter-widgets/controls",
            "_model_module_version": "1.5.0",
            "_model_name": "DescriptionStyleModel",
            "_view_count": null,
            "_view_module": "@jupyter-widgets/base",
            "_view_module_version": "1.2.0",
            "_view_name": "StyleView",
            "description_width": ""
          }
        },
        "8e75d5e7ed1d438fa9019489cdc15a4d": {
          "model_module": "@jupyter-widgets/base",
          "model_name": "LayoutModel",
          "model_module_version": "1.2.0",
          "state": {
            "_model_module": "@jupyter-widgets/base",
            "_model_module_version": "1.2.0",
            "_model_name": "LayoutModel",
            "_view_count": null,
            "_view_module": "@jupyter-widgets/base",
            "_view_module_version": "1.2.0",
            "_view_name": "LayoutView",
            "align_content": null,
            "align_items": null,
            "align_self": null,
            "border": null,
            "bottom": null,
            "display": null,
            "flex": null,
            "flex_flow": null,
            "grid_area": null,
            "grid_auto_columns": null,
            "grid_auto_flow": null,
            "grid_auto_rows": null,
            "grid_column": null,
            "grid_gap": null,
            "grid_row": null,
            "grid_template_areas": null,
            "grid_template_columns": null,
            "grid_template_rows": null,
            "height": null,
            "justify_content": null,
            "justify_items": null,
            "left": null,
            "margin": null,
            "max_height": null,
            "max_width": null,
            "min_height": null,
            "min_width": null,
            "object_fit": null,
            "object_position": null,
            "order": null,
            "overflow": null,
            "overflow_x": null,
            "overflow_y": null,
            "padding": null,
            "right": null,
            "top": null,
            "visibility": null,
            "width": null
          }
        },
        "28e1b8c8da46435c8cb91b5f69532b5e": {
          "model_module": "@jupyter-widgets/controls",
          "model_name": "ProgressStyleModel",
          "model_module_version": "1.5.0",
          "state": {
            "_model_module": "@jupyter-widgets/controls",
            "_model_module_version": "1.5.0",
            "_model_name": "ProgressStyleModel",
            "_view_count": null,
            "_view_module": "@jupyter-widgets/base",
            "_view_module_version": "1.2.0",
            "_view_name": "StyleView",
            "bar_color": null,
            "description_width": ""
          }
        },
        "e1db93725cf74b0faec9c5b7ab49fca1": {
          "model_module": "@jupyter-widgets/base",
          "model_name": "LayoutModel",
          "model_module_version": "1.2.0",
          "state": {
            "_model_module": "@jupyter-widgets/base",
            "_model_module_version": "1.2.0",
            "_model_name": "LayoutModel",
            "_view_count": null,
            "_view_module": "@jupyter-widgets/base",
            "_view_module_version": "1.2.0",
            "_view_name": "LayoutView",
            "align_content": null,
            "align_items": null,
            "align_self": null,
            "border": null,
            "bottom": null,
            "display": null,
            "flex": null,
            "flex_flow": null,
            "grid_area": null,
            "grid_auto_columns": null,
            "grid_auto_flow": null,
            "grid_auto_rows": null,
            "grid_column": null,
            "grid_gap": null,
            "grid_row": null,
            "grid_template_areas": null,
            "grid_template_columns": null,
            "grid_template_rows": null,
            "height": null,
            "justify_content": null,
            "justify_items": null,
            "left": null,
            "margin": null,
            "max_height": null,
            "max_width": null,
            "min_height": null,
            "min_width": null,
            "object_fit": null,
            "object_position": null,
            "order": null,
            "overflow": null,
            "overflow_x": null,
            "overflow_y": null,
            "padding": null,
            "right": null,
            "top": null,
            "visibility": null,
            "width": null
          }
        },
        "36d8228e263a469f8edf4be17cc199f5": {
          "model_module": "@jupyter-widgets/controls",
          "model_name": "DescriptionStyleModel",
          "model_module_version": "1.5.0",
          "state": {
            "_model_module": "@jupyter-widgets/controls",
            "_model_module_version": "1.5.0",
            "_model_name": "DescriptionStyleModel",
            "_view_count": null,
            "_view_module": "@jupyter-widgets/base",
            "_view_module_version": "1.2.0",
            "_view_name": "StyleView",
            "description_width": ""
          }
        },
        "aa281b55bd674441abb9b88e7bb3be71": {
          "model_module": "@jupyter-widgets/controls",
          "model_name": "HBoxModel",
          "model_module_version": "1.5.0",
          "state": {
            "_dom_classes": [],
            "_model_module": "@jupyter-widgets/controls",
            "_model_module_version": "1.5.0",
            "_model_name": "HBoxModel",
            "_view_count": null,
            "_view_module": "@jupyter-widgets/controls",
            "_view_module_version": "1.5.0",
            "_view_name": "HBoxView",
            "box_style": "",
            "children": [
              "IPY_MODEL_f03bb7ac4bb94da0b6606504da9fea0c",
              "IPY_MODEL_67eb767fb5ed4157be1e8d3b654b7379",
              "IPY_MODEL_c02d5ad068d94a76bb61e8967e724237"
            ],
            "layout": "IPY_MODEL_fdd594a3cd9648dea2e329a4ebd8a05b"
          }
        },
        "f03bb7ac4bb94da0b6606504da9fea0c": {
          "model_module": "@jupyter-widgets/controls",
          "model_name": "HTMLModel",
          "model_module_version": "1.5.0",
          "state": {
            "_dom_classes": [],
            "_model_module": "@jupyter-widgets/controls",
            "_model_module_version": "1.5.0",
            "_model_name": "HTMLModel",
            "_view_count": null,
            "_view_module": "@jupyter-widgets/controls",
            "_view_module_version": "1.5.0",
            "_view_name": "HTMLView",
            "description": "",
            "description_tooltip": null,
            "layout": "IPY_MODEL_8a0d8cc22a9b4d81b8368b5b9b1b852b",
            "placeholder": "​",
            "style": "IPY_MODEL_15f8e076b9244d9f832124498d55d83b",
            "value": "tokenizer_config.json: 100%"
          }
        },
        "67eb767fb5ed4157be1e8d3b654b7379": {
          "model_module": "@jupyter-widgets/controls",
          "model_name": "FloatProgressModel",
          "model_module_version": "1.5.0",
          "state": {
            "_dom_classes": [],
            "_model_module": "@jupyter-widgets/controls",
            "_model_module_version": "1.5.0",
            "_model_name": "FloatProgressModel",
            "_view_count": null,
            "_view_module": "@jupyter-widgets/controls",
            "_view_module_version": "1.5.0",
            "_view_name": "ProgressView",
            "bar_style": "success",
            "description": "",
            "description_tooltip": null,
            "layout": "IPY_MODEL_476e262e48c54551b0658805cb57480f",
            "max": 314,
            "min": 0,
            "orientation": "horizontal",
            "style": "IPY_MODEL_9656c546e46f42758dcf54bb3e4b8e0b",
            "value": 314
          }
        },
        "c02d5ad068d94a76bb61e8967e724237": {
          "model_module": "@jupyter-widgets/controls",
          "model_name": "HTMLModel",
          "model_module_version": "1.5.0",
          "state": {
            "_dom_classes": [],
            "_model_module": "@jupyter-widgets/controls",
            "_model_module_version": "1.5.0",
            "_model_name": "HTMLModel",
            "_view_count": null,
            "_view_module": "@jupyter-widgets/controls",
            "_view_module_version": "1.5.0",
            "_view_name": "HTMLView",
            "description": "",
            "description_tooltip": null,
            "layout": "IPY_MODEL_e8df99545ea145269cade6b7156bb059",
            "placeholder": "​",
            "style": "IPY_MODEL_187be3f35315465a8d0873c744fc2c5b",
            "value": " 314/314 [00:00&lt;00:00, 29.3kB/s]"
          }
        },
        "fdd594a3cd9648dea2e329a4ebd8a05b": {
          "model_module": "@jupyter-widgets/base",
          "model_name": "LayoutModel",
          "model_module_version": "1.2.0",
          "state": {
            "_model_module": "@jupyter-widgets/base",
            "_model_module_version": "1.2.0",
            "_model_name": "LayoutModel",
            "_view_count": null,
            "_view_module": "@jupyter-widgets/base",
            "_view_module_version": "1.2.0",
            "_view_name": "LayoutView",
            "align_content": null,
            "align_items": null,
            "align_self": null,
            "border": null,
            "bottom": null,
            "display": null,
            "flex": null,
            "flex_flow": null,
            "grid_area": null,
            "grid_auto_columns": null,
            "grid_auto_flow": null,
            "grid_auto_rows": null,
            "grid_column": null,
            "grid_gap": null,
            "grid_row": null,
            "grid_template_areas": null,
            "grid_template_columns": null,
            "grid_template_rows": null,
            "height": null,
            "justify_content": null,
            "justify_items": null,
            "left": null,
            "margin": null,
            "max_height": null,
            "max_width": null,
            "min_height": null,
            "min_width": null,
            "object_fit": null,
            "object_position": null,
            "order": null,
            "overflow": null,
            "overflow_x": null,
            "overflow_y": null,
            "padding": null,
            "right": null,
            "top": null,
            "visibility": null,
            "width": null
          }
        },
        "8a0d8cc22a9b4d81b8368b5b9b1b852b": {
          "model_module": "@jupyter-widgets/base",
          "model_name": "LayoutModel",
          "model_module_version": "1.2.0",
          "state": {
            "_model_module": "@jupyter-widgets/base",
            "_model_module_version": "1.2.0",
            "_model_name": "LayoutModel",
            "_view_count": null,
            "_view_module": "@jupyter-widgets/base",
            "_view_module_version": "1.2.0",
            "_view_name": "LayoutView",
            "align_content": null,
            "align_items": null,
            "align_self": null,
            "border": null,
            "bottom": null,
            "display": null,
            "flex": null,
            "flex_flow": null,
            "grid_area": null,
            "grid_auto_columns": null,
            "grid_auto_flow": null,
            "grid_auto_rows": null,
            "grid_column": null,
            "grid_gap": null,
            "grid_row": null,
            "grid_template_areas": null,
            "grid_template_columns": null,
            "grid_template_rows": null,
            "height": null,
            "justify_content": null,
            "justify_items": null,
            "left": null,
            "margin": null,
            "max_height": null,
            "max_width": null,
            "min_height": null,
            "min_width": null,
            "object_fit": null,
            "object_position": null,
            "order": null,
            "overflow": null,
            "overflow_x": null,
            "overflow_y": null,
            "padding": null,
            "right": null,
            "top": null,
            "visibility": null,
            "width": null
          }
        },
        "15f8e076b9244d9f832124498d55d83b": {
          "model_module": "@jupyter-widgets/controls",
          "model_name": "DescriptionStyleModel",
          "model_module_version": "1.5.0",
          "state": {
            "_model_module": "@jupyter-widgets/controls",
            "_model_module_version": "1.5.0",
            "_model_name": "DescriptionStyleModel",
            "_view_count": null,
            "_view_module": "@jupyter-widgets/base",
            "_view_module_version": "1.2.0",
            "_view_name": "StyleView",
            "description_width": ""
          }
        },
        "476e262e48c54551b0658805cb57480f": {
          "model_module": "@jupyter-widgets/base",
          "model_name": "LayoutModel",
          "model_module_version": "1.2.0",
          "state": {
            "_model_module": "@jupyter-widgets/base",
            "_model_module_version": "1.2.0",
            "_model_name": "LayoutModel",
            "_view_count": null,
            "_view_module": "@jupyter-widgets/base",
            "_view_module_version": "1.2.0",
            "_view_name": "LayoutView",
            "align_content": null,
            "align_items": null,
            "align_self": null,
            "border": null,
            "bottom": null,
            "display": null,
            "flex": null,
            "flex_flow": null,
            "grid_area": null,
            "grid_auto_columns": null,
            "grid_auto_flow": null,
            "grid_auto_rows": null,
            "grid_column": null,
            "grid_gap": null,
            "grid_row": null,
            "grid_template_areas": null,
            "grid_template_columns": null,
            "grid_template_rows": null,
            "height": null,
            "justify_content": null,
            "justify_items": null,
            "left": null,
            "margin": null,
            "max_height": null,
            "max_width": null,
            "min_height": null,
            "min_width": null,
            "object_fit": null,
            "object_position": null,
            "order": null,
            "overflow": null,
            "overflow_x": null,
            "overflow_y": null,
            "padding": null,
            "right": null,
            "top": null,
            "visibility": null,
            "width": null
          }
        },
        "9656c546e46f42758dcf54bb3e4b8e0b": {
          "model_module": "@jupyter-widgets/controls",
          "model_name": "ProgressStyleModel",
          "model_module_version": "1.5.0",
          "state": {
            "_model_module": "@jupyter-widgets/controls",
            "_model_module_version": "1.5.0",
            "_model_name": "ProgressStyleModel",
            "_view_count": null,
            "_view_module": "@jupyter-widgets/base",
            "_view_module_version": "1.2.0",
            "_view_name": "StyleView",
            "bar_color": null,
            "description_width": ""
          }
        },
        "e8df99545ea145269cade6b7156bb059": {
          "model_module": "@jupyter-widgets/base",
          "model_name": "LayoutModel",
          "model_module_version": "1.2.0",
          "state": {
            "_model_module": "@jupyter-widgets/base",
            "_model_module_version": "1.2.0",
            "_model_name": "LayoutModel",
            "_view_count": null,
            "_view_module": "@jupyter-widgets/base",
            "_view_module_version": "1.2.0",
            "_view_name": "LayoutView",
            "align_content": null,
            "align_items": null,
            "align_self": null,
            "border": null,
            "bottom": null,
            "display": null,
            "flex": null,
            "flex_flow": null,
            "grid_area": null,
            "grid_auto_columns": null,
            "grid_auto_flow": null,
            "grid_auto_rows": null,
            "grid_column": null,
            "grid_gap": null,
            "grid_row": null,
            "grid_template_areas": null,
            "grid_template_columns": null,
            "grid_template_rows": null,
            "height": null,
            "justify_content": null,
            "justify_items": null,
            "left": null,
            "margin": null,
            "max_height": null,
            "max_width": null,
            "min_height": null,
            "min_width": null,
            "object_fit": null,
            "object_position": null,
            "order": null,
            "overflow": null,
            "overflow_x": null,
            "overflow_y": null,
            "padding": null,
            "right": null,
            "top": null,
            "visibility": null,
            "width": null
          }
        },
        "187be3f35315465a8d0873c744fc2c5b": {
          "model_module": "@jupyter-widgets/controls",
          "model_name": "DescriptionStyleModel",
          "model_module_version": "1.5.0",
          "state": {
            "_model_module": "@jupyter-widgets/controls",
            "_model_module_version": "1.5.0",
            "_model_name": "DescriptionStyleModel",
            "_view_count": null,
            "_view_module": "@jupyter-widgets/base",
            "_view_module_version": "1.2.0",
            "_view_name": "StyleView",
            "description_width": ""
          }
        },
        "fc0b511e0f9d4598917eba86123cd04e": {
          "model_module": "@jupyter-widgets/controls",
          "model_name": "HBoxModel",
          "model_module_version": "1.5.0",
          "state": {
            "_dom_classes": [],
            "_model_module": "@jupyter-widgets/controls",
            "_model_module_version": "1.5.0",
            "_model_name": "HBoxModel",
            "_view_count": null,
            "_view_module": "@jupyter-widgets/controls",
            "_view_module_version": "1.5.0",
            "_view_name": "HBoxView",
            "box_style": "",
            "children": [
              "IPY_MODEL_5e92983645164add88f5cb0982422fe5",
              "IPY_MODEL_3de927a34bf44a21804723b431f8488c",
              "IPY_MODEL_378a22e2847b462e8f9b91277860b38f"
            ],
            "layout": "IPY_MODEL_2d86f24a2b6a4e93934e1fc2800b0b0d"
          }
        },
        "5e92983645164add88f5cb0982422fe5": {
          "model_module": "@jupyter-widgets/controls",
          "model_name": "HTMLModel",
          "model_module_version": "1.5.0",
          "state": {
            "_dom_classes": [],
            "_model_module": "@jupyter-widgets/controls",
            "_model_module_version": "1.5.0",
            "_model_name": "HTMLModel",
            "_view_count": null,
            "_view_module": "@jupyter-widgets/controls",
            "_view_module_version": "1.5.0",
            "_view_name": "HTMLView",
            "description": "",
            "description_tooltip": null,
            "layout": "IPY_MODEL_56d6870b34b140eaab6b409ef26f3f03",
            "placeholder": "​",
            "style": "IPY_MODEL_efbb6101b9c44b558f54e97d75d3f38b",
            "value": "vocab.txt: "
          }
        },
        "3de927a34bf44a21804723b431f8488c": {
          "model_module": "@jupyter-widgets/controls",
          "model_name": "FloatProgressModel",
          "model_module_version": "1.5.0",
          "state": {
            "_dom_classes": [],
            "_model_module": "@jupyter-widgets/controls",
            "_model_module_version": "1.5.0",
            "_model_name": "FloatProgressModel",
            "_view_count": null,
            "_view_module": "@jupyter-widgets/controls",
            "_view_module_version": "1.5.0",
            "_view_name": "ProgressView",
            "bar_style": "success",
            "description": "",
            "description_tooltip": null,
            "layout": "IPY_MODEL_bd90e5a54f7f4d8a86e605db192402cc",
            "max": 1,
            "min": 0,
            "orientation": "horizontal",
            "style": "IPY_MODEL_7d554d45a37c4ec496f8902c97f41222",
            "value": 1
          }
        },
        "378a22e2847b462e8f9b91277860b38f": {
          "model_module": "@jupyter-widgets/controls",
          "model_name": "HTMLModel",
          "model_module_version": "1.5.0",
          "state": {
            "_dom_classes": [],
            "_model_module": "@jupyter-widgets/controls",
            "_model_module_version": "1.5.0",
            "_model_name": "HTMLModel",
            "_view_count": null,
            "_view_module": "@jupyter-widgets/controls",
            "_view_module_version": "1.5.0",
            "_view_name": "HTMLView",
            "description": "",
            "description_tooltip": null,
            "layout": "IPY_MODEL_4abe29cf6ee3442d93c972e421004710",
            "placeholder": "​",
            "style": "IPY_MODEL_0d41ac70aa33463e9dd264f633c2d17f",
            "value": " 232k/? [00:00&lt;00:00, 11.5MB/s]"
          }
        },
        "2d86f24a2b6a4e93934e1fc2800b0b0d": {
          "model_module": "@jupyter-widgets/base",
          "model_name": "LayoutModel",
          "model_module_version": "1.2.0",
          "state": {
            "_model_module": "@jupyter-widgets/base",
            "_model_module_version": "1.2.0",
            "_model_name": "LayoutModel",
            "_view_count": null,
            "_view_module": "@jupyter-widgets/base",
            "_view_module_version": "1.2.0",
            "_view_name": "LayoutView",
            "align_content": null,
            "align_items": null,
            "align_self": null,
            "border": null,
            "bottom": null,
            "display": null,
            "flex": null,
            "flex_flow": null,
            "grid_area": null,
            "grid_auto_columns": null,
            "grid_auto_flow": null,
            "grid_auto_rows": null,
            "grid_column": null,
            "grid_gap": null,
            "grid_row": null,
            "grid_template_areas": null,
            "grid_template_columns": null,
            "grid_template_rows": null,
            "height": null,
            "justify_content": null,
            "justify_items": null,
            "left": null,
            "margin": null,
            "max_height": null,
            "max_width": null,
            "min_height": null,
            "min_width": null,
            "object_fit": null,
            "object_position": null,
            "order": null,
            "overflow": null,
            "overflow_x": null,
            "overflow_y": null,
            "padding": null,
            "right": null,
            "top": null,
            "visibility": null,
            "width": null
          }
        },
        "56d6870b34b140eaab6b409ef26f3f03": {
          "model_module": "@jupyter-widgets/base",
          "model_name": "LayoutModel",
          "model_module_version": "1.2.0",
          "state": {
            "_model_module": "@jupyter-widgets/base",
            "_model_module_version": "1.2.0",
            "_model_name": "LayoutModel",
            "_view_count": null,
            "_view_module": "@jupyter-widgets/base",
            "_view_module_version": "1.2.0",
            "_view_name": "LayoutView",
            "align_content": null,
            "align_items": null,
            "align_self": null,
            "border": null,
            "bottom": null,
            "display": null,
            "flex": null,
            "flex_flow": null,
            "grid_area": null,
            "grid_auto_columns": null,
            "grid_auto_flow": null,
            "grid_auto_rows": null,
            "grid_column": null,
            "grid_gap": null,
            "grid_row": null,
            "grid_template_areas": null,
            "grid_template_columns": null,
            "grid_template_rows": null,
            "height": null,
            "justify_content": null,
            "justify_items": null,
            "left": null,
            "margin": null,
            "max_height": null,
            "max_width": null,
            "min_height": null,
            "min_width": null,
            "object_fit": null,
            "object_position": null,
            "order": null,
            "overflow": null,
            "overflow_x": null,
            "overflow_y": null,
            "padding": null,
            "right": null,
            "top": null,
            "visibility": null,
            "width": null
          }
        },
        "efbb6101b9c44b558f54e97d75d3f38b": {
          "model_module": "@jupyter-widgets/controls",
          "model_name": "DescriptionStyleModel",
          "model_module_version": "1.5.0",
          "state": {
            "_model_module": "@jupyter-widgets/controls",
            "_model_module_version": "1.5.0",
            "_model_name": "DescriptionStyleModel",
            "_view_count": null,
            "_view_module": "@jupyter-widgets/base",
            "_view_module_version": "1.2.0",
            "_view_name": "StyleView",
            "description_width": ""
          }
        },
        "bd90e5a54f7f4d8a86e605db192402cc": {
          "model_module": "@jupyter-widgets/base",
          "model_name": "LayoutModel",
          "model_module_version": "1.2.0",
          "state": {
            "_model_module": "@jupyter-widgets/base",
            "_model_module_version": "1.2.0",
            "_model_name": "LayoutModel",
            "_view_count": null,
            "_view_module": "@jupyter-widgets/base",
            "_view_module_version": "1.2.0",
            "_view_name": "LayoutView",
            "align_content": null,
            "align_items": null,
            "align_self": null,
            "border": null,
            "bottom": null,
            "display": null,
            "flex": null,
            "flex_flow": null,
            "grid_area": null,
            "grid_auto_columns": null,
            "grid_auto_flow": null,
            "grid_auto_rows": null,
            "grid_column": null,
            "grid_gap": null,
            "grid_row": null,
            "grid_template_areas": null,
            "grid_template_columns": null,
            "grid_template_rows": null,
            "height": null,
            "justify_content": null,
            "justify_items": null,
            "left": null,
            "margin": null,
            "max_height": null,
            "max_width": null,
            "min_height": null,
            "min_width": null,
            "object_fit": null,
            "object_position": null,
            "order": null,
            "overflow": null,
            "overflow_x": null,
            "overflow_y": null,
            "padding": null,
            "right": null,
            "top": null,
            "visibility": null,
            "width": "20px"
          }
        },
        "7d554d45a37c4ec496f8902c97f41222": {
          "model_module": "@jupyter-widgets/controls",
          "model_name": "ProgressStyleModel",
          "model_module_version": "1.5.0",
          "state": {
            "_model_module": "@jupyter-widgets/controls",
            "_model_module_version": "1.5.0",
            "_model_name": "ProgressStyleModel",
            "_view_count": null,
            "_view_module": "@jupyter-widgets/base",
            "_view_module_version": "1.2.0",
            "_view_name": "StyleView",
            "bar_color": null,
            "description_width": ""
          }
        },
        "4abe29cf6ee3442d93c972e421004710": {
          "model_module": "@jupyter-widgets/base",
          "model_name": "LayoutModel",
          "model_module_version": "1.2.0",
          "state": {
            "_model_module": "@jupyter-widgets/base",
            "_model_module_version": "1.2.0",
            "_model_name": "LayoutModel",
            "_view_count": null,
            "_view_module": "@jupyter-widgets/base",
            "_view_module_version": "1.2.0",
            "_view_name": "LayoutView",
            "align_content": null,
            "align_items": null,
            "align_self": null,
            "border": null,
            "bottom": null,
            "display": null,
            "flex": null,
            "flex_flow": null,
            "grid_area": null,
            "grid_auto_columns": null,
            "grid_auto_flow": null,
            "grid_auto_rows": null,
            "grid_column": null,
            "grid_gap": null,
            "grid_row": null,
            "grid_template_areas": null,
            "grid_template_columns": null,
            "grid_template_rows": null,
            "height": null,
            "justify_content": null,
            "justify_items": null,
            "left": null,
            "margin": null,
            "max_height": null,
            "max_width": null,
            "min_height": null,
            "min_width": null,
            "object_fit": null,
            "object_position": null,
            "order": null,
            "overflow": null,
            "overflow_x": null,
            "overflow_y": null,
            "padding": null,
            "right": null,
            "top": null,
            "visibility": null,
            "width": null
          }
        },
        "0d41ac70aa33463e9dd264f633c2d17f": {
          "model_module": "@jupyter-widgets/controls",
          "model_name": "DescriptionStyleModel",
          "model_module_version": "1.5.0",
          "state": {
            "_model_module": "@jupyter-widgets/controls",
            "_model_module_version": "1.5.0",
            "_model_name": "DescriptionStyleModel",
            "_view_count": null,
            "_view_module": "@jupyter-widgets/base",
            "_view_module_version": "1.2.0",
            "_view_name": "StyleView",
            "description_width": ""
          }
        },
        "f2bbcf39551441ab84c9138899c64c03": {
          "model_module": "@jupyter-widgets/controls",
          "model_name": "HBoxModel",
          "model_module_version": "1.5.0",
          "state": {
            "_dom_classes": [],
            "_model_module": "@jupyter-widgets/controls",
            "_model_module_version": "1.5.0",
            "_model_name": "HBoxModel",
            "_view_count": null,
            "_view_module": "@jupyter-widgets/controls",
            "_view_module_version": "1.5.0",
            "_view_name": "HBoxView",
            "box_style": "",
            "children": [
              "IPY_MODEL_d3875b72919a465ea06089e8894ad692",
              "IPY_MODEL_85a42214f69c4c3db1a170f11d20b056",
              "IPY_MODEL_7b9e3d2fd21943eeb8487787403a0609"
            ],
            "layout": "IPY_MODEL_6048eef946d543f2904d2e611fc9daa7"
          }
        },
        "d3875b72919a465ea06089e8894ad692": {
          "model_module": "@jupyter-widgets/controls",
          "model_name": "HTMLModel",
          "model_module_version": "1.5.0",
          "state": {
            "_dom_classes": [],
            "_model_module": "@jupyter-widgets/controls",
            "_model_module_version": "1.5.0",
            "_model_name": "HTMLModel",
            "_view_count": null,
            "_view_module": "@jupyter-widgets/controls",
            "_view_module_version": "1.5.0",
            "_view_name": "HTMLView",
            "description": "",
            "description_tooltip": null,
            "layout": "IPY_MODEL_950a9942be534ef78b542c70089ae10a",
            "placeholder": "​",
            "style": "IPY_MODEL_1916bae200304229b2c966e1af0fc77e",
            "value": "tokenizer.json: "
          }
        },
        "85a42214f69c4c3db1a170f11d20b056": {
          "model_module": "@jupyter-widgets/controls",
          "model_name": "FloatProgressModel",
          "model_module_version": "1.5.0",
          "state": {
            "_dom_classes": [],
            "_model_module": "@jupyter-widgets/controls",
            "_model_module_version": "1.5.0",
            "_model_name": "FloatProgressModel",
            "_view_count": null,
            "_view_module": "@jupyter-widgets/controls",
            "_view_module_version": "1.5.0",
            "_view_name": "ProgressView",
            "bar_style": "success",
            "description": "",
            "description_tooltip": null,
            "layout": "IPY_MODEL_ce2646b368a44dc4a5a9fea6181da664",
            "max": 1,
            "min": 0,
            "orientation": "horizontal",
            "style": "IPY_MODEL_495035acf563473c9496ac5000892a1d",
            "value": 1
          }
        },
        "7b9e3d2fd21943eeb8487787403a0609": {
          "model_module": "@jupyter-widgets/controls",
          "model_name": "HTMLModel",
          "model_module_version": "1.5.0",
          "state": {
            "_dom_classes": [],
            "_model_module": "@jupyter-widgets/controls",
            "_model_module_version": "1.5.0",
            "_model_name": "HTMLModel",
            "_view_count": null,
            "_view_module": "@jupyter-widgets/controls",
            "_view_module_version": "1.5.0",
            "_view_name": "HTMLView",
            "description": "",
            "description_tooltip": null,
            "layout": "IPY_MODEL_37ac49eed80f40f58ace811b22fb8416",
            "placeholder": "​",
            "style": "IPY_MODEL_30d2d696d91047149151eb1805cce095",
            "value": " 711k/? [00:00&lt;00:00, 30.0MB/s]"
          }
        },
        "6048eef946d543f2904d2e611fc9daa7": {
          "model_module": "@jupyter-widgets/base",
          "model_name": "LayoutModel",
          "model_module_version": "1.2.0",
          "state": {
            "_model_module": "@jupyter-widgets/base",
            "_model_module_version": "1.2.0",
            "_model_name": "LayoutModel",
            "_view_count": null,
            "_view_module": "@jupyter-widgets/base",
            "_view_module_version": "1.2.0",
            "_view_name": "LayoutView",
            "align_content": null,
            "align_items": null,
            "align_self": null,
            "border": null,
            "bottom": null,
            "display": null,
            "flex": null,
            "flex_flow": null,
            "grid_area": null,
            "grid_auto_columns": null,
            "grid_auto_flow": null,
            "grid_auto_rows": null,
            "grid_column": null,
            "grid_gap": null,
            "grid_row": null,
            "grid_template_areas": null,
            "grid_template_columns": null,
            "grid_template_rows": null,
            "height": null,
            "justify_content": null,
            "justify_items": null,
            "left": null,
            "margin": null,
            "max_height": null,
            "max_width": null,
            "min_height": null,
            "min_width": null,
            "object_fit": null,
            "object_position": null,
            "order": null,
            "overflow": null,
            "overflow_x": null,
            "overflow_y": null,
            "padding": null,
            "right": null,
            "top": null,
            "visibility": null,
            "width": null
          }
        },
        "950a9942be534ef78b542c70089ae10a": {
          "model_module": "@jupyter-widgets/base",
          "model_name": "LayoutModel",
          "model_module_version": "1.2.0",
          "state": {
            "_model_module": "@jupyter-widgets/base",
            "_model_module_version": "1.2.0",
            "_model_name": "LayoutModel",
            "_view_count": null,
            "_view_module": "@jupyter-widgets/base",
            "_view_module_version": "1.2.0",
            "_view_name": "LayoutView",
            "align_content": null,
            "align_items": null,
            "align_self": null,
            "border": null,
            "bottom": null,
            "display": null,
            "flex": null,
            "flex_flow": null,
            "grid_area": null,
            "grid_auto_columns": null,
            "grid_auto_flow": null,
            "grid_auto_rows": null,
            "grid_column": null,
            "grid_gap": null,
            "grid_row": null,
            "grid_template_areas": null,
            "grid_template_columns": null,
            "grid_template_rows": null,
            "height": null,
            "justify_content": null,
            "justify_items": null,
            "left": null,
            "margin": null,
            "max_height": null,
            "max_width": null,
            "min_height": null,
            "min_width": null,
            "object_fit": null,
            "object_position": null,
            "order": null,
            "overflow": null,
            "overflow_x": null,
            "overflow_y": null,
            "padding": null,
            "right": null,
            "top": null,
            "visibility": null,
            "width": null
          }
        },
        "1916bae200304229b2c966e1af0fc77e": {
          "model_module": "@jupyter-widgets/controls",
          "model_name": "DescriptionStyleModel",
          "model_module_version": "1.5.0",
          "state": {
            "_model_module": "@jupyter-widgets/controls",
            "_model_module_version": "1.5.0",
            "_model_name": "DescriptionStyleModel",
            "_view_count": null,
            "_view_module": "@jupyter-widgets/base",
            "_view_module_version": "1.2.0",
            "_view_name": "StyleView",
            "description_width": ""
          }
        },
        "ce2646b368a44dc4a5a9fea6181da664": {
          "model_module": "@jupyter-widgets/base",
          "model_name": "LayoutModel",
          "model_module_version": "1.2.0",
          "state": {
            "_model_module": "@jupyter-widgets/base",
            "_model_module_version": "1.2.0",
            "_model_name": "LayoutModel",
            "_view_count": null,
            "_view_module": "@jupyter-widgets/base",
            "_view_module_version": "1.2.0",
            "_view_name": "LayoutView",
            "align_content": null,
            "align_items": null,
            "align_self": null,
            "border": null,
            "bottom": null,
            "display": null,
            "flex": null,
            "flex_flow": null,
            "grid_area": null,
            "grid_auto_columns": null,
            "grid_auto_flow": null,
            "grid_auto_rows": null,
            "grid_column": null,
            "grid_gap": null,
            "grid_row": null,
            "grid_template_areas": null,
            "grid_template_columns": null,
            "grid_template_rows": null,
            "height": null,
            "justify_content": null,
            "justify_items": null,
            "left": null,
            "margin": null,
            "max_height": null,
            "max_width": null,
            "min_height": null,
            "min_width": null,
            "object_fit": null,
            "object_position": null,
            "order": null,
            "overflow": null,
            "overflow_x": null,
            "overflow_y": null,
            "padding": null,
            "right": null,
            "top": null,
            "visibility": null,
            "width": "20px"
          }
        },
        "495035acf563473c9496ac5000892a1d": {
          "model_module": "@jupyter-widgets/controls",
          "model_name": "ProgressStyleModel",
          "model_module_version": "1.5.0",
          "state": {
            "_model_module": "@jupyter-widgets/controls",
            "_model_module_version": "1.5.0",
            "_model_name": "ProgressStyleModel",
            "_view_count": null,
            "_view_module": "@jupyter-widgets/base",
            "_view_module_version": "1.2.0",
            "_view_name": "StyleView",
            "bar_color": null,
            "description_width": ""
          }
        },
        "37ac49eed80f40f58ace811b22fb8416": {
          "model_module": "@jupyter-widgets/base",
          "model_name": "LayoutModel",
          "model_module_version": "1.2.0",
          "state": {
            "_model_module": "@jupyter-widgets/base",
            "_model_module_version": "1.2.0",
            "_model_name": "LayoutModel",
            "_view_count": null,
            "_view_module": "@jupyter-widgets/base",
            "_view_module_version": "1.2.0",
            "_view_name": "LayoutView",
            "align_content": null,
            "align_items": null,
            "align_self": null,
            "border": null,
            "bottom": null,
            "display": null,
            "flex": null,
            "flex_flow": null,
            "grid_area": null,
            "grid_auto_columns": null,
            "grid_auto_flow": null,
            "grid_auto_rows": null,
            "grid_column": null,
            "grid_gap": null,
            "grid_row": null,
            "grid_template_areas": null,
            "grid_template_columns": null,
            "grid_template_rows": null,
            "height": null,
            "justify_content": null,
            "justify_items": null,
            "left": null,
            "margin": null,
            "max_height": null,
            "max_width": null,
            "min_height": null,
            "min_width": null,
            "object_fit": null,
            "object_position": null,
            "order": null,
            "overflow": null,
            "overflow_x": null,
            "overflow_y": null,
            "padding": null,
            "right": null,
            "top": null,
            "visibility": null,
            "width": null
          }
        },
        "30d2d696d91047149151eb1805cce095": {
          "model_module": "@jupyter-widgets/controls",
          "model_name": "DescriptionStyleModel",
          "model_module_version": "1.5.0",
          "state": {
            "_model_module": "@jupyter-widgets/controls",
            "_model_module_version": "1.5.0",
            "_model_name": "DescriptionStyleModel",
            "_view_count": null,
            "_view_module": "@jupyter-widgets/base",
            "_view_module_version": "1.2.0",
            "_view_name": "StyleView",
            "description_width": ""
          }
        },
        "c82e4e50b609417f92c8fa43fc620d18": {
          "model_module": "@jupyter-widgets/controls",
          "model_name": "HBoxModel",
          "model_module_version": "1.5.0",
          "state": {
            "_dom_classes": [],
            "_model_module": "@jupyter-widgets/controls",
            "_model_module_version": "1.5.0",
            "_model_name": "HBoxModel",
            "_view_count": null,
            "_view_module": "@jupyter-widgets/controls",
            "_view_module_version": "1.5.0",
            "_view_name": "HBoxView",
            "box_style": "",
            "children": [
              "IPY_MODEL_a09400a2c1594496b1750d2f564d9ce5",
              "IPY_MODEL_ac8343077bef43d4a2182c1707418364",
              "IPY_MODEL_a8e91e9d56024e3eb89d1b0c744bd4c9"
            ],
            "layout": "IPY_MODEL_4a2d092fb40a42b7a76a1c8e047554e9"
          }
        },
        "a09400a2c1594496b1750d2f564d9ce5": {
          "model_module": "@jupyter-widgets/controls",
          "model_name": "HTMLModel",
          "model_module_version": "1.5.0",
          "state": {
            "_dom_classes": [],
            "_model_module": "@jupyter-widgets/controls",
            "_model_module_version": "1.5.0",
            "_model_name": "HTMLModel",
            "_view_count": null,
            "_view_module": "@jupyter-widgets/controls",
            "_view_module_version": "1.5.0",
            "_view_name": "HTMLView",
            "description": "",
            "description_tooltip": null,
            "layout": "IPY_MODEL_3dbd2410cedc4547aae8f012ba408a89",
            "placeholder": "​",
            "style": "IPY_MODEL_380f8348c13d4b958efe62fb2a62d62d",
            "value": "special_tokens_map.json: 100%"
          }
        },
        "ac8343077bef43d4a2182c1707418364": {
          "model_module": "@jupyter-widgets/controls",
          "model_name": "FloatProgressModel",
          "model_module_version": "1.5.0",
          "state": {
            "_dom_classes": [],
            "_model_module": "@jupyter-widgets/controls",
            "_model_module_version": "1.5.0",
            "_model_name": "FloatProgressModel",
            "_view_count": null,
            "_view_module": "@jupyter-widgets/controls",
            "_view_module_version": "1.5.0",
            "_view_name": "ProgressView",
            "bar_style": "success",
            "description": "",
            "description_tooltip": null,
            "layout": "IPY_MODEL_964784a6e12b41bea6cdbfad441c8db3",
            "max": 125,
            "min": 0,
            "orientation": "horizontal",
            "style": "IPY_MODEL_19e91a87721e4a68a970bb90ad65aa96",
            "value": 125
          }
        },
        "a8e91e9d56024e3eb89d1b0c744bd4c9": {
          "model_module": "@jupyter-widgets/controls",
          "model_name": "HTMLModel",
          "model_module_version": "1.5.0",
          "state": {
            "_dom_classes": [],
            "_model_module": "@jupyter-widgets/controls",
            "_model_module_version": "1.5.0",
            "_model_name": "HTMLModel",
            "_view_count": null,
            "_view_module": "@jupyter-widgets/controls",
            "_view_module_version": "1.5.0",
            "_view_name": "HTMLView",
            "description": "",
            "description_tooltip": null,
            "layout": "IPY_MODEL_66f2221a3c314ed1ac329555856a49ec",
            "placeholder": "​",
            "style": "IPY_MODEL_0ad26f164e8443bebe323b000704399c",
            "value": " 125/125 [00:00&lt;00:00, 11.5kB/s]"
          }
        },
        "4a2d092fb40a42b7a76a1c8e047554e9": {
          "model_module": "@jupyter-widgets/base",
          "model_name": "LayoutModel",
          "model_module_version": "1.2.0",
          "state": {
            "_model_module": "@jupyter-widgets/base",
            "_model_module_version": "1.2.0",
            "_model_name": "LayoutModel",
            "_view_count": null,
            "_view_module": "@jupyter-widgets/base",
            "_view_module_version": "1.2.0",
            "_view_name": "LayoutView",
            "align_content": null,
            "align_items": null,
            "align_self": null,
            "border": null,
            "bottom": null,
            "display": null,
            "flex": null,
            "flex_flow": null,
            "grid_area": null,
            "grid_auto_columns": null,
            "grid_auto_flow": null,
            "grid_auto_rows": null,
            "grid_column": null,
            "grid_gap": null,
            "grid_row": null,
            "grid_template_areas": null,
            "grid_template_columns": null,
            "grid_template_rows": null,
            "height": null,
            "justify_content": null,
            "justify_items": null,
            "left": null,
            "margin": null,
            "max_height": null,
            "max_width": null,
            "min_height": null,
            "min_width": null,
            "object_fit": null,
            "object_position": null,
            "order": null,
            "overflow": null,
            "overflow_x": null,
            "overflow_y": null,
            "padding": null,
            "right": null,
            "top": null,
            "visibility": null,
            "width": null
          }
        },
        "3dbd2410cedc4547aae8f012ba408a89": {
          "model_module": "@jupyter-widgets/base",
          "model_name": "LayoutModel",
          "model_module_version": "1.2.0",
          "state": {
            "_model_module": "@jupyter-widgets/base",
            "_model_module_version": "1.2.0",
            "_model_name": "LayoutModel",
            "_view_count": null,
            "_view_module": "@jupyter-widgets/base",
            "_view_module_version": "1.2.0",
            "_view_name": "LayoutView",
            "align_content": null,
            "align_items": null,
            "align_self": null,
            "border": null,
            "bottom": null,
            "display": null,
            "flex": null,
            "flex_flow": null,
            "grid_area": null,
            "grid_auto_columns": null,
            "grid_auto_flow": null,
            "grid_auto_rows": null,
            "grid_column": null,
            "grid_gap": null,
            "grid_row": null,
            "grid_template_areas": null,
            "grid_template_columns": null,
            "grid_template_rows": null,
            "height": null,
            "justify_content": null,
            "justify_items": null,
            "left": null,
            "margin": null,
            "max_height": null,
            "max_width": null,
            "min_height": null,
            "min_width": null,
            "object_fit": null,
            "object_position": null,
            "order": null,
            "overflow": null,
            "overflow_x": null,
            "overflow_y": null,
            "padding": null,
            "right": null,
            "top": null,
            "visibility": null,
            "width": null
          }
        },
        "380f8348c13d4b958efe62fb2a62d62d": {
          "model_module": "@jupyter-widgets/controls",
          "model_name": "DescriptionStyleModel",
          "model_module_version": "1.5.0",
          "state": {
            "_model_module": "@jupyter-widgets/controls",
            "_model_module_version": "1.5.0",
            "_model_name": "DescriptionStyleModel",
            "_view_count": null,
            "_view_module": "@jupyter-widgets/base",
            "_view_module_version": "1.2.0",
            "_view_name": "StyleView",
            "description_width": ""
          }
        },
        "964784a6e12b41bea6cdbfad441c8db3": {
          "model_module": "@jupyter-widgets/base",
          "model_name": "LayoutModel",
          "model_module_version": "1.2.0",
          "state": {
            "_model_module": "@jupyter-widgets/base",
            "_model_module_version": "1.2.0",
            "_model_name": "LayoutModel",
            "_view_count": null,
            "_view_module": "@jupyter-widgets/base",
            "_view_module_version": "1.2.0",
            "_view_name": "LayoutView",
            "align_content": null,
            "align_items": null,
            "align_self": null,
            "border": null,
            "bottom": null,
            "display": null,
            "flex": null,
            "flex_flow": null,
            "grid_area": null,
            "grid_auto_columns": null,
            "grid_auto_flow": null,
            "grid_auto_rows": null,
            "grid_column": null,
            "grid_gap": null,
            "grid_row": null,
            "grid_template_areas": null,
            "grid_template_columns": null,
            "grid_template_rows": null,
            "height": null,
            "justify_content": null,
            "justify_items": null,
            "left": null,
            "margin": null,
            "max_height": null,
            "max_width": null,
            "min_height": null,
            "min_width": null,
            "object_fit": null,
            "object_position": null,
            "order": null,
            "overflow": null,
            "overflow_x": null,
            "overflow_y": null,
            "padding": null,
            "right": null,
            "top": null,
            "visibility": null,
            "width": null
          }
        },
        "19e91a87721e4a68a970bb90ad65aa96": {
          "model_module": "@jupyter-widgets/controls",
          "model_name": "ProgressStyleModel",
          "model_module_version": "1.5.0",
          "state": {
            "_model_module": "@jupyter-widgets/controls",
            "_model_module_version": "1.5.0",
            "_model_name": "ProgressStyleModel",
            "_view_count": null,
            "_view_module": "@jupyter-widgets/base",
            "_view_module_version": "1.2.0",
            "_view_name": "StyleView",
            "bar_color": null,
            "description_width": ""
          }
        },
        "66f2221a3c314ed1ac329555856a49ec": {
          "model_module": "@jupyter-widgets/base",
          "model_name": "LayoutModel",
          "model_module_version": "1.2.0",
          "state": {
            "_model_module": "@jupyter-widgets/base",
            "_model_module_version": "1.2.0",
            "_model_name": "LayoutModel",
            "_view_count": null,
            "_view_module": "@jupyter-widgets/base",
            "_view_module_version": "1.2.0",
            "_view_name": "LayoutView",
            "align_content": null,
            "align_items": null,
            "align_self": null,
            "border": null,
            "bottom": null,
            "display": null,
            "flex": null,
            "flex_flow": null,
            "grid_area": null,
            "grid_auto_columns": null,
            "grid_auto_flow": null,
            "grid_auto_rows": null,
            "grid_column": null,
            "grid_gap": null,
            "grid_row": null,
            "grid_template_areas": null,
            "grid_template_columns": null,
            "grid_template_rows": null,
            "height": null,
            "justify_content": null,
            "justify_items": null,
            "left": null,
            "margin": null,
            "max_height": null,
            "max_width": null,
            "min_height": null,
            "min_width": null,
            "object_fit": null,
            "object_position": null,
            "order": null,
            "overflow": null,
            "overflow_x": null,
            "overflow_y": null,
            "padding": null,
            "right": null,
            "top": null,
            "visibility": null,
            "width": null
          }
        },
        "0ad26f164e8443bebe323b000704399c": {
          "model_module": "@jupyter-widgets/controls",
          "model_name": "DescriptionStyleModel",
          "model_module_version": "1.5.0",
          "state": {
            "_model_module": "@jupyter-widgets/controls",
            "_model_module_version": "1.5.0",
            "_model_name": "DescriptionStyleModel",
            "_view_count": null,
            "_view_module": "@jupyter-widgets/base",
            "_view_module_version": "1.2.0",
            "_view_name": "StyleView",
            "description_width": ""
          }
        },
        "09c1e80d28494f8aba6a8023037d3d03": {
          "model_module": "@jupyter-widgets/controls",
          "model_name": "HBoxModel",
          "model_module_version": "1.5.0",
          "state": {
            "_dom_classes": [],
            "_model_module": "@jupyter-widgets/controls",
            "_model_module_version": "1.5.0",
            "_model_name": "HBoxModel",
            "_view_count": null,
            "_view_module": "@jupyter-widgets/controls",
            "_view_module_version": "1.5.0",
            "_view_name": "HBoxView",
            "box_style": "",
            "children": [
              "IPY_MODEL_c578b2a4fd2f4f798021811131184248",
              "IPY_MODEL_1683ac38042c490d99f8f7515c3bde92",
              "IPY_MODEL_fd97380bce0e491aaad3bde638f0e2d1"
            ],
            "layout": "IPY_MODEL_668a42fe50e14b059d4666d4d6062c70"
          }
        },
        "c578b2a4fd2f4f798021811131184248": {
          "model_module": "@jupyter-widgets/controls",
          "model_name": "HTMLModel",
          "model_module_version": "1.5.0",
          "state": {
            "_dom_classes": [],
            "_model_module": "@jupyter-widgets/controls",
            "_model_module_version": "1.5.0",
            "_model_name": "HTMLModel",
            "_view_count": null,
            "_view_module": "@jupyter-widgets/controls",
            "_view_module_version": "1.5.0",
            "_view_name": "HTMLView",
            "description": "",
            "description_tooltip": null,
            "layout": "IPY_MODEL_b134c932cb864d8194851ff029a30f3f",
            "placeholder": "​",
            "style": "IPY_MODEL_42dd0fb4d6ea44d69569dadf49488a70",
            "value": "config.json: 100%"
          }
        },
        "1683ac38042c490d99f8f7515c3bde92": {
          "model_module": "@jupyter-widgets/controls",
          "model_name": "FloatProgressModel",
          "model_module_version": "1.5.0",
          "state": {
            "_dom_classes": [],
            "_model_module": "@jupyter-widgets/controls",
            "_model_module_version": "1.5.0",
            "_model_name": "FloatProgressModel",
            "_view_count": null,
            "_view_module": "@jupyter-widgets/controls",
            "_view_module_version": "1.5.0",
            "_view_name": "ProgressView",
            "bar_style": "success",
            "description": "",
            "description_tooltip": null,
            "layout": "IPY_MODEL_381621f3d0884041bff6bd266e71396d",
            "max": 200,
            "min": 0,
            "orientation": "horizontal",
            "style": "IPY_MODEL_8a48820f476e44818a591c055acda22a",
            "value": 200
          }
        },
        "fd97380bce0e491aaad3bde638f0e2d1": {
          "model_module": "@jupyter-widgets/controls",
          "model_name": "HTMLModel",
          "model_module_version": "1.5.0",
          "state": {
            "_dom_classes": [],
            "_model_module": "@jupyter-widgets/controls",
            "_model_module_version": "1.5.0",
            "_model_name": "HTMLModel",
            "_view_count": null,
            "_view_module": "@jupyter-widgets/controls",
            "_view_module_version": "1.5.0",
            "_view_name": "HTMLView",
            "description": "",
            "description_tooltip": null,
            "layout": "IPY_MODEL_c487d77f2476481d8857c3c558ad7b1d",
            "placeholder": "​",
            "style": "IPY_MODEL_7917995c95ed4f96beda76c8362eb2a2",
            "value": " 200/200 [00:00&lt;00:00, 20.1kB/s]"
          }
        },
        "668a42fe50e14b059d4666d4d6062c70": {
          "model_module": "@jupyter-widgets/base",
          "model_name": "LayoutModel",
          "model_module_version": "1.2.0",
          "state": {
            "_model_module": "@jupyter-widgets/base",
            "_model_module_version": "1.2.0",
            "_model_name": "LayoutModel",
            "_view_count": null,
            "_view_module": "@jupyter-widgets/base",
            "_view_module_version": "1.2.0",
            "_view_name": "LayoutView",
            "align_content": null,
            "align_items": null,
            "align_self": null,
            "border": null,
            "bottom": null,
            "display": null,
            "flex": null,
            "flex_flow": null,
            "grid_area": null,
            "grid_auto_columns": null,
            "grid_auto_flow": null,
            "grid_auto_rows": null,
            "grid_column": null,
            "grid_gap": null,
            "grid_row": null,
            "grid_template_areas": null,
            "grid_template_columns": null,
            "grid_template_rows": null,
            "height": null,
            "justify_content": null,
            "justify_items": null,
            "left": null,
            "margin": null,
            "max_height": null,
            "max_width": null,
            "min_height": null,
            "min_width": null,
            "object_fit": null,
            "object_position": null,
            "order": null,
            "overflow": null,
            "overflow_x": null,
            "overflow_y": null,
            "padding": null,
            "right": null,
            "top": null,
            "visibility": null,
            "width": null
          }
        },
        "b134c932cb864d8194851ff029a30f3f": {
          "model_module": "@jupyter-widgets/base",
          "model_name": "LayoutModel",
          "model_module_version": "1.2.0",
          "state": {
            "_model_module": "@jupyter-widgets/base",
            "_model_module_version": "1.2.0",
            "_model_name": "LayoutModel",
            "_view_count": null,
            "_view_module": "@jupyter-widgets/base",
            "_view_module_version": "1.2.0",
            "_view_name": "LayoutView",
            "align_content": null,
            "align_items": null,
            "align_self": null,
            "border": null,
            "bottom": null,
            "display": null,
            "flex": null,
            "flex_flow": null,
            "grid_area": null,
            "grid_auto_columns": null,
            "grid_auto_flow": null,
            "grid_auto_rows": null,
            "grid_column": null,
            "grid_gap": null,
            "grid_row": null,
            "grid_template_areas": null,
            "grid_template_columns": null,
            "grid_template_rows": null,
            "height": null,
            "justify_content": null,
            "justify_items": null,
            "left": null,
            "margin": null,
            "max_height": null,
            "max_width": null,
            "min_height": null,
            "min_width": null,
            "object_fit": null,
            "object_position": null,
            "order": null,
            "overflow": null,
            "overflow_x": null,
            "overflow_y": null,
            "padding": null,
            "right": null,
            "top": null,
            "visibility": null,
            "width": null
          }
        },
        "42dd0fb4d6ea44d69569dadf49488a70": {
          "model_module": "@jupyter-widgets/controls",
          "model_name": "DescriptionStyleModel",
          "model_module_version": "1.5.0",
          "state": {
            "_model_module": "@jupyter-widgets/controls",
            "_model_module_version": "1.5.0",
            "_model_name": "DescriptionStyleModel",
            "_view_count": null,
            "_view_module": "@jupyter-widgets/base",
            "_view_module_version": "1.2.0",
            "_view_name": "StyleView",
            "description_width": ""
          }
        },
        "381621f3d0884041bff6bd266e71396d": {
          "model_module": "@jupyter-widgets/base",
          "model_name": "LayoutModel",
          "model_module_version": "1.2.0",
          "state": {
            "_model_module": "@jupyter-widgets/base",
            "_model_module_version": "1.2.0",
            "_model_name": "LayoutModel",
            "_view_count": null,
            "_view_module": "@jupyter-widgets/base",
            "_view_module_version": "1.2.0",
            "_view_name": "LayoutView",
            "align_content": null,
            "align_items": null,
            "align_self": null,
            "border": null,
            "bottom": null,
            "display": null,
            "flex": null,
            "flex_flow": null,
            "grid_area": null,
            "grid_auto_columns": null,
            "grid_auto_flow": null,
            "grid_auto_rows": null,
            "grid_column": null,
            "grid_gap": null,
            "grid_row": null,
            "grid_template_areas": null,
            "grid_template_columns": null,
            "grid_template_rows": null,
            "height": null,
            "justify_content": null,
            "justify_items": null,
            "left": null,
            "margin": null,
            "max_height": null,
            "max_width": null,
            "min_height": null,
            "min_width": null,
            "object_fit": null,
            "object_position": null,
            "order": null,
            "overflow": null,
            "overflow_x": null,
            "overflow_y": null,
            "padding": null,
            "right": null,
            "top": null,
            "visibility": null,
            "width": null
          }
        },
        "8a48820f476e44818a591c055acda22a": {
          "model_module": "@jupyter-widgets/controls",
          "model_name": "ProgressStyleModel",
          "model_module_version": "1.5.0",
          "state": {
            "_model_module": "@jupyter-widgets/controls",
            "_model_module_version": "1.5.0",
            "_model_name": "ProgressStyleModel",
            "_view_count": null,
            "_view_module": "@jupyter-widgets/base",
            "_view_module_version": "1.2.0",
            "_view_name": "StyleView",
            "bar_color": null,
            "description_width": ""
          }
        },
        "c487d77f2476481d8857c3c558ad7b1d": {
          "model_module": "@jupyter-widgets/base",
          "model_name": "LayoutModel",
          "model_module_version": "1.2.0",
          "state": {
            "_model_module": "@jupyter-widgets/base",
            "_model_module_version": "1.2.0",
            "_model_name": "LayoutModel",
            "_view_count": null,
            "_view_module": "@jupyter-widgets/base",
            "_view_module_version": "1.2.0",
            "_view_name": "LayoutView",
            "align_content": null,
            "align_items": null,
            "align_self": null,
            "border": null,
            "bottom": null,
            "display": null,
            "flex": null,
            "flex_flow": null,
            "grid_area": null,
            "grid_auto_columns": null,
            "grid_auto_flow": null,
            "grid_auto_rows": null,
            "grid_column": null,
            "grid_gap": null,
            "grid_row": null,
            "grid_template_areas": null,
            "grid_template_columns": null,
            "grid_template_rows": null,
            "height": null,
            "justify_content": null,
            "justify_items": null,
            "left": null,
            "margin": null,
            "max_height": null,
            "max_width": null,
            "min_height": null,
            "min_width": null,
            "object_fit": null,
            "object_position": null,
            "order": null,
            "overflow": null,
            "overflow_x": null,
            "overflow_y": null,
            "padding": null,
            "right": null,
            "top": null,
            "visibility": null,
            "width": null
          }
        },
        "7917995c95ed4f96beda76c8362eb2a2": {
          "model_module": "@jupyter-widgets/controls",
          "model_name": "DescriptionStyleModel",
          "model_module_version": "1.5.0",
          "state": {
            "_model_module": "@jupyter-widgets/controls",
            "_model_module_version": "1.5.0",
            "_model_name": "DescriptionStyleModel",
            "_view_count": null,
            "_view_module": "@jupyter-widgets/base",
            "_view_module_version": "1.2.0",
            "_view_name": "StyleView",
            "description_width": ""
          }
        }
      }
    }
  },
  "nbformat": 4,
  "nbformat_minor": 5
}